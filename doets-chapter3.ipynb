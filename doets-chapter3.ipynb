{
 "cells": [
  {
   "cell_type": "markdown",
   "id": "6edcf9c1-6be9-456b-90e0-779367055cf1",
   "metadata": {},
   "source": [
    "# Doets Chapter 3\n",
    "\n",
    "## 3.7 Reasoning and Computation with Primes\n",
    "\n",
    "In this section we will demonstrate the use of the computer for investigating the\n",
    "theory of prime numbers. For this, we need the code for prime that was given in\n",
    "Chapter 1. It is repeated here:"
   ]
  },
  {
   "cell_type": "code",
   "execution_count": 5,
   "id": "af38c81a-f81e-4f74-bceb-85f4f3c09e8d",
   "metadata": {},
   "outputs": [],
   "source": [
    "prime :: Integer -> Bool\n",
    "prime n | n < 1 = error \"not a positive integer\"\n",
    "        | n == 1 = False\n",
    "        | otherwise = ldp n == n where\n",
    "  ldp = ldpf primes\n",
    "  ldpf (p:ps) m | rem m p == 0 = p\n",
    "                | p^2 > m = m\n",
    "                | otherwise = ldpf ps m\n",
    "  primes = 2 : filter prime [3..]"
   ]
  },
  {
   "cell_type": "markdown",
   "id": "7efe9696-5c52-4ead-be53-39f72997e3f7",
   "metadata": {},
   "source": [
    "Euclid (fourth century B.C.) proved the following famous theorem about prime\n",
    "numbers.\n",
    "\n",
    "### Theorem 3.33 There are infinitely many prime numbers.\n",
    "\n",
    "*Proof.* Suppose there are only finitely many prime numbers, and $p_1, \\ldots , p_n$ is a list of all primes. Consider the number $m = (p_1p_2 \\ldots p_n) + 1$. Note that $m$ is\n",
    "not divisible by $p1$, for dividing $m$ by $p1$ gives quotient $p2 \\ldots p_n$ and remainder $1$.\n",
    "Similarly, division by $p2, p3, \\ldots p_n$ always gives a remainder $1$.\n",
    "\n",
    "Thus, we get the following:\n",
    "* $\\texttt{LD}(m)$ is prime,\n",
    "* For all $i \\in \\left\\{1, \\ldots n\\right\\}, \\texttt{LD}(m) \\neq p_i$.\n",
    "\n",
    "Thus, we have found a prime number $\\texttt{LD}(m)$ different from all the prime numbers in our list $p_1, \\ldots , p_n,$ contradicting the assumption that $p_1, \\ldots, pn$ was the full list of prime numbers. Therefore, there must be infinitely many prime numbers.\n"
   ]
  },
  {
   "cell_type": "markdown",
   "id": "9301f846-670a-4eed-8743-ce781bf5120f",
   "metadata": {},
   "source": [
    "### Exercise 3.34 \n",
    "\n",
    "Let $A = \\left\\{4n + 3 | n \\in N\\right\\}$ (See Example 5.90 below  **TODO**). Show that\n",
    "$A$ contains infinitely many prime numbers. (Hint: any prime $> 2$ is odd, hence of\n",
    "the form $4n + 1$ or $4n + 3$. Assume that there are only finitely many primes of\n",
    "the form $4n + 3$, say $p_1, \\ldots, p_m$. Consider the number $N = 4p_1 \\ldots p_m − 1 =4(p_1 \\ldots p_m − 1) + 3$. Argue that $N$ must contain a factor $4q + 3$, using the fact that $(4a + 1)(4b + 1)$ is of the form $4c + 1$.)\n",
    "\n",
    "Use `filter prime [ 4*n + 3 | n <- [0..] ]` to generate the primes of this\n",
    "form.\n",
    "\n",
    "Euclid’s proof suggests a general recipe for finding bigger and bigger primes.\n",
    "Finding examples of very large primes is another matter, of course, for how do\n",
    "you know whether a particular natural number is a likely candidate for a check? "
   ]
  },
  {
   "cell_type": "markdown",
   "id": "611204b2-549e-48eb-94f0-2fb896ce822c",
   "metadata": {},
   "source": [
    "### Example 3.35 \n",
    "\n",
    "A famous conjecture made in 1640 by Pierre de Fermat (1601–1665) is that all numbers of the form\n",
    "\n",
    "$$2^{2^n} + 1 $$\n",
    "\n",
    "are prime. This holds for $n = 0, 1, 2, 3, 4$, for we have: $2^{2^0} + 1 = 2^1 + 1 = 3$, $2^{2^1} + 1 = 2^2 + 1 = 5$, $2^{2^2} + 1 = 2^4 + 1 = 17$, $2^{2^3} + 1 = 2^8 + 1 = 257$, which is prime, and $2^{2^4} + 1 = 2^{16} + 1 = 65537$, which is prime. Apparently, this is as far\n",
    "as Fermat got.\n",
    "\n",
    "Our Haskell implementation of prime allows us to refute the conjecture for $n = 5$,\n",
    "using the built-in function `^` for exponentiation. We get:"
   ]
  },
  {
   "cell_type": "code",
   "execution_count": 6,
   "id": "934bc11e-0da4-46b0-9a32-638266cd191b",
   "metadata": {},
   "outputs": [
    {
     "data": {
      "text/plain": [
       "False"
      ]
     },
     "metadata": {},
     "output_type": "display_data"
    }
   ],
   "source": [
    "prime (2^2^5+1)"
   ]
  },
  {
   "cell_type": "markdown",
   "id": "0ebc066e-031d-4a6f-8bd7-b0fc52b0eeee",
   "metadata": {},
   "source": [
    "This counterexample to Fermat's conjecture was discovered by the mathematician\n",
    "Léonard Euler (1707–1783) in 1732.\n",
    "\n",
    "The French priest and mathematician Marin Mersenne (1588–1647; Mersenne was\n",
    "a pen pal of Descartes) found some large prime numbers by observing that $M_n =\n",
    "2n − 1$ sometimes is prime when $n$ is prime."
   ]
  },
  {
   "cell_type": "markdown",
   "id": "f80fbf1c-f306-4e5c-8f49-9f98f9b59c66",
   "metadata": {},
   "source": [
    "### Exercise 3.36 \n",
    "\n",
    "It is not very difficult to show that if $n$ is composite, $M_n = 2^n - 1$ is composite too. Show this. (Hint: Assume that $n = ab$ and prove that $xy = 2^n - 1$\n",
    "for the numbers $x = 2^b - 1$ and $y = 1 + 2^b + 2^{2b} + \\ldots + 2^{(a-1)b}$).\n",
    "\n",
    "But when $n$ is prime, there is a chance that $2^n - 1$ is prime too. Examples are\n",
    "$2^2 - 1 = 3$, $2^3 − 1 = 7$, $2^5 − 1 = 31$. Such primes are called Mersenne primes."
   ]
  },
  {
   "cell_type": "markdown",
   "id": "ff223e6b-9ca9-4e21-bee6-c2ee37a76f50",
   "metadata": {},
   "source": [
    "### Example 3.37 \n",
    "\n",
    "Let us use the computer to find one more Mersenne prime. Put the\n",
    "procedure `prime` in a file and load it. Next, we use `^` for exponentiation to make a new Mersenne guess, as follows:"
   ]
  },
  {
   "cell_type": "code",
   "execution_count": 7,
   "id": "46cd91f6-327b-4130-b697-736c9429dce7",
   "metadata": {},
   "outputs": [
    {
     "data": {
      "text/plain": [
       "True"
      ]
     },
     "metadata": {},
     "output_type": "display_data"
    }
   ],
   "source": [
    "prime 5"
   ]
  },
  {
   "cell_type": "code",
   "execution_count": 8,
   "id": "20bfa91b-2d45-489f-a26d-fd6cfff6f2c4",
   "metadata": {},
   "outputs": [
    {
     "data": {
      "text/plain": [
       "True"
      ]
     },
     "metadata": {},
     "output_type": "display_data"
    }
   ],
   "source": [
    "prime (2^5-1)"
   ]
  },
  {
   "cell_type": "code",
   "execution_count": 9,
   "id": "37102af9-72b8-4b73-a8f9-f9d3fbb6550c",
   "metadata": {},
   "outputs": [
    {
     "data": {
      "text/plain": [
       "31"
      ]
     },
     "metadata": {},
     "output_type": "display_data"
    }
   ],
   "source": [
    "2^5-1"
   ]
  },
  {
   "cell_type": "code",
   "execution_count": 10,
   "id": "7d7a8115-b5a7-4572-bef2-2616f64f4f72",
   "metadata": {},
   "outputs": [
    {
     "data": {
      "text/plain": [
       "True"
      ]
     },
     "metadata": {},
     "output_type": "display_data"
    }
   ],
   "source": [
    "prime (2^31-1)"
   ]
  },
  {
   "cell_type": "code",
   "execution_count": 11,
   "id": "2348b33c-ce41-4b14-9132-4b2af6a58e5b",
   "metadata": {},
   "outputs": [
    {
     "data": {
      "text/plain": [
       "2147483647"
      ]
     },
     "metadata": {},
     "output_type": "display_data"
    }
   ],
   "source": [
    "2^31-1"
   ]
  },
  {
   "cell_type": "markdown",
   "id": "cf5854c0-f56d-48bd-82fe-37ceafdd3c0b",
   "metadata": {},
   "source": [
    "It may interest you to know that the fact that $2^{31} − 1$ is a prime was discovered by Euler in 1750. Using a computer, this fact is a bit easier to check.\n",
    "\n",
    "We have already seen how to generate prime numbers in Haskell (Examples 1.22\n",
    "and 1.23 **TODO**). We will now present an elegant alternative: a lazy list implementation\n",
    "of the *Sieve of Eratosthenes*. The idea of the sieve is this. Start with the list of all\n",
    "natural numbers $\\geq 2$:\n",
    "\n",
    "$$ 2, 3, 4, 5, 6, 7, 8, 9, 10, 11, 12, 13, 14, 15, 16, 17, 18, 19, 20, 21, 22, 23, 24, 25, 26, 27, 28, 29, 30, 31, 32, 33, 34, 35, 36, 37, 38, 39, 40, 41, 42, 43, 44, 45, 46, 47, 48, \\ldots $$\n",
    "\n",
    "In the first round, mark $2$ (the first number in the list) as prime, and mark all multiples of $2$ for removal in the remainder of the list (marking for removal indicated by over-lining):\n",
    "\n",
    "$$ \\boxed{2}, 3, \\overline{4}, 5, \\overline{6}, 7, \\overline{8}, 9, \\overline{10}, 11, \\overline{12}, 13, \\overline{14}, 15, \\overline{16}, 17, \\overline{18}, 19, \\overline{20}, 21, \\overline{22}, 23, \\overline{24}, 25, \\overline{26}, 27, \\overline{28}, 29, \\overline{30}, 31, \\overline{32}, 33, \\overline{34}, 35, \\overline{36}, 37, \\overline{38}, 39, \\overline{40}, 41, \\overline{42}, 43, \\overline{44}, 45, \\overline{46}, 47, \\overline{48}, \\ldots $$\n",
    "\n",
    "In the second round, mark 3 as prime, and mark all multiples of 3 for removal in\n",
    "the remainder of the list:\n",
    "\n",
    "$$ \\boxed{2}, \\boxed{3}, \\overline{4}, 5, \\overline{6}, 7, \\overline{8}, \\overline{9}, \\overline{10}, 11, \\overline{12}, 13, \\overline{14}, \\overline{15}, \\overline{16}, 17, \\overline{18}, 19, \\overline{20}, \\overline{21}, \\overline{22}, 23, \\overline{24}, 25, \\overline{26}, \\overline{27}, \\overline{28}, 29, \\overline{30}, 31, \\overline{32}, \\overline{33}, \\overline{34}, 35, \\overline{36}, 37, \\overline{38}, \\overline{39}, \\overline{40}, 41, \\overline{42}, 43, \\overline{44}, \\overline{45}, \\overline{46}, 47, \\overline{48}, \\ldots $$\n",
    "\n",
    "In the third round, mark $5$ as prime, and mark all multiples of 5 for removal in the\n",
    "remainder of the list:\n",
    "\n",
    "\n",
    "$$ \\boxed{2}, \\boxed{3}, \\overline{4}, \\boxed{5}, \\overline{6}, 7, \\overline{8}, \\overline{9}, \\overline{10}, 11, \\overline{12}, 13, \\overline{14}, \\overline{15}, \\overline{16}, 17, \\overline{18}, 19, \\overline{20}, \\overline{21}, \\overline{22}, 23, \\overline{24}, \\overline{25}, \\overline{26}, \\overline{27}, \\overline{28}, 29, \\overline{30}, 31, \\overline{32}, \\overline{33}, \\overline{34}, \\overline{35}, \\overline{36}, 37, \\overline{38}, \\overline{39}, \\overline{40}, 41, \\overline{42}, 43, \\overline{44}, \\overline{45}, \\overline{46}, 47, \\overline{48}, \\ldots $$\n",
    "\n",
    "And so on. A remarkable thing about the Sieve is that the only calculation it involves is counting. If the 3-folds are to be marked in the sequence of natural numbers starting from $3$, walk through the list while counting $1, 2, 3$ and mark the number $6$, next walk on while counting $1, 2, 3$ and mark the number $9$, and so on. If the $5$-folds are to be marked in the sequence the natural numbers starting from $5$, walk on through the sequence while counting $1, 2, 3, 4, 5$ and mark the number $10$, next walk on while counting $1, 2, 3, 4, 5$ and mark the number $15$, and so on. In the Haskell implementation we mark numbers in the sequence `[2..]` for removal by replacing them with $0$. When generating the sieve, these zeros are skipped."
   ]
  },
  {
   "cell_type": "code",
   "execution_count": 12,
   "id": "01518eee-b8df-447a-b9fb-5d54a60f40b5",
   "metadata": {},
   "outputs": [],
   "source": [
    "sieve :: [Integer] -> [Integer]\n",
    "sieve (0 : xs) = sieve xs\n",
    "sieve (n : xs) = n : sieve (mark xs 1 n)\n",
    "  where\n",
    "  mark :: [Integer] -> Integer -> Integer -> [Integer]\n",
    "  mark (y:ys) k m | k == m = 0 : mark ys 1 m\n",
    "                  | otherwise = y : mark ys (k+1) m\n",
    "\n",
    "primes :: [Integer]\n",
    "primes = sieve [2..]"
   ]
  },
  {
   "cell_type": "markdown",
   "id": "76ab2952-0520-4416-bf15-0594878104a8",
   "metadata": {},
   "source": [
    "This gives:"
   ]
  },
  {
   "cell_type": "raw",
   "id": "97ee185d-9b6d-4587-b9a2-273e08da21a8",
   "metadata": {},
   "source": [
    "[2,3,5,7,11,13,17,19,23,29,31,37,41,43,47,53,59,61,67,71,73,79,83,89,97,101,103,107,109,113,127,131,137,139,149,151,157,163,167,173,179,181,191,193,197,199,211,223,227,229,233,239,241,251,257,263,269,271,277,281,283,293,307,311,313,317,331,337,347,349,353,359,367,373,379,383,389,397,401,409,419,421,431,433,439,443,449,457,461,463,467,479,487,491,499,503,509,521,523,541,547,557,563,569,571,577,587,593,599,601,607,613,617,619,631,641,643,647,653,659,661,673,677,683,691,701,709,719,727,733,739,743,751,757,761,769,773,787,797,809,811,821,823,827,829,839,853,857,859,863,877,881,883,887,907,911,919,929,937,941,947,953,967,971,977,983,991,997,1009,1013,1019,1021,1031,1033,1039,1049,1051,1061,1063,1069,1087,1091,1093,1097,1103,1109,1117,1123,1129,1151,1153,1163,1171,1181,1187,1193,1201,1213,1217,1223, {Interrupted!}"
   ]
  },
  {
   "cell_type": "markdown",
   "id": "7aba4f71-5283-4c03-9e40-06d06b88850d",
   "metadata": {},
   "source": [
    "Does this stream ever dry up? We know for sure that it doesn’t, because of Euclid's\n",
    "proof.\n",
    "\n",
    "It is possible, by the way, to take a finite initial segment of an infinite Haskell list.\n",
    "This is done with the built in function `take`, as follows:"
   ]
  },
  {
   "cell_type": "code",
   "execution_count": 13,
   "id": "e26bd5dc-5db4-441f-8f16-11232c9df61b",
   "metadata": {},
   "outputs": [
    {
     "data": {
      "text/plain": [
       "[2,3,5,7,11,13,17,19,23,29,31,37,41,43,47,53,59,61,67,71,73,79,83,89,97,101,103,107,109,113,127,131,137,139,149,151,157,163,167,173,179,181,191,193,197,199,211,223,227,229,233,239,241,251,257,263,269,271,277,281,283,293,307,311,313,317,331,337,347,349,353,359,367,373,379,383,389,397,401,409,419,421,431,433,439,443,449,457,461,463,467,479,487,491,499,503,509,521,523,541]"
      ]
     },
     "metadata": {},
     "output_type": "display_data"
    }
   ],
   "source": [
    "take 100 primes"
   ]
  },
  {
   "cell_type": "markdown",
   "id": "a40f7fb9-cc4b-40f7-a7f9-f09d06edef8f",
   "metadata": {},
   "source": [
    "### Exercise 3.38 \n",
    "\n",
    "A slightly faster way to generate the primes is by starting out from the odd numbers. The stepping and marking will work as before, for if you count $k$ positions in the odd numbers starting from any odd number $a = 2n + 1$, you will move on to number $(2n + 1) + 2k$, and if a is a multiple of $k$, then so is $a + 2k$.  \n",
    "Implement a function `fasterprimes :: [Integer]` using this idea. The odd\n",
    "natural numbers, starting from $3$, can be generated as follows:"
   ]
  },
  {
   "cell_type": "code",
   "execution_count": 14,
   "id": "81a6cac4-c146-4e5d-bb7e-6c49c1150f76",
   "metadata": {},
   "outputs": [],
   "source": [
    "oddsFrom3 :: [Integer]\n",
    "oddsFrom3 = 3 : map (+2) oddsFrom3"
   ]
  },
  {
   "cell_type": "markdown",
   "id": "8f1318b8-6d22-49ed-982c-f43e7a3b2927",
   "metadata": {},
   "source": [
    "Still faster is to clean up the list at every step, by removing multiples from the list as you go along. We will come back to this matter in Section 10.1 **TODO**."
   ]
  },
  {
   "cell_type": "markdown",
   "id": "4752c811-3b23-4b45-b69e-ce6d317149fe",
   "metadata": {},
   "source": [
    "### Exercise 3.39 \n",
    "\n",
    "Write a Haskell program to refute the following statement about prime numbers: if $p_1, \\ldots , p_k$ are all the primes $< n$, then $(p1 \\times \\ldots \\times p_k) + 1$ is a prime.\n",
    "\n",
    "A computer is a useful instrument for refuting guesses or for checking particular\n",
    "cases. But if, instead of checking a guess for a particular case, you want to check\n",
    "the truth of interesting *general* statements it is of limited help. You can use the function `mersenne` to generate Mersenne primes, but the computer will not tell you whether this stream will dry up or not..."
   ]
  },
  {
   "cell_type": "code",
   "execution_count": 15,
   "id": "3420b454-76be-4397-a72c-ed0571fa4c3d",
   "metadata": {},
   "outputs": [],
   "source": [
    "mersenne = [ (p,2^p - 1) | p <- primes, prime (2^p - 1) ]"
   ]
  },
  {
   "cell_type": "markdown",
   "id": "79552ce1-dd37-489e-8caf-a7e482042f34",
   "metadata": {},
   "source": [
    "This is what a call to `mersenne` gives:"
   ]
  },
  {
   "cell_type": "code",
   "execution_count": 16,
   "id": "27fb8c24-d9b0-40a8-8312-f462ff4d9232",
   "metadata": {},
   "outputs": [
    {
     "data": {
      "text/plain": [
       "[(2,3),(3,7),(5,31),(7,127),(13,8191),(17,131071),(19,524287),(31,2147483647)]"
      ]
     },
     "metadata": {},
     "output_type": "display_data"
    }
   ],
   "source": [
    "take 8 mersenne"
   ]
  },
  {
   "cell_type": "markdown",
   "id": "b443fd85-6938-4722-b606-bb0f4367f6b8",
   "metadata": {},
   "source": [
    "If you are interested in how this goes on, you should check out GIMPS (\"Great\n",
    "Internet Mersenne Prime Search\") on the Internet. To generate slightly more in-\n",
    "formation, we can define:"
   ]
  },
  {
   "cell_type": "code",
   "execution_count": 17,
   "id": "a225e31c-28fc-4cb8-a9d3-73eab41f432b",
   "metadata": {},
   "outputs": [],
   "source": [
    "notmersenne = [ (p,2^p - 1) | p <- primes, not (prime (2^p-1)) ]"
   ]
  },
  {
   "cell_type": "markdown",
   "id": "115180bd-94f3-4478-aada-8b19c92e7bf9",
   "metadata": {},
   "source": [
    "This gives:"
   ]
  },
  {
   "cell_type": "code",
   "execution_count": 18,
   "id": "6a6f232a-a1d8-4800-9f84-4cb3fccc181d",
   "metadata": {},
   "outputs": [
    {
     "data": {
      "text/plain": [
       "[(11,2047),(23,8388607),(29,536870911),(37,137438953471),(41,2199023255551),(43,8796093022207),(47,140737488355327)]"
      ]
     },
     "metadata": {},
     "output_type": "display_data"
    }
   ],
   "source": [
    "take 7 notmersenne"
   ]
  },
  {
   "cell_type": "markdown",
   "id": "32b30013-1391-490d-96a0-fef5772d9de2",
   "metadata": {},
   "source": [
    "The example may serve to illustrate the limits of what you can do with a computer\n",
    "when it comes to generating mathematical insight. If you make an interesting\n",
    "mathematical statement, there are three possibilities:\n",
    "\n",
    "* You succeed in proving it. This establishes the statement as a theorem.\n",
    "* You succeed in disproving it (with or without the help of a computer). This establishes the statement as a refuted conjecture.\n",
    "* Neither of the above. This may indicate  hat you have encountered an open problem in mathematics. It may also indicate, of course, that you haven’t been clever enough."
   ]
  },
  {
   "cell_type": "markdown",
   "id": "6e31c9ea-65a7-48cb-99cb-c78777a5c3df",
   "metadata": {},
   "source": [
    "### Example 3.40 \n",
    "\n",
    "Here is an example of an open problem in mathematics:\n",
    "\n",
    "> Are there infinitely many Mersenne primes?\n",
    "\n",
    "It is easy to see that Euclid's proof strategy will not work to tackle this problem. The assumption that there is a finite list $p_1, \\ldots , p_n$ of Mersenne primes does yield a larger prime, but nothing guarantees that this larger prime number is again of the form $2^m − 1$.\n",
    "\n",
    "Mersenne primes are related to so-called perfect numbers. A perfect number is a\n",
    "number $n$ with the curious property that the sum of all its divisors equals $2n$, or,\n",
    "in other words, the sum of all proper divisors of $n$ equals $n$ (we call a divisor $d$ of $n$ proper if $d < n$). The smallest perfect number is $6$, for its proper divisors are $1$, $2$ and $3$, and $1 + 2 + 3 = 6$, and it is easy to check that $1$, $2$, $3$, $4$ and $5$ are not perfect.\n",
    "\n",
    "Euclid proved that if $2^n - 1$ is prime, then $2^{n-1}\\left(2^n - 1\\right)$ is perfect. Examples of perfect numbers found by Euclid’s recipe are: $2 \\cdot (2^2 - 1) = 6$, $2^2 \\cdot (2^3 - 1) = 28$, $2^4 \\cdot (2^5 - 1) = 496$."
   ]
  },
  {
   "cell_type": "markdown",
   "id": "2eacf7c7-1b13-4b47-ab39-0fd071af0e81",
   "metadata": {},
   "source": [
    "### Exercise 3.41 \n",
    "\n",
    "How would you go about yourself to prove the fact Euclid proved?  \n",
    "Here is a hint: if $2^n - 1$ is prime, then the proper divisors of $2^{n-1}(2^n - 1)$ are $1, 2, 2^2, \\ldots , 2^{n-1}, 2^n - 1, 2(2^n - 1), 2^2(2^n - 1), \\ldots , 2^{n-2}(2^n - 1)$.\n",
    "\n",
    "Here is a function for generating the list of proper divisors of a natural number.\n",
    "This is not an efficient way to generate proper divisors, but never mind."
   ]
  },
  {
   "cell_type": "code",
   "execution_count": 19,
   "id": "ee5daffb-0cbb-4b39-aaef-b1dddb7cef55",
   "metadata": {},
   "outputs": [],
   "source": [
    "pdivisors :: Integer -> [Integer]\n",
    "pdivisors n = [ d | d <- [1..(n-1)], rem n d == 0 ]"
   ]
  },
  {
   "cell_type": "markdown",
   "id": "f7e7860a-7ef3-4eb6-8a27-d4509925c4dc",
   "metadata": {},
   "source": [
    "With this it is easy to check that 8128 is indeed a perfect number:"
   ]
  },
  {
   "cell_type": "code",
   "execution_count": 20,
   "id": "466091c5-6d54-4a0c-9fe0-4fffca397e4c",
   "metadata": {},
   "outputs": [
    {
     "data": {
      "text/plain": [
       "[1,2,4,8,16,32,64,127,254,508,1016,2032,4064]"
      ]
     },
     "metadata": {},
     "output_type": "display_data"
    }
   ],
   "source": [
    "pdivisors 8128"
   ]
  },
  {
   "cell_type": "code",
   "execution_count": 21,
   "id": "fbab1e7c-5a8e-44d3-a92c-97014fa4c9b9",
   "metadata": {},
   "outputs": [
    {
     "data": {
      "text/plain": [
       "8128"
      ]
     },
     "metadata": {},
     "output_type": "display_data"
    }
   ],
   "source": [
    "sum (pdivisors 8128)"
   ]
  },
  {
   "cell_type": "markdown",
   "id": "a4f2d342-3550-4005-aad1-c373f45878c2",
   "metadata": {},
   "source": [
    "Even more spectacularly, we have:"
   ]
  },
  {
   "cell_type": "code",
   "execution_count": 22,
   "id": "a5b10fa2-47bb-488f-bc34-eb9000af5952",
   "metadata": {},
   "outputs": [
    {
     "data": {
      "text/plain": [
       "True"
      ]
     },
     "metadata": {},
     "output_type": "display_data"
    }
   ],
   "source": [
    "prime (2^13 -1)"
   ]
  },
  {
   "cell_type": "code",
   "execution_count": 23,
   "id": "048e04bd-3712-4bbe-85f3-8f336d0fd7ed",
   "metadata": {},
   "outputs": [
    {
     "data": {
      "text/plain": [
       "33550336"
      ]
     },
     "metadata": {},
     "output_type": "display_data"
    }
   ],
   "source": [
    "2^12 * (2^13 -1)"
   ]
  },
  {
   "cell_type": "code",
   "execution_count": 25,
   "id": "683caf41-70c1-46e0-927a-8f863990524b",
   "metadata": {},
   "outputs": [
    {
     "data": {
      "text/plain": [
       "[1,2,4,8,16,32,64,128,256,512,1024,2048,4096,8191,16382,32764,65528,131056,262112,524224,1048448,2096896,4193792,8387584,16775168]"
      ]
     },
     "metadata": {},
     "output_type": "display_data"
    }
   ],
   "source": [
    "pdivisors 33550336"
   ]
  },
  {
   "cell_type": "code",
   "execution_count": 27,
   "id": "111b0d0a-4264-46c3-a13f-2351ce6e90eb",
   "metadata": {},
   "outputs": [
    {
     "data": {
      "text/plain": [
       "33550336"
      ]
     },
     "metadata": {},
     "output_type": "display_data"
    }
   ],
   "source": [
    "sum [1,2,4,8,16,32,64,128,256,512,1024,2048,4096,8191,16382, 32764,65528,131056,262112,524224,1048448,2096896,4193792,8387584, 16775168]"
   ]
  },
  {
   "cell_type": "markdown",
   "id": "0f03391a-ec8b-4372-a1a2-e436bfc57462",
   "metadata": {},
   "source": [
    "*Prime pairs* are pairs ($p$, $p + 2$) where both $p$ and $p + 2$ are prime. Prime pairs can be generated as follows:"
   ]
  },
  {
   "cell_type": "code",
   "execution_count": 29,
   "id": "91281d2b-8483-4ff8-8696-a75acd91eade",
   "metadata": {},
   "outputs": [],
   "source": [
    "primePairs :: [(Integer,Integer)]\n",
    "primePairs = pairs primes\n",
    "  where\n",
    "  pairs (x:y:xys) | x + 2 == y = (x,y): pairs (y:xys)\n",
    "                  | otherwise = pairs (y:xys)"
   ]
  },
  {
   "cell_type": "markdown",
   "id": "aa3c9a06-170f-4864-bd33-b7e89b097e1e",
   "metadata": {},
   "source": [
    "This gives:"
   ]
  },
  {
   "cell_type": "code",
   "execution_count": 30,
   "id": "f69c1412-cb09-4cd3-ad80-f2820eaf8bf1",
   "metadata": {},
   "outputs": [
    {
     "data": {
      "text/plain": [
       "[(3,5),(5,7),(11,13),(17,19),(29,31),(41,43),(59,61),(71,73),(101,103),(107,109),(137,139),(149,151),(179,181),(191,193),(197,199),(227,229),(239,241),(269,271),(281,283),(311,313),(347,349),(419,421),(431,433),(461,463),(521,523),(569,571),(599,601),(617,619),(641,643),(659,661),(809,811),(821,823),(827,829),(857,859),(881,883),(1019,1021),(1031,1033),(1049,1051),(1061,1063),(1091,1093),(1151,1153),(1229,1231),(1277,1279),(1289,1291),(1301,1303),(1319,1321),(1427,1429),(1451,1453),(1481,1483),(1487,1489)]"
      ]
     },
     "metadata": {},
     "output_type": "display_data"
    }
   ],
   "source": [
    "take 50 primePairs"
   ]
  },
  {
   "cell_type": "markdown",
   "id": "ef45ba3a-f99c-426a-92a9-de6d9182a0dc",
   "metadata": {},
   "source": [
    "Does this stream ever dry up? We don't know, for the question whether there are infinitely many prime pairs is another open problem of mathematics."
   ]
  },
  {
   "cell_type": "markdown",
   "id": "dab39f97-9d13-4781-a3ad-3d35fd691994",
   "metadata": {},
   "source": [
    "### Exercise 3.42 \n",
    "\n",
    "A prime triple is a triple ($p$, $p + 2$, $p + 4$) with $p$, $p + 2$, $p + 4$ all\n",
    "prime. The first prime triple is ($3$, $5$, $7$). Are there any more? Note that instructing the computer to generate them is no help:"
   ]
  },
  {
   "cell_type": "code",
   "execution_count": 31,
   "id": "165c894f-ebad-4dc5-af3d-109eb899bde7",
   "metadata": {},
   "outputs": [],
   "source": [
    "primeTriples :: [(Integer,Integer,Integer)]\n",
    "primeTriples = triples primes\n",
    "  where\n",
    "  triples (x:y:z:xyzs)\n",
    "    | x + 2 == y && y + 2 == z = (x,y,z) : triples (y:z:xyzs)\n",
    "    | otherwise = triples (y:z:xyzs)"
   ]
  },
  {
   "cell_type": "markdown",
   "id": "5db7d39a-5592-496a-98e5-44e0782b53ec",
   "metadata": {},
   "source": [
    "We get:\n",
    "\n",
    "```haskell\n",
    "primeTriples\n",
    "> [(3,5,7)\n",
    "```\n",
    "\n",
    "Still, we can find out the answer...How?"
   ]
  },
  {
   "cell_type": "markdown",
   "id": "ad23f702-e4e0-4bc6-b6b0-402380ca8c39",
   "metadata": {},
   "source": [
    "### Exercise 3.43 \n",
    "\n",
    "Consider the following call:\n",
    "\n",
    "```haskell\n",
    "filter prime [ p^2 + 2 | p <- primes ]\n",
    "```"
   ]
  },
  {
   "cell_type": "markdown",
   "id": "291b665c-8c55-4b0b-8850-4dea8a6cde8a",
   "metadata": {},
   "source": [
    "Can you prove that $11$ is the only prime of the form $p^2 + 2$, with $p$ prime?"
   ]
  },
  {
   "cell_type": "markdown",
   "id": "bb64f25b",
   "metadata": {},
   "source": [
    "Copyright (2004) Kees Doets and Jan van Eijk, The Haskell Road to Logic, Maths and Programming."
   ]
  }
 ],
 "metadata": {
  "kernelspec": {
   "display_name": "Haskell",
   "language": "haskell",
   "name": "haskell"
  },
  "language_info": {
   "codemirror_mode": "ihaskell",
   "file_extension": ".hs",
   "mimetype": "text/x-haskell",
   "name": "haskell",
   "pygments_lexer": "Haskell",
   "version": "9.6.4"
  }
 },
 "nbformat": 4,
 "nbformat_minor": 5
}
