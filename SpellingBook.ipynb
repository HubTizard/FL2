{
 "cells": [
  {
   "cell_type": "markdown",
   "id": "7cddd14f-566a-461c-b791-89502d0dd718",
   "metadata": {},
   "source": [
    "# Spelling Book Generator\n",
    "\n",
    "Suppose the function is called speller then it should have the following type:\n",
    "\n",
    "```haskell\n",
    "speller :: [[Char]] -> [Char]\n",
    "```\n",
    "\n",
    "recalling that a list of Char elements is a String in Haskell.\n",
    "\n",
    "Typical executions of the speller function would look like this:\n",
    "\n",
    "```haskell\n",
    "speller [\"abacus\"] -- > \"a is for abacus\"\n",
    "speller [] -- > \"\"\n",
    "speller [\"apple\", \"banana\", \"coconut\"] \n",
    " -- > \"a is for apple, b is for banana, and c is for coconut\"\n",
    "speller [\"whisky\", \"x-ray\"]\n",
    " -- > \"w is for whisky, and x is for x-ray\"\n",
    "```\n",
    "\n",
    "\n",
    "First we define a helper function:"
   ]
  },
  {
   "cell_type": "code",
   "execution_count": 478,
   "id": "dc560722-1633-4ddc-b5dc-9cdccd7944fc",
   "metadata": {},
   "outputs": [],
   "source": [
    "spell :: String -> String\n",
    "spell [] = []\n",
    "spell x = [head x] ++ \" is for \" ++ x"
   ]
  },
  {
   "cell_type": "code",
   "execution_count": 479,
   "id": "6269ea7d-8332-423a-9e77-f121639074c2",
   "metadata": {},
   "outputs": [
    {
     "data": {
      "text/plain": [
       "\"z is for zebra\""
      ]
     },
     "metadata": {},
     "output_type": "display_data"
    }
   ],
   "source": [
    "spell \"zebra\""
   ]
  },
  {
   "cell_type": "markdown",
   "id": "7cc054d7-cc89-4c46-b711-bcc1e842f226",
   "metadata": {},
   "source": [
    "Using `spell` here are some example solutions.\n",
    "\n",
    "## Example 1"
   ]
  },
  {
   "cell_type": "code",
   "execution_count": 489,
   "id": "e18d0aae-ba5b-4045-82c4-b3ffb00d22b5",
   "metadata": {},
   "outputs": [
    {
     "data": {
      "text/plain": [
       "\"\""
      ]
     },
     "metadata": {},
     "output_type": "display_data"
    },
    {
     "data": {
      "text/plain": [
       "\"a is for abacus\""
      ]
     },
     "metadata": {},
     "output_type": "display_data"
    },
    {
     "data": {
      "text/plain": [
       "\"w is for whisky, and x is for x-ray\""
      ]
     },
     "metadata": {},
     "output_type": "display_data"
    },
    {
     "data": {
      "text/plain": [
       "\"a is for apple, b is for banana, and c is for coconut\""
      ]
     },
     "metadata": {},
     "output_type": "display_data"
    }
   ],
   "source": [
    "speller :: [String] -> String\n",
    "speller [] = []\n",
    "speller (x:xs) \n",
    "    | null xs = spell x\n",
    "    | length xs == 1 = spell x ++ \", and \" ++ (spell . head) xs\n",
    "    | length xs >= 2 = spell x ++ \", \" ++ speller xs\n",
    "\n",
    "speller []\n",
    "speller [\"abacus\"]\n",
    "speller [\"whisky\", \"x-ray\"]\n",
    "speller [\"apple\", \"banana\", \"coconut\"]\n"
   ]
  },
  {
   "cell_type": "markdown",
   "id": "256ebac1-dd66-493e-adc4-e838ce7f0390",
   "metadata": {},
   "source": [
    "## Example 2"
   ]
  },
  {
   "cell_type": "code",
   "execution_count": 505,
   "id": "29c6992c-76d7-4c4d-93f6-0a8bdda38585",
   "metadata": {},
   "outputs": [
    {
     "data": {
      "text/plain": [
       "\"\""
      ]
     },
     "metadata": {},
     "output_type": "display_data"
    },
    {
     "data": {
      "text/plain": [
       "\"a is for abacus\""
      ]
     },
     "metadata": {},
     "output_type": "display_data"
    },
    {
     "data": {
      "text/plain": [
       "\"w is for whisky, and x is for x-ray\""
      ]
     },
     "metadata": {},
     "output_type": "display_data"
    },
    {
     "data": {
      "text/plain": [
       "\"a is for apple, b is for banana, and c is for coconut\""
      ]
     },
     "metadata": {},
     "output_type": "display_data"
    }
   ],
   "source": [
    "speller :: [String] -> String\n",
    "speller [] = \"\"\n",
    "speller [x] = spell x\n",
    "speller xs = let xs'  = map spell xs \n",
    "                 xs'' = init xs' ++ [\"and \" ++ last xs']\n",
    "                 ss   = foldl (\\ss x -> ss ++ \", \" ++ x) \"\" xs''\n",
    "              in drop 2 ss\n",
    "\n",
    "speller []\n",
    "speller [\"abacus\"]\n",
    "speller [\"whisky\", \"x-ray\"]\n",
    "speller [\"apple\", \"banana\", \"coconut\"]\n"
   ]
  },
  {
   "cell_type": "markdown",
   "id": "cbe7e621-0666-44bd-b24c-cee064101048",
   "metadata": {},
   "source": [
    "## Example 3"
   ]
  },
  {
   "cell_type": "code",
   "execution_count": 506,
   "id": "a7c08248-88e4-49f8-80dd-71349507c7e6",
   "metadata": {},
   "outputs": [
    {
     "data": {
      "text/plain": [
       "\"\""
      ]
     },
     "metadata": {},
     "output_type": "display_data"
    },
    {
     "data": {
      "text/plain": [
       "\"a is for abacus\""
      ]
     },
     "metadata": {},
     "output_type": "display_data"
    },
    {
     "data": {
      "text/plain": [
       "\"w is for whisky, and x is for x-ray\""
      ]
     },
     "metadata": {},
     "output_type": "display_data"
    },
    {
     "data": {
      "text/plain": [
       "\"a is for apple, b is for banana, and c is for coconut\""
      ]
     },
     "metadata": {},
     "output_type": "display_data"
    }
   ],
   "source": [
    "speller :: [String] -> String\n",
    "speller [] = \"\"\n",
    "speller [x] = spell x\n",
    "speller xs = let xs' = map spell xs\n",
    "              in drop 2 (foldr j (\"and \" ++) xs' \"\")\n",
    "    where j x h y = y ++ \", \" ++ h x \n",
    "    \n",
    "speller []\n",
    "speller [\"abacus\"]\n",
    "speller [\"whisky\", \"x-ray\"]\n",
    "speller [\"apple\", \"banana\", \"coconut\"]\n"
   ]
  },
  {
   "cell_type": "code",
   "execution_count": null,
   "id": "f9221850-e8f6-4e1d-b5cb-ea2417bfba7b",
   "metadata": {},
   "outputs": [],
   "source": []
  }
 ],
 "metadata": {
  "kernelspec": {
   "display_name": "Haskell",
   "language": "haskell",
   "name": "haskell"
  },
  "language_info": {
   "codemirror_mode": "ihaskell",
   "file_extension": ".hs",
   "mimetype": "text/x-haskell",
   "name": "haskell",
   "pygments_lexer": "Haskell",
   "version": "9.4.5"
  }
 },
 "nbformat": 4,
 "nbformat_minor": 5
}
