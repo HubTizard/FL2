{
 "cells": [
  {
   "cell_type": "markdown",
   "id": "7e5991f6",
   "metadata": {},
   "source": [
    "## Week 9 foldr and foldl ##\n",
    "\n",
    "__foldr__"
   ]
  },
  {
   "cell_type": "markdown",
   "id": "6f3a232a",
   "metadata": {},
   "source": [
    "![](images/foldr.png)"
   ]
  },
  {
   "cell_type": "code",
   "execution_count": 24,
   "id": "de6ee92a",
   "metadata": {},
   "outputs": [
    {
     "data": {
      "text/plain": [
       "\"123\""
      ]
     },
     "metadata": {},
     "output_type": "display_data"
    }
   ],
   "source": [
    "foldr (:) [] \"123\""
   ]
  },
  {
   "cell_type": "markdown",
   "id": "6d4259e9",
   "metadata": {},
   "source": [
    "foldr f e (1:2:3:[]) = 1 `f` (2 `f` (3 `f` e))"
   ]
  },
  {
   "cell_type": "markdown",
   "id": "3311fadf",
   "metadata": {},
   "source": [
    "You can imagine foldr as some state-machine-evaluator, too:\n",
    "\n",
    "f is the transition,\n",
    "\n",
    "f :: input -> state -> state\n",
    "and e is the start state.\n",
    "\n",
    "e :: state\n",
    "foldr (foldRIGHT) runs the state-machine with the transition f and the start state e over the list of inputs, starting at the right end. Imagine f in infix notation as the pacman coming from-RIGHT.\n",
    "\n",
    "To make this clear, imagine the function (-) as transition:"
   ]
  },
  {
   "cell_type": "markdown",
   "id": "caf19e7f",
   "metadata": {},
   "source": [
    "- foldr (-) 100 [1]         = -99 = (1-(100))\n",
    "- foldr (-) 100 [2,1]       = 101 = (2-(-99)) = (2-(1-(100)))\n",
    "- foldr (-) 100 [3,2,1]     = -98 = (3-(101))\n",
    "- foldr (-) 100 [4,3,2,1]   = 102 = (4-(-98))\n",
    "- foldr (-) 100 [5,4,3,2,1] = -97 = (5-(102))"
   ]
  },
  {
   "cell_type": "markdown",
   "id": "c6ed7b6e",
   "metadata": {},
   "source": [
    "foldl (foldLEFT) does the same from-LEFT, but the transition function, written in infix notation, takes its input argument from right. So the machine consumes the list starting at the left end. Pacman consumes the list from-LEFT with an open mouth to the right, because of the mouth (b->a->b) instead of (a->b->b).\n",
    "\n",
    "https://stackoverflow.com/questions/3950508/foldr-and-foldl-further-explanations-and-examples"
   ]
  },
  {
   "cell_type": "code",
   "execution_count": 14,
   "id": "a10d66b9",
   "metadata": {},
   "outputs": [
    {
     "data": {
      "text/plain": [
       "[3,2,1]"
      ]
     },
     "metadata": {},
     "output_type": "display_data"
    }
   ],
   "source": [
    "foldr (\\y ys -> ys ++ [y]) [] [1,2,3]"
   ]
  },
  {
   "cell_type": "code",
   "execution_count": 16,
   "id": "02d5b9aa",
   "metadata": {},
   "outputs": [],
   "source": [
    "f y ys = ys ++ [y]"
   ]
  },
  {
   "cell_type": "code",
   "execution_count": 21,
   "id": "205821fc",
   "metadata": {},
   "outputs": [
    {
     "data": {
      "text/plain": [
       "\"tests\""
      ]
     },
     "metadata": {},
     "output_type": "display_data"
    }
   ],
   "source": [
    "f 's' \"test\""
   ]
  },
  {
   "cell_type": "code",
   "execution_count": 18,
   "id": "bb4fd420",
   "metadata": {},
   "outputs": [
    {
     "data": {
      "text/plain": [
       "[3,2,1]"
      ]
     },
     "metadata": {},
     "output_type": "display_data"
    }
   ],
   "source": [
    "foldr f [] [1,2,3]"
   ]
  },
  {
   "cell_type": "markdown",
   "id": "c6764f86",
   "metadata": {},
   "source": [
    "__foldl__"
   ]
  },
  {
   "cell_type": "markdown",
   "id": "a60e4527",
   "metadata": {},
   "source": [
    "![](images/foldl.png)"
   ]
  },
  {
   "cell_type": "markdown",
   "id": "1b1ec774",
   "metadata": {},
   "source": [
    "foldl (foldLEFT) does the same from-LEFT, but the transition function, written in infix notation, takes its input argument from right. So the machine consumes the list starting at the left end. Pacman consumes the list from-LEFT with an open mouth to the right, because of the mouth (b->a->b) instead of (a->b->b)."
   ]
  },
  {
   "cell_type": "markdown",
   "id": "acb147c8",
   "metadata": {},
   "source": [
    "- foldl (-) 100 [1]         = 99 = ((100)-1)\n",
    "- foldl (-) 100 [1,2]       = 97 = (( 99)-2) = (((100)-1)-2)\n",
    "- foldl (-) 100 [1,2,3]     = 94 = (( 97)-3)\n",
    "- foldl (-) 100 [1,2,3,4]   = 90 = (( 94)-4)\n",
    "- foldl (-) 100 [1,2,3,4,5] = 85 = (( 90)-5)"
   ]
  },
  {
   "cell_type": "code",
   "execution_count": 19,
   "id": "94d90e53",
   "metadata": {},
   "outputs": [
    {
     "data": {
      "text/plain": [
       "85"
      ]
     },
     "metadata": {},
     "output_type": "display_data"
    }
   ],
   "source": [
    "foldl (-) 100 [1,2,3,4,5]"
   ]
  }
 ],
 "metadata": {
  "kernelspec": {
   "display_name": "Haskell",
   "language": "haskell",
   "name": "haskell"
  },
  "language_info": {
   "codemirror_mode": "ihaskell",
   "file_extension": ".hs",
   "mimetype": "text/x-haskell",
   "name": "haskell",
   "pygments_lexer": "Haskell",
   "version": "9.6.4"
  }
 },
 "nbformat": 4,
 "nbformat_minor": 5
}
