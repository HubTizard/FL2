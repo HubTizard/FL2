{
 "cells": [
  {
   "cell_type": "markdown",
   "id": "6710805a-ba74-467f-be9d-f4d501680951",
   "metadata": {
    "tags": []
   },
   "source": [
    "# Keyword matches\n",
    "\n",
    "The string `\"Hello World\"` contains the substring `\"Hello\"` once, `\"World\"` once, and the substring `\"o\"` twice. \n",
    "\n",
    "Let's write a function which given some substring `sub`, counts how many times it appears in our string `full`.\n",
    "We will allow substrings to overlap. For example `\"ahaha\"` contains `\"aha\"` twice!\n"
   ]
  },
  {
   "cell_type": "code",
   "execution_count": 136,
   "id": "9be9167c-7449-4547-8030-f6ab35fb28ba",
   "metadata": {},
   "outputs": [],
   "source": [
    "{- Example Solution -}\n",
    "\n",
    "import Data.List (isPrefixOf, tail)\n",
    "\n",
    "matchCount :: Eq a => [a] -> [a] -> Int\n",
    "matchCount _  [] = 0\n",
    "matchCount sub full = \n",
    "  let inc = if sub `isPrefixOf` full then 1 else 0\n",
    "   in inc + matchCount sub (tail full)\n"
   ]
  },
  {
   "cell_type": "markdown",
   "id": "08241ba9-de2b-498c-920b-e32b057fb520",
   "metadata": {},
   "source": [
    "And testing the matches:"
   ]
  },
  {
   "cell_type": "code",
   "execution_count": 137,
   "id": "75d8e32b-b260-41ba-b7e8-d1e373233869",
   "metadata": {},
   "outputs": [
    {
     "data": {
      "text/plain": [
       "True"
      ]
     },
     "metadata": {},
     "output_type": "display_data"
    },
    {
     "data": {
      "text/plain": [
       "True"
      ]
     },
     "metadata": {},
     "output_type": "display_data"
    },
    {
     "data": {
      "text/plain": [
       "True"
      ]
     },
     "metadata": {},
     "output_type": "display_data"
    },
    {
     "data": {
      "text/plain": [
       "True"
      ]
     },
     "metadata": {},
     "output_type": "display_data"
    }
   ],
   "source": [
    "matchCount \"Hello\" \"Hello World\" == 1\n",
    "matchCount \"World\" \"Hello World\" == 1\n",
    "matchCount \"o\" \"Hello World\" == 2\n",
    "matchCount \"aha\" \"ahaha\" == 2"
   ]
  },
  {
   "cell_type": "markdown",
   "id": "2ef14083-c038-41ac-a34a-fdf5e26bddc0",
   "metadata": {},
   "source": [
    "It is also worthwile writing a function `matchAll` which given a list of substrings, counts all matches and returns the sum total."
   ]
  },
  {
   "cell_type": "code",
   "execution_count": 138,
   "id": "6ddb05b5-e74a-4f57-821f-0adbb3d1d4c1",
   "metadata": {},
   "outputs": [],
   "source": [
    "{- Example Solution -}\n",
    "\n",
    "matchAll :: Eq a => [[a]] -> [a] -> Int\n",
    "matchAll cs ss = foldl (\\i c -> i + matchCount c ss) 0 cs\n"
   ]
  },
  {
   "cell_type": "markdown",
   "id": "39295abf-d130-4a9a-b8c2-532a7f1730bf",
   "metadata": {},
   "source": [
    "And testing it:"
   ]
  },
  {
   "cell_type": "code",
   "execution_count": 139,
   "id": "9dae123e-37fd-4706-83fd-74f14c849ac4",
   "metadata": {},
   "outputs": [
    {
     "data": {
      "text/plain": [
       "True"
      ]
     },
     "metadata": {},
     "output_type": "display_data"
    },
    {
     "data": {
      "text/plain": [
       "True"
      ]
     },
     "metadata": {},
     "output_type": "display_data"
    }
   ],
   "source": [
    "matchAll [\"Hello\", \"World\"] \"Hello World\" == 2\n",
    "matchAll [\"Hello\", \"World\", \"o\"] \"Hello World\" == 4"
   ]
  },
  {
   "cell_type": "markdown",
   "id": "d477c665-6eed-4c07-b816-1a5dfeda0bd8",
   "metadata": {},
   "source": [
    "One quesiton we can ask ourselves is: how many possible unique substrings can a string match on?\n",
    "\n",
    "After all, a string is fintie in length, so it can only match on a finite number of keywords. \n",
    "\n",
    "Taking an example of the string  `\"Rob\"`, it must match the substrings `\"R\"`, `\"o\"`, and  `\"b\"`. But also `\"Ro\"`, `\"ob\"` and `\"Rob\"` itself! That's 6 total substrings that fit in `\"Rob\"`.\n",
    "\n",
    "It would be good to understand this pattern for any length of string. To do this we'll look to `Data.List` which contains two useful functions [subsequences](https://hackage.haskell.org/package/base-4.20.0.1/docs/Data-List.html#v:subsequences) and [nub](https://hackage.haskell.org/package/base-4.20.0.1/docs/Data-List.html#v:nub)."
   ]
  },
  {
   "cell_type": "markdown",
   "id": "57a38bb2-0e1d-4433-864a-0f51a13baa34",
   "metadata": {},
   "source": [
    "`nub` takes a list a returns the **unique** elements of the list, e.g. the list `['b', 'o', 'b']` becomes `['b', 'o']`."
   ]
  },
  {
   "cell_type": "code",
   "execution_count": 149,
   "id": "ff93b384-6200-418a-a8e3-d811df7eacd5",
   "metadata": {},
   "outputs": [
    {
     "data": {
      "text/plain": [
       "\"bo\""
      ]
     },
     "metadata": {},
     "output_type": "display_data"
    }
   ],
   "source": [
    "import Data.List (nub)\n",
    "\n",
    "nub \"bob\""
   ]
  },
  {
   "cell_type": "markdown",
   "id": "f48ac3aa-0605-4996-af2c-f202534b2e24",
   "metadata": {},
   "source": [
    "`subsequences` takes a list and returns all **subsequences** of that list. E.g. for the list `['b', 'o', 'b']` it returns all sublists. E.g. `[['', 'b', 'bo', 'bo', 'b', 'bb', 'ob' 'bob']]`\n"
   ]
  },
  {
   "cell_type": "code",
   "execution_count": 150,
   "id": "18575a0f-9452-46a1-b727-e452dc57c3ca",
   "metadata": {},
   "outputs": [
    {
     "data": {
      "text/plain": [
       "[\"\",\"b\",\"o\",\"bo\",\"b\",\"bb\",\"ob\",\"bob\"]"
      ]
     },
     "metadata": {},
     "output_type": "display_data"
    }
   ],
   "source": [
    "subsequences \"bob\""
   ]
  },
  {
   "cell_type": "markdown",
   "id": "76e36485-9c46-494d-9193-aa0fe467928b",
   "metadata": {},
   "source": [
    "Combining these two functions, we can find all unique subsequences:"
   ]
  },
  {
   "cell_type": "code",
   "execution_count": 151,
   "id": "6c69f66e-3842-4193-ba7d-75fe02ceb9b7",
   "metadata": {},
   "outputs": [],
   "source": [
    "uniqueSubseqences = nub . subsequences"
   ]
  },
  {
   "cell_type": "code",
   "execution_count": 152,
   "id": "c165c3d4-4aae-48fd-9c2e-9ce66155dea2",
   "metadata": {},
   "outputs": [
    {
     "data": {
      "text/plain": [
       "[\"\",\"b\",\"o\",\"bo\",\"bb\",\"ob\",\"bob\"]"
      ]
     },
     "metadata": {},
     "output_type": "display_data"
    }
   ],
   "source": [
    "uniqueSubseqences \"bob\""
   ]
  },
  {
   "cell_type": "markdown",
   "id": "fec6e5ef-844b-40c9-a526-1773633b9729",
   "metadata": {},
   "source": [
    "From `uniqueSubseqences` write a function that counts all unique substrings in a string **ignoring empty substrings** (i.e. ignoring `\"\"`).\n",
    "\n",
    "Hint: use the `matchAll` you wrote previously."
   ]
  },
  {
   "cell_type": "code",
   "execution_count": 154,
   "id": "d0f17b50-2932-45fd-81e7-f81a86cc83aa",
   "metadata": {},
   "outputs": [],
   "source": [
    "{- Example solution -}\n",
    "\n",
    "\n",
    "countTotalSubstrings ss = matchAll (filter ([] /=) $ uniqueSubseqences ss) ss"
   ]
  },
  {
   "cell_type": "markdown",
   "id": "efb68bb6-e7c3-4083-9a75-1cc4ef7a1bce",
   "metadata": {},
   "source": [
    "We can then test it against different inputs and see if we can find a pattern:"
   ]
  },
  {
   "cell_type": "code",
   "execution_count": 155,
   "id": "68116316-e30c-4548-a899-3eb0c4438817",
   "metadata": {},
   "outputs": [
    {
     "data": {
      "text/plain": [
       "True"
      ]
     },
     "metadata": {},
     "output_type": "display_data"
    },
    {
     "data": {
      "text/plain": [
       "True"
      ]
     },
     "metadata": {},
     "output_type": "display_data"
    },
    {
     "data": {
      "text/plain": [
       "True"
      ]
     },
     "metadata": {},
     "output_type": "display_data"
    },
    {
     "data": {
      "text/plain": [
       "True"
      ]
     },
     "metadata": {},
     "output_type": "display_data"
    },
    {
     "data": {
      "text/plain": [
       "True"
      ]
     },
     "metadata": {},
     "output_type": "display_data"
    }
   ],
   "source": [
    "countTotalSubstrings \"H\"     == 1\n",
    "countTotalSubstrings \"He\"    == 3\n",
    "countTotalSubstrings \"Hel\"   == 6\n",
    "countTotalSubstrings \"Hell\"  == 10\n",
    "countTotalSubstrings \"Hello\" == 15"
   ]
  },
  {
   "cell_type": "markdown",
   "id": "84c4dbfd-d933-4e3b-9118-28a8e8fdbced",
   "metadata": {},
   "source": [
    "This works for any string you might try. But a general pattern begins to emerge: the sum is the previous sum + the length of the string!\n",
    "\n",
    "| Word    | Substring count |\n",
    "|---------|-----------------|\n",
    "| \"H\"     | 1               |\n",
    "| \"He\"    | 2+1+1=3         |\n",
    "| \"Hel\"   | 3+2+1=6         |\n",
    "| \"Hell\"  | 4+3+2+1=10      |\n",
    "| \"Hello\" | 5+4+3+2+1=15    |\n",
    "\n",
    "This pattern is also known as a **Triangle number** because we can draw this out as a triangle:\n",
    "\n",
    "```\n",
    "    *     <- length == 1\n",
    "   * *    <- length == 2\n",
    "  * * *   <- length == 3\n",
    " * * * *  <- length == 4\n",
    "* * * * * <- length == 5\n",
    "```\n",
    "\n",
    "And in-fact there is a simple sum for finding the triangle number!\n",
    "\n",
    "$$\n",
    "T_n = \\frac{ n \\cdot (n+1) } 2 \n",
    "$$\n",
    "\n",
    "Can you write a function that represents the triangle number calculation"
   ]
  },
  {
   "cell_type": "code",
   "execution_count": 158,
   "id": "9801dc47-fe59-4a69-9b48-923766c613a8",
   "metadata": {},
   "outputs": [],
   "source": [
    "{- Example solution -}\n",
    "\n",
    "triangle n = (n * (n +1)) `div` 2"
   ]
  },
  {
   "cell_type": "code",
   "execution_count": 159,
   "id": "6fb25997-6330-4b06-9973-db2c7bf7327c",
   "metadata": {},
   "outputs": [
    {
     "data": {
      "text/plain": [
       "True"
      ]
     },
     "metadata": {},
     "output_type": "display_data"
    },
    {
     "data": {
      "text/plain": [
       "True"
      ]
     },
     "metadata": {},
     "output_type": "display_data"
    },
    {
     "data": {
      "text/plain": [
       "True"
      ]
     },
     "metadata": {},
     "output_type": "display_data"
    },
    {
     "data": {
      "text/plain": [
       "True"
      ]
     },
     "metadata": {},
     "output_type": "display_data"
    },
    {
     "data": {
      "text/plain": [
       "True"
      ]
     },
     "metadata": {},
     "output_type": "display_data"
    }
   ],
   "source": [
    "countTotalSubstrings \"H\"     == triangle (length \"H\")\n",
    "countTotalSubstrings \"He\"    == triangle (length \"He\")\n",
    "countTotalSubstrings \"Hel\"   == triangle (length \"Hel\")\n",
    "countTotalSubstrings \"Hell\"  == triangle (length \"Hell\")\n",
    "countTotalSubstrings \"Hello\" == triangle (length \"Hello\")"
   ]
  },
  {
   "cell_type": "code",
   "execution_count": null,
   "id": "84c54b9f-b255-4d5a-b007-0ae9174dfa59",
   "metadata": {},
   "outputs": [],
   "source": []
  }
 ],
 "metadata": {
  "kernelspec": {
   "display_name": "Haskell",
   "language": "haskell",
   "name": "haskell"
  },
  "language_info": {
   "codemirror_mode": "ihaskell",
   "file_extension": ".hs",
   "mimetype": "text/x-haskell",
   "name": "haskell",
   "pygments_lexer": "Haskell",
   "version": "9.4.5"
  }
 },
 "nbformat": 4,
 "nbformat_minor": 5
}
