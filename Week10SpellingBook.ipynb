{
 "cells": [
  {
   "cell_type": "markdown",
   "id": "5485b3eb",
   "metadata": {},
   "source": [
    "`speller [\"abacus\"]` -- > \"a is for abacus\"\n",
    "\n",
    "`speller []` -- > \"\"\n",
    "\n",
    "`speller [\"apple\", \"banana\", \"coconut\"] `\n",
    " -- > \"a is for apple, b is for banana, and c is for coconut\"\n",
    " \n",
    "`speller [\"whisky\", \"x-ray\"]`\n",
    " -- > \"w is for whisky, and x is for x-ray\"`"
   ]
  },
  {
   "cell_type": "code",
   "execution_count": 29,
   "id": "cb3c3cd0",
   "metadata": {},
   "outputs": [
    {
     "data": {
      "text/html": [
       "<style>/* Styles used for the Hoogle display in the pager */\n",
       ".hoogle-doc {\n",
       "display: block;\n",
       "padding-bottom: 1.3em;\n",
       "padding-left: 0.4em;\n",
       "}\n",
       ".hoogle-code {\n",
       "display: block;\n",
       "font-family: monospace;\n",
       "white-space: pre;\n",
       "}\n",
       ".hoogle-text {\n",
       "display: block;\n",
       "}\n",
       ".hoogle-name {\n",
       "color: green;\n",
       "font-weight: bold;\n",
       "}\n",
       ".hoogle-head {\n",
       "font-weight: bold;\n",
       "}\n",
       ".hoogle-sub {\n",
       "display: block;\n",
       "margin-left: 0.4em;\n",
       "}\n",
       ".hoogle-package {\n",
       "font-weight: bold;\n",
       "font-style: italic;\n",
       "}\n",
       ".hoogle-module {\n",
       "font-weight: bold;\n",
       "}\n",
       ".hoogle-class {\n",
       "font-weight: bold;\n",
       "}\n",
       "\n",
       ".get-type {\n",
       "color: green;\n",
       "font-weight: bold;\n",
       "font-family: monospace;\n",
       "display: block;\n",
       "white-space: pre-wrap;\n",
       "}\n",
       ".show-type {\n",
       "color: green;\n",
       "font-weight: bold;\n",
       "font-family: monospace;\n",
       "margin-left: 1em;\n",
       "}\n",
       ".mono {\n",
       "font-family: monospace;\n",
       "display: block;\n",
       "}\n",
       ".err-msg {\n",
       "color: red;\n",
       "font-style: italic;\n",
       "font-family: monospace;\n",
       "white-space: pre;\n",
       "display: block;\n",
       "}\n",
       "#unshowable {\n",
       "color: red;\n",
       "font-weight: bold;\n",
       "}\n",
       ".err-msg.in.collapse {\n",
       "padding-top: 0.7em;\n",
       "}\n",
       "\n",
       ".highlight-code {\n",
       "white-space: pre;\n",
       "font-family: monospace;\n",
       "}\n",
       "\n",
       ".suggestion-warning { \n",
       "font-weight: bold;\n",
       "color: rgb(200, 130, 0);\n",
       "}\n",
       ".suggestion-error { \n",
       "font-weight: bold;\n",
       "color: red;\n",
       "}\n",
       ".suggestion-name {\n",
       "font-weight: bold;\n",
       "}\n",
       "\n",
       "</style><div class=\"suggestion-name\" style=\"clear:both;\">Redundant bracket</div><div class=\"suggestion-row\" style=\"float: left;\"><div class=\"suggestion-warning\">Found:</div><div class=\"highlight-code\" id=\"haskell\">(f x) ++ \",\" ++ speller xs</div></div><div class=\"suggestion-row\" style=\"float: left;\"><div class=\"suggestion-warning\">Why Not:</div><div class=\"highlight-code\" id=\"haskell\">f x ++ \",\" ++ speller xs</div></div>"
      ],
      "text/plain": [
       "Line 4: Redundant bracket\n",
       "Found:\n",
       "(f x) ++ \",\" ++ speller xs\n",
       "Why not:\n",
       "f x ++ \",\" ++ speller xs"
      ]
     },
     "metadata": {},
     "output_type": "display_data"
    }
   ],
   "source": [
    "speller :: [[Char]] -> [Char]\n",
    "speller [] = \"\"\n",
    "speller [x] = f x\n",
    "speller (x:xs) = (f x) ++ \",\" ++ speller xs \n",
    "\n",
    "-- helper function\n",
    "f :: String -> String\n",
    "f (y:ys) = [y] ++ \" is for \" ++ (y:ys) ++ \" \""
   ]
  },
  {
   "cell_type": "code",
   "execution_count": 30,
   "id": "33142512",
   "metadata": {},
   "outputs": [
    {
     "data": {
      "text/plain": [
       "\"z is for zoo \""
      ]
     },
     "metadata": {},
     "output_type": "display_data"
    }
   ],
   "source": [
    "f \"zoo\""
   ]
  },
  {
   "cell_type": "code",
   "execution_count": 31,
   "id": "542b3854",
   "metadata": {},
   "outputs": [
    {
     "data": {
      "text/plain": [
       "\"a is for abacus \""
      ]
     },
     "metadata": {},
     "output_type": "display_data"
    }
   ],
   "source": [
    "speller [\"abacus\"]"
   ]
  },
  {
   "cell_type": "code",
   "execution_count": null,
   "id": "81e8e628",
   "metadata": {},
   "outputs": [
    {
     "data": {
      "text/plain": [
       "\"a is for apple ,b is for banana ,c is for coconut \""
      ]
     },
     "metadata": {},
     "output_type": "display_data"
    }
   ],
   "source": [
    "speller [\"apple\", \"banana\", \"coconut\"]"
   ]
  },
  {
   "cell_type": "code",
   "execution_count": null,
   "id": "1e0c5ef8",
   "metadata": {},
   "outputs": [],
   "source": []
  }
 ],
 "metadata": {
  "kernelspec": {
   "display_name": "Haskell",
   "language": "haskell",
   "name": "haskell"
  },
  "language_info": {
   "codemirror_mode": "ihaskell",
   "file_extension": ".hs",
   "mimetype": "text/x-haskell",
   "name": "haskell",
   "pygments_lexer": "Haskell",
   "version": "9.6.4"
  }
 },
 "nbformat": 4,
 "nbformat_minor": 5
}
