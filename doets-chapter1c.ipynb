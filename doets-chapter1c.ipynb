{
 "cells": [
  {
   "cell_type": "markdown",
   "id": "984f7aa0-05bc-4823-9059-381d7ebba672",
   "metadata": {},
   "source": [
    "\n",
    "\n",
    "## 1.7 The Prime Factorization Algorithm\n",
    "\n",
    "Let $n$ be an arbitrary natural number $> 1$. A *prime factorization* of $n$ is a list of\n",
    "prime numbers $p_1, \\ldots, p_j$ with the property that $p_1 \\ldots p_j = n$. We will show that a prime factorization of every natural number $n > 1$ exists by producing one by means of the following method of splitting off prime factors:\n",
    "\n",
    "$$\n",
    "\\texttt{WHILE}\\, n \\neq 1 \\, \\texttt{DO BEGIN} \\, p := \\texttt{LD}(n);\\, n:= \\frac n p \\, \\texttt{END}\n",
    "$$\n",
    "\n",
    "Here $:=$ denotes assignment or the act of giving a variable a new value. As we have seen, $\\texttt{LD}(n)$ exists for every $n$ with $n > 1$. Moreover, we have seen that $\\texttt{LD}(n)$ is always prime. Finally, it is clear that the procedure terminates, for every round through the loop will decrease the size of $n$.\n",
    "\n",
    "So the algorithm consists of splitting off primes until we have written $n$ as $n = p_1 \\ldots p_j$ , with all factors prime. To get some intuition about how the procedure works, let us see what it does for an example case, say $n = 84$. The original assignment to $n$ is called $n_0$; successive assignments to $n$ and $p$ are called $n_1$, $n_2, \\ldots$ and $p_1, p_2, \\ldots$. \n",
    "\n",
    "$$\n",
    "\\begin{align}\n",
    "&            &          \\qquad& n_0 = 84     \\\\\n",
    "& n_0 \\neq 1 & p_1 = 2  \\qquad& n_1 = 84/2 = 42 \\\\\n",
    "& n_1 \\neq 1 & p_2 = 2  \\qquad& n_2 = 42/2 = 21 \\\\\n",
    "& n_2 \\neq 1 & p_3 = 3  \\qquad& n_3 = 21/3 = 7 \\\\\n",
    "& n_3 \\neq 1 & p_4 = 7  \\qquad& n_4 = 7/7  = 1 \\\\\n",
    "& n_4 = 1    &          \\qquad&\n",
    "\\end{align}\n",
    "$$\n",
    "\n",
    "This gives $84 - 2^2 \\cdot 3 \\cdot 7$, which is indeed a prime factorization of $84$.\n",
    "\n",
    "The following code gives an implementation in Haskell, collecting the prime factors that we find in a list. The code uses the predefined Haskell function `div` for integer division."
   ]
  },
  {
   "cell_type": "code",
   "execution_count": 34,
   "id": "30dd087e-9abe-4ed7-8d42-9ce3b272ecab",
   "metadata": {},
   "outputs": [],
   "source": [
    "factors :: Integer -> [Integer]\n",
    "factors n | n < 1 = error \"argument not positive\"\n",
    "          | n == 1 = []\n",
    "          | otherwise = p : factors (div n p) where p = ld n"
   ]
  },
  {
   "cell_type": "markdown",
   "id": "2af37b42-7807-40f3-926d-457aa1322175",
   "metadata": {},
   "source": [
    "You can try this out as follows:"
   ]
  },
  {
   "cell_type": "code",
   "execution_count": 35,
   "id": "51c26020-9f60-48e4-8f91-657fa20e0560",
   "metadata": {},
   "outputs": [
    {
     "data": {
      "text/plain": [
       "[2,2,3,7]"
      ]
     },
     "metadata": {},
     "output_type": "display_data"
    }
   ],
   "source": [
    "factors 84"
   ]
  },
  {
   "cell_type": "code",
   "execution_count": 36,
   "id": "bb4e73cd-e11a-4bcd-a48a-a36e69c4b44f",
   "metadata": {},
   "outputs": [
    {
     "data": {
      "text/plain": [
       "[2,3,5,7,11,13,17,19,23,29,31,37,41,43,47,53,59,61,67,71]"
      ]
     },
     "metadata": {},
     "output_type": "display_data"
    }
   ],
   "source": [
    " factors 557940830126698960967415390"
   ]
  },
  {
   "cell_type": "raw",
   "id": "3ea76711-b6da-4149-a32d-b9d5de5c2d62",
   "metadata": {},
   "source": [
    "## 1.8 The `map` and `filter` Functions\n",
    "\n",
    "Haskell allows some convenient abbreviations for lists: `[4..20]` denotes the list of integers from $4$ through $20$, `['a'..'z']` the list of all lower case letters, `\"abcdefghijklmnopqrstuvwxyz\"`. The call `[5..]` generates an infinite list of integers starting from `5`. And so on.\n",
    "\n",
    "If you use the command `:t` to find the type of the function map, you get the following:"
   ]
  },
  {
   "cell_type": "code",
   "execution_count": 37,
   "id": "b4d971a1-0833-447e-98f7-9775d8ec3d10",
   "metadata": {},
   "outputs": [
    {
     "data": {
      "text/html": [
       "<style>/* Styles used for the Hoogle display in the pager */\n",
       ".hoogle-doc {\n",
       "display: block;\n",
       "padding-bottom: 1.3em;\n",
       "padding-left: 0.4em;\n",
       "}\n",
       ".hoogle-code {\n",
       "display: block;\n",
       "font-family: monospace;\n",
       "white-space: pre;\n",
       "}\n",
       ".hoogle-text {\n",
       "display: block;\n",
       "}\n",
       ".hoogle-name {\n",
       "color: green;\n",
       "font-weight: bold;\n",
       "}\n",
       ".hoogle-head {\n",
       "font-weight: bold;\n",
       "}\n",
       ".hoogle-sub {\n",
       "display: block;\n",
       "margin-left: 0.4em;\n",
       "}\n",
       ".hoogle-package {\n",
       "font-weight: bold;\n",
       "font-style: italic;\n",
       "}\n",
       ".hoogle-module {\n",
       "font-weight: bold;\n",
       "}\n",
       ".hoogle-class {\n",
       "font-weight: bold;\n",
       "}\n",
       ".get-type {\n",
       "color: green;\n",
       "font-weight: bold;\n",
       "font-family: monospace;\n",
       "display: block;\n",
       "white-space: pre-wrap;\n",
       "}\n",
       ".show-type {\n",
       "color: green;\n",
       "font-weight: bold;\n",
       "font-family: monospace;\n",
       "margin-left: 1em;\n",
       "}\n",
       ".mono {\n",
       "font-family: monospace;\n",
       "display: block;\n",
       "}\n",
       ".err-msg {\n",
       "color: red;\n",
       "font-style: italic;\n",
       "font-family: monospace;\n",
       "white-space: pre;\n",
       "display: block;\n",
       "}\n",
       "#unshowable {\n",
       "color: red;\n",
       "font-weight: bold;\n",
       "}\n",
       ".err-msg.in.collapse {\n",
       "padding-top: 0.7em;\n",
       "}\n",
       ".highlight-code {\n",
       "white-space: pre;\n",
       "font-family: monospace;\n",
       "}\n",
       ".suggestion-warning { \n",
       "font-weight: bold;\n",
       "color: rgb(200, 130, 0);\n",
       "}\n",
       ".suggestion-error { \n",
       "font-weight: bold;\n",
       "color: red;\n",
       "}\n",
       ".suggestion-name {\n",
       "font-weight: bold;\n",
       "}\n",
       "</style><span class='get-type'>map :: forall a b. (a -> b) -> [a] -> [b]</span>"
      ],
      "text/plain": [
       "map :: forall a b. (a -> b) -> [a] -> [b]"
      ]
     },
     "metadata": {},
     "output_type": "display_data"
    }
   ],
   "source": [
    ":t map"
   ]
  },
  {
   "cell_type": "markdown",
   "id": "2a311653-3b79-4a10-a47c-de3760f4004f",
   "metadata": {},
   "source": [
    "The function `map` takes a function and a list and returns a list containing the results of applying the function to the individual list members.\n",
    "\n",
    "If `f` is a function of type `a -> b` and `xs` is a list of type `[a]`, then map `f xs` will return a list of type `[b]`. E.g., `map (^2) [1..9]` will produce the list of squares"
   ]
  },
  {
   "cell_type": "code",
   "execution_count": 38,
   "id": "c21bc07d-ed08-4bc3-bcaf-3ba63d1bb7b5",
   "metadata": {},
   "outputs": [
    {
     "data": {
      "text/plain": [
       "[1,4,9,16,25,36,49,64,81]"
      ]
     },
     "metadata": {},
     "output_type": "display_data"
    }
   ],
   "source": [
    "map (^2) [1..9]"
   ]
  },
  {
   "cell_type": "markdown",
   "id": "190957f3-eb4f-44f9-9e57-41285385923c",
   "metadata": {},
   "source": [
    "### Conversion from Infix to Prefix, Construction of Sections\n",
    "\n",
    "If `op` is an infix operator, `(op)` is the prefix version of the operator. Thus, `2^10` can also be written as `(^) 2 10`. This is a special case of the use of sections in Haskell.\n",
    "\n",
    "In general, if `op` is an infix operator, `(op x)` is the operation resulting from applying `op` to its right hand side argument, `(x op)` is the operation resulting from applying op to its left hand side argument, and `(op)` is the prefix version of the operator (this is like the abstraction of the operator from both arguments).\n",
    "\n",
    "Thus `(^2)` is the squaring operation, `(2^)` is the operation that computes powers of $2$, and `(^)` is exponentiation. Similarly, `(>3)` denotes the property of being greater than $3$, `(3>)` the property of being smaller than $3$, and `(>)` is the prefix version of the 'greater than' relation.\n",
    "\n",
    "The call `map (2^) [1..10]` will yield"
   ]
  },
  {
   "cell_type": "code",
   "execution_count": 39,
   "id": "eb6dabe2-f071-4417-83b2-61ed628f0b1c",
   "metadata": {},
   "outputs": [
    {
     "data": {
      "text/plain": [
       "[2,4,8,16,32,64,128,256,512,1024]"
      ]
     },
     "metadata": {},
     "output_type": "display_data"
    }
   ],
   "source": [
    "map (2^) [1..10]"
   ]
  },
  {
   "cell_type": "markdown",
   "id": "b62880f1-4377-42b9-8c6e-392a84322c81",
   "metadata": {},
   "source": [
    "If `p` is a property (an operation of type `a -> Bool`) and `xs` is a list of type `[a]`, then `map p xs` will produce a list of type `Bool` (a list of truth values), like this:"
   ]
  },
  {
   "cell_type": "code",
   "execution_count": 40,
   "id": "3448a388-f6b0-460c-9db0-957b68385b53",
   "metadata": {},
   "outputs": [
    {
     "data": {
      "text/plain": [
       "[False,False,False,True,True,True,True,True,True]"
      ]
     },
     "metadata": {},
     "output_type": "display_data"
    }
   ],
   "source": [
    "map (>3) [1..9]"
   ]
  },
  {
   "cell_type": "markdown",
   "id": "6ea1ff15-80f2-4b3e-b8b0-cc786afee9f2",
   "metadata": {},
   "source": [
    "The function `map` is predefined in Haskell, but it is instructive to give our own version:"
   ]
  },
  {
   "cell_type": "code",
   "execution_count": 41,
   "id": "188b5727-961c-420f-a335-7c1cca243335",
   "metadata": {},
   "outputs": [],
   "source": [
    "{- HLINT ignore \"Use map\" -}\n",
    "{- HLINT ignore \"Redundant bracket\" -}\n",
    "map' :: (a -> b) -> [a] -> [b]\n",
    "map' f [] = []\n",
    "map' f (x:xs) = (f x) : (map' f xs)"
   ]
  },
  {
   "cell_type": "markdown",
   "id": "eaf28305-2acd-47a2-bd36-6688d640fcf3",
   "metadata": {},
   "source": [
    "### Exercise 1.20 \n",
    "\n",
    "Use `map` to write a function `lengths` that takes a list of lists and\n",
    "returns a list of the corresponding list lengths.\n",
    "\n",
    "### Exercise 1.21 \n",
    "\n",
    "Use `map` to write a function `sumLengths` that takes a list of lists are returns the sum of their lengths\n",
    "\n",
    "Another useful function is `filter`, for filtering out the elements from a list that satisfy a given property. This is predefined, but here is a home-made version:"
   ]
  },
  {
   "cell_type": "code",
   "execution_count": 42,
   "id": "9f30ada4-6ebd-4353-badd-232a6773b48e",
   "metadata": {},
   "outputs": [],
   "source": [
    "filter' :: (a -> Bool) -> [a] -> [a]\n",
    "filter' p [] = []\n",
    "filter' p (x:xs) | p x = x : filter' p xs\n",
    "                 | otherwise = filter' p xs"
   ]
  },
  {
   "cell_type": "markdown",
   "id": "fb3e6153-f591-4178-af37-6f20f4aa63f7",
   "metadata": {},
   "source": [
    "Here is an example of its use:"
   ]
  },
  {
   "cell_type": "code",
   "execution_count": 43,
   "id": "dbfa9d3b-b3ed-473b-a72b-b0e93d6da8c8",
   "metadata": {},
   "outputs": [
    {
     "data": {
      "text/plain": [
       "[4,5,6,7,8,9,10]"
      ]
     },
     "metadata": {},
     "output_type": "display_data"
    }
   ],
   "source": [
    "filter' (>3) [1..10]"
   ]
  },
  {
   "cell_type": "markdown",
   "id": "b75a1867-5a27-4616-8665-222f62a116e8",
   "metadata": {},
   "source": [
    "### Example 1.22 \n",
    "\n",
    "Here is a program `primes0` that filters the prime numbers from the infinite list `[2..]` of natural numbers:\n",
    "\n"
   ]
  },
  {
   "cell_type": "code",
   "execution_count": 44,
   "id": "b013360d-4055-4913-bf76-043728efa6ae",
   "metadata": {},
   "outputs": [],
   "source": [
    "primes0 :: [Integer]\n",
    "primes0 = filter prime0 [2..]"
   ]
  },
  {
   "cell_type": "markdown",
   "id": "8cfbeb82-0a0a-494a-877b-e334b357fa6c",
   "metadata": {},
   "source": [
    "This produces an infinite list of primes. (Why infinite? See Theorem 3.33.) The list can be interrupted with 'Control-C'.\n",
    "\n",
    "**TODO** Restarting/killing kernal for infintie lists\n",
    "\n",
    "### Example 1.23\n",
    "\n",
    "Given that we can produce a list of primes, it should be possible\n",
    "now to improve our implementation of the function $\\texttt{LD}$. The function `ldf` used in the definition of `ld` looks for a prime divisor\n",
    "of $n$ by checking $k|n$ for all $k$ with $2 \\leq k \\leq \\sqrt n$. In fact, it is enough to check $p|n$ for the primes $p$ with $2 \\leq p \\leq \\sqrt n$.\n",
    "\n",
    "Here are functions `ldp` and `ldpf` that perform this more efficient check:"
   ]
  },
  {
   "cell_type": "code",
   "execution_count": 47,
   "id": "431d00f5-ca98-4148-850d-094a6c63b290",
   "metadata": {},
   "outputs": [],
   "source": [
    "{- HLINT ignore \"Eta reduce\" -}\n",
    "ldp :: Integer -> Integer\n",
    "ldp n = ldpf primes1 n\n",
    "\n",
    "ldpf :: [Integer] -> Integer -> Integer\n",
    "ldpf (p:ps) n | rem n p == 0 = p\n",
    "              | p^2 > n      = n\n",
    "              | otherwise    = ldpf ps n\n",
    "              \n",
    "              \n",
    "primes1 :: [Integer]\n",
    "primes1 = 2 : filter prime [3..]\n",
    "\n",
    "prime :: Integer -> Bool\n",
    "prime n | n < 1     = error \"not a positive integer\"\n",
    "        | n == 1    = False\n",
    "        | otherwise = ldp n == n"
   ]
  },
  {
   "cell_type": "markdown",
   "id": "78bf3368-b2a8-4e21-bbf7-9d640ae57adb",
   "metadata": {},
   "source": [
    "`ldp` makes a call to `primes1`, the list of prime numbers. This is a first illustration of a 'lazy list'. The list is called 'lazy' because we compute only the part of the list that we need for further processing. To define `primes1` we need a test for primality, but that test is itself defined in terms of the function $\\texttt{LD}$, which in turn refers to `primes1`. We seem to be running around in a circle. This circle can be made non-vicious by avoiding the primality test for $2$. If it is given that $2$ is prime, then we can use the primality of $2$ in the $\\texttt{LD}$ check that $3$ is prime, and so on, and\n",
    "we are up and running.\n",
    "\n",
    "Replacing the definition of `primes1` by `filter prime [2..]` creates vicious circularity, with stack overflow as a result (try it out). By running the program `primes1` against `primes0` it is easy to check that `primes1` is much faster.\n",
    "\n",
    "### Exercise 1.24\n",
    "\n",
    "What happens when you modify the defining equation of ldp as\n",
    "follows:\n",
    "\n",
    "```haskell\n",
    "ldp :: Integer -> Integer\n",
    "ldp = ldpf primes1\n",
    "```\n",
    "\n",
    "Can you explain?"
   ]
  },
  {
   "cell_type": "markdown",
   "id": "ae68a42f-2e92-4ced-8869-03151ad725d7",
   "metadata": {},
   "source": [
    "## 1.9 Haskell Equations and Equational Reasoning\n",
    "\n",
    "The Haskell equations `f x y = ...` used in the definition of a function `f` are genuine mathematical equations. They state that the left hand side and the right hand side of the equation have the same value. This is *very* different from the use of `=` in imperative languages like C or Java. In a C or Java program, the statement `x = x*y` does not mean that `x` and `x ∗ y` have the same value, but rather it is a command to throw away the old value of `x` and put the value of `x ∗ y` in its place. It is a so-called *destructive assignment statement*: the old value of a variable is destroyed and replaced by a new one.\n",
    "\n",
    "Reasoning about Haskell definitions is a lot easier than reasoning about programs that use destructive assignment. In Haskell, standard reasoning about mathematical equations applies. E.g., after the Haskell declarations `x = 1` and `y = 2`, the Haskell declaration `x = x + y` will raise an error `\"x\" multiply defined`. Because `=` in Haskell has the meaning \"is by definition equal to\", while redefinition is forbidden, reasoning about Haskell functions is standard equational reasoning.\n",
    "\n",
    "Let’s try this out on a simple example.\n"
   ]
  },
  {
   "cell_type": "code",
   "execution_count": 48,
   "id": "01cd9375-ad3f-4dee-a996-5ce18e11d9ee",
   "metadata": {},
   "outputs": [],
   "source": [
    "a = 3\n",
    "b = 4\n",
    "f :: Integer -> Integer -> Integer\n",
    "f x y = x^2 + y^2"
   ]
  },
  {
   "cell_type": "markdown",
   "id": "0aa9dbc5-a9cc-43bc-9a6b-211069be69f3",
   "metadata": {},
   "source": [
    "To evaluate `f a (f a b)` by equational reasoning, we can proceed as follows:\n",
    "\n",
    "$$\n",
    "\\begin{align}\n",
    "f a \\; \\left(f \\; a \\; b\\right) \n",
    "                      &= f \\; a \\left(a^2 + b^2\\right ) \\\\\n",
    "                      &= f \\; 3 \\; \\left(3^2 + 4^2\\right) \\\\\n",
    "                      &= f \\; 3 \\; \\left(9 + 16\\right) \\\\\n",
    "                      &= f \\; 3 \\; 25 \\\\\n",
    "                      &= 3^2 + 25^2 \\\\\n",
    "                      &= 9 + 625 \\\\\n",
    "                      &= 634\n",
    "\\end{align}\n",
    "$$"
   ]
  },
  {
   "cell_type": "markdown",
   "id": "5f67f17e-b741-4912-950c-1b7a94fdd4f1",
   "metadata": {},
   "source": [
    "The rewriting steps use standard mathematical laws and the Haskell definitions of `a`, `b`, `f` . And, in fact, when running the program we get the same outcome:"
   ]
  },
  {
   "cell_type": "code",
   "execution_count": 49,
   "id": "f6ff99dd-2bf0-4261-b654-1acfaa67b89a",
   "metadata": {},
   "outputs": [
    {
     "data": {
      "text/plain": [
       "634"
      ]
     },
     "metadata": {},
     "output_type": "display_data"
    }
   ],
   "source": [
    "f a (f a b)"
   ]
  },
  {
   "cell_type": "markdown",
   "id": "8b2249b7-45b7-4737-a169-b3cfcff59747",
   "metadata": {},
   "source": [
    "**Remark** We already encountered definitions where the function that is being defined occurs on the right hand side of an equation in the definition. Here is another example:\n",
    "\n",
    "\n",
    "**TODO** This is not valid haskell code. Was this intended?\n",
    "\n",
    "```haskell\n",
    "g :: Integer -> Integer\n",
    "g 0 = 0\n",
    "g (x+1) = 2 * (g x)\n",
    "```"
   ]
  },
  {
   "cell_type": "markdown",
   "id": "8c47d21c-13a3-4b69-81b9-4b8dbecfc8c7",
   "metadata": {},
   "source": [
    "Not everything that is allowed by the Haskell syntax makes semantic sense, however. The following definitions, although syntactically correct, do not properly define functions:\n"
   ]
  },
  {
   "cell_type": "code",
   "execution_count": 54,
   "id": "404910b3-0511-4490-997e-215a77c0a8bb",
   "metadata": {},
   "outputs": [],
   "source": [
    "{- HLINT ignore \"Redundant bracket\" -}\n",
    "h1 :: Integer -> Integer\n",
    "h1 0 = 0\n",
    "h1 x = 2 * (h1 x)\n",
    "\n",
    "h2 :: Integer -> Integer\n",
    "h2 0 = 0\n",
    "h2 x = h2 (x+1)"
   ]
  },
  {
   "cell_type": "markdown",
   "id": "1c0be8cb-420b-404b-a04a-15f9478ee58b",
   "metadata": {},
   "source": [
    "The problem is that for values other than 0 the definitions do not give recipes for computing a value. This matter will be taken up in Chapter 7."
   ]
  },
  {
   "cell_type": "markdown",
   "id": "eb4ab093-a07b-4a58-91ce-09dfb200ad35",
   "metadata": {},
   "source": [
    "## 1.10 Further Reading\n",
    "\n",
    "The standard Haskell operations are defined in the file `Prelude.hs`, which can be found [here](https://hackage.haskell.org/package/base-4.20.0.1/docs/Prelude.html).\n",
    "\n",
    "In case Exercise 1.19 has made you curious, the definitions of these example functions can all be found in `Prelude.hs`. If you want to quickly learn a lot about how to program in Haskell, you should get into the habit of consulting this file regularly. The definitions of all the standard operations are open source code, and are there for you to learn from. The Haskell Prelude may be a bit difficult to read at first, but you will soon get used to the syntax and acquire a taste for the style.\n",
    "\n",
    "Various tutorials on Haskell and Hugs can be found on the Internet: see e.g. **TODO** appropriate links."
   ]
  },
  {
   "cell_type": "code",
   "execution_count": null,
   "id": "54c23009-2747-45bb-b52c-cb1c9a5452e1",
   "metadata": {},
   "outputs": [],
   "source": []
  }
 ],
 "metadata": {
  "kernelspec": {
   "display_name": "Haskell",
   "language": "haskell",
   "name": "haskell"
  },
  "language_info": {
   "codemirror_mode": "ihaskell",
   "file_extension": ".hs",
   "mimetype": "text/x-haskell",
   "name": "haskell",
   "pygments_lexer": "Haskell",
   "version": "9.6.4"
  }
 },
 "nbformat": 4,
 "nbformat_minor": 5
}
