{
 "cells": [
  {
   "cell_type": "markdown",
   "id": "685c05d1",
   "metadata": {},
   "source": [
    "From Greg Michaelson (1989), An introduction to functional programming through the lambda calculus p16-19\n",
    "\n",
    "We will try to get a feel for abstraction through a somewhat contrived example. Consider buying 9 items at 10 pence each. The total cost is"
   ]
  },
  {
   "cell_type": "markdown",
   "id": "8be781fa",
   "metadata": {},
   "source": [
    "__First Step__"
   ]
  },
  {
   "cell_type": "code",
   "execution_count": null,
   "id": "00743c54",
   "metadata": {},
   "outputs": [
    {
     "data": {
      "text/plain": [
       "90"
      ]
     },
     "metadata": {},
     "output_type": "display_data"
    }
   ],
   "source": [
    "10*9"
   ]
  },
  {
   "cell_type": "markdown",
   "id": "91d80c6a",
   "metadata": {},
   "source": [
    "Here, we are carrying out the concrete operation of _multiplication_ on the concrete values 10 and 9. Now consider buying 11 items at 10 pence each. The total cost is "
   ]
  },
  {
   "cell_type": "code",
   "execution_count": null,
   "id": "a1d5bd39",
   "metadata": {},
   "outputs": [
    {
     "data": {
      "text/plain": [
       "110"
      ]
     },
     "metadata": {},
     "output_type": "display_data"
    }
   ],
   "source": [
    "10*11"
   ]
  },
  {
   "cell_type": "markdown",
   "id": "027e18b0",
   "metadata": {},
   "source": [
    "__Second Step__"
   ]
  },
  {
   "cell_type": "markdown",
   "id": "9965501f",
   "metadata": {},
   "source": [
    "Here we have carried out the concrete operation of _multiplication_ on the concrete values 10 and 11. We can see that as the number of items changes the so the formula for the total cost changes at the place where the number of items appears. We can **abstract over** the number of items in the formula by introducing a name to stand for a general number of items, say **items**"
   ]
  },
  {
   "cell_type": "markdown",
   "id": "50bfac77",
   "metadata": {},
   "source": [
    "    10 * items"
   ]
  },
  {
   "cell_type": "markdown",
   "id": "47e17be0",
   "metadata": {},
   "source": [
    "We might make this abstraction explicit by preceding the formula with the name used for abstraction"
   ]
  },
  {
   "cell_type": "markdown",
   "id": "d7226926",
   "metadata": {},
   "source": [
    "    replace items in 10 * items"
   ]
  },
  {
   "cell_type": "markdown",
   "id": "66478ca2",
   "metadata": {},
   "source": [
    "Here, we have abstracted over an operand in the formula. To evaluate this abstraction we need to supply a _value_ for the name. For example 84 items:"
   ]
  },
  {
   "cell_type": "code",
   "execution_count": null,
   "id": "2ceaf20c",
   "metadata": {},
   "outputs": [
    {
     "data": {
      "text/plain": [
       "840"
      ]
     },
     "metadata": {},
     "output_type": "display_data"
    }
   ],
   "source": [
    "let items = 84 in 10 * items"
   ]
  },
  {
   "cell_type": "markdown",
   "id": "f99b260c",
   "metadata": {},
   "source": [
    "__Third Step__"
   ]
  },
  {
   "cell_type": "markdown",
   "id": "2c35d0d2",
   "metadata": {},
   "source": [
    "We have made a **function** from the formula by replacing an object (11) with a name (items) and identifying (let..) the name that we have used. We have then **evaluated** the function by replacing the name in the formula with a new object (84) and evaluating the resulting formula."
   ]
  },
  {
   "cell_type": "markdown",
   "id": "f75cb4eb",
   "metadata": {},
   "source": [
    "Let us use abstraction again to generalise our example further. Suppose the cost of items goes up to 11 pence. Now the total cost of items is"
   ]
  },
  {
   "cell_type": "markdown",
   "id": "038d793a",
   "metadata": {},
   "source": [
    "    replace items in 11 * items"
   ]
  },
  {
   "cell_type": "markdown",
   "id": "22cfc66a",
   "metadata": {},
   "source": [
    "Suppose the cost of items drops to 9 pence. Now the total cost of items is"
   ]
  },
  {
   "cell_type": "markdown",
   "id": "54ec6303",
   "metadata": {},
   "source": [
    "    replace items in 9 * items"
   ]
  },
  {
   "cell_type": "markdown",
   "id": "7cc79920",
   "metadata": {},
   "source": [
    "Because of the cost changes, we could also introduce a name to stand for the cost in general, say **cost**"
   ]
  },
  {
   "cell_type": "markdown",
   "id": "3a2711a2",
   "metadata": {},
   "source": [
    "    replace cost in\n",
    "      replace items in cost*items"
   ]
  },
  {
   "cell_type": "markdown",
   "id": "7ec82503",
   "metadata": {},
   "source": [
    "Here we have abstracted over two operands in the formula. To evaluate the abstraction, we need to supply two values. For example, 12 items at 32 pence will have total cost"
   ]
  },
  {
   "cell_type": "code",
   "execution_count": null,
   "id": "01156043",
   "metadata": {},
   "outputs": [
    {
     "data": {
      "text/plain": [
       "384"
      ]
     },
     "metadata": {},
     "output_type": "display_data"
    }
   ],
   "source": [
    "let cost = 32 in \n",
    "    let items = 12 in cost*items"
   ]
  },
  {
   "cell_type": "markdown",
   "id": "85a4d339",
   "metadata": {},
   "source": [
    "which is"
   ]
  },
  {
   "cell_type": "code",
   "execution_count": null,
   "id": "0b3cef94",
   "metadata": {},
   "outputs": [
    {
     "data": {
      "text/plain": [
       "384"
      ]
     },
     "metadata": {},
     "output_type": "display_data"
    }
   ],
   "source": [
    "let items = 12 in 32 * items"
   ]
  },
  {
   "cell_type": "markdown",
   "id": "c5ecfd13",
   "metadata": {},
   "source": [
    "which is "
   ]
  },
  {
   "cell_type": "code",
   "execution_count": null,
   "id": "f522928b",
   "metadata": {},
   "outputs": [
    {
     "data": {
      "text/plain": [
       "384"
      ]
     },
     "metadata": {},
     "output_type": "display_data"
    }
   ],
   "source": [
    "32*12"
   ]
  },
  {
   "cell_type": "markdown",
   "id": "35d2a151",
   "metadata": {},
   "source": [
    "For example, 25 items at 15 pence will have total cost:"
   ]
  },
  {
   "cell_type": "code",
   "execution_count": null,
   "id": "d127f85e",
   "metadata": {},
   "outputs": [
    {
     "data": {
      "text/plain": [
       "375"
      ]
     },
     "metadata": {},
     "output_type": "display_data"
    }
   ],
   "source": [
    "let cost = 15 in \n",
    "    let items = 25 in cost*items"
   ]
  },
  {
   "cell_type": "markdown",
   "id": "a9727728",
   "metadata": {},
   "source": [
    "which is"
   ]
  },
  {
   "cell_type": "code",
   "execution_count": null,
   "id": "c9a6a02a",
   "metadata": {},
   "outputs": [
    {
     "data": {
      "text/plain": [
       "375"
      ]
     },
     "metadata": {},
     "output_type": "display_data"
    }
   ],
   "source": [
    "let items = 25 in 15*items"
   ]
  },
  {
   "cell_type": "markdown",
   "id": "74234420",
   "metadata": {},
   "source": [
    "which is "
   ]
  },
  {
   "cell_type": "code",
   "execution_count": null,
   "id": "ef502f9b",
   "metadata": {},
   "outputs": [
    {
     "data": {
      "text/plain": [
       "375"
      ]
     },
     "metadata": {},
     "output_type": "display_data"
    }
   ],
   "source": [
    "15*25"
   ]
  },
  {
   "cell_type": "markdown",
   "id": "4aeb1ecd",
   "metadata": {},
   "source": [
    "__Fourth Step__"
   ]
  },
  {
   "cell_type": "markdown",
   "id": "8db26135",
   "metadata": {},
   "source": [
    "Suppose now we want to solve a different problem. We are given the total cost and the number of items and we want to find out how much each item costs. For example, if 12 items cost 144 pence, then each one costs"
   ]
  },
  {
   "cell_type": "code",
   "execution_count": null,
   "id": "6ab9403f",
   "metadata": {},
   "outputs": [
    {
     "data": {
      "text/plain": [
       "12.0"
      ]
     },
     "metadata": {},
     "output_type": "display_data"
    }
   ],
   "source": [
    "144 / 12"
   ]
  },
  {
   "cell_type": "markdown",
   "id": "0b01aa6c",
   "metadata": {},
   "source": [
    "If 15 items cost 45 cents then each item costs"
   ]
  },
  {
   "cell_type": "code",
   "execution_count": null,
   "id": "db052aee",
   "metadata": {},
   "outputs": [
    {
     "data": {
      "text/plain": [
       "3.0"
      ]
     },
     "metadata": {},
     "output_type": "display_data"
    }
   ],
   "source": [
    "45/15"
   ]
  },
  {
   "cell_type": "markdown",
   "id": "7e995e4c",
   "metadata": {},
   "source": [
    "In general, if items cost **cost** pennies each then each item costs"
   ]
  },
  {
   "cell_type": "markdown",
   "id": "4bf55681",
   "metadata": {},
   "source": [
    "    replace cost in\n",
    "      replace items in cost / items"
   ]
  },
  {
   "cell_type": "markdown",
   "id": "b3dc7e3a",
   "metadata": {},
   "source": [
    "Now compare this with the formula for finding a total cost"
   ]
  },
  {
   "cell_type": "markdown",
   "id": "ec86f267",
   "metadata": {},
   "source": [
    "    replace cost in\n",
    "      replace items in cost * items"
   ]
  },
  {
   "cell_type": "markdown",
   "id": "a4b50fa4",
   "metadata": {},
   "source": [
    "They are the same except for the operation '/' in finding the cost of each item and '*' in finding the cost of all the items. We have two **instances** of a problem involving the application of an operation to two operands. \n",
    "\n",
    "We could generalise these instances by introducing a name, say **op** where the operation is used."
   ]
  },
  {
   "cell_type": "markdown",
   "id": "6daeb66a",
   "metadata": {},
   "source": [
    "    replace op in \n",
    "      replace cost in\n",
    "        replace items in cost op items"
   ]
  },
  {
   "cell_type": "markdown",
   "id": "61582da9",
   "metadata": {},
   "source": [
    "Finding the total will now require the replacement of the operation name with the concrete operation name:"
   ]
  },
  {
   "cell_type": "code",
   "execution_count": null,
   "id": "7050215f",
   "metadata": {},
   "outputs": [
    {
     "data": {
      "text/plain": [
       "375"
      ]
     },
     "metadata": {},
     "output_type": "display_data"
    }
   ],
   "source": [
    "let op = (*) in \n",
    "    let cost = 15 in\n",
    "       let items = 25 in op cost items"
   ]
  },
  {
   "cell_type": "code",
   "execution_count": null,
   "id": "80435577",
   "metadata": {},
   "outputs": [
    {
     "data": {
      "text/plain": [
       "12.0"
      ]
     },
     "metadata": {},
     "output_type": "display_data"
    }
   ],
   "source": [
    "let op = (/) in \n",
    "    let cost = 144 in\n",
    "       let items = 12 in op cost items"
   ]
  },
  {
   "cell_type": "markdown",
   "id": "f09d59dc",
   "metadata": {},
   "source": [
    "Note that Haskell allows two equivalent forms for application of the binary operations * (/). As an infix operator a * b, and as function application (*) a b. They have the same result."
   ]
  },
  {
   "cell_type": "markdown",
   "id": "db6fe642",
   "metadata": {},
   "source": [
    "Care must be taken with generalisation and specialisation to ensure that names are replaced by objects and operations of appropriate types. In the above examples, the operand names must be replaced by numbers and the operator name must be replaced by an operation with two number arguments."
   ]
  },
  {
   "cell_type": "markdown",
   "id": "53420bf2",
   "metadata": {},
   "source": [
    "## Exercise \n",
    "\n",
    "Solve this puzzle:\n",
    "\n",
    "<img src=\"images/Calcrunch.png\" width=\"800\"/>"
   ]
  },
  {
   "cell_type": "code",
   "execution_count": null,
   "id": "2d2aa33d",
   "metadata": {},
   "outputs": [
    {
     "data": {
      "text/plain": [
       "75.0"
      ]
     },
     "metadata": {},
     "output_type": "display_data"
    }
   ],
   "source": [
    "5 * 2.5* 3 * 0.5 * 2 * 0.4 * 5"
   ]
  },
  {
   "cell_type": "code",
   "execution_count": null,
   "id": "14278f7d",
   "metadata": {},
   "outputs": [],
   "source": []
  }
 ],
 "metadata": {
  "kernelspec": {
   "display_name": "Haskell",
   "language": "haskell",
   "name": "haskell"
  },
  "language_info": {
   "codemirror_mode": "ihaskell",
   "file_extension": ".hs",
   "mimetype": "text/x-haskell",
   "name": "haskell",
   "pygments_lexer": "Haskell",
   "version": "9.6.4"
  }
 },
 "nbformat": 4,
 "nbformat_minor": 5
}
