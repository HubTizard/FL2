{
 "cells": [
  {
   "cell_type": "markdown",
   "id": "d37e015f",
   "metadata": {},
   "source": [
    "# Console IO\n",
    "\n",
    "In this exercise we explore string-based input/output operations using console operations. \n",
    "\n",
    "https://play.haskell.org/ will allow you to write code to the console (but not read)\n",
    "\n",
    "Gchi locally (or remotely by remixing an instance of https://replit.com/@sociality/FL4-Haskell-Template#FL.hs) will allow reading and writing from the console. \n",
    "\n",
    "The discussion is derived from https://www.scs.stanford.edu/16wi-cs240h/slides/basics.html"
   ]
  },
  {
   "cell_type": "markdown",
   "id": "19f4eb43",
   "metadata": {},
   "source": [
    "### Modules \n",
    "\n",
    "Haskell groups top-level name bindings into modules. \n",
    "\n",
    "Our default module name is FL.hs, which contains the main function. \n",
    "\n",
    "`main` is of type `IO ()`\n",
    "\n",
    "- `()` is the __unit type__, a type with only one value (). \n",
    "\n",
    "- `IO ()` is an __IO action__ that when executed performs some effect in the world and returns ()."
   ]
  },
  {
   "cell_type": "code",
   "execution_count": 8,
   "id": "2a1daaad",
   "metadata": {},
   "outputs": [
    {
     "ename": "",
     "evalue": "",
     "output_type": "error",
     "traceback": [
      "<interactive>:2:8: error: [GHC-82311] Empty 'do' block"
     ]
    }
   ],
   "source": [
    "-- the main function consists of a sequence of IO actions wrapped up in do syntax\n",
    "main :: IO ()\n",
    "main = do\n",
    "-- insert do block (indented)"
   ]
  },
  {
   "cell_type": "code",
   "execution_count": 11,
   "id": "f5a0a75b",
   "metadata": {},
   "outputs": [
    {
     "data": {
      "text/plain": [
       "Hello, Haskell Curry!"
      ]
     },
     "metadata": {},
     "output_type": "display_data"
    }
   ],
   "source": [
    "-- make this a do block and run the code\n",
    "  let name = \"Haskell Curry\"  -- make comment in read/write environments\n",
    "--    putStrLn \"What is your name?\" -- uncomment for read/write enviroments\n",
    "--    name <- getLine -- uncomment for readl/writ enviroments\n",
    "  putStrLn (\"Hello, \" ++ name ++ \"!\")"
   ]
  },
  {
   "cell_type": "markdown",
   "id": "630e6915",
   "metadata": {},
   "source": [
    "`getLine`, which is like scanf in C or input in Python, provides a stdin/stdout interface.\n",
    "\n",
    "Comment out line 1 and uncomment lines 3 and 4 above, run the program (or load it into ghci) execute the `main` function and type in some text at the prompt followed by pressing the enter key. \n",
    "\n",
    "In replit the FL.hs tab shows the code\n",
    "\n",
    " ![](images/FL.png)\n",
    " \n",
    "and the Console log is\n",
    "\n",
    " ![](images/Console.png)"
   ]
  },
  {
   "cell_type": "markdown",
   "id": "d9adb61d",
   "metadata": {},
   "source": [
    "As we have seen, you can sequence IO operations with the `do` construct.\n",
    "\n",
    "Values are bound to variables using the left arrow `<-`. \n",
    "\n",
    "We could read this as `x` gets a value from `getLine`. \n",
    "\n",
    "Be aware that you cannot use the standard assignment (with the equals operator) for `getLine` since it is an IO action. Once we have got a value from `getLine`, and bound it to a variable, then we can do standard function calls on this value, and bind it to another variable. \n",
    "\n",
    "For instance, let's turn a name into upper case:\n",
    "`do { putStrLn \"what is your name?\"; n<-getLine; let nUpper = map toUpper n in putStrLn nUpper}`, \n",
    "\n",
    "This code needs to import the `toUpper` library function as shown below:"
   ]
  },
  {
   "cell_type": "code",
   "execution_count": null,
   "id": "a5fa7b34",
   "metadata": {},
   "outputs": [],
   "source": [
    "-- For example load this file into gchi or edit the repl.it link above\n",
    "import Data.Char\n",
    "main :: IO ()\n",
    "main = do\n",
    "   putStrLn \"what is your name?\"\n",
    "   n<-getLine\n",
    "   let nUpper = map toUpper n in putStrLn nUpper"
   ]
  },
  {
   "cell_type": "markdown",
   "id": "253aa74d",
   "metadata": {},
   "source": [
    "### Beneath the hood\n",
    "\n",
    "The greeting task requires some impure (non-functional) actions\n",
    "\n",
    "#### Reading and writing a file handle\n",
    "\n",
    "A do block lets you sequence IO actions. In a do block:\n",
    "`pat <- action` - binds `pat` (a variable or constructor pattern) to the result of executing an IO action\n",
    "\n",
    "`let pat = pure-value` - binds `pat` to `pure-value` (no `“in …”` required)\n",
    "\n",
    " `action` - executes `action` and discards the result, or `returns` it if at end of block\n",
    "\n",
    "GHCI input is like a `do` block (i.e., can use `<-`, but needs `let` for bindings)\n",
    "`do/let/case` won’t parse after a prefix function. You can say `func (do …)`\n",
    "\n",
    "#### What are the types of IO actions?\n",
    "\n",
    "`main :: IO ()`\n",
    "\n",
    "`greet :: Handle -> IO ()`\n",
    "\n",
    "`hPutStrLn :: Handle -> String -> IO ()`\n",
    "\n",
    "`hGetLine :: Handle -> IO String`\n",
    "\n",
    "`IO` is a parameterised type (just as `Maybe` is parameterised)\n",
    "\n",
    "`IO String` means an `IO action` that produces a `String` if executed\n",
    "\n",
    "Unlike `Maybe`, we won’t use a constructor for `IO`, which is somewhat magic\n",
    "What if we try to copy a line of input as follows?\n",
    "\n",
    "\n",
    "\n",
    "`main = hPutStrLn stdout` (`hGetLine stdin`)\n",
    "\n",
    "\n",
    "Oops, `hPutStrLn` expects type `String`, while `hGetLine` returns an `IO String`\n",
    "\n",
    "How to de-construct an `IO [String]` to get a `[String]`\n",
    "\n",
    "We can’t use case, because we don’t have a constructor for `IO` \n",
    "\n",
    "Besides, the order and number of deconstructions of something like `hPutStr` matters\n",
    "\n",
    "That’s the point of the <- operator in do blocks!\n",
    "\n",
    "Simon Peyton Jones's data flow diagrams illustrate the process:\n",
    "\n",
    " ![](images/io1.png)\n",
    " \n",
    " \n",
    "  ![](images/io2.png)"
   ]
  },
  {
   "cell_type": "markdown",
   "id": "610d916c",
   "metadata": {},
   "source": [
    "And that's the end of this exercise.\n",
    "Well done, you have completed another Haskell tutorial!.\n",
    "Let's recap what we've discovered:\n",
    "- getLine and putstrLn for console input/output\n",
    "- using do to sequence I0 actions <\n",
    "- <- for binding values to variables with IO"
   ]
  },
  {
   "cell_type": "markdown",
   "id": "2f9ccd5d",
   "metadata": {},
   "source": [
    "Copyright (2024-5) Sociality Mathematics CIC, licence CC BY-NC-ND Attribution-NonCommercial-NoDerivs   https://creativecommons.org/licenses/ derived from material Copyright University of Glasgow."
   ]
  }
 ],
 "metadata": {
  "kernelspec": {
   "display_name": "Haskell",
   "language": "haskell",
   "name": "haskell"
  },
  "language_info": {
   "codemirror_mode": "ihaskell",
   "file_extension": ".hs",
   "mimetype": "text/x-haskell",
   "name": "haskell",
   "pygments_lexer": "Haskell",
   "version": "9.6.4"
  }
 },
 "nbformat": 4,
 "nbformat_minor": 5
}
