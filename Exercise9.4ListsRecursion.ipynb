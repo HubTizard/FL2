{
 "cells": [
  {
   "cell_type": "markdown",
   "id": "8010a903",
   "metadata": {},
   "source": [
    "# Exercise 9.4 Computing With Lists and Recursion\n",
    "\n",
    "There are two approaches to working with lists:\n",
    "- Write functions to do what you want, using recursive definitions that traverse the list structure.\n",
    "- Write combinations of the standard list processing functions.\n",
    "\n",
    "The second approach is preferred, but the standard list processing functions do need to be defined, and those definitions use the first approach (recursive definitions). We'll cover both"
   ]
  },
  {
   "cell_type": "markdown",
   "id": "d18f14aa",
   "metadata": {},
   "source": [
    "## Recursion on lists\n",
    "\n",
    "As we have already seen, a list is built from the empty list `[]` and the function cons or in operator form `(:)`.\n",
    "Every list must be either `[]` or\n",
    "`(x:xs)` for some `x` (the head of the list) and `xs` (the tail). where `(x:xs)` is an alternative syntax for `cons x xs`\n",
    "The recursive definition follows the structure of the data:\n",
    "Base case of the recursion is `[]`\n",
    "Recursion (or induction) case is `(x: xs)`.\n",
    "\n",
    "However, in order to create such recursive definitions, we must first see how we can create conditional functions: functions that define both the base case and the induction case."
   ]
  },
  {
   "cell_type": "markdown",
   "id": "a7df4ff5",
   "metadata": {},
   "source": [
    "## Defining conditional functions\n",
    "\n",
    "In Haskell, there are several ways to define conditional functions. The easiest way is to write a definition for each case, as is done in the notes, e.g."
   ]
  },
  {
   "cell_type": "code",
   "execution_count": null,
   "id": "82bd0c83",
   "metadata": {},
   "outputs": [],
   "source": [
    "length [] = 0\n",
    "length x:xs = 1 + length xs"
   ]
  },
  {
   "cell_type": "code",
   "execution_count": 2,
   "id": "a0bd5c66",
   "metadata": {},
   "outputs": [
    {
     "data": {
      "text/html": [
       "<style>/* Styles used for the Hoogle display in the pager */\n",
       ".hoogle-doc {\n",
       "display: block;\n",
       "padding-bottom: 1.3em;\n",
       "padding-left: 0.4em;\n",
       "}\n",
       ".hoogle-code {\n",
       "display: block;\n",
       "font-family: monospace;\n",
       "white-space: pre;\n",
       "}\n",
       ".hoogle-text {\n",
       "display: block;\n",
       "}\n",
       ".hoogle-name {\n",
       "color: green;\n",
       "font-weight: bold;\n",
       "}\n",
       ".hoogle-head {\n",
       "font-weight: bold;\n",
       "}\n",
       ".hoogle-sub {\n",
       "display: block;\n",
       "margin-left: 0.4em;\n",
       "}\n",
       ".hoogle-package {\n",
       "font-weight: bold;\n",
       "font-style: italic;\n",
       "}\n",
       ".hoogle-module {\n",
       "font-weight: bold;\n",
       "}\n",
       ".hoogle-class {\n",
       "font-weight: bold;\n",
       "}\n",
       "\n",
       ".get-type {\n",
       "color: green;\n",
       "font-weight: bold;\n",
       "font-family: monospace;\n",
       "display: block;\n",
       "white-space: pre-wrap;\n",
       "}\n",
       ".show-type {\n",
       "color: green;\n",
       "font-weight: bold;\n",
       "font-family: monospace;\n",
       "margin-left: 1em;\n",
       "}\n",
       ".mono {\n",
       "font-family: monospace;\n",
       "display: block;\n",
       "}\n",
       ".err-msg {\n",
       "color: red;\n",
       "font-style: italic;\n",
       "font-family: monospace;\n",
       "white-space: pre;\n",
       "display: block;\n",
       "}\n",
       "#unshowable {\n",
       "color: red;\n",
       "font-weight: bold;\n",
       "}\n",
       ".err-msg.in.collapse {\n",
       "padding-top: 0.7em;\n",
       "}\n",
       "\n",
       ".highlight-code {\n",
       "white-space: pre;\n",
       "font-family: monospace;\n",
       "}\n",
       "\n",
       ".suggestion-warning { \n",
       "font-weight: bold;\n",
       "color: rgb(200, 130, 0);\n",
       "}\n",
       ".suggestion-error { \n",
       "font-weight: bold;\n",
       "color: red;\n",
       "}\n",
       ".suggestion-name {\n",
       "font-weight: bold;\n",
       "}\n",
       "\n",
       "</style><div class=\"suggestion-name\" style=\"clear:both;\">Use null</div><div class=\"suggestion-row\" style=\"float: left;\"><div class=\"suggestion-warning\">Found:</div><div class=\"highlight-code\" id=\"haskell\">lst == []</div></div><div class=\"suggestion-row\" style=\"float: left;\"><div class=\"suggestion-warning\">Why Not:</div><div class=\"highlight-code\" id=\"haskell\">null lst</div></div>"
      ],
      "text/plain": [
       "Line 3: Use null\n",
       "Found:\n",
       "lst == []\n",
       "Why not:\n",
       "null lst"
      ]
     },
     "metadata": {},
     "output_type": "display_data"
    }
   ],
   "source": [
    "-- There are other ways. The most straightforward is to use an if-then-else expression：\n",
    "length lst =\n",
    " if lst == []\n",
    " then 0\n",
    " else let x:xs = lst in 1 + length xs"
   ]
  },
  {
   "cell_type": "code",
   "execution_count": 4,
   "id": "6a0d6e58",
   "metadata": {},
   "outputs": [
    {
     "data": {
      "text/html": [
       "<style>/* Styles used for the Hoogle display in the pager */\n",
       ".hoogle-doc {\n",
       "display: block;\n",
       "padding-bottom: 1.3em;\n",
       "padding-left: 0.4em;\n",
       "}\n",
       ".hoogle-code {\n",
       "display: block;\n",
       "font-family: monospace;\n",
       "white-space: pre;\n",
       "}\n",
       ".hoogle-text {\n",
       "display: block;\n",
       "}\n",
       ".hoogle-name {\n",
       "color: green;\n",
       "font-weight: bold;\n",
       "}\n",
       ".hoogle-head {\n",
       "font-weight: bold;\n",
       "}\n",
       ".hoogle-sub {\n",
       "display: block;\n",
       "margin-left: 0.4em;\n",
       "}\n",
       ".hoogle-package {\n",
       "font-weight: bold;\n",
       "font-style: italic;\n",
       "}\n",
       ".hoogle-module {\n",
       "font-weight: bold;\n",
       "}\n",
       ".hoogle-class {\n",
       "font-weight: bold;\n",
       "}\n",
       "\n",
       ".get-type {\n",
       "color: green;\n",
       "font-weight: bold;\n",
       "font-family: monospace;\n",
       "display: block;\n",
       "white-space: pre-wrap;\n",
       "}\n",
       ".show-type {\n",
       "color: green;\n",
       "font-weight: bold;\n",
       "font-family: monospace;\n",
       "margin-left: 1em;\n",
       "}\n",
       ".mono {\n",
       "font-family: monospace;\n",
       "display: block;\n",
       "}\n",
       ".err-msg {\n",
       "color: red;\n",
       "font-style: italic;\n",
       "font-family: monospace;\n",
       "white-space: pre;\n",
       "display: block;\n",
       "}\n",
       "#unshowable {\n",
       "color: red;\n",
       "font-weight: bold;\n",
       "}\n",
       ".err-msg.in.collapse {\n",
       "padding-top: 0.7em;\n",
       "}\n",
       "\n",
       ".highlight-code {\n",
       "white-space: pre;\n",
       "font-family: monospace;\n",
       "}\n",
       "\n",
       ".suggestion-warning { \n",
       "font-weight: bold;\n",
       "color: rgb(200, 130, 0);\n",
       "}\n",
       ".suggestion-error { \n",
       "font-weight: bold;\n",
       "color: red;\n",
       "}\n",
       ".suggestion-name {\n",
       "font-weight: bold;\n",
       "}\n",
       "\n",
       "</style><div class=\"suggestion-name\" style=\"clear:both;\">Use null</div><div class=\"suggestion-row\" style=\"float: left;\"><div class=\"suggestion-warning\">Found:</div><div class=\"highlight-code\" id=\"haskell\">lst == []</div></div><div class=\"suggestion-row\" style=\"float: left;\"><div class=\"suggestion-warning\">Why Not:</div><div class=\"highlight-code\" id=\"haskell\">null lst</div></div>"
      ],
      "text/plain": [
       "Line 3: Use null\n",
       "Found:\n",
       "lst == []\n",
       "Why not:\n",
       "null lst"
      ]
     },
     "metadata": {},
     "output_type": "display_data"
    }
   ],
   "source": [
    "-- Alternatively, you can use what is known as \"guards\", e.g.\n",
    "length lst\n",
    " | lst == [] = 0\n",
    " | otherwise = let x:xs = lst in 1 + length xs"
   ]
  },
  {
   "cell_type": "markdown",
   "id": "481ddce9",
   "metadata": {},
   "source": [
    "This is particularly useful if you have many conditions (similar to a \"case\" statement in other languages)\n",
    "\n",
    "Finally, you can use multi-line functions using the where-clause and semicolons:"
   ]
  },
  {
   "cell_type": "code",
   "execution_count": null,
   "id": "469746c5",
   "metadata": {},
   "outputs": [],
   "source": [
    "f=f' where f' 1 = 0; f' x = x + f' (x-1)"
   ]
  },
  {
   "cell_type": "markdown",
   "id": "cd4b9076",
   "metadata": {},
   "source": [
    "All of these can be written on a single line so you can use them in the web-based environment. So go ahead and define your own length function, and try it out with `length ['a','c' .. 'w']`"
   ]
  },
  {
   "cell_type": "markdown",
   "id": "bfc4caf0",
   "metadata": {},
   "source": [
    "### Recursive definition example: `filter`\n",
    "The function `filter` is given a predicate (a function that gives a Boolean result) and a list, and returns a list of the elements that satisfy the predicate.\n",
    "Filtering is useful for the \"generate and test\" programming paradigm.\n",
    "Try this `filter (<5) [3,9,2,12,6,4]` - > [3,2,4] or create your own."
   ]
  },
  {
   "cell_type": "code",
   "execution_count": 5,
   "id": "38b54ec9",
   "metadata": {},
   "outputs": [
    {
     "data": {
      "text/plain": [
       "[3,2,4]"
      ]
     },
     "metadata": {},
     "output_type": "display_data"
    }
   ],
   "source": [
    "filter (<5) [3,9,2,12,6,4]"
   ]
  },
  {
   "cell_type": "markdown",
   "id": "fefa109a",
   "metadata": {},
   "source": [
    "Well done, your filter function works correctly!\n",
    "A possible recursive definition"
   ]
  },
  {
   "cell_type": "code",
   "execution_count": 12,
   "id": "1f5defe3",
   "metadata": {},
   "outputs": [],
   "source": [
    "filter pred lst\n",
    " | null lst = []\n",
    " | otherwise = if pred x\n",
    "               then x:filter pred xs \n",
    "               else filter pred xs \n",
    "                  where x:xs=lst"
   ]
  },
  {
   "cell_type": "code",
   "execution_count": 13,
   "id": "2bd55201",
   "metadata": {},
   "outputs": [],
   "source": [
    "-- or on a single line\n",
    "filter pred lst | null lst = [] | otherwise = if pred x then x:filter pred xs else filter pred xs where x:xs=lst"
   ]
  },
  {
   "cell_type": "code",
   "execution_count": null,
   "id": "a351a0f0",
   "metadata": {},
   "outputs": [],
   "source": []
  },
  {
   "cell_type": "markdown",
   "id": "a27dacbd",
   "metadata": {},
   "source": [
    "And that's the end of this exercise.\n",
    "Well done, another Haskell tutorial finished!.\n",
    "Let's recap what we've learned:\n",
    "-  Computing with lists and recursive functions\n",
    "-  Defining conditional functions in a variety of ways"
   ]
  },
  {
   "cell_type": "markdown",
   "id": "261ba1b0",
   "metadata": {},
   "source": [
    "Copyright Christopher Done (2008-25) and Sociality Mathematics CIC (2025), licence CC BY-NC-ND Attribution-NonCommercial-NoDerivs https://creativecommons.org/licenses/"
   ]
  }
 ],
 "metadata": {
  "kernelspec": {
   "display_name": "Haskell",
   "language": "haskell",
   "name": "haskell"
  },
  "language_info": {
   "codemirror_mode": "ihaskell",
   "file_extension": ".hs",
   "mimetype": "text/x-haskell",
   "name": "haskell",
   "pygments_lexer": "Haskell",
   "version": "9.6.4"
  }
 },
 "nbformat": 4,
 "nbformat_minor": 5
}
