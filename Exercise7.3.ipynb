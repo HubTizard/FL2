{
 "cells": [
  {
   "cell_type": "markdown",
   "id": "d37e015f",
   "metadata": {},
   "source": [
    "# Exercise 7.3: Input/Output Operations\n",
    "\n",
    "We are going to explore how to do simple string-based input/output operations in the iHaskell notebook environment. \n",
    "\n",
    "iHaskell users should clear the outputs in this notebook before proceeding. (Menu command Cell/All Output/Clear)"
   ]
  },
  {
   "cell_type": "markdown",
   "id": "51aacdfe",
   "metadata": {},
   "source": [
    "### Printing Strings\n",
    "The Haskell function to print a character string to the terminal is called putStrLn (like println in Java or print in Python). Try printing a simple message like: putStrLn \"hello world\""
   ]
  },
  {
   "cell_type": "code",
   "execution_count": 1,
   "id": "bd70bd6f",
   "metadata": {},
   "outputs": [
    {
     "data": {
      "text/plain": [
       "hello world"
      ]
     },
     "metadata": {},
     "output_type": "display_data"
    }
   ],
   "source": [
    "putStrLn \"hello world\""
   ]
  },
  {
   "cell_type": "markdown",
   "id": "6d4b72eb",
   "metadata": {},
   "source": [
    "You can concatenate several strings with the `++` operator, and print out one long string -- make sure you put brackets around the code so `putStrLn` prints the entire string. For instance, try `putStrLn (\"good \" ++ \"morning\" ++ \" everyone\")` "
   ]
  },
  {
   "cell_type": "code",
   "execution_count": 12,
   "id": "765bfc5b",
   "metadata": {},
   "outputs": [
    {
     "data": {
      "text/plain": [
       "good morning everyone"
      ]
     },
     "metadata": {},
     "output_type": "display_data"
    }
   ],
   "source": [
    "putStrLn (\"good \" ++ \"morning\" ++ \" everyone\")"
   ]
  },
  {
   "cell_type": "markdown",
   "id": "630e6915",
   "metadata": {},
   "source": [
    "Since iHaskell runs in a Jupyter notebook environment, it doesn't have a traditional stdin/stdout interface.\n",
    "\n",
    "There are a couple of workarounds.\n",
    "- hardcode the input (for testing)\n",
    "- use file I/O instead\n",
    "\n",
    "We illustrate these options below."
   ]
  },
  {
   "cell_type": "code",
   "execution_count": 7,
   "id": "137a9f91",
   "metadata": {},
   "outputs": [
    {
     "data": {
      "text/plain": [
       "Hello, Alice"
      ]
     },
     "metadata": {},
     "output_type": "display_data"
    }
   ],
   "source": [
    "-- hardcoded input (a)\n",
    "let name = \"Alice\"\n",
    "putStrLn (\"Hello, \" ++ name)"
   ]
  },
  {
   "cell_type": "code",
   "execution_count": 8,
   "id": "4aebbef0",
   "metadata": {},
   "outputs": [
    {
     "data": {
      "text/plain": [
       "Hello, Alice"
      ]
     },
     "metadata": {},
     "output_type": "display_data"
    }
   ],
   "source": [
    "-- hardcoded input (b). Note the use of let which is mandatory in a do block\n",
    "do\n",
    "    let name = \"Alice\"  -- instead of getLine\n",
    "    putStrLn (\"Hello, \" ++ name)"
   ]
  },
  {
   "cell_type": "code",
   "execution_count": 5,
   "id": "4828489c",
   "metadata": {},
   "outputs": [
    {
     "data": {
      "text/plain": [
       "test 1234"
      ]
     },
     "metadata": {},
     "output_type": "display_data"
    }
   ],
   "source": [
    "-- use file IO. Visit the Exercise7.3input.txt file in the Directory, edit and save it.\n",
    "do\n",
    "    content <- readFile \"Exercise7.3input.txt\"\n",
    "    putStrLn content"
   ]
  },
  {
   "cell_type": "markdown",
   "id": "376e0f80",
   "metadata": {},
   "source": [
    "### The Read function\n",
    "It is possible to read values as strings, and convert them into other types.\n",
    "This is like the atoi function in C. \n",
    "\n",
    "Try `read \"42\" :: Int` You need the `:: Int` __type annotation__ otherwise it is not clear what type of number the input `String` is meant to represent."
   ]
  },
  {
   "cell_type": "code",
   "execution_count": 8,
   "id": "ac5e9657",
   "metadata": {},
   "outputs": [
    {
     "data": {
      "text/plain": [
       "42"
      ]
     },
     "metadata": {},
     "output_type": "display_data"
    }
   ],
   "source": [
    "read \"42\" :: Int"
   ]
  },
  {
   "cell_type": "markdown",
   "id": "424b430a",
   "metadata": {},
   "source": [
    "See how the string is converted to an Int value?\n",
    "However 42 could also be a floating-point number, try read \"42\":: Float"
   ]
  },
  {
   "cell_type": "code",
   "execution_count": 9,
   "id": "fccbd927",
   "metadata": {},
   "outputs": [
    {
     "data": {
      "text/plain": [
       "42.0"
      ]
     },
     "metadata": {},
     "output_type": "display_data"
    }
   ],
   "source": [
    "read \"42\":: Float"
   ]
  },
  {
   "cell_type": "markdown",
   "id": "8c60a32a",
   "metadata": {},
   "source": [
    "Notice that the returned result has the `Float` type.\n",
    "The `show` function is the dual of the `read` function. `show` takes a value and returns a `String` representation of that value. Try `show 42`"
   ]
  },
  {
   "cell_type": "code",
   "execution_count": null,
   "id": "facdcc67",
   "metadata": {},
   "outputs": [],
   "source": []
  },
  {
   "cell_type": "markdown",
   "id": "1c84cb86",
   "metadata": {},
   "source": [
    "Notice that the returned value has the `String` type. Only some types (those that derive `Show`) can be converted to Strings.\n",
    "\n",
    "The `show` function allows arbitrary values to be printed. Try "
   ]
  },
  {
   "cell_type": "code",
   "execution_count": 11,
   "id": "2666019e",
   "metadata": {},
   "outputs": [
    {
     "data": {
      "text/html": [
       "<style>/* Styles used for the Hoogle display in the pager */\n",
       ".hoogle-doc {\n",
       "display: block;\n",
       "padding-bottom: 1.3em;\n",
       "padding-left: 0.4em;\n",
       "}\n",
       ".hoogle-code {\n",
       "display: block;\n",
       "font-family: monospace;\n",
       "white-space: pre;\n",
       "}\n",
       ".hoogle-text {\n",
       "display: block;\n",
       "}\n",
       ".hoogle-name {\n",
       "color: green;\n",
       "font-weight: bold;\n",
       "}\n",
       ".hoogle-head {\n",
       "font-weight: bold;\n",
       "}\n",
       ".hoogle-sub {\n",
       "display: block;\n",
       "margin-left: 0.4em;\n",
       "}\n",
       ".hoogle-package {\n",
       "font-weight: bold;\n",
       "font-style: italic;\n",
       "}\n",
       ".hoogle-module {\n",
       "font-weight: bold;\n",
       "}\n",
       ".hoogle-class {\n",
       "font-weight: bold;\n",
       "}\n",
       "\n",
       ".get-type {\n",
       "color: green;\n",
       "font-weight: bold;\n",
       "font-family: monospace;\n",
       "display: block;\n",
       "white-space: pre-wrap;\n",
       "}\n",
       ".show-type {\n",
       "color: green;\n",
       "font-weight: bold;\n",
       "font-family: monospace;\n",
       "margin-left: 1em;\n",
       "}\n",
       ".mono {\n",
       "font-family: monospace;\n",
       "display: block;\n",
       "}\n",
       ".err-msg {\n",
       "color: red;\n",
       "font-style: italic;\n",
       "font-family: monospace;\n",
       "white-space: pre;\n",
       "display: block;\n",
       "}\n",
       "#unshowable {\n",
       "color: red;\n",
       "font-weight: bold;\n",
       "}\n",
       ".err-msg.in.collapse {\n",
       "padding-top: 0.7em;\n",
       "}\n",
       "\n",
       ".highlight-code {\n",
       "white-space: pre;\n",
       "font-family: monospace;\n",
       "}\n",
       "\n",
       ".suggestion-warning { \n",
       "font-weight: bold;\n",
       "color: rgb(200, 130, 0);\n",
       "}\n",
       ".suggestion-error { \n",
       "font-weight: bold;\n",
       "color: red;\n",
       "}\n",
       ".suggestion-name {\n",
       "font-weight: bold;\n",
       "}\n",
       "\n",
       "</style><div class=\"suggestion-name\" style=\"clear:both;\">Use print</div><div class=\"suggestion-row\" style=\"float: left;\"><div class=\"suggestion-warning\">Found:</div><div class=\"highlight-code\" id=\"haskell\">putStrLn (show (6 * 7))</div></div><div class=\"suggestion-row\" style=\"float: left;\"><div class=\"suggestion-warning\">Why Not:</div><div class=\"highlight-code\" id=\"haskell\">print (6 * 7)</div></div>"
      ],
      "text/plain": [
       "Line 1: Use print\n",
       "Found:\n",
       "putStrLn (show (6 * 7))\n",
       "Why not:\n",
       "print (6 * 7)"
      ]
     },
     "metadata": {},
     "output_type": "display_data"
    },
    {
     "data": {
      "text/plain": [
       "42"
      ]
     },
     "metadata": {},
     "output_type": "display_data"
    }
   ],
   "source": [
    "putStrLn (show (6*7))"
   ]
  },
  {
   "cell_type": "markdown",
   "id": "61a750bc",
   "metadata": {},
   "source": [
    "In fact, there is a single function called `print` that does the composition of `putStrLn` and `show` and iHaskell helpfully points this out."
   ]
  },
  {
   "cell_type": "markdown",
   "id": "610d916c",
   "metadata": {},
   "source": [
    "And that's the end of this exercise.\n",
    "Well done, you have completed another Haskell tutorial!.\n",
    "Let's recap what we've discovered:\n",
    "- `putStrLn` to write to the notebook\n",
    "- `++` to concatenate strings\n",
    "- `show` and `read` for converting from and to String values"
   ]
  },
  {
   "cell_type": "markdown",
   "id": "cbe44a72",
   "metadata": {},
   "source": [
    "Copyright Christopher Done (2008-25) and Sociality Mathematics CIC (2025), licence CC BY-NC-ND Attribution-NonCommercial-NoDerivs https://creativecommons.org/licenses/"
   ]
  }
 ],
 "metadata": {
  "kernelspec": {
   "display_name": "Haskell",
   "language": "haskell",
   "name": "haskell"
  },
  "language_info": {
   "codemirror_mode": "ihaskell",
   "file_extension": ".hs",
   "mimetype": "text/x-haskell",
   "name": "haskell",
   "pygments_lexer": "Haskell",
   "version": "9.6.4"
  }
 },
 "nbformat": 4,
 "nbformat_minor": 5
}
