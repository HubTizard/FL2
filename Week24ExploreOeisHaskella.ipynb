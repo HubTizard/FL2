{
 "cells": [
  {
   "cell_type": "markdown",
   "id": "266ea85d",
   "metadata": {},
   "source": [
    "## On the Mahler-Popken (MP) complexity \n",
    "\n",
    "The Mahler-Popken complexity of an integer n, $mp(n)$, is the minimal number of 1s required to build n using only addition and multiplication operators."
   ]
  },
  {
   "cell_type": "markdown",
   "id": "9e67ed36",
   "metadata": {},
   "source": [
    "The basic insight is to realise that the solution relies on the fundamental theorem of arithmetic, that is that every integer has a unique prime factorisation. Suppose $n=p_1^{a_1}p_2^{a_2}..p_k^{a_k}$, where without loss of generality we assume that $p_i < p_j$ for $i <j$. Then the calculation of $mp$ can proceed in one of two directions, depending on whether $n$ is prime or composite. If it is prime $> 2$ then the minimum number will be $mp(n-1)+1$, otherwise it will take the form $mp(n `div` m)+mp(m)$ where $m$ is some divisor of $n$."
   ]
  },
  {
   "cell_type": "markdown",
   "id": "a301ff11",
   "metadata": {},
   "source": [
    "We will need some helper functions to help us work with divisors and their complementary pairs. These are taken from oeis.org -- the On-line Encyclopedia of Integer Sequences. OEIS is an early port of call for mathematicians who are looking to explore a research theme. By entering a sequence into the database they will see where else it has appeared, and thus be directed to another, possibly connected, area of mathematics (Terence Tao. AI and mathematics. IMO, 2024. https:// www.youtube.com/watch?v=e049IoFBnLA.)  \n",
    "\n",
    "The hint we supplied to the problem in Week 24 suggested that you first work with pen and pencil to derive a possible sequence of values of mp(n) where n is [1..15] (say), and then enter this as a comma separated list of integers into OEIS to check if your working is correct."
   ]
  },
  {
   "cell_type": "markdown",
   "id": "b1c495b5",
   "metadata": {},
   "source": [
    "## Functions to generate and access a  triangular table of the divisors of n\n",
    "\n",
    "The figure shows the dependencies between the functions <img src=\"images/a1779101IaBe102213A1FFragsOEIS.png\" width=\"400\"/>"
   ]
  },
  {
   "cell_type": "code",
   "execution_count": 1,
   "id": "882771e5",
   "metadata": {},
   "outputs": [],
   "source": [
    "a027750 n k = a027750_row n !! (k-1)\n",
    "a027750_row n = filter ((== 0) . mod n) [1..n]\n",
    "a027750_tabf = map a027750_row [1..]"
   ]
  },
  {
   "cell_type": "markdown",
   "id": "15443ded",
   "metadata": {},
   "source": [
    "The `triangular table' is a list of lists. It begins\n",
    "\n",
    "1;\n",
    "\n",
    "1, 2;\n",
    "\n",
    "1, 3;\n",
    "\n",
    "1, 2, 4;\n",
    "\n",
    "1, 5;\n",
    "\n",
    "1, 2, 3, 6;\n",
    "\n",
    "1, 7;\n",
    "\n",
    "1, 2, 4, 8;\n",
    "\n",
    "1, 3, 9;\n",
    "\n",
    "1, 2, 5, 10;\n",
    "\n",
    "1, 11;\n",
    "\n",
    "1, 2, 3, 4, 6, 12;"
   ]
  },
  {
   "cell_type": "code",
   "execution_count": 2,
   "id": "c19f62c2",
   "metadata": {},
   "outputs": [
    {
     "data": {
      "text/plain": [
       "[1,2,3,6]"
      ]
     },
     "metadata": {},
     "output_type": "display_data"
    }
   ],
   "source": [
    "-- function call to return row 6\n",
    "a027750_row 6 "
   ]
  },
  {
   "cell_type": "code",
   "execution_count": 3,
   "id": "f691eadf",
   "metadata": {},
   "outputs": [
    {
     "data": {
      "text/plain": [
       "2"
      ]
     },
     "metadata": {},
     "output_type": "display_data"
    }
   ],
   "source": [
    "-- function call to return second entry in row 6\n",
    "a027750 6 2"
   ]
  },
  {
   "cell_type": "code",
   "execution_count": 4,
   "id": "f5d8279b",
   "metadata": {},
   "outputs": [
    {
     "data": {
      "text/plain": [
       "[[1],[1,2],[1,3],[1,2,4],[1,5],[1,2,3,6],[1,7],[1,2,4,8],[1,3,9],[1,2,5,10],[1,11],[1,2,3,4,6,12]]"
      ]
     },
     "metadata": {},
     "output_type": "display_data"
    }
   ],
   "source": [
    "-- function to return a list of the first 12 entries in an infinite stream of divisor lists\n",
    "take 12 a027750_tabf"
   ]
  },
  {
   "cell_type": "markdown",
   "id": "a56f36cf",
   "metadata": {},
   "source": [
    "## Functions to generate and access triangular table of divisors of n <= sqrt n\n",
    "If we define a divisor d|n to be `inferior' if d <= n/d, then inferior divisors are listed by this sequence"
   ]
  },
  {
   "cell_type": "code",
   "execution_count": 5,
   "id": "9d3bbcf3",
   "metadata": {},
   "outputs": [],
   "source": [
    "a161906 n k = a161906_tabf !! (n-1) !! (k-1)\n",
    "a161906_row n = a161906_tabf !! (n-1)\n",
    "a161906_tabf = zipWith (\\m ds -> takeWhile ((<= m) . (^ 2)) ds)\n",
    "                       [1..] a027750_tabf"
   ]
  },
  {
   "cell_type": "code",
   "execution_count": 6,
   "id": "9f8eb3ba",
   "metadata": {},
   "outputs": [
    {
     "data": {
      "text/plain": [
       "[1,2]"
      ]
     },
     "metadata": {},
     "output_type": "display_data"
    },
    {
     "data": {
      "text/plain": [
       "2"
      ]
     },
     "metadata": {},
     "output_type": "display_data"
    },
    {
     "data": {
      "text/plain": [
       "[[1],[1],[1],[1,2],[1],[1,2],[1],[1,2],[1,3],[1,2],[1],[1,2,3]]"
      ]
     },
     "metadata": {},
     "output_type": "display_data"
    }
   ],
   "source": [
    "a161906_row 6 -- function call to return row 6\n",
    "a161906 6 2 -- function call to return second entry in row 6\n",
    "-- function to return a list of the first 12 entries in an infinite stream of inferior divisor lists\n",
    "take 12 a161906_tabf\n",
    "-- Note that primes have row = [1]"
   ]
  },
  {
   "cell_type": "markdown",
   "id": "a569d177",
   "metadata": {},
   "source": [
    " ## Functions to generate and access a triangular table of `superior' divisors d\n",
    " \n",
    " A divisor is `superior' if d >= n/d"
   ]
  },
  {
   "cell_type": "code",
   "execution_count": 7,
   "id": "3b922fbe",
   "metadata": {},
   "outputs": [],
   "source": [
    "a161908 n k = a161908_tabf !! (n-1) !! (k-1)\n",
    "a161908_row n = a161908_tabf !! (n-1)\n",
    "a161908_tabf = zipWith\n",
    "               (\\x ds -> reverse $ map (div x) ds) [1..] a161906_tabf"
   ]
  },
  {
   "cell_type": "code",
   "execution_count": 8,
   "id": "f9fa924c",
   "metadata": {},
   "outputs": [
    {
     "data": {
      "text/plain": [
       "[3,6]"
      ]
     },
     "metadata": {},
     "output_type": "display_data"
    },
    {
     "data": {
      "text/plain": [
       "6"
      ]
     },
     "metadata": {},
     "output_type": "display_data"
    },
    {
     "data": {
      "text/plain": [
       "[[1],[2],[3],[2,4],[5],[3,6],[7],[4,8],[3,9],[5,10],[11],[4,6,12]]"
      ]
     },
     "metadata": {},
     "output_type": "display_data"
    }
   ],
   "source": [
    "a161908_row 6 -- function to return row 6\n",
    "a161908 6 2 -- function to return second entry in row 6\n",
    "-- function to return a list of the first 12 entries in an infinite stream of superior divisor lists\n",
    "take 12 a161908_tabf"
   ]
  },
  {
   "cell_type": "code",
   "execution_count": 9,
   "id": "6602fed7",
   "metadata": {},
   "outputs": [
    {
     "data": {
      "text/plain": [
       "[1]"
      ]
     },
     "metadata": {},
     "output_type": "display_data"
    }
   ],
   "source": [
    "map (div 1) [1]"
   ]
  },
  {
   "cell_type": "code",
   "execution_count": 10,
   "id": "49948dd2",
   "metadata": {},
   "outputs": [
    {
     "data": {
      "text/plain": [
       "[2]"
      ]
     },
     "metadata": {},
     "output_type": "display_data"
    }
   ],
   "source": [
    "map (div 2) [1]"
   ]
  },
  {
   "cell_type": "code",
   "execution_count": 11,
   "id": "dcc4ae67",
   "metadata": {},
   "outputs": [
    {
     "data": {
      "text/plain": [
       "[12,6,4]"
      ]
     },
     "metadata": {},
     "output_type": "display_data"
    }
   ],
   "source": [
    "map (div 12) [1,2,3]"
   ]
  },
  {
   "cell_type": "markdown",
   "id": "e8caae34",
   "metadata": {},
   "source": [
    "## Mahler-Popken complexity of n: minimal number of 1's required to build n with + and *\n",
    "\n",
    "The algorithm is based on https://oeis.org/A005245. \n",
    "\n",
    "The following cells test the sub-expressions in A005245. \n",
    "\n",
    "Note the use of the library functions `minimum` (returns the smallest element in a list) and `zipWith` (Rather than tupling the elements, the elements are combined using the function passed as the first argument).\n",
    "\n",
    "The function a005245 is an infinite list of which the n'th element is $mp(n)$. \n",
    "\n",
    "There are two cases in the logic which we examine with test1 and test2."
   ]
  },
  {
   "cell_type": "code",
   "execution_count": 32,
   "id": "8e242730",
   "metadata": {
    "scrolled": true
   },
   "outputs": [
    {
     "data": {
      "text/html": [
       "<style>/* Styles used for the Hoogle display in the pager */\n",
       ".hoogle-doc {\n",
       "display: block;\n",
       "padding-bottom: 1.3em;\n",
       "padding-left: 0.4em;\n",
       "}\n",
       ".hoogle-code {\n",
       "display: block;\n",
       "font-family: monospace;\n",
       "white-space: pre;\n",
       "}\n",
       ".hoogle-text {\n",
       "display: block;\n",
       "}\n",
       ".hoogle-name {\n",
       "color: green;\n",
       "font-weight: bold;\n",
       "}\n",
       ".hoogle-head {\n",
       "font-weight: bold;\n",
       "}\n",
       ".hoogle-sub {\n",
       "display: block;\n",
       "margin-left: 0.4em;\n",
       "}\n",
       ".hoogle-package {\n",
       "font-weight: bold;\n",
       "font-style: italic;\n",
       "}\n",
       ".hoogle-module {\n",
       "font-weight: bold;\n",
       "}\n",
       ".hoogle-class {\n",
       "font-weight: bold;\n",
       "}\n",
       "\n",
       ".get-type {\n",
       "color: green;\n",
       "font-weight: bold;\n",
       "font-family: monospace;\n",
       "display: block;\n",
       "white-space: pre-wrap;\n",
       "}\n",
       ".show-type {\n",
       "color: green;\n",
       "font-weight: bold;\n",
       "font-family: monospace;\n",
       "margin-left: 1em;\n",
       "}\n",
       ".mono {\n",
       "font-family: monospace;\n",
       "display: block;\n",
       "}\n",
       ".err-msg {\n",
       "color: red;\n",
       "font-style: italic;\n",
       "font-family: monospace;\n",
       "white-space: pre;\n",
       "display: block;\n",
       "}\n",
       "#unshowable {\n",
       "color: red;\n",
       "font-weight: bold;\n",
       "}\n",
       ".err-msg.in.collapse {\n",
       "padding-top: 0.7em;\n",
       "}\n",
       "\n",
       ".highlight-code {\n",
       "white-space: pre;\n",
       "font-family: monospace;\n",
       "}\n",
       "\n",
       ".suggestion-warning { \n",
       "font-weight: bold;\n",
       "color: rgb(200, 130, 0);\n",
       "}\n",
       ".suggestion-error { \n",
       "font-weight: bold;\n",
       "color: red;\n",
       "}\n",
       ".suggestion-name {\n",
       "font-weight: bold;\n",
       "}\n",
       "\n",
       "</style><div class=\"suggestion-name\" style=\"clear:both;\">Use tail</div><div class=\"suggestion-row\" style=\"float: left;\"><div class=\"suggestion-warning\">Found:</div><div class=\"highlight-code\" id=\"haskell\">reverse $ init $ a161908_row x</div></div><div class=\"suggestion-row\" style=\"float: left;\"><div class=\"suggestion-warning\">Why Not:</div><div class=\"highlight-code\" id=\"haskell\">tail (reverse (a161908_row x))</div></div>"
      ],
      "text/plain": [
       "Line 8: Use tail\n",
       "Found:\n",
       "reverse $ init $ a161908_row x\n",
       "Why not:\n",
       "tail (reverse (a161908_row x))"
      ]
     },
     "metadata": {},
     "output_type": "display_data"
    }
   ],
   "source": [
    "import Data.List (genericIndex)\n",
    "a005245 n = a005245_list `genericIndex` (n-1)\n",
    "a005245_list = 1 : f 2 [1] where\n",
    "   f x ys = y : f (x + 1) (y : ys) where\n",
    "     y = minimum $ \n",
    "         zipWith (+) (take (x `div` 2) ys) (reverse ys) ++\n",
    "         zipWith (+) (map a005245 $ tail $ a161906_row x)\n",
    "                     (map a005245 $ reverse $ init $ a161908_row x)"
   ]
  },
  {
   "cell_type": "code",
   "execution_count": 33,
   "id": "a39762bd",
   "metadata": {},
   "outputs": [
    {
     "data": {
      "text/plain": [
       "[1,2,3,4,5,5,6,6,6,7,8,7]"
      ]
     },
     "metadata": {},
     "output_type": "display_data"
    }
   ],
   "source": [
    "-- test with hand calculation [1,2,3,4,5,5,6,6,6,7,8,7]\n",
    "take 12 a005245_list"
   ]
  },
  {
   "cell_type": "markdown",
   "id": "20914463-6f05-455f-95bd-e55f61fb7f56",
   "metadata": {},
   "source": [
    "## Initial Step\n",
    "\n",
    "Start with the deepest nested expression on the last line with `x = 2` and `ys = [1]` Use `it` to refer to the result returned from the last cell."
   ]
  },
  {
   "cell_type": "code",
   "execution_count": 34,
   "id": "0017b32e",
   "metadata": {},
   "outputs": [
    {
     "data": {
      "text/plain": [
       "[2]"
      ]
     },
     "metadata": {},
     "output_type": "display_data"
    }
   ],
   "source": [
    "a161908_row 2"
   ]
  },
  {
   "cell_type": "code",
   "execution_count": null,
   "id": "37ba6431",
   "metadata": {},
   "outputs": [
    {
     "data": {
      "text/plain": [
       "[]"
      ]
     },
     "metadata": {},
     "output_type": "display_data"
    }
   ],
   "source": [
    "init it"
   ]
  },
  {
   "cell_type": "code",
   "execution_count": null,
   "id": "160a6360",
   "metadata": {},
   "outputs": [
    {
     "data": {
      "text/plain": [
       "[]"
      ]
     },
     "metadata": {},
     "output_type": "display_data"
    }
   ],
   "source": [
    "reverse it"
   ]
  },
  {
   "cell_type": "code",
   "execution_count": null,
   "id": "50b2cfaf-b755-467e-a5ad-44bb26b9f3f0",
   "metadata": {},
   "outputs": [
    {
     "data": {
      "text/plain": [
       "[]"
      ]
     },
     "metadata": {},
     "output_type": "display_data"
    }
   ],
   "source": [
    "map a005245 it"
   ]
  },
  {
   "cell_type": "markdown",
   "id": "42ae980d-1b8e-4b3d-b02d-c16adc301142",
   "metadata": {},
   "source": [
    "Do the same work on first argument of zipWith (+) on the penultimate line of cell 12"
   ]
  },
  {
   "cell_type": "code",
   "execution_count": null,
   "id": "51766da9",
   "metadata": {},
   "outputs": [
    {
     "data": {
      "text/plain": [
       "[]"
      ]
     },
     "metadata": {},
     "output_type": "display_data"
    }
   ],
   "source": [
    "map a005245 $ tail $ a161906_row 2"
   ]
  },
  {
   "cell_type": "markdown",
   "id": "e36c60f0-8291-460f-8b39-689fc7cd97d6",
   "metadata": {},
   "source": [
    "Evaluate the zipWith on the penultimate line of cell 12"
   ]
  },
  {
   "cell_type": "code",
   "execution_count": null,
   "id": "7921f72a",
   "metadata": {},
   "outputs": [
    {
     "data": {
      "text/plain": [
       "[]"
      ]
     },
     "metadata": {},
     "output_type": "display_data"
    }
   ],
   "source": [
    "zipWith (+) [][]"
   ]
  },
  {
   "cell_type": "markdown",
   "id": "005ddb79",
   "metadata": {},
   "source": [
    "Evalute `(take (x `div` 2) ys) (reverse ys)`, the  third line from the bottom of cell 12 with the same parameters, that is `x = 2`, `ys =[1]`\n",
    "\n",
    "x `div` 2 = 1\n",
    "\n",
    "take 1 [1] ~~~> 1\n",
    "\n",
    "reverse ys ~~~> [1]"
   ]
  },
  {
   "cell_type": "code",
   "execution_count": null,
   "id": "004bb9a4",
   "metadata": {},
   "outputs": [
    {
     "data": {
      "text/plain": [
       "[1]"
      ]
     },
     "metadata": {},
     "output_type": "display_data"
    }
   ],
   "source": [
    "take 1 [1]"
   ]
  },
  {
   "cell_type": "code",
   "execution_count": null,
   "id": "016bcd8a",
   "metadata": {},
   "outputs": [
    {
     "data": {
      "text/plain": [
       "[2]"
      ]
     },
     "metadata": {},
     "output_type": "display_data"
    }
   ],
   "source": [
    "zipWith (+) [1] [1]"
   ]
  },
  {
   "cell_type": "markdown",
   "id": "fc7e4954-f8a7-4ab6-b057-ddfa2298f949",
   "metadata": {},
   "source": [
    "Evaluate `y = minimum $ [2] + []`"
   ]
  },
  {
   "cell_type": "code",
   "execution_count": null,
   "id": "4ad86e3b-2c8f-4da8-b7d0-4b6e9252e5d3",
   "metadata": {},
   "outputs": [
    {
     "data": {
      "text/html": [
       "<style>/* Styles used for the Hoogle display in the pager */\n",
       ".hoogle-doc {\n",
       "display: block;\n",
       "padding-bottom: 1.3em;\n",
       "padding-left: 0.4em;\n",
       "}\n",
       ".hoogle-code {\n",
       "display: block;\n",
       "font-family: monospace;\n",
       "white-space: pre;\n",
       "}\n",
       ".hoogle-text {\n",
       "display: block;\n",
       "}\n",
       ".hoogle-name {\n",
       "color: green;\n",
       "font-weight: bold;\n",
       "}\n",
       ".hoogle-head {\n",
       "font-weight: bold;\n",
       "}\n",
       ".hoogle-sub {\n",
       "display: block;\n",
       "margin-left: 0.4em;\n",
       "}\n",
       ".hoogle-package {\n",
       "font-weight: bold;\n",
       "font-style: italic;\n",
       "}\n",
       ".hoogle-module {\n",
       "font-weight: bold;\n",
       "}\n",
       ".hoogle-class {\n",
       "font-weight: bold;\n",
       "}\n",
       "\n",
       ".get-type {\n",
       "color: green;\n",
       "font-weight: bold;\n",
       "font-family: monospace;\n",
       "display: block;\n",
       "white-space: pre-wrap;\n",
       "}\n",
       ".show-type {\n",
       "color: green;\n",
       "font-weight: bold;\n",
       "font-family: monospace;\n",
       "margin-left: 1em;\n",
       "}\n",
       ".mono {\n",
       "font-family: monospace;\n",
       "display: block;\n",
       "}\n",
       ".err-msg {\n",
       "color: red;\n",
       "font-style: italic;\n",
       "font-family: monospace;\n",
       "white-space: pre;\n",
       "display: block;\n",
       "}\n",
       "#unshowable {\n",
       "color: red;\n",
       "font-weight: bold;\n",
       "}\n",
       ".err-msg.in.collapse {\n",
       "padding-top: 0.7em;\n",
       "}\n",
       "\n",
       ".highlight-code {\n",
       "white-space: pre;\n",
       "font-family: monospace;\n",
       "}\n",
       "\n",
       ".suggestion-warning { \n",
       "font-weight: bold;\n",
       "color: rgb(200, 130, 0);\n",
       "}\n",
       ".suggestion-error { \n",
       "font-weight: bold;\n",
       "color: red;\n",
       "}\n",
       ".suggestion-name {\n",
       "font-weight: bold;\n",
       "}\n",
       "\n",
       "</style><div class=\"suggestion-name\" style=\"clear:both;\">Evaluate</div><div class=\"suggestion-row\" style=\"float: left;\"><div class=\"suggestion-warning\">Found:</div><div class=\"highlight-code\" id=\"haskell\">[2] ++ []</div></div><div class=\"suggestion-row\" style=\"float: left;\"><div class=\"suggestion-warning\">Why Not:</div><div class=\"highlight-code\" id=\"haskell\">[2]</div></div><div class=\"suggestion-name\" style=\"clear:both;\">Use :</div><div class=\"suggestion-row\" style=\"float: left;\"><div class=\"suggestion-warning\">Found:</div><div class=\"highlight-code\" id=\"haskell\">[2] ++ []</div></div><div class=\"suggestion-row\" style=\"float: left;\"><div class=\"suggestion-warning\">Why Not:</div><div class=\"highlight-code\" id=\"haskell\">2 : []</div></div>"
      ],
      "text/plain": [
       "Line 1: Evaluate\n",
       "Found:\n",
       "[2] ++ []\n",
       "Why not:\n",
       "[2]Line 1: Use :\n",
       "Found:\n",
       "[2] ++ []\n",
       "Why not:\n",
       "2 : []"
      ]
     },
     "metadata": {},
     "output_type": "display_data"
    },
    {
     "data": {
      "text/plain": [
       "2"
      ]
     },
     "metadata": {},
     "output_type": "display_data"
    }
   ],
   "source": [
    "minimum $ [2] ++ []"
   ]
  },
  {
   "cell_type": "code",
   "execution_count": null,
   "id": "ca3dbccb",
   "metadata": {},
   "outputs": [
    {
     "data": {
      "text/plain": [
       "2"
      ]
     },
     "metadata": {},
     "output_type": "display_data"
    }
   ],
   "source": [
    "a005245_list `genericIndex` 1"
   ]
  },
  {
   "cell_type": "markdown",
   "id": "8495d3c4",
   "metadata": {},
   "source": [
    "## Subsequent steps"
   ]
  },
  {
   "cell_type": "code",
   "execution_count": null,
   "id": "cbdb0e9c",
   "metadata": {},
   "outputs": [
    {
     "data": {
      "text/html": [
       "<style>/* Styles used for the Hoogle display in the pager */\n",
       ".hoogle-doc {\n",
       "display: block;\n",
       "padding-bottom: 1.3em;\n",
       "padding-left: 0.4em;\n",
       "}\n",
       ".hoogle-code {\n",
       "display: block;\n",
       "font-family: monospace;\n",
       "white-space: pre;\n",
       "}\n",
       ".hoogle-text {\n",
       "display: block;\n",
       "}\n",
       ".hoogle-name {\n",
       "color: green;\n",
       "font-weight: bold;\n",
       "}\n",
       ".hoogle-head {\n",
       "font-weight: bold;\n",
       "}\n",
       ".hoogle-sub {\n",
       "display: block;\n",
       "margin-left: 0.4em;\n",
       "}\n",
       ".hoogle-package {\n",
       "font-weight: bold;\n",
       "font-style: italic;\n",
       "}\n",
       ".hoogle-module {\n",
       "font-weight: bold;\n",
       "}\n",
       ".hoogle-class {\n",
       "font-weight: bold;\n",
       "}\n",
       "\n",
       ".get-type {\n",
       "color: green;\n",
       "font-weight: bold;\n",
       "font-family: monospace;\n",
       "display: block;\n",
       "white-space: pre-wrap;\n",
       "}\n",
       ".show-type {\n",
       "color: green;\n",
       "font-weight: bold;\n",
       "font-family: monospace;\n",
       "margin-left: 1em;\n",
       "}\n",
       ".mono {\n",
       "font-family: monospace;\n",
       "display: block;\n",
       "}\n",
       ".err-msg {\n",
       "color: red;\n",
       "font-style: italic;\n",
       "font-family: monospace;\n",
       "white-space: pre;\n",
       "display: block;\n",
       "}\n",
       "#unshowable {\n",
       "color: red;\n",
       "font-weight: bold;\n",
       "}\n",
       ".err-msg.in.collapse {\n",
       "padding-top: 0.7em;\n",
       "}\n",
       "\n",
       ".highlight-code {\n",
       "white-space: pre;\n",
       "font-family: monospace;\n",
       "}\n",
       "\n",
       ".suggestion-warning { \n",
       "font-weight: bold;\n",
       "color: rgb(200, 130, 0);\n",
       "}\n",
       ".suggestion-error { \n",
       "font-weight: bold;\n",
       "color: red;\n",
       "}\n",
       ".suggestion-name {\n",
       "font-weight: bold;\n",
       "}\n",
       "\n",
       "</style><div class=\"suggestion-name\" style=\"clear:both;\">Use tail</div><div class=\"suggestion-row\" style=\"float: left;\"><div class=\"suggestion-warning\">Found:</div><div class=\"highlight-code\" id=\"haskell\">reverse $ init $ a161908_row x</div></div><div class=\"suggestion-row\" style=\"float: left;\"><div class=\"suggestion-warning\">Why Not:</div><div class=\"highlight-code\" id=\"haskell\">tail (reverse (a161908_row x))</div></div>"
      ],
      "text/plain": [
       "Line 4: Use tail\n",
       "Found:\n",
       "reverse $ init $ a161908_row x\n",
       "Why not:\n",
       "tail (reverse (a161908_row x))"
      ]
     },
     "metadata": {},
     "output_type": "display_data"
    }
   ],
   "source": [
    "test1 x ys = minimum $\n",
    "         zipWith (+) (take (x `div` 2) ys) (reverse ys) ++\n",
    "         zipWith (+) (map a005245 $ tail $ a161906_row x)\n",
    "                      (map a005245 $ reverse $ init $ a161908_row x)"
   ]
  },
  {
   "cell_type": "code",
   "execution_count": null,
   "id": "e6e71867-a57d-4362-8a33-7e3a0a00104c",
   "metadata": {},
   "outputs": [
    {
     "data": {
      "text/plain": [
       "3"
      ]
     },
     "metadata": {},
     "output_type": "display_data"
    }
   ],
   "source": [
    "test1 3 [1,2]"
   ]
  },
  {
   "cell_type": "code",
   "execution_count": null,
   "id": "055ec047-bae8-41b8-b664-246ba8b06796",
   "metadata": {},
   "outputs": [
    {
     "data": {
      "text/plain": [
       "4"
      ]
     },
     "metadata": {},
     "output_type": "display_data"
    }
   ],
   "source": [
    "test1 4 [1,2,3]"
   ]
  },
  {
   "cell_type": "code",
   "execution_count": null,
   "id": "6e548939-31bf-4718-b31c-902c589ee2cf",
   "metadata": {},
   "outputs": [
    {
     "data": {
      "text/plain": [
       "5"
      ]
     },
     "metadata": {},
     "output_type": "display_data"
    }
   ],
   "source": [
    "test1 5 [1,2,3,4]"
   ]
  },
  {
   "cell_type": "code",
   "execution_count": null,
   "id": "d243ef7d-20a8-4dc6-99d5-c2b455496724",
   "metadata": {},
   "outputs": [
    {
     "data": {
      "text/plain": [
       "5"
      ]
     },
     "metadata": {},
     "output_type": "display_data"
    }
   ],
   "source": [
    "test1 6 [1,2,3,4,5]"
   ]
  },
  {
   "cell_type": "code",
   "execution_count": null,
   "id": "29fa0132-04b9-47d8-8ae1-ebab2c862e5a",
   "metadata": {},
   "outputs": [
    {
     "data": {
      "text/plain": [
       "6"
      ]
     },
     "metadata": {},
     "output_type": "display_data"
    }
   ],
   "source": [
    "test1 7 [1,2,3,4,5,5]"
   ]
  },
  {
   "cell_type": "code",
   "execution_count": null,
   "id": "ffa98182",
   "metadata": {},
   "outputs": [
    {
     "data": {
      "text/html": [
       "<style>/* Styles used for the Hoogle display in the pager */\n",
       ".hoogle-doc {\n",
       "display: block;\n",
       "padding-bottom: 1.3em;\n",
       "padding-left: 0.4em;\n",
       "}\n",
       ".hoogle-code {\n",
       "display: block;\n",
       "font-family: monospace;\n",
       "white-space: pre;\n",
       "}\n",
       ".hoogle-text {\n",
       "display: block;\n",
       "}\n",
       ".hoogle-name {\n",
       "color: green;\n",
       "font-weight: bold;\n",
       "}\n",
       ".hoogle-head {\n",
       "font-weight: bold;\n",
       "}\n",
       ".hoogle-sub {\n",
       "display: block;\n",
       "margin-left: 0.4em;\n",
       "}\n",
       ".hoogle-package {\n",
       "font-weight: bold;\n",
       "font-style: italic;\n",
       "}\n",
       ".hoogle-module {\n",
       "font-weight: bold;\n",
       "}\n",
       ".hoogle-class {\n",
       "font-weight: bold;\n",
       "}\n",
       "\n",
       ".get-type {\n",
       "color: green;\n",
       "font-weight: bold;\n",
       "font-family: monospace;\n",
       "display: block;\n",
       "white-space: pre-wrap;\n",
       "}\n",
       ".show-type {\n",
       "color: green;\n",
       "font-weight: bold;\n",
       "font-family: monospace;\n",
       "margin-left: 1em;\n",
       "}\n",
       ".mono {\n",
       "font-family: monospace;\n",
       "display: block;\n",
       "}\n",
       ".err-msg {\n",
       "color: red;\n",
       "font-style: italic;\n",
       "font-family: monospace;\n",
       "white-space: pre;\n",
       "display: block;\n",
       "}\n",
       "#unshowable {\n",
       "color: red;\n",
       "font-weight: bold;\n",
       "}\n",
       ".err-msg.in.collapse {\n",
       "padding-top: 0.7em;\n",
       "}\n",
       "\n",
       ".highlight-code {\n",
       "white-space: pre;\n",
       "font-family: monospace;\n",
       "}\n",
       "\n",
       ".suggestion-warning { \n",
       "font-weight: bold;\n",
       "color: rgb(200, 130, 0);\n",
       "}\n",
       ".suggestion-error { \n",
       "font-weight: bold;\n",
       "color: red;\n",
       "}\n",
       ".suggestion-name {\n",
       "font-weight: bold;\n",
       "}\n",
       "\n",
       "</style><div class=\"suggestion-name\" style=\"clear:both;\">Use tail</div><div class=\"suggestion-row\" style=\"float: left;\"><div class=\"suggestion-warning\">Found:</div><div class=\"highlight-code\" id=\"haskell\">reverse $ init $ a161908_row x</div></div><div class=\"suggestion-row\" style=\"float: left;\"><div class=\"suggestion-warning\">Why Not:</div><div class=\"highlight-code\" id=\"haskell\">tail (reverse (a161908_row x))</div></div>"
      ],
      "text/plain": [
       "Line 4: Use tail\n",
       "Found:\n",
       "reverse $ init $ a161908_row x\n",
       "Why not:\n",
       "tail (reverse (a161908_row x))"
      ]
     },
     "metadata": {},
     "output_type": "display_data"
    }
   ],
   "source": [
    "-- this test returns [] just in the case of primes otherwise \n",
    "-- it returns a list of sums of MP(a) + MP(b) for all a,b such that a<b and a*b=n\n",
    "test2 x = zipWith (+) (map a005245 $ tail $ a161906_row x)\n",
    "                      (map a005245 $ reverse $ init $ a161908_row x)"
   ]
  },
  {
   "cell_type": "code",
   "execution_count": null,
   "id": "083bf931",
   "metadata": {},
   "outputs": [
    {
     "data": {
      "text/plain": [
       "[[],[],[],[4],[],[5],[],[6],[6],[7]]"
      ]
     },
     "metadata": {},
     "output_type": "display_data"
    }
   ],
   "source": [
    "map test2 [1..10]"
   ]
  },
  {
   "cell_type": "code",
   "execution_count": null,
   "id": "a7b7e2c5",
   "metadata": {},
   "outputs": [],
   "source": [
    "-- this test returns the value of MP(n) for n prime by adding 1 to the value of MP(n-1)\n",
    "test3 x ys = minimum (zipWith (+) (take (x `div` 2) ys) (reverse ys))\n"
   ]
  },
  {
   "cell_type": "code",
   "execution_count": null,
   "id": "51f36374",
   "metadata": {},
   "outputs": [
    {
     "data": {
      "text/plain": [
       "6"
      ]
     },
     "metadata": {},
     "output_type": "display_data"
    }
   ],
   "source": [
    "test3 7 [1,2,3,4,5,5]"
   ]
  }
 ],
 "metadata": {
  "kernelspec": {
   "display_name": "Haskell",
   "language": "haskell",
   "name": "haskell"
  },
  "language_info": {
   "codemirror_mode": "ihaskell",
   "file_extension": ".hs",
   "mimetype": "text/x-haskell",
   "name": "haskell",
   "pygments_lexer": "Haskell",
   "version": "9.6.4"
  }
 },
 "nbformat": 4,
 "nbformat_minor": 5
}
