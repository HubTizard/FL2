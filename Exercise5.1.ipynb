{
 "cells": [
  {
   "cell_type": "markdown",
   "id": "675cc443",
   "metadata": {},
   "source": [
    "# Exercise 5.1 Boolean Operators\n",
    "Let's get some more experience with Boolean values and expressions."
   ]
  },
  {
   "cell_type": "markdown",
   "id": "7e122b2e",
   "metadata": {},
   "source": [
    "## Boolean Operators\n",
    "\n",
    "Boolean values are either `True` or `False`. `True` is the opposite of `False`, and vice versa. The `not` function returns the opposite boolean value, the logical complement. Try `not True`"
   ]
  },
  {
   "cell_type": "code",
   "execution_count": null,
   "id": "3d5464c2",
   "metadata": {},
   "outputs": [],
   "source": []
  },
  {
   "cell_type": "markdown",
   "id": "6c647247",
   "metadata": {},
   "source": [
    "You got back the boolean value `False` as expected.\n",
    "Now perform a double negation, e.g. `not (not False)` and observe that the final result is the same as the initial"
   ]
  },
  {
   "cell_type": "code",
   "execution_count": null,
   "id": "35c97f0c",
   "metadata": {},
   "outputs": [],
   "source": []
  },
  {
   "cell_type": "markdown",
   "id": "9b6faa18",
   "metadata": {},
   "source": [
    "You got back the boolean value `False` as expected.\n",
    "### The And operator\n",
    "Use the `&&` infix operator as a boolean conjunction (AND function). This only evaluates to `True` when both its arguments are `True`. i.e. `True && True`"
   ]
  },
  {
   "cell_type": "code",
   "execution_count": null,
   "id": "444dcd2f",
   "metadata": {},
   "outputs": [],
   "source": []
  },
  {
   "cell_type": "markdown",
   "id": "ea59db3d",
   "metadata": {},
   "source": [
    "You got back the result `True` as expected.\n",
    "Now try evaluating an AND expression where one of the inputs is `False`, e.g.\n",
    "`False && True`. What will the output value be?"
   ]
  },
  {
   "cell_type": "code",
   "execution_count": null,
   "id": "a499da6d",
   "metadata": {},
   "outputs": [],
   "source": []
  },
  {
   "cell_type": "markdown",
   "id": "ba9c54df",
   "metadata": {},
   "source": [
    "You got back the result `False` as expected.\n",
    "\n",
    "### The Or operator\n",
    "\n",
    "Boolean disjunction (logical OR) is the dual of the AND operation. In Haskell, use the infix `||` operator for OR. When at least one of the arguments is `True`, then the result of the OR will be `True`. Try it."
   ]
  },
  {
   "cell_type": "code",
   "execution_count": null,
   "id": "c11984fe",
   "metadata": {},
   "outputs": [],
   "source": []
  },
  {
   "cell_type": "markdown",
   "id": "e3092507",
   "metadata": {},
   "source": [
    "You got back the result True as expected.\n",
    "When both of the inputs are `False`, then the output of OR will be `False`. Try it."
   ]
  },
  {
   "cell_type": "code",
   "execution_count": 7,
   "id": "78559c06",
   "metadata": {},
   "outputs": [
    {
     "data": {
      "text/html": [
       "<style>/* Styles used for the Hoogle display in the pager */\n",
       ".hoogle-doc {\n",
       "display: block;\n",
       "padding-bottom: 1.3em;\n",
       "padding-left: 0.4em;\n",
       "}\n",
       ".hoogle-code {\n",
       "display: block;\n",
       "font-family: monospace;\n",
       "white-space: pre;\n",
       "}\n",
       ".hoogle-text {\n",
       "display: block;\n",
       "}\n",
       ".hoogle-name {\n",
       "color: green;\n",
       "font-weight: bold;\n",
       "}\n",
       ".hoogle-head {\n",
       "font-weight: bold;\n",
       "}\n",
       ".hoogle-sub {\n",
       "display: block;\n",
       "margin-left: 0.4em;\n",
       "}\n",
       ".hoogle-package {\n",
       "font-weight: bold;\n",
       "font-style: italic;\n",
       "}\n",
       ".hoogle-module {\n",
       "font-weight: bold;\n",
       "}\n",
       ".hoogle-class {\n",
       "font-weight: bold;\n",
       "}\n",
       "\n",
       ".get-type {\n",
       "color: green;\n",
       "font-weight: bold;\n",
       "font-family: monospace;\n",
       "display: block;\n",
       "white-space: pre-wrap;\n",
       "}\n",
       ".show-type {\n",
       "color: green;\n",
       "font-weight: bold;\n",
       "font-family: monospace;\n",
       "margin-left: 1em;\n",
       "}\n",
       ".mono {\n",
       "font-family: monospace;\n",
       "display: block;\n",
       "}\n",
       ".err-msg {\n",
       "color: red;\n",
       "font-style: italic;\n",
       "font-family: monospace;\n",
       "white-space: pre;\n",
       "display: block;\n",
       "}\n",
       "#unshowable {\n",
       "color: red;\n",
       "font-weight: bold;\n",
       "}\n",
       ".err-msg.in.collapse {\n",
       "padding-top: 0.7em;\n",
       "}\n",
       "\n",
       ".highlight-code {\n",
       "white-space: pre;\n",
       "font-family: monospace;\n",
       "}\n",
       "\n",
       ".suggestion-warning { \n",
       "font-weight: bold;\n",
       "color: rgb(200, 130, 0);\n",
       "}\n",
       ".suggestion-error { \n",
       "font-weight: bold;\n",
       "color: red;\n",
       "}\n",
       ".suggestion-name {\n",
       "font-weight: bold;\n",
       "}\n",
       "\n",
       "</style><div class=\"suggestion-name\" style=\"clear:both;\">Evaluate</div><div class=\"suggestion-row\" style=\"float: left;\"><div class=\"suggestion-warning\">Found:</div><div class=\"highlight-code\" id=\"haskell\">False || False</div></div><div class=\"suggestion-row\" style=\"float: left;\"><div class=\"suggestion-warning\">Why Not:</div><div class=\"highlight-code\" id=\"haskell\">False</div></div>"
      ],
      "text/plain": [
       "Line 1: Evaluate\n",
       "Found:\n",
       "False || False\n",
       "Why not:\n",
       "False"
      ]
     },
     "metadata": {},
     "output_type": "display_data"
    },
    {
     "data": {
      "text/plain": [
       "False"
      ]
     },
     "metadata": {},
     "output_type": "display_data"
    }
   ],
   "source": [
    "False || False"
   ]
  },
  {
   "cell_type": "markdown",
   "id": "6e3041e5",
   "metadata": {},
   "source": [
    "You got back the result False as expected.\n",
    "### Exclusive OR\n",
    "Haskell also defines the `xor` function, which returns `True` when its two boolean arguments are different (one is `True` and the other is `False`). Try it. (Notice that we specify `xor` as an infix function with the backquotes here."
   ]
  },
  {
   "cell_type": "code",
   "execution_count": 5,
   "id": "05d19927",
   "metadata": {},
   "outputs": [
    {
     "data": {
      "text/plain": [
       "True"
      ]
     },
     "metadata": {},
     "output_type": "display_data"
    }
   ],
   "source": [
    "import Data.Bits -- to access the xor operator from a library\n",
    "True `xor` False"
   ]
  },
  {
   "cell_type": "markdown",
   "id": "7dd1bb3f",
   "metadata": {},
   "source": [
    "It's straightforward to enumerate the full truth table for two-argument boolean functions. We could use a list comprehension expression to enumerate the input values: `[(x,y) | x<-[False, True], y<-[False, True]`\n",
    "\n",
    "Then we could __map__ the boolean function over these input values (extracted from the pairs).\n",
    "\n",
    "For instance, here are the enumerated output values for the xor function: `map (\\inputs -> xor (fst inputs) (snd inputs)) [(x,y) | x<-[False, True], y<-[False, True] ]`. Try it."
   ]
  },
  {
   "cell_type": "markdown",
   "id": "ef5ece18",
   "metadata": {},
   "source": [
    "### Logic Operations with More Inputs\n",
    "\n",
    "Sometimes, boolean logic functions like AND and OR have more than two arguments. Haskell supports these multi-input boolean operations with `and` and `or` functions that take a list of boolean values as a single input. Effectively, this is a __fold__ of the `&&` or `||` operator over the input list of boolean values.\n",
    "Try `and [False, True, False, True]` or `or [True, True, False]`"
   ]
  },
  {
   "cell_type": "code",
   "execution_count": 8,
   "id": "607a1ff8",
   "metadata": {},
   "outputs": [
    {
     "data": {
      "text/plain": [
       "False"
      ]
     },
     "metadata": {},
     "output_type": "display_data"
    }
   ],
   "source": [
    "and [False, True, False, True]"
   ]
  },
  {
   "cell_type": "markdown",
   "id": "5072066b",
   "metadata": {},
   "source": [
    "You got back the result False as expected. \n",
    "\n",
    "### `if` Expressions\n",
    "You might be used to if statements in imperative programming languages.\n",
    "Haskell has if expressions, which evaluate to either the then value or the else value, based on the if value.\n",
    "Try `if 2*2==4 then \"happy\" else \"sad\"`"
   ]
  },
  {
   "cell_type": "code",
   "execution_count": null,
   "id": "271825db",
   "metadata": {},
   "outputs": [],
   "source": []
  },
  {
   "cell_type": "markdown",
   "id": "6efbf0f0",
   "metadata": {},
   "source": [
    "This if expression returned \"happy\", as you might expect.\n",
    "\n",
    "The Haskell `if`expression is equivalent to the ?: ternary operation in C-like languages. The first subexpression (after the `if`) must have type `Bool`, then the subsequent two subexpressions (after `then` and `else` respectively) must have the same type as each other\n",
    "\n",
    "What happens if we supply a non-Boolean value for the first subexpression?\n",
    "Try `if 1 then 0 else (-1)` "
   ]
  },
  {
   "cell_type": "code",
   "execution_count": null,
   "id": "611602b6",
   "metadata": {},
   "outputs": [],
   "source": []
  },
  {
   "cell_type": "markdown",
   "id": "21751031",
   "metadata": {},
   "source": [
    "As you can see, this if expression fails to evaluate. Haskell tries to interpret the first subexpression as a `Bool` value, and fails.\n",
    "There are other ways to have typing issues with if expressions, for instance when the `then` and `else` subexpressions have different types. Try `if False then 42 else \"foo\"`"
   ]
  },
  {
   "cell_type": "code",
   "execution_count": null,
   "id": "f0ecd716",
   "metadata": {},
   "outputs": [],
   "source": []
  },
  {
   "cell_type": "markdown",
   "id": "c7ac3eca",
   "metadata": {},
   "source": [
    "Once again, this `if` expression fails t o evaluate because of t y p e errors. Haskell\n",
    "detects that the `then` value and the `else` value have incompatible types, so it\n",
    "complains.\n",
    "It is possible to have two values that are __similar__, i.e. they could be specialised\n",
    "to the same type, based on their type classes. For instance, try `if True then 4 2 else pi`"
   ]
  },
  {
   "cell_type": "code",
   "execution_count": null,
   "id": "b0d3b1af",
   "metadata": {},
   "outputs": [],
   "source": []
  },
  {
   "cell_type": "markdown",
   "id": "d1eaa848",
   "metadata": {},
   "source": [
    "Well done, you finished another Haskell tutorial!.\n",
    "Let's recap what we've just discovered:\n",
    "- Boolean not, &&, || and xor operations\n",
    "- Boolean functions on lists\n",
    "- if/then/else conditional expressions"
   ]
  },
  {
   "cell_type": "markdown",
   "id": "e8ae53a2",
   "metadata": {},
   "source": [
    "Copyright Christopher Done (2008-25) and Sociality Mathematics CIC (2025), licence CC BY-NC-ND Attribution-NonCommercial-NoDerivs https://creativecommons.org/licenses/"
   ]
  }
 ],
 "metadata": {
  "kernelspec": {
   "display_name": "Haskell",
   "language": "haskell",
   "name": "haskell"
  },
  "language_info": {
   "codemirror_mode": "ihaskell",
   "file_extension": ".hs",
   "mimetype": "text/x-haskell",
   "name": "haskell",
   "pygments_lexer": "Haskell",
   "version": "9.6.4"
  }
 },
 "nbformat": 4,
 "nbformat_minor": 5
}
