{
 "cells": [
  {
   "cell_type": "markdown",
   "id": "d78b96ce-ddac-457f-bc68-1348e6e3f913",
   "metadata": {},
   "source": [
    "# Doets Chapter 1\n",
    "\n",
    "## 1.1 Using Haskell\n",
    "\n",
    "**TODO** explain Repl and/or IHaskell notebooks here.\n",
    "\n",
    "### Exercise 1.1\n",
    "\n",
    "Try out a few calculations using `*` for multiplication, `+` for addition, `-` for subtraction, `^` for exponentiation, `/` for division. By playing with the system, find out what the precedence order is among these operators.\n",
    "\n",
    "Parentheses can be used to override the built-in operator precedences:"
   ]
  },
  {
   "cell_type": "code",
   "execution_count": 7,
   "id": "180d4a80-b686-4962-b7e2-c0879856361b",
   "metadata": {},
   "outputs": [
    {
     "data": {
      "text/plain": [
       "625"
      ]
     },
     "metadata": {},
     "output_type": "display_data"
    }
   ],
   "source": [
    "(2 + 3) ^4"
   ]
  },
  {
   "cell_type": "markdown",
   "id": "ba0967fb-2a3b-44a6-99a6-c898284cfe27",
   "metadata": {},
   "source": [
    "## 1.2 Implementing a Prime Number Test\n",
    "\n",
    "Suppose we want to implement a definition of prime number in a procedure that\n",
    "recognizes prime numbers. A prime number is a natural number greater than\n",
    "$1$ that has no proper divisors other than $1$ and itself. The natural numbers are\n",
    "$0, 1, 2, 3, 4, \\ldots$ The list of prime numbers starts with $2, 3, 5, 7, 11, 13, \\ldots$ Except\n",
    "for $2$, all of these are odd, of course.\n",
    "\n",
    "Let $n > 1$ be a natural number. Then we use $\\texttt{LD}(n)$ for the least natural number\n",
    "greater than $1$ that divides $n$. A number $d$ divides $n$ if there is a natural number $a$ with $a \\cdot d = n$. In other words, $d$ divides $n$ if there is a natural number $a$ with $\\frac n d = a$, i.e., division of $n$ by $d$ leaves no remainder. Note that $\\texttt{LD}(n)$ exists for every natural number $n > 1$, for the natural number $d = n$ is greater than $1$ and divides $n$. Therefore, the set of divisors of $n$ that are greater than $1$ is non-empty. Thus, the set will have a least element.\n",
    "\n",
    "The following proposition gives us all we need for implementing our prime number\n",
    "test:\n",
    "\n",
    "### Proposition 1.2\n",
    "\n",
    "1. If $n > 1$ then $\\texttt{LD}(n)$ is a prime number.\n",
    "2. If $n > 1$ and $n$ is not a prime number, then $\\left(\\texttt{LD}\\left(n\\right)\\right)^2 \\leq n$.\n",
    "\n",
    "In the course of this book you will learn how to prove propositions like this.\n",
    "\n",
    "Here is the proof of the first item. This is a proof by contradiction (see Chapter 3).\n",
    "Suppose, for a contradiction that $c = \\texttt{LD}(n)$ is not a prime. Then there are natural\n",
    "numbers $a$ and $b$ with $c = a \\cdot b$, and also $1 < a$ and $a < c$. But then $a$ divides $n$,\n",
    "and contradiction with the fact that $c$ is the smallest natural number greater than $1$\n",
    "that divides $n$. Thus, $\\texttt{LD}(n)$ must be a prime number.\n",
    "\n",
    "For a proof of the second item, suppose that $n > 1$, $n$ is not a prime and that\n",
    "$p = \\texttt{LD}(n)$. Then there is a natural number $a > 1$ with $n = p \\cdot a$. Thus, $a$\n",
    "divides $n$. Since $p$ is the smallest divisor of $n$ with $p > 1$, we have that $p \\leq a$, and\n",
    "therefore $p^2 \\leq p \\cdot a = n$, i.e., $\\left(\\texttt{LD}(n)\\right)^2 \\leq n$.\n",
    "\n",
    "The operator $\\cdot$ in $a \\cdot b$ is a so-called *infix* operator. The operator is written *between* its arguments. If an operator is written *before* its arguments we call this *prefix* notation. The product of a and b in prefix notation would look like this: $\\cdot a b$.\n",
    "\n",
    "In writing functional programs, the standard is prefix notation. In an expression `op a b`, `op` is the function, and `a` and `b` are the arguments. The convention is that function application associates to the left, so the expression `op a b` is interpreted as `(op a) b`.\n",
    "\n",
    "Using prefix notation, we define the operation `divides` that takes two integer\n",
    "expressions and produces a *truth value*. The truth values *true* and *false* are rendered in Haskell as `True` and `False`, respectively.\n",
    "\n",
    "The integer expressions that the procedure needs to work with are called the *arguments* of the procedure. The truth value that it produces is called the *value* of the procedure.\n",
    "\n",
    "Obviously, $m$ divides $n$ if and only if the remainder of the process of dividing n\n",
    "by $m$ equals $0$. The definition of `divides` can therefore be phrased in terms of a predefined procedure `rem` for finding the remainder of a division process:\n"
   ]
  },
  {
   "cell_type": "code",
   "execution_count": 8,
   "id": "8de8f7ab-c664-4df2-bc11-b03844a13f33",
   "metadata": {},
   "outputs": [],
   "source": [
    "divides d n = rem n d == 0"
   ]
  },
  {
   "cell_type": "markdown",
   "id": "23454252-f925-4d9b-a834-d534f2337dc2",
   "metadata": {},
   "source": [
    "The definition illustrates that Haskell uses `=` for 'is defined as' and `==` for identity. (The Haskell symbol for non-identity is `/=`.)\n",
    "\n",
    "A line of Haskell code of the form `foo t = ...` (or `foo t1 t2 = ...`, or\n",
    "`foo t1 t2 t3 = ...`, and so on) is called a Haskell equation. In such an equation, `foo` is called the function, and `t` its *argument*.\n",
    "\n",
    "Thus, in the Haskell equation `divides d n = rem n d == 0`, `divides` is the\n",
    "function, `d` is the first argument, and `n` is the second argument.\n",
    "\n",
    "### Exercise 1.3\n",
    "\n",
    "**TODO** Replace with Ihaskell/repl explanation\n",
    "\n",
    "Use the definition of `divides` in Haskell"
   ]
  },
  {
   "cell_type": "code",
   "execution_count": 9,
   "id": "e6bb55e0-6b4b-45ee-a86b-615a709e02b3",
   "metadata": {},
   "outputs": [
    {
     "data": {
      "text/plain": [
       "False"
      ]
     },
     "metadata": {},
     "output_type": "display_data"
    }
   ],
   "source": [
    "divides 5 7"
   ]
  },
  {
   "cell_type": "code",
   "execution_count": 10,
   "id": "b5e29a5f-c4f3-4a91-bf9a-80f1452db979",
   "metadata": {},
   "outputs": [
    {
     "data": {
      "text/plain": [
       "True"
      ]
     },
     "metadata": {},
     "output_type": "display_data"
    }
   ],
   "source": [
    "divides 5 30"
   ]
  },
  {
   "cell_type": "markdown",
   "id": "0f3c6db0-643c-4969-8f97-89e474b833ce",
   "metadata": {},
   "source": [
    "It is clear from the proposition above that all we have to do to implement a primality test is to give an implementation of the function $\\texttt{LD}$. It is convenient to define $\\texttt{LD}$ in terms of a second function $\\texttt{LDF}$, for the least divisor starting from a given\n",
    "threshold $k$, with $k \\leq n$. Thus, $\\texttt{LDF}(k)(n)$ is the least divisor of $n$ that is $\\geq k$.\n",
    "Clearly, $\\texttt{LD}(n) = \\texttt{LDF}(2)(n)$. Now we can implement $\\texttt{LD}$ as follows:"
   ]
  },
  {
   "cell_type": "code",
   "execution_count": 11,
   "id": "ff062f14-5a07-4ee7-91f9-cf01d94a3f88",
   "metadata": {},
   "outputs": [],
   "source": [
    "{- HLINT ignore \"Eta reduce\" -}\n",
    "ld n = ldf 2 n\n",
    "\n",
    "ldf k n | divides k n = k\n",
    "        | k^2 > n = n\n",
    "        | otherwise = ldf (k+1) n"
   ]
  },
  {
   "cell_type": "markdown",
   "id": "c0831d7a-541b-4999-a511-2df0fe1d0600",
   "metadata": {},
   "source": [
    "The definition employs the Haskell operation `^` for exponentiation, `>` for 'greater\n",
    "than', and `+` for addition.\n",
    "\n",
    "The definition of `ldf` makes use of *equation guarding*. The first line of the `ldf` definition handles the case where the first argument divides the second argument.\n",
    "Every next line assumes that the previous lines do not apply. The second line handles the case where the first argument does not divide the second argument, and the square of the first argument is greater than the second argument. The third line assumes that the first and second cases do not apply and handles all other cases, i.e., the cases where $k$ does not divide $n$ and $k^2 < n$.\n",
    "\n",
    "The definition employs the Haskell condition operator `|` . A Haskell equation of the form\n",
    "\n",
    "```haskell\n",
    "foo t | condition = ...\n",
    "```\n",
    "\n",
    "is called a *guarded equation*. We might have written the definition of `ldf` as a list of guarded equations, as follows:\n",
    "\n",
    "```haskell\n",
    "ldf k n | divides k n = k\n",
    "ldf k n | k^2 > n     = n\n",
    "ldf k n               = ldf (k+1) n\n",
    "```\n",
    "\n",
    "The expression condition, of type `Bool` (i.e., Boolean or truth value), is called\n",
    "the *guard* of the equation.\n",
    "\n",
    "A list of guarded equations such as\n",
    "\n",
    "```haskell\n",
    "foo t | condition_1 = body_1\n",
    "foo t | condition_2 = body_2\n",
    "foo t | condition_3 = body_3\n",
    "foo t               = body_4\n",
    "```\n",
    "\n",
    "can be abbreviated as\n",
    "\n",
    "```haskell\n",
    "foo t | condition_1 = body_1\n",
    "      | condition_2 = body_2\n",
    "      | condition_3 = body_3\n",
    "      | otherwise   = body_4\n",
    "```\n",
    "\n",
    "Such a Haskell definition is read as follows:\n",
    "\n",
    "* in case `condition_1` holds, `foo t` is by definition equal to `body_1`,\n",
    "* in case `condition_1` does not hold but `condition_2` holds, `foo t` is by\n",
    "definition equal to `body_2`,\n",
    "* in case `condition_1` and `condition_2` do not hold but `condition_3` holds, `foo t` is by definition equal to `body_3`,\n",
    "* and in case none of `condition_1`, `condition_2` and `condition_3` hold,\n",
    "`foo t` is by definition equal to `body_4`.\n",
    "\n",
    "When we are at the end of the list we know that none of the cases above in the list\n",
    "apply. This is indicated by means of the Haskell reserved keyword `otherwise`.\n",
    "\n",
    "Note that the procedure `ldf` is called again from the body of its own definition. We will encounter such **recursive** procedure definitions again and again in the course of this book (see in particular Chapter 7).\n",
    "\n",
    "### Exercise 1.4 \n",
    "\n",
    "Suppose in the definition of `ldf` we replace the condition `k^2 > n` by `k^2 >= n`, where `>=` expresses 'greater than or equal'. Would that make any difference to the meaning of the program? Why (not)?\n",
    "\n",
    "Now we are ready for a definition of `prime0`, our first implementation of the test for being a prime number.\n"
   ]
  },
  {
   "cell_type": "code",
   "execution_count": 12,
   "id": "2be826d4-0745-4f15-b595-9f7589914beb",
   "metadata": {},
   "outputs": [],
   "source": [
    "prime0 n | n < 1 = error \"not a positive integer\"\n",
    "         | n == 1 = False\n",
    "         | otherwise = ld n == n"
   ]
  },
  {
   "cell_type": "markdown",
   "id": "4c72cd1a-d342-40fe-a795-e43914c101d4",
   "metadata": {},
   "source": [
    "Haskell allows a call to the `error` operation in any definition. This is used to break off operation and issue an appropriate message when the primality test is used for numbers below $1$. Note that error has a parameter of type `String` (indicated by the double quotes).\n",
    "\n",
    "The definition employs the Haskell operation `<` for 'less than'.\n",
    "\n",
    "Intuitively, what the definition `prime0` says is this:\n",
    "\n",
    "1. the primality test should not be applied to numbers below $1$,\n",
    "2. if the test is applied to the number 1 it yields ‘false’,\n",
    "3. if it is applied to an integer n greater than 1 it boils down to checking that $\\texttt{LD}(n) = n$. In view of the proposition we proved above, this is indeed a correct primality test.\n",
    "\n",
    "\n",
    "### Exercise 1.5\n",
    "\n",
    "Try out these definitions\n",
    "\n",
    "**Remark**\n",
    "\n",
    "The use of variables in functional programming has much in common\n",
    "with the use of variables in logic. The definition `divides d n = rem n d == 0`\n",
    "is equivalent to `divides x y = rem y x == 0`. This is because the variables\n",
    "denote *arbitrary* elements of the type over which they range. They behave like\n",
    "universally quantified variables, and just as in logic the definition does not depend\n",
    "on the variable names.\n",
    "\n",
    "## 1.3 Haskell Type Declarations\n",
    "\n",
    "Haskell has a concise way to indicate that `divides` consumes an integer, then\n",
    "another integer, and produces a truth value (called `Bool` in Haskell). Integers and truth values are examples of *types*. See Section 2.1 for more on the type `Bool`.\n",
    "Section 1.6 gives more information about types in general. Arbitrary precision\n",
    "integers in Haskell have type `Integer`. The following line gives a so-called type\n",
    "declaration for the `divides` function.\n",
    "\n",
    "```haskell\n",
    "divides :: Integer -> Integer -> Bool\n",
    "```\n",
    "\n",
    "`Integer -> Integer -> Bool` is short for `Integer -> Integer -> Bool)`. A type of the form `a -> b` classifies a procedure that takes an argument of type `a`\n",
    "to produce a result of type `b`. Thus, `divides` takes an argument of type `Integer` and produces a result of type `Integer -> Bool`, i.e., a procedure that takes an argument of type `Integer`, and produces a result of type `Bool`.\n",
    "\n",
    "The full code for `divides`, including the type declaration, looks like this:\n"
   ]
  },
  {
   "cell_type": "code",
   "execution_count": 13,
   "id": "9a1929c0-40cd-4ad8-93b0-a46e083bbab9",
   "metadata": {},
   "outputs": [],
   "source": [
    "divides :: Integer -> Integer -> Bool\n",
    "divides d n = rem n d == 0"
   ]
  },
  {
   "cell_type": "markdown",
   "id": "468739cc-c989-4321-86d8-95be7e4f3578",
   "metadata": {},
   "source": [
    "If `d` is an expression of type `Integer`, then `divides d` is an expression of type\n",
    "`Integer -> Bool`. The shorthand that we will use for\n",
    "\n",
    "> `d` is an *expression of type* `Integer`\n",
    "\n",
    "is `d :: Integer`.\n",
    "\n",
    "### Exercise 1.6\n",
    "\n",
    "Can you gather from the definition of `divides` what the type declaration for `rem` would look like?\n",
    "\n",
    "### Exercise 1.7\n",
    "\n",
    "IHaskell and GHCI have a command for checking the types of expressions. Can you explain the following:"
   ]
  },
  {
   "cell_type": "code",
   "execution_count": 14,
   "id": "2df46663-999c-4068-87de-bbe1f1ee52dc",
   "metadata": {},
   "outputs": [
    {
     "data": {
      "text/html": [
       "<style>/* Styles used for the Hoogle display in the pager */\n",
       ".hoogle-doc {\n",
       "display: block;\n",
       "padding-bottom: 1.3em;\n",
       "padding-left: 0.4em;\n",
       "}\n",
       ".hoogle-code {\n",
       "display: block;\n",
       "font-family: monospace;\n",
       "white-space: pre;\n",
       "}\n",
       ".hoogle-text {\n",
       "display: block;\n",
       "}\n",
       ".hoogle-name {\n",
       "color: green;\n",
       "font-weight: bold;\n",
       "}\n",
       ".hoogle-head {\n",
       "font-weight: bold;\n",
       "}\n",
       ".hoogle-sub {\n",
       "display: block;\n",
       "margin-left: 0.4em;\n",
       "}\n",
       ".hoogle-package {\n",
       "font-weight: bold;\n",
       "font-style: italic;\n",
       "}\n",
       ".hoogle-module {\n",
       "font-weight: bold;\n",
       "}\n",
       ".hoogle-class {\n",
       "font-weight: bold;\n",
       "}\n",
       ".get-type {\n",
       "color: green;\n",
       "font-weight: bold;\n",
       "font-family: monospace;\n",
       "display: block;\n",
       "white-space: pre-wrap;\n",
       "}\n",
       ".show-type {\n",
       "color: green;\n",
       "font-weight: bold;\n",
       "font-family: monospace;\n",
       "margin-left: 1em;\n",
       "}\n",
       ".mono {\n",
       "font-family: monospace;\n",
       "display: block;\n",
       "}\n",
       ".err-msg {\n",
       "color: red;\n",
       "font-style: italic;\n",
       "font-family: monospace;\n",
       "white-space: pre;\n",
       "display: block;\n",
       "}\n",
       "#unshowable {\n",
       "color: red;\n",
       "font-weight: bold;\n",
       "}\n",
       ".err-msg.in.collapse {\n",
       "padding-top: 0.7em;\n",
       "}\n",
       ".highlight-code {\n",
       "white-space: pre;\n",
       "font-family: monospace;\n",
       "}\n",
       ".suggestion-warning { \n",
       "font-weight: bold;\n",
       "color: rgb(200, 130, 0);\n",
       "}\n",
       ".suggestion-error { \n",
       "font-weight: bold;\n",
       "color: red;\n",
       "}\n",
       ".suggestion-name {\n",
       "font-weight: bold;\n",
       "}\n",
       "</style><span class='get-type'>divides 5 :: Integer -> Bool</span>"
      ],
      "text/plain": [
       "divides 5 :: Integer -> Bool"
      ]
     },
     "metadata": {},
     "output_type": "display_data"
    }
   ],
   "source": [
    ":t divides 5"
   ]
  },
  {
   "cell_type": "code",
   "execution_count": 15,
   "id": "15e3909a-28ec-4601-836b-5c8703813bdf",
   "metadata": {},
   "outputs": [
    {
     "data": {
      "text/html": [
       "<style>/* Styles used for the Hoogle display in the pager */\n",
       ".hoogle-doc {\n",
       "display: block;\n",
       "padding-bottom: 1.3em;\n",
       "padding-left: 0.4em;\n",
       "}\n",
       ".hoogle-code {\n",
       "display: block;\n",
       "font-family: monospace;\n",
       "white-space: pre;\n",
       "}\n",
       ".hoogle-text {\n",
       "display: block;\n",
       "}\n",
       ".hoogle-name {\n",
       "color: green;\n",
       "font-weight: bold;\n",
       "}\n",
       ".hoogle-head {\n",
       "font-weight: bold;\n",
       "}\n",
       ".hoogle-sub {\n",
       "display: block;\n",
       "margin-left: 0.4em;\n",
       "}\n",
       ".hoogle-package {\n",
       "font-weight: bold;\n",
       "font-style: italic;\n",
       "}\n",
       ".hoogle-module {\n",
       "font-weight: bold;\n",
       "}\n",
       ".hoogle-class {\n",
       "font-weight: bold;\n",
       "}\n",
       ".get-type {\n",
       "color: green;\n",
       "font-weight: bold;\n",
       "font-family: monospace;\n",
       "display: block;\n",
       "white-space: pre-wrap;\n",
       "}\n",
       ".show-type {\n",
       "color: green;\n",
       "font-weight: bold;\n",
       "font-family: monospace;\n",
       "margin-left: 1em;\n",
       "}\n",
       ".mono {\n",
       "font-family: monospace;\n",
       "display: block;\n",
       "}\n",
       ".err-msg {\n",
       "color: red;\n",
       "font-style: italic;\n",
       "font-family: monospace;\n",
       "white-space: pre;\n",
       "display: block;\n",
       "}\n",
       "#unshowable {\n",
       "color: red;\n",
       "font-weight: bold;\n",
       "}\n",
       ".err-msg.in.collapse {\n",
       "padding-top: 0.7em;\n",
       "}\n",
       ".highlight-code {\n",
       "white-space: pre;\n",
       "font-family: monospace;\n",
       "}\n",
       ".suggestion-warning { \n",
       "font-weight: bold;\n",
       "color: rgb(200, 130, 0);\n",
       "}\n",
       ".suggestion-error { \n",
       "font-weight: bold;\n",
       "color: red;\n",
       "}\n",
       ".suggestion-name {\n",
       "font-weight: bold;\n",
       "}\n",
       "</style><span class='get-type'>divides 5 7 :: Bool</span>"
      ],
      "text/plain": [
       "divides 5 7 :: Bool"
      ]
     },
     "metadata": {},
     "output_type": "display_data"
    }
   ],
   "source": [
    ":t divides 5 7"
   ]
  },
  {
   "cell_type": "markdown",
   "id": "aadb2e79-f5b6-487b-bc0a-e4bc932b00ea",
   "metadata": {},
   "source": [
    "The expression `divides 5 :: Integer -> Bool` is called a *type judgment*. Type judgments in Haskell have the form `expression :: type`.\n",
    "\n",
    "In Haskell it is not strictly necessary to give explicit type declarations. For instance, the definition of divides works quite well without the type declaration, since the system can infer the type from the definition. However, it is good programming practice to give explicit type declarations even when this is not strictly necessary. These type declarations are an aid to understanding, and they greatly improve the digestibility of functional programs for human readers. A further advantage of the explicit type declarations is that they facilitate detection of programming mistakes on the basis of type errors generated by the interpreter. You will find that many programming errors already come to light when your program gets loaded. The fact that your program is well typed does not entail that it is correct, of course, but many incorrect programs do have typing mistakes.\n",
    "\n",
    "The fill code for `ld`, including the type declaration, looks like this:"
   ]
  },
  {
   "cell_type": "code",
   "execution_count": 16,
   "id": "49f80904-4b39-4ce0-a011-9a3f5e686ca2",
   "metadata": {},
   "outputs": [],
   "source": [
    "{- HLINT ignore \"Eta reduce\" -}\n",
    "ld :: Integer -> Integer\n",
    "ld n = ldf 2 n\n",
    "\n",
    "ldf :: Integer -> Integer -> Integer\n",
    "ldf k n | divides k n = k\n",
    "        | k^2 > n     = n\n",
    "        | otherwise   = ldf (k+1) n"
   ]
  },
  {
   "cell_type": "markdown",
   "id": "ba133b78-718f-4c31-ab58-0b438e7a9100",
   "metadata": {},
   "source": [
    "The first line of the code states that the operation `ldf` takes two integers and pro-\n",
    "duces an integer.\n",
    "\n",
    "The full code for `prime0`, including the type declaration, runs like this:"
   ]
  },
  {
   "cell_type": "code",
   "execution_count": 17,
   "id": "dac668c0-5921-4d9e-9e5b-67f37bcd1e97",
   "metadata": {},
   "outputs": [],
   "source": [
    "prime0 :: Integer -> Bool\n",
    "prime0 n | n < 1 = error \"not a positive integer\"\n",
    "         | n == 1 = False\n",
    "         | otherwise = ld n == n"
   ]
  },
  {
   "cell_type": "markdown",
   "id": "554f9356-13c9-43c0-9a38-1dac5fddd949",
   "metadata": {},
   "source": [
    "The first line of the code declares that the operation `prime0` takes an integer and\n",
    "produces (or *returns*, as programmers like to say) a Boolean (truth value).\n",
    "\n",
    "In programming generally, it is useful to keep close track of the nature of the objects that are being represented. This is because representations have to be stored in computer memory, and one has to know how much space to allocate for this storage. Still, there is no need to always specify the nature of each data-type explicitly. It turns out that much information about the nature of an object can be inferred from how the object is handled in a particular program, or in other words, from the operations that are performed on that object.\n",
    "\n",
    "Take again the definition of `divides`. It is clear from the definition that an operation is defined with two arguments, both of which are of a type for which `rem` is defined, and with a result of type `Bool` (for `rem n d == 0` is a statement that can turn out true or false). If we check the type of the built-in procedure rem we get:"
   ]
  },
  {
   "cell_type": "code",
   "execution_count": 18,
   "id": "6c7e5003-d03e-44c8-918a-9e39ce3a20a4",
   "metadata": {},
   "outputs": [
    {
     "data": {
      "text/html": [
       "<style>/* Styles used for the Hoogle display in the pager */\n",
       ".hoogle-doc {\n",
       "display: block;\n",
       "padding-bottom: 1.3em;\n",
       "padding-left: 0.4em;\n",
       "}\n",
       ".hoogle-code {\n",
       "display: block;\n",
       "font-family: monospace;\n",
       "white-space: pre;\n",
       "}\n",
       ".hoogle-text {\n",
       "display: block;\n",
       "}\n",
       ".hoogle-name {\n",
       "color: green;\n",
       "font-weight: bold;\n",
       "}\n",
       ".hoogle-head {\n",
       "font-weight: bold;\n",
       "}\n",
       ".hoogle-sub {\n",
       "display: block;\n",
       "margin-left: 0.4em;\n",
       "}\n",
       ".hoogle-package {\n",
       "font-weight: bold;\n",
       "font-style: italic;\n",
       "}\n",
       ".hoogle-module {\n",
       "font-weight: bold;\n",
       "}\n",
       ".hoogle-class {\n",
       "font-weight: bold;\n",
       "}\n",
       ".get-type {\n",
       "color: green;\n",
       "font-weight: bold;\n",
       "font-family: monospace;\n",
       "display: block;\n",
       "white-space: pre-wrap;\n",
       "}\n",
       ".show-type {\n",
       "color: green;\n",
       "font-weight: bold;\n",
       "font-family: monospace;\n",
       "margin-left: 1em;\n",
       "}\n",
       ".mono {\n",
       "font-family: monospace;\n",
       "display: block;\n",
       "}\n",
       ".err-msg {\n",
       "color: red;\n",
       "font-style: italic;\n",
       "font-family: monospace;\n",
       "white-space: pre;\n",
       "display: block;\n",
       "}\n",
       "#unshowable {\n",
       "color: red;\n",
       "font-weight: bold;\n",
       "}\n",
       ".err-msg.in.collapse {\n",
       "padding-top: 0.7em;\n",
       "}\n",
       ".highlight-code {\n",
       "white-space: pre;\n",
       "font-family: monospace;\n",
       "}\n",
       ".suggestion-warning { \n",
       "font-weight: bold;\n",
       "color: rgb(200, 130, 0);\n",
       "}\n",
       ".suggestion-error { \n",
       "font-weight: bold;\n",
       "color: red;\n",
       "}\n",
       ".suggestion-name {\n",
       "font-weight: bold;\n",
       "}\n",
       "</style><span class='get-type'>rem :: forall a. Integral a => a -> a -> a</span>"
      ],
      "text/plain": [
       "rem :: forall a. Integral a => a -> a -> a"
      ]
     },
     "metadata": {},
     "output_type": "display_data"
    }
   ],
   "source": [
    ":t rem"
   ]
  },
  {
   "cell_type": "markdown",
   "id": "7a011a40-00cb-414a-9130-681716bf1baf",
   "metadata": {},
   "source": [
    "In this particular case, the type judgment gives a *type scheme* rather than a type. It\n",
    "means: if a is a type of class `Integral`, then `rem` is of type `a -> a -> a`. Here\n",
    "`a` is used as a variable ranging over types.\n",
    "\n",
    "In Haskell, `Integral` is the class (see Section 4.2) consisting of the two types for\n",
    "integer numbers, `Int` and `Integer`. The difference between `Int` and `Integer`\n",
    "is that objects of type `Int` have fixed precision, objects of type `Integer` have\n",
    "arbitrary precision.\n",
    "\n",
    "The type of `divides` can now be inferred from the definition. This is what we get\n",
    "when we load the definition of divides without the type declaration:"
   ]
  },
  {
   "cell_type": "code",
   "execution_count": 19,
   "id": "e052a495-3331-41f4-adcb-91bedf7e5d8d",
   "metadata": {},
   "outputs": [
    {
     "data": {
      "text/html": [
       "<style>/* Styles used for the Hoogle display in the pager */\n",
       ".hoogle-doc {\n",
       "display: block;\n",
       "padding-bottom: 1.3em;\n",
       "padding-left: 0.4em;\n",
       "}\n",
       ".hoogle-code {\n",
       "display: block;\n",
       "font-family: monospace;\n",
       "white-space: pre;\n",
       "}\n",
       ".hoogle-text {\n",
       "display: block;\n",
       "}\n",
       ".hoogle-name {\n",
       "color: green;\n",
       "font-weight: bold;\n",
       "}\n",
       ".hoogle-head {\n",
       "font-weight: bold;\n",
       "}\n",
       ".hoogle-sub {\n",
       "display: block;\n",
       "margin-left: 0.4em;\n",
       "}\n",
       ".hoogle-package {\n",
       "font-weight: bold;\n",
       "font-style: italic;\n",
       "}\n",
       ".hoogle-module {\n",
       "font-weight: bold;\n",
       "}\n",
       ".hoogle-class {\n",
       "font-weight: bold;\n",
       "}\n",
       ".get-type {\n",
       "color: green;\n",
       "font-weight: bold;\n",
       "font-family: monospace;\n",
       "display: block;\n",
       "white-space: pre-wrap;\n",
       "}\n",
       ".show-type {\n",
       "color: green;\n",
       "font-weight: bold;\n",
       "font-family: monospace;\n",
       "margin-left: 1em;\n",
       "}\n",
       ".mono {\n",
       "font-family: monospace;\n",
       "display: block;\n",
       "}\n",
       ".err-msg {\n",
       "color: red;\n",
       "font-style: italic;\n",
       "font-family: monospace;\n",
       "white-space: pre;\n",
       "display: block;\n",
       "}\n",
       "#unshowable {\n",
       "color: red;\n",
       "font-weight: bold;\n",
       "}\n",
       ".err-msg.in.collapse {\n",
       "padding-top: 0.7em;\n",
       "}\n",
       ".highlight-code {\n",
       "white-space: pre;\n",
       "font-family: monospace;\n",
       "}\n",
       ".suggestion-warning { \n",
       "font-weight: bold;\n",
       "color: rgb(200, 130, 0);\n",
       "}\n",
       ".suggestion-error { \n",
       "font-weight: bold;\n",
       "color: red;\n",
       "}\n",
       ".suggestion-name {\n",
       "font-weight: bold;\n",
       "}\n",
       "</style><span class='get-type'>divides :: forall {a}. Integral a => a -> a -> Bool</span>"
      ],
      "text/plain": [
       "divides :: forall {a}. Integral a => a -> a -> Bool"
      ]
     },
     "metadata": {},
     "output_type": "display_data"
    }
   ],
   "source": [
    "divides d n = rem n d == 0\n",
    ":t divides"
   ]
  },
  {
   "cell_type": "markdown",
   "id": "b0221fa3-07d2-4c2b-8c11-3da850498338",
   "metadata": {},
   "source": [
    "## 1.4 Identifiers in Haskell\n",
    "\n",
    "In Haskell, there are two kinds of identifiers:\n",
    "\n",
    "* Variable identifiers are used to name functions. They have to start with a lower-case letter. E.g., `map`, `max`, `fct2list`, `fctToList`, `fct_to_list`.\n",
    "* Constructor identifiers are used to name types. They have to start with an upper-case letter. Examples are `True`, `False`.\n",
    "\n",
    "Functions are operations on data-structures, constructors are the building blocks of the data structures themselves (trees, lists, Booleans, and so on).\n",
    "\n",
    "Names of functions always start with lowe-case letters, and may contain both upper- and lower-case letters, but also digits, underscores and the prime symbol `'`. The following *reserved keywords* have special meanings and cannot be used to\n",
    "name functions.\n",
    "\n",
    "> `case` `class` `data` `default` `deriving` `do` `else` `if` `import` `in` `infix` `infixl` `infixr` `instance` `let` `module` `newtype` `of` `then` `type` `where` `forall`\n",
    "\n",
    "The use of these keywords will be explained as we encounter them. `_` at the beginning of a word is treated as a lower-case character. The underscore character `_` all by itself is a reserved word for the wild card pattern that matches anything (**TODO** page 141).\n",
    "\n",
    "**TODO** Do we need to care about `forall` keyword if not using HUGS?\n",
    "\n",
    "## 1.5 Playing the Haskell Game\n",
    "\n",
    "This section consists of a number of further examples and exercises to get you acquainted with the programming language of this notebook.\n",
    "\n",
    "**TODO** Furhter clarity how to use these examples?\n",
    "\n",
    "In the next example, we use `Int` for the type of fixed precision integers, and `[Int]` for lists of fixed precision integers.\n",
    "\n",
    "### Example 1.8 \n",
    "\n",
    "Here is a function that gives the minimum of a list of integers:\n"
   ]
  },
  {
   "cell_type": "code",
   "execution_count": 20,
   "id": "68a2f92e-651e-46a4-9c9a-afc8da00a94a",
   "metadata": {},
   "outputs": [],
   "source": [
    "mnmInt :: [Int] -> Int\n",
    "mnmInt [] = error \"empty list\"\n",
    "mnmInt [x] = x\n",
    "mnmInt (x:xs) = min x (mnmInt xs)"
   ]
  },
  {
   "cell_type": "markdown",
   "id": "2089d4db-6322-4e34-a8d6-cc0d5ca7f40e",
   "metadata": {},
   "source": [
    "This uses the predefined function `min` for the minimum of two integers. It also\n",
    "uses pattern matching for lists. The list pattern `[]` matches only the empty list,\n",
    "the list pattern `[x]` matches any singleton list, the list pattern `(x:xs)` matches any\n",
    "non-empty list. A further subtlety is that pattern matching in Haskell is sensitive\n",
    "to order. If the pattern `[x]` is found before `(x:xs)` then `(x:xs)` matches any\n",
    "non-empty list that is not a unit list. See Section 4.6 for more information on list\n",
    "pattern matching.\n",
    "\n",
    "It is common Haskell practice to refer to non-empty lists as `x:xs`, `y:ys`, and so\n",
    "on, as a useful reminder of the facts that `x` is an element of a list of `x`'s and that `xs` is a list.\n",
    "\n",
    "Here is a home-made version of `min`"
   ]
  },
  {
   "cell_type": "code",
   "execution_count": 21,
   "id": "5bd6a577-c366-4a31-8a44-1fdfe7ba29a7",
   "metadata": {},
   "outputs": [],
   "source": [
    "min' :: Int -> Int -> Int\n",
    "min' x y | x <= y    = x\n",
    "         | otherwise = y"
   ]
  },
  {
   "cell_type": "markdown",
   "id": "87693f83-09b2-4bb3-9ef9-e9db211ef3a7",
   "metadata": {},
   "source": [
    "You will have guessed that `<=` is Haskell code for $\\leq$.\n",
    "\n",
    "Objects of type `Int` are fixed precision integers. Their range can be found with:"
   ]
  },
  {
   "cell_type": "code",
   "execution_count": 22,
   "id": "d6818be6-631d-4a6c-b6d7-37005e0bd2af",
   "metadata": {},
   "outputs": [
    {
     "data": {
      "text/plain": [
       "-9223372036854775808"
      ]
     },
     "metadata": {},
     "output_type": "display_data"
    }
   ],
   "source": [
    "(minBound :: Int)"
   ]
  },
  {
   "cell_type": "code",
   "execution_count": 23,
   "id": "0b6e4d11-fa91-4c41-a8c0-c74a78311335",
   "metadata": {},
   "outputs": [
    {
     "data": {
      "text/plain": [
       "9223372036854775807"
      ]
     },
     "metadata": {},
     "output_type": "display_data"
    }
   ],
   "source": [
    "(maxBound :: Int)"
   ]
  },
  {
   "cell_type": "markdown",
   "id": "f6162aaf-4c8a-41e3-a7e4-f5b6cb05e837",
   "metadata": {},
   "source": [
    "Since $9223372036854775807 = 2^{63}-1$ we can conclude that the IHaskell implementation uses eight bytes (64 bits) to represent objects of this type. Integer is for arbitrary precision integers: the storage space that gets allocated for Integer objects depends on the size of the object.\n",
    "\n",
    "### Exercise 1.9 \n",
    "\n",
    "Define a function that gives the maximum of a list of integers. Use the predefined function `max`.\n",
    "\n",
    "### Conversion from Prefix to Infix in Haskell\n",
    "\n",
    "A function can be converted to an\n",
    "infix operator by putting its name in back quotes, like this:"
   ]
  },
  {
   "cell_type": "code",
   "execution_count": 24,
   "id": "29826641-645e-49af-8d9a-487c2e1424ca",
   "metadata": {},
   "outputs": [
    {
     "data": {
      "text/plain": [
       "5"
      ]
     },
     "metadata": {},
     "output_type": "display_data"
    }
   ],
   "source": [
    "max 4 5"
   ]
  },
  {
   "cell_type": "code",
   "execution_count": 25,
   "id": "f5448736-8ed3-442f-bf9e-1d38dd15c222",
   "metadata": {},
   "outputs": [
    {
     "data": {
      "text/plain": [
       "5"
      ]
     },
     "metadata": {},
     "output_type": "display_data"
    }
   ],
   "source": [
    "4 `max` 5"
   ]
  },
  {
   "cell_type": "markdown",
   "id": "6e2e4cbe-6818-454b-9bed-a4e5be55f266",
   "metadata": {},
   "source": [
    "Conversely, an infix operator is converted to prefix by putting the operator in round\n",
    "brackets (p. 21).\n",
    "\n",
    "### Exercise 1.10\n",
    "\n",
    "Define a function `removeFst` that removes the first occurrence of an integer $m$ from a list of integers. If $m$ does not occur in the list, the list remains unchanged.\n",
    "\n"
   ]
  },
  {
   "cell_type": "code",
   "execution_count": 26,
   "id": "beceba80-155b-4523-9284-6d9a31a72a99",
   "metadata": {},
   "outputs": [],
   "source": [
    "removeFst = undefined"
   ]
  },
  {
   "cell_type": "markdown",
   "id": "2efd2805-2eba-4721-800a-dc992244122c",
   "metadata": {},
   "source": [
    "### Exercise 1.11\n",
    "\n",
    "We define a function that sorts a list of integers in order of increasing size, by means of the following algorithm:\n",
    "\n",
    "* an empty list is already sorted.\n",
    "* if an list is non-empty, we put its minimum in front of the result of sorting the list that returns from removing its minimum.\n",
    "\n",
    "This is implemented as follows:"
   ]
  },
  {
   "cell_type": "code",
   "execution_count": 27,
   "id": "9776bcea-259b-42d2-a61c-f98bdd07359e",
   "metadata": {},
   "outputs": [],
   "source": [
    "{- HLINT ignore \"Redundant bracket\" -}\n",
    "srtInts :: [Int] -> [Int]\n",
    "srtInts [] = []\n",
    "srtInts xs = m : (srtInts (removeFst m xs)) where m = mnmInt xs"
   ]
  },
  {
   "cell_type": "markdown",
   "id": "097553dd-764f-4ee9-8698-157cf2192cd7",
   "metadata": {},
   "source": [
    "Here `removeFst` is the function you defined in Exercise 1.10. Note that the second\n",
    "clause is invoked when the first one does not apply, i.e., when the argument of\n",
    "`srtInts` is not empty. This ensures that `mnmInt xs` never gives rise to an error.\n",
    "Note the use of a `where` construction for the local definition of an auxiliary function.\n",
    "\n",
    "**Remark**\n",
    "\n",
    "Haskell has two ways to locally define auxiliary functions, `where` and\n",
    "`let` constructions. The where construction is illustrated in Example 1.11. This\n",
    "can also expressed with let, as follows:"
   ]
  },
  {
   "cell_type": "code",
   "execution_count": 28,
   "id": "5005e853-dc01-47ff-9aa4-1a897eae813f",
   "metadata": {},
   "outputs": [],
   "source": [
    "{- HLINT ignore \"Redundant bracket\" -}\n",
    "srtInts' :: [Int] -> [Int]\n",
    "srtInts' [] = []\n",
    "srtInts' xs = let m = mnmInt xs \n",
    "              in  m : (srtInts' (removeFst m xs))"
   ]
  },
  {
   "cell_type": "markdown",
   "id": "e61aa3ba-95fe-42c8-a1ca-bb0da6fdea0f",
   "metadata": {},
   "source": [
    "The `let` construction uses the reserved keywords `let` and `in`."
   ]
  },
  {
   "cell_type": "markdown",
   "id": "519a4648-14f0-4e1d-a9c9-d1c0599ed2e0",
   "metadata": {},
   "source": [
    "### Example 1.12\n",
    "\n",
    "Here is a function that calculates the average of a list of integers. The average of $m$ and $n$ is given by $\\frac{m+n} 2$, the average of a list of $k$ integers $n_1, \\ldots , n_k$ is given by $\\frac {n_1 + \\ldots + n_k} k$. In general, averages are fractions, so the result type of average should not be `Int` but the Haskell data-type for floating point numbers, which is `Float`. There are predefined functions sum for the sum of a list of integers, and `length` for the length of a list. The Haskell operation for division `/` expects arguments of type `Float` (or more precisely, of `Fractional` type, and `Float` is such a type), so we need a conversion function for converting `Ints` into `Floats`. This is done by `fromIntegral `. The function average can now be written as"
   ]
  },
  {
   "cell_type": "code",
   "execution_count": 29,
   "id": "3ea5d8e4-e3d4-4322-8158-d0cab4fbea91",
   "metadata": {},
   "outputs": [],
   "source": [
    "average :: [Int] -> Float\n",
    "average [] = error \"empty list\"\n",
    "average xs = fromIntegral  (sum xs) / fromIntegral  (length xs)"
   ]
  },
  {
   "cell_type": "markdown",
   "id": "767a7367-769c-428d-a0a8-eda28bfc1695",
   "metadata": {},
   "source": [
    "Again, it is instructive to write our own homemade versions of sum and length.\n",
    "\n",
    "Here they are:"
   ]
  },
  {
   "cell_type": "code",
   "execution_count": 30,
   "id": "d6041df0-d702-4613-a9cb-02d6d96a2b65",
   "metadata": {},
   "outputs": [],
   "source": [
    "{- HLINT ignore \"Use foldr\" -}\n",
    "sum' :: [Int] -> Int\n",
    "sum' [] = 0\n",
    "sum' (x:xs) = x + sum' xs"
   ]
  },
  {
   "cell_type": "code",
   "execution_count": 31,
   "id": "d6a8bf97-68ea-4f66-af26-969e40dc2c68",
   "metadata": {},
   "outputs": [],
   "source": [
    "{- HLINT ignore \"Use foldr\" -}\n",
    "length' :: [a] -> Int\n",
    "length' [] = 0\n",
    "length' (x:xs) = 1 + length' xs"
   ]
  },
  {
   "cell_type": "markdown",
   "id": "bc05a25f-0c11-48fc-b4e7-c7a6b1b35d3d",
   "metadata": {},
   "source": [
    "Note that the type declaration for `length’` contains a variable `a`. This variable\n",
    "ranges over all types, so `[a]` is the type of a list of objects of an arbitrary type `a`.\n",
    "We say that `[a]` is a *type scheme* rather than a type. This way, we can use the same\n",
    "function `length'` for computing the length of a list of integers, the length of a list\n",
    "of characters, the length of a list of strings (lists of characters), and so on.\n",
    "\n",
    "The type `[Char]` is abbreviated as `String`. Examples of characters are `'a'`, `'b'`\n",
    "(note the single quotes) examples of strings are `\"Russell\"` and `\"Cantor\"` (note\n",
    "the double quotes). In fact, `\"Russell\"` can be seen as an abbreviation of the list:"
   ]
  },
  {
   "cell_type": "code",
   "execution_count": 32,
   "id": "3c4622c7-6a3e-40e9-8eed-18918dca26d2",
   "metadata": {},
   "outputs": [
    {
     "data": {
      "text/plain": [
       "\"Russell\""
      ]
     },
     "metadata": {},
     "output_type": "display_data"
    }
   ],
   "source": [
    "[ 'R', 'u', 's', 's', 'e', 'l', 'l' ]"
   ]
  },
  {
   "cell_type": "markdown",
   "id": "67dd83fd-e2e0-4126-a7e9-adba9fb03d88",
   "metadata": {},
   "source": [
    "### Exercise 1.13\n",
    "\n",
    "Write a function count for counting the number of occurrences of\n",
    "a character in a string. In Haskell, a character is an object of type `Char`, and a string an object of type `String`, so the type declaration should run: `count :: Char -> String -> Int`.\n",
    "\n",
    "### Exercise 1.14 \n",
    "\n",
    "A function for transforming strings into strings is of type `String -> String`. Write a function blowup that converts a string\n",
    "\n",
    "$$ a_1 a_2 a_3 \\ldots $$\n",
    "\n",
    "to\n",
    "\n",
    "$$ a_1 a_2 a_2 a_3 a_3 a_3 \\ldots $$\n",
    "\n",
    "`blowup \"bang!\"` should yield `\"baannngggg!!!!!\"`. (Hint: use `++` for string concatenation.)\n",
    "\n",
    "### Exercise 1.15\n",
    "\n",
    "Write a function `srtString :: [String] -> [String]` that sorts a list of strings in alphabetical order.\n",
    "\n",
    "### Exercise 1.16\n",
    "\n",
    "Suppose we want to check whether a string `str1` is a prefix of a string `str2`. Then the answer to the question `prefix str1 str2` should be either yes (true) or no (false), i.e., the type declaration for prefix should run: `prefix :: String -> String -> Bool`.\n",
    "\n",
    "Prefixes of a string `ys` are defined as follows:\n",
    "\n",
    "1. `[]` is a prefix of `ys`,\n",
    "1. if `xs` is a prefix of `ys` then `x:xs` is a prefix of `x:ys`,\n",
    "1. nothing else is a prefix of `ys`.\n",
    "\n",
    "Here is the code for `prefix` that implements this definition:"
   ]
  },
  {
   "cell_type": "code",
   "execution_count": 33,
   "id": "1490e6e2-b87d-47c2-b8a8-0521ca5dd54c",
   "metadata": {},
   "outputs": [],
   "source": [
    "prefix :: String -> String -> Bool\n",
    "prefix [] ys = True\n",
    "prefix (x:xs) [] = False\n",
    "prefix (x:xs) (y:ys) = (x==y) && prefix xs ys"
   ]
  },
  {
   "cell_type": "markdown",
   "id": "82a38e40-b835-4c72-a8da-f8fc8bd9e41c",
   "metadata": {},
   "source": [
    "The definition of `prefix` uses the Haskell operator `&&` for conjunction.\n",
    "\n",
    "### Exercise 1.17\n",
    "\n",
    "Write a function `substring :: String -> String -> Bool` that checks whether `str1` is a substring of `str2`. The substrings of an arbitrary string `ys` are given by:\n",
    "\n",
    "1. if `xs` is a prefix of `ys`, `xs` is a substring of `ys`,\n",
    "1. if `ys` equals `y:ys'` and `xs` is a substring of `ys'`, `xs` is a substring of `ys`,\n",
    "1. nothing else is a substring of `ys`."
   ]
  },
  {
   "cell_type": "markdown",
   "id": "984f7aa0-05bc-4823-9059-381d7ebba672",
   "metadata": {},
   "source": [
    "## 1.6 Haskell Types\n",
    "\n",
    "The basic Haskell types are:\n",
    "\n",
    "* `Int` and `Integer`, to represent integers. Elements of `Integer` are unbounded. That's why we used this type in the implementation of the prime number test.\n",
    "* `Float` and `Double` represent floating point numbers. The elements of `Double` have higher precision.\n",
    "* `Bool` is the type of Booleans.\n",
    "* `Char` is the type of characters.\n",
    "\n",
    "Note that the name of a type always starts with a capital letter.\n",
    "\n",
    "To denote arbitrary types, Haskell allows the use of type *variables*. For these, `a`, `b`,\n",
    "..., are used.\n",
    "\n",
    "New types can be formed in several ways:\n",
    "\n",
    "* By list-formation: if `a` is a type, `[a]` is the type of lists over `a`. Examples:\n",
    "`[Int]` is the type of lists of integers; `[Char]` is the type of lists of characters,\n",
    "or strings.\n",
    "• By pair- or tuple-formation: if `a` and `b` are types, then `(a,b)` is the type of pairs with an object of type a as their first component, and an object of type `b` as their second component. Similarly, triples, quadruples, ..., can be formed. If `a`, `b` and `c` are types, then `(a,b,c)` is the type of triples with an object of type `a` as their first component, an object of type `b` as their second component, and an object of type `c` as their third component. And so on\n",
    "(p. 139).\n",
    "* By function definition: `a -> b` is the type of a function that takes arguments\n",
    "of type `a` and returns values of type `b`.\n",
    "* By defining your own data-type from scratch, with a data type declaration. More about this in due course.\n",
    "\n",
    "Pairs will be further discussed in Section 4.5, lists and list operations in Section\n",
    "4.6.\n",
    "\n",
    "Operations are procedures for constructing objects of a certain types `b` from ingredients of a type `a`. Now such a procedure can itself be given a type: the type of a transformer from `a` type objects to `b` type objects. The type of such a procedure can be declared in Haskell as `a -> b`.\n",
    "\n",
    "If a function takes two string arguments and returns a string then this can be\n",
    "viewed as a two-stage process: the function takes a first string and returns a transformer from strings to strings. It then follows that the type is `String ->\n",
    "(String -> String)`, which can be written as `String -> String -> String`, because of the Haskell convention that `->` associates to the right.\n",
    "\n",
    "### Exercise 1.18\n",
    "\n",
    "Find expressions with the following types:\n",
    "\n",
    "1. `[String]`\n",
    "1. `(Bool,String)`\n",
    "1. `[(Bool,String)]`\n",
    "1. `([Bool], String)`\n",
    "1. `Bool -> Bool`\n",
    "\n",
    "Test your answers by means of using the command `:t`.\n",
    "\n",
    "### Exercise 1.19\n",
    "\n",
    "Use the command `:t` to find the tpyes of the following predefined functions:\n",
    "\n",
    "1. `head`\n",
    "1. `last`\n",
    "1. `init`\n",
    "1. `fst`\n",
    "1. `(++)`\n",
    "1. `flip`\n",
    "1. `flip (++)`\n",
    "\n",
    "Next, supply these functions with arguments of the expected types, and try to guess\n",
    "what these functions do.\n",
    "\n",
    "## 1.7 The Prime Factorization Algorithm\n",
    "\n",
    "Let $n$ be an arbitrary natural number $> 1$. A *prime factorization* of $n$ is a list of\n",
    "prime numbers $p1, \\ldots, p_j$ with the property that $p1 \\ldots pj = n$. We will show that a prime factorization of every natural number $n > 1$ exists by producing one by means of the following method of splitting off prime factors:\n",
    "\n",
    "$$\n",
    "\\texttt{WHILE}\\, n \\neq 1 \\, \\texttt{DO BEGIN} \\, p := \\texttt{LD}(n);\\, n:= \\frac n p \\, \\texttt{END}\n",
    "$$\n",
    "\n",
    "Here $:=$ denotes assignment or the act of giving a variable a new value. As we have seen, $\\texttt{LD}(n)$ exists for every $n$ with $n > 1$. Moreover, we have seen that $\\texttt{LD}(n)$ is always prime. Finally, it is clear that the procedure terminates, for every round through the loop will decrease the size of $n$.\n",
    "\n",
    "So the algorithm consists of splitting off primes until we have written $n$ as $n = p_1 \\ldots p_j$ , with all factors prime. To get some intuition about how the procedure works, let us see what it does for an example case, say $n = 84$. The original assignment to $n$ is called $n_0$; successive assignments to $n$ and $p$ are called $n_1$, $n_2, \\ldots$ and $p_1, p_2, \\ldots$. \n",
    "\n",
    "$$\n",
    "\\begin{align}\n",
    "&            &          \\qquad& n_0 = 84     \\\\\n",
    "& n_0 \\neq 1 & p_1 = 2  \\qquad& n_1 = 84/2 = 42 \\\\\n",
    "& n_1 \\neq 1 & p_2 = 2  \\qquad& n_2 = 42/2 = 21 \\\\\n",
    "& n_2 \\neq 1 & p_3 = 3  \\qquad& n_3 = 21/3 = 7 \\\\\n",
    "& n_3 \\neq 1 & p_4 = 7  \\qquad& n_4 = 7/7  = 1 \\\\\n",
    "& n_4 = 1    &          \\qquad&\n",
    "\\end{align}\n",
    "$$\n",
    "\n",
    "This gives $84 - 2^2 \\cdot 3 \\cdot 7$, which is indeed a prime factorization of $84$.\n",
    "\n",
    "The following code gives an implementation in Haskell, collecting the prime factors that we find in a list. The code uses the predefined Haskell function `div` for integer division."
   ]
  },
  {
   "cell_type": "code",
   "execution_count": 34,
   "id": "30dd087e-9abe-4ed7-8d42-9ce3b272ecab",
   "metadata": {},
   "outputs": [],
   "source": [
    "factors :: Integer -> [Integer]\n",
    "factors n | n < 1 = error \"argument not positive\"\n",
    "          | n == 1 = []\n",
    "          | otherwise = p : factors (div n p) where p = ld n"
   ]
  },
  {
   "cell_type": "markdown",
   "id": "2af37b42-7807-40f3-926d-457aa1322175",
   "metadata": {},
   "source": [
    "You can try this out as follows:"
   ]
  },
  {
   "cell_type": "code",
   "execution_count": 35,
   "id": "51c26020-9f60-48e4-8f91-657fa20e0560",
   "metadata": {},
   "outputs": [
    {
     "data": {
      "text/plain": [
       "[2,2,3,7]"
      ]
     },
     "metadata": {},
     "output_type": "display_data"
    }
   ],
   "source": [
    "factors 84"
   ]
  },
  {
   "cell_type": "code",
   "execution_count": 36,
   "id": "bb4e73cd-e11a-4bcd-a48a-a36e69c4b44f",
   "metadata": {},
   "outputs": [
    {
     "data": {
      "text/plain": [
       "[2,3,5,7,11,13,17,19,23,29,31,37,41,43,47,53,59,61,67,71]"
      ]
     },
     "metadata": {},
     "output_type": "display_data"
    }
   ],
   "source": [
    " factors 557940830126698960967415390"
   ]
  },
  {
   "cell_type": "raw",
   "id": "3ea76711-b6da-4149-a32d-b9d5de5c2d62",
   "metadata": {},
   "source": [
    "## 1.8 The `map` and `filter` Functions\n",
    "\n",
    "Haskell allows some convenient abbreviations for lists: `[4..20]` denotes the list of integers from $4$ through $20$, `['a'..'z']` the list of all lower case letters, `\"abcdefghijklmnopqrstuvwxyz\"`. The call `[5..]` generates an infinite list of integers starting from `5`. And so on.\n",
    "\n",
    "If you use the command `:t` to find the type of the function map, you get the following:"
   ]
  },
  {
   "cell_type": "code",
   "execution_count": 37,
   "id": "b4d971a1-0833-447e-98f7-9775d8ec3d10",
   "metadata": {},
   "outputs": [
    {
     "data": {
      "text/html": [
       "<style>/* Styles used for the Hoogle display in the pager */\n",
       ".hoogle-doc {\n",
       "display: block;\n",
       "padding-bottom: 1.3em;\n",
       "padding-left: 0.4em;\n",
       "}\n",
       ".hoogle-code {\n",
       "display: block;\n",
       "font-family: monospace;\n",
       "white-space: pre;\n",
       "}\n",
       ".hoogle-text {\n",
       "display: block;\n",
       "}\n",
       ".hoogle-name {\n",
       "color: green;\n",
       "font-weight: bold;\n",
       "}\n",
       ".hoogle-head {\n",
       "font-weight: bold;\n",
       "}\n",
       ".hoogle-sub {\n",
       "display: block;\n",
       "margin-left: 0.4em;\n",
       "}\n",
       ".hoogle-package {\n",
       "font-weight: bold;\n",
       "font-style: italic;\n",
       "}\n",
       ".hoogle-module {\n",
       "font-weight: bold;\n",
       "}\n",
       ".hoogle-class {\n",
       "font-weight: bold;\n",
       "}\n",
       ".get-type {\n",
       "color: green;\n",
       "font-weight: bold;\n",
       "font-family: monospace;\n",
       "display: block;\n",
       "white-space: pre-wrap;\n",
       "}\n",
       ".show-type {\n",
       "color: green;\n",
       "font-weight: bold;\n",
       "font-family: monospace;\n",
       "margin-left: 1em;\n",
       "}\n",
       ".mono {\n",
       "font-family: monospace;\n",
       "display: block;\n",
       "}\n",
       ".err-msg {\n",
       "color: red;\n",
       "font-style: italic;\n",
       "font-family: monospace;\n",
       "white-space: pre;\n",
       "display: block;\n",
       "}\n",
       "#unshowable {\n",
       "color: red;\n",
       "font-weight: bold;\n",
       "}\n",
       ".err-msg.in.collapse {\n",
       "padding-top: 0.7em;\n",
       "}\n",
       ".highlight-code {\n",
       "white-space: pre;\n",
       "font-family: monospace;\n",
       "}\n",
       ".suggestion-warning { \n",
       "font-weight: bold;\n",
       "color: rgb(200, 130, 0);\n",
       "}\n",
       ".suggestion-error { \n",
       "font-weight: bold;\n",
       "color: red;\n",
       "}\n",
       ".suggestion-name {\n",
       "font-weight: bold;\n",
       "}\n",
       "</style><span class='get-type'>map :: forall a b. (a -> b) -> [a] -> [b]</span>"
      ],
      "text/plain": [
       "map :: forall a b. (a -> b) -> [a] -> [b]"
      ]
     },
     "metadata": {},
     "output_type": "display_data"
    }
   ],
   "source": [
    ":t map"
   ]
  },
  {
   "cell_type": "markdown",
   "id": "2a311653-3b79-4a10-a47c-de3760f4004f",
   "metadata": {},
   "source": [
    "The function `map` takes a function and a list and returns a list containing the results of applying the function to the individual list members.\n",
    "\n",
    "If `f` is a function of type `a -> b` and `xs` is a list of type `[a]`, then map `f xs` will return a list of type `[b]`. E.g., `map (^2) [1..9]` will produce the list of squares"
   ]
  },
  {
   "cell_type": "code",
   "execution_count": 38,
   "id": "c21bc07d-ed08-4bc3-bcaf-3ba63d1bb7b5",
   "metadata": {},
   "outputs": [
    {
     "data": {
      "text/plain": [
       "[1,4,9,16,25,36,49,64,81]"
      ]
     },
     "metadata": {},
     "output_type": "display_data"
    }
   ],
   "source": [
    "map (^2) [1..9]"
   ]
  },
  {
   "cell_type": "markdown",
   "id": "190957f3-eb4f-44f9-9e57-41285385923c",
   "metadata": {},
   "source": [
    "### Conversion from Infix to Prefix, Construction of Sections\n",
    "\n",
    "If `op` is an infix operator, `(op)` is the prefix version of the operator. Thus, `2^10` can also be written as `(^) 2 10`. This is a special case of the use of sections in Haskell.\n",
    "\n",
    "In general, if `op` is an infix operator, `(op x)` is the operation resulting from applying `op` to its right hand side argument, `(x op)` is the operation resulting from applying op to its left hand side argument, and `(op)` is the prefix version of the operator (this is like the abstraction of the operator from both arguments).\n",
    "\n",
    "Thus `(^2)` is the squaring operation, `(2^)` is the operation that computes powers of $2$, and `(^)` is exponentiation. Similarly, `(>3)` denotes the property of being greater than $3$, `(3>)` the property of being smaller than $3$, and `(>)` is the prefix version of the 'greater than' relation.\n",
    "\n",
    "The call `map (2^) [1..10]` will yield"
   ]
  },
  {
   "cell_type": "code",
   "execution_count": 39,
   "id": "eb6dabe2-f071-4417-83b2-61ed628f0b1c",
   "metadata": {},
   "outputs": [
    {
     "data": {
      "text/plain": [
       "[2,4,8,16,32,64,128,256,512,1024]"
      ]
     },
     "metadata": {},
     "output_type": "display_data"
    }
   ],
   "source": [
    "map (2^) [1..10]"
   ]
  },
  {
   "cell_type": "markdown",
   "id": "b62880f1-4377-42b9-8c6e-392a84322c81",
   "metadata": {},
   "source": [
    "If `p` is a property (an operation of type `a -> Bool`) and `xs` is a list of type `[a]`, then `map p xs` will produce a list of type `Bool` (a list of truth values), like this:"
   ]
  },
  {
   "cell_type": "code",
   "execution_count": 40,
   "id": "3448a388-f6b0-460c-9db0-957b68385b53",
   "metadata": {},
   "outputs": [
    {
     "data": {
      "text/plain": [
       "[False,False,False,True,True,True,True,True,True]"
      ]
     },
     "metadata": {},
     "output_type": "display_data"
    }
   ],
   "source": [
    "map (>3) [1..9]"
   ]
  },
  {
   "cell_type": "markdown",
   "id": "6ea1ff15-80f2-4b3e-b8b0-cc786afee9f2",
   "metadata": {},
   "source": [
    "The function `map` is predefined in Haskell, but it is instructive to give our own version:"
   ]
  },
  {
   "cell_type": "code",
   "execution_count": 41,
   "id": "188b5727-961c-420f-a335-7c1cca243335",
   "metadata": {},
   "outputs": [],
   "source": [
    "{- HLINT ignore \"Use map\" -}\n",
    "{- HLINT ignore \"Redundant bracket\" -}\n",
    "map' :: (a -> b) -> [a] -> [b]\n",
    "map' f [] = []\n",
    "map' f (x:xs) = (f x) : (map' f xs)"
   ]
  },
  {
   "cell_type": "markdown",
   "id": "eaf28305-2acd-47a2-bd36-6688d640fcf3",
   "metadata": {},
   "source": [
    "### Exercise 1.20 \n",
    "\n",
    "Use `map` to write a function `lengths` that takes a list of lists and\n",
    "returns a list of the corresponding list lengths.\n",
    "\n",
    "### Exercise 1.21 \n",
    "\n",
    "Use `map` to write a function `sumLengths` that takes a list of lists are returns the sum of their lengths\n",
    "\n",
    "Another useful function is `filter`, for filtering out the elements from a list that satisfy a given property. This is predefined, but here is a home-made version:"
   ]
  },
  {
   "cell_type": "code",
   "execution_count": 42,
   "id": "9f30ada4-6ebd-4353-badd-232a6773b48e",
   "metadata": {},
   "outputs": [],
   "source": [
    "filter' :: (a -> Bool) -> [a] -> [a]\n",
    "filter' p [] = []\n",
    "filter' p (x:xs) | p x = x : filter' p xs\n",
    "                 | otherwise = filter' p xs"
   ]
  },
  {
   "cell_type": "markdown",
   "id": "fb3e6153-f591-4178-af37-6f20f4aa63f7",
   "metadata": {},
   "source": [
    "Here is an example of its use:"
   ]
  },
  {
   "cell_type": "code",
   "execution_count": 43,
   "id": "dbfa9d3b-b3ed-473b-a72b-b0e93d6da8c8",
   "metadata": {},
   "outputs": [
    {
     "data": {
      "text/plain": [
       "[4,5,6,7,8,9,10]"
      ]
     },
     "metadata": {},
     "output_type": "display_data"
    }
   ],
   "source": [
    "filter' (>3) [1..10]"
   ]
  },
  {
   "cell_type": "markdown",
   "id": "b75a1867-5a27-4616-8665-222f62a116e8",
   "metadata": {},
   "source": [
    "### Example 1.22 \n",
    "\n",
    "Here is a program `primes0` that filters the prime numbers from the infinite list `[2..]` of natural numbers:\n",
    "\n"
   ]
  },
  {
   "cell_type": "code",
   "execution_count": 44,
   "id": "b013360d-4055-4913-bf76-043728efa6ae",
   "metadata": {},
   "outputs": [],
   "source": [
    "primes0 :: [Integer]\n",
    "primes0 = filter prime0 [2..]"
   ]
  },
  {
   "cell_type": "markdown",
   "id": "8cfbeb82-0a0a-494a-877b-e334b357fa6c",
   "metadata": {},
   "source": [
    "This produces an infinite list of primes. (Why infinite? See Theorem 3.33.) The list can be interrupted with 'Control-C'.\n",
    "\n",
    "**TODO** Restarting/killing kernal for infintie lists\n",
    "\n",
    "### Example 1.23\n",
    "\n",
    "Given that we can produce a list of primes, it should be possible\n",
    "now to improve our implementation of the function $\\texttt{LD}$. The function `ldf` used in the definition of `ld` looks for a prime divisor\n",
    "of $n$ by checking $k|n$ for all $k$ with $2 \\leq k \\leq \\sqrt n$. In fact, it is enough to check $p|n$ for the primes $p$ with $2 \\leq p \\leq \\sqrt n$.\n",
    "\n",
    "Here are functions `ldp` and `ldpf` that perform this more efficient check:"
   ]
  },
  {
   "cell_type": "code",
   "execution_count": 47,
   "id": "431d00f5-ca98-4148-850d-094a6c63b290",
   "metadata": {},
   "outputs": [],
   "source": [
    "{- HLINT ignore \"Eta reduce\" -}\n",
    "ldp :: Integer -> Integer\n",
    "ldp n = ldpf primes1 n\n",
    "\n",
    "ldpf :: [Integer] -> Integer -> Integer\n",
    "ldpf (p:ps) n | rem n p == 0 = p\n",
    "              | p^2 > n      = n\n",
    "              | otherwise    = ldpf ps n\n",
    "              \n",
    "              \n",
    "primes1 :: [Integer]\n",
    "primes1 = 2 : filter prime [3..]\n",
    "\n",
    "prime :: Integer -> Bool\n",
    "prime n | n < 1     = error \"not a positive integer\"\n",
    "        | n == 1    = False\n",
    "        | otherwise = ldp n == n"
   ]
  },
  {
   "cell_type": "markdown",
   "id": "78bf3368-b2a8-4e21-bbf7-9d640ae57adb",
   "metadata": {},
   "source": [
    "`ldp` makes a call to `primes1`, the list of prime numbers. This is a first illustration of a 'lazy list'. The list is called 'lazy' because we compute only the part of the list that we need for further processing. To define `primes1` we need a test for primality, but that test is itself defined in terms of the function $\\texttt{LD}$, which in turn refers to `primes1`. We seem to be running around in a circle. This circle can be made non-vicious by avoiding the primality test for $2$. If it is given that $2$ is prime, then we can use the primality of $2$ in the $\\texttt{LD}$ check that $3$ is prime, and so on, and\n",
    "we are up and running.\n",
    "\n",
    "Replacing the definition of `primes1` by `filter prime [2..]` creates vicious circularity, with stack overflow as a result (try it out). By running the program `primes1` against `primes0` it is easy to check that `primes1` is much faster.\n",
    "\n",
    "### Exercise 1.24\n",
    "\n",
    "What happens when you modify the defining equation of ldp as\n",
    "follows:\n",
    "\n",
    "```haskell\n",
    "ldp :: Integer -> Integer\n",
    "ldp = ldpf primes1\n",
    "```\n",
    "\n",
    "Can you explain?"
   ]
  },
  {
   "cell_type": "markdown",
   "id": "ae68a42f-2e92-4ced-8869-03151ad725d7",
   "metadata": {},
   "source": [
    "## 1.9 Haskell Equations and Equational Reasoning\n",
    "\n",
    "The Haskell equations `f x y = ...` used in the definition of a function `f` are genuine mathematical equations. They state that the left hand side and the right hand side of the equation have the same value. This is *very* different from the use of `=` in imperative languages like C or Java. In a C or Java program, the statement `x = x*y` does not mean that `x` and `x ∗ y` have the same value, but rather it is a command to throw away the old value of `x` and put the value of `x ∗ y` in its place. It is a so-called *destructive assignment statement*: the old value of a variable is destroyed and replaced by a new one.\n",
    "\n",
    "Reasoning about Haskell definitions is a lot easier than reasoning about programs that use destructive assignment. In Haskell, standard reasoning about mathematical equations applies. E.g., after the Haskell declarations `x = 1` and `y = 2`, the Haskell declaration `x = x + y` will raise an error `\"x\" multiply defined`. Because `=` in Haskell has the meaning \"is by definition equal to\", while redefinition is forbidden, reasoning about Haskell functions is standard equational reasoning.\n",
    "\n",
    "Let’s try this out on a simple example.\n"
   ]
  },
  {
   "cell_type": "code",
   "execution_count": 48,
   "id": "01cd9375-ad3f-4dee-a996-5ce18e11d9ee",
   "metadata": {},
   "outputs": [],
   "source": [
    "a = 3\n",
    "b = 4\n",
    "f :: Integer -> Integer -> Integer\n",
    "f x y = x^2 + y^2"
   ]
  },
  {
   "cell_type": "markdown",
   "id": "0aa9dbc5-a9cc-43bc-9a6b-211069be69f3",
   "metadata": {},
   "source": [
    "To evaluate `f a (f a b)` by equational reasoning, we can proceed as follows:\n",
    "\n",
    "$$\n",
    "\\begin{align}\n",
    "f a \\; \\left(f \\; a \\; b\\right) \n",
    "                      &= f \\; a \\left(a^2 + b^2\\right ) \\\\\n",
    "                      &= f \\; 3 \\; \\left(3^2 + 4^2\\right) \\\\\n",
    "                      &= f \\; 3 \\; \\left(9 + 16\\right) \\\\\n",
    "                      &= f \\; 3 \\; 25 \\\\\n",
    "                      &= 3^2 + 25^2 \\\\\n",
    "                      &= 9 + 625 \\\\\n",
    "                      &= 634\n",
    "\\end{align}\n",
    "$$"
   ]
  },
  {
   "cell_type": "markdown",
   "id": "5f67f17e-b741-4912-950c-1b7a94fdd4f1",
   "metadata": {},
   "source": [
    "The rewriting steps use standard mathematical laws and the Haskell definitions of `a`, `b`, `f` . And, in fact, when running the program we get the same outcome:"
   ]
  },
  {
   "cell_type": "code",
   "execution_count": 49,
   "id": "f6ff99dd-2bf0-4261-b654-1acfaa67b89a",
   "metadata": {},
   "outputs": [
    {
     "data": {
      "text/plain": [
       "634"
      ]
     },
     "metadata": {},
     "output_type": "display_data"
    }
   ],
   "source": [
    "f a (f a b)"
   ]
  },
  {
   "cell_type": "markdown",
   "id": "8b2249b7-45b7-4737-a169-b3cfcff59747",
   "metadata": {},
   "source": [
    "**Remark** We already encountered definitions where the function that is being defined occurs on the right hand side of an equation in the definition. Here is another example:\n",
    "\n",
    "\n",
    "**TODO** This is not valid haskell code. Was this intended?\n",
    "\n",
    "```haskell\n",
    "g :: Integer -> Integer\n",
    "g 0 = 0\n",
    "g (x+1) = 2 * (g x)\n",
    "```"
   ]
  },
  {
   "cell_type": "markdown",
   "id": "8c47d21c-13a3-4b69-81b9-4b8dbecfc8c7",
   "metadata": {},
   "source": [
    "Not everything that is allowed by the Haskell syntax makes semantic sense, however. The following definitions, although syntactically correct, do not properly define functions:\n"
   ]
  },
  {
   "cell_type": "code",
   "execution_count": 54,
   "id": "404910b3-0511-4490-997e-215a77c0a8bb",
   "metadata": {},
   "outputs": [],
   "source": [
    "{- HLINT ignore \"Redundant bracket\" -}\n",
    "h1 :: Integer -> Integer\n",
    "h1 0 = 0\n",
    "h1 x = 2 * (h1 x)\n",
    "\n",
    "h2 :: Integer -> Integer\n",
    "h2 0 = 0\n",
    "h2 x = h2 (x+1)"
   ]
  },
  {
   "cell_type": "markdown",
   "id": "1c0be8cb-420b-404b-a04a-15f9478ee58b",
   "metadata": {},
   "source": [
    "The problem is that for values other than 0 the definitions do not give recipes for computing a value. This matter will be taken up in Chapter 7."
   ]
  },
  {
   "cell_type": "markdown",
   "id": "eb4ab093-a07b-4a58-91ce-09dfb200ad35",
   "metadata": {},
   "source": [
    "## 1.10 Further Reading\n",
    "\n",
    "The standard Haskell operations are defined in the file `Prelude.hs`, which can be found [here](https://hackage.haskell.org/package/base-4.20.0.1/docs/Prelude.html).\n",
    "\n",
    "In case Exercise 1.19 has made you curious, the definitions of these example functions can all be found in `Prelude.hs`. If you want to quickly learn a lot about how to program in Haskell, you should get into the habit of consulting this file regularly. The definitions of all the standard operations are open source code, and are there for you to learn from. The Haskell Prelude may be a bit difficult to read at first, but you will soon get used to the syntax and acquire a taste for the style.\n",
    "\n",
    "Various tutorials on Haskell and Hugs can be found on the Internet: see e.g. **TODO** appropriate links."
   ]
  },
  {
   "cell_type": "code",
   "execution_count": null,
   "id": "54c23009-2747-45bb-b52c-cb1c9a5452e1",
   "metadata": {},
   "outputs": [],
   "source": []
  }
 ],
 "metadata": {
  "kernelspec": {
   "display_name": "Haskell",
   "language": "haskell",
   "name": "haskell"
  },
  "language_info": {
   "codemirror_mode": "ihaskell",
   "file_extension": ".hs",
   "mimetype": "text/x-haskell",
   "name": "haskell",
   "pygments_lexer": "Haskell",
   "version": "9.4.5"
  }
 },
 "nbformat": 4,
 "nbformat_minor": 5
}
