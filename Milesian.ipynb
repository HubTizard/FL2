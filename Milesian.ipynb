{
 "cells": [
  {
   "cell_type": "markdown",
   "id": "14c2122a",
   "metadata": {},
   "source": [
    "# An introduction to functional programming in Haskell\n",
    "\n",
    "Derived from Prof Miles Berry by Ian Benson\n",
    "\n",
    "(c) ATM Functional Programming and Computer Algebra Working Group, 2025  licence CC BY-NC-ND Attribution-NonCommercial-NoDerivs https://creativecommons.org/licenses/\n",
    "\n",
    "PGCE Secondary Computing Lecture 17"
   ]
  },
  {
   "cell_type": "markdown",
   "id": "ce20f0d2",
   "metadata": {},
   "source": [
    "### A few easy functions\n",
    "\n",
    "`halve x = x / 2` -- this defines a function halve which divides a number by two. Try it.\n",
    "\n",
    "If you want to show off, you can do this as an anonymous function, but don't assume anyone will undestand what you've done or why you've done it!\n",
    "\n",
    "`halve = \\x -> x/2`"
   ]
  },
  {
   "cell_type": "code",
   "execution_count": 1,
   "id": "99cf07c3",
   "metadata": {},
   "outputs": [],
   "source": [
    "halve x = x/2"
   ]
  },
  {
   "cell_type": "code",
   "execution_count": 2,
   "id": "1156013e",
   "metadata": {},
   "outputs": [
    {
     "data": {
      "text/plain": [
       "6.0"
      ]
     },
     "metadata": {},
     "output_type": "display_data"
    }
   ],
   "source": [
    "halve 12 -- should give the output 6!"
   ]
  },
  {
   "cell_type": "markdown",
   "id": "1250d0dc",
   "metadata": {},
   "source": [
    "Create functions `double` and `square` that take a number and return the double and square of that number respectively.\n",
    "\n",
    "Create functions `isEven` and `isOdd` that take a number and return True if the number is even or odd respectively. Know that `` `mod` `` performs modular arithmetic, so `` 5 `mod` 2 `` returns 1.\n",
    "\n",
    "Create a function add which takes two inputs and returns their sum.\n",
    "\n",
    "Check that these work with appropriate tests. "
   ]
  },
  {
   "cell_type": "code",
   "execution_count": 4,
   "id": "80762ea8",
   "metadata": {},
   "outputs": [],
   "source": []
  },
  {
   "cell_type": "markdown",
   "id": "02aad8be",
   "metadata": {},
   "source": [
    "Create a test to return `True` if a number $n$ is a divisible by a given number $m$."
   ]
  },
  {
   "cell_type": "code",
   "execution_count": 6,
   "id": "fa99f16c",
   "metadata": {},
   "outputs": [],
   "source": [
    "factors n = [x | x <- [1.. abs n], n `mod` x == 0]"
   ]
  },
  {
   "cell_type": "markdown",
   "id": "d52bd4a4",
   "metadata": {},
   "source": [
    "Create `factors` that takes a number and returns a list of the factors of that number. \n",
    "\n",
    "You can return a list comprehension which is the Haskell equivalent of a set generator $ s = \\{ 2x \\;|\\; x \\in \\mathbb{Z}, x \\ge 2, x \\bmod 2 \\neq 0 \\} $ that is `s = [2*x | x <- integers, isOdd x] -- an equivalent Haskell list comprehension where integers = [2..]`\n",
    "\n",
    "Create `isPrime` that takes a number and returns True if the number is prime and False otherwise. You can use the `length` function to test the length of a list."
   ]
  },
  {
   "cell_type": "code",
   "execution_count": 8,
   "id": "3a643e9f",
   "metadata": {},
   "outputs": [],
   "source": [
    "isPrime n = length ( factors n) == 2"
   ]
  },
  {
   "cell_type": "code",
   "execution_count": 9,
   "id": "45d7a993",
   "metadata": {},
   "outputs": [
    {
     "data": {
      "text/plain": [
       "[1,2,3,4,6,8,12,24]"
      ]
     },
     "metadata": {},
     "output_type": "display_data"
    }
   ],
   "source": [
    "factors 24"
   ]
  },
  {
   "cell_type": "code",
   "execution_count": 10,
   "id": "5c941b75",
   "metadata": {},
   "outputs": [
    {
     "data": {
      "text/plain": [
       "True"
      ]
     },
     "metadata": {},
     "output_type": "display_data"
    }
   ],
   "source": [
    "isPrime 23"
   ]
  },
  {
   "cell_type": "code",
   "execution_count": 13,
   "id": "e73e3512",
   "metadata": {},
   "outputs": [
    {
     "data": {
      "text/plain": [
       "False"
      ]
     },
     "metadata": {},
     "output_type": "display_data"
    },
    {
     "data": {
      "text/plain": [
       "[1,7,11,13,77,91,143,1001]"
      ]
     },
     "metadata": {},
     "output_type": "display_data"
    },
    {
     "data": {
      "text/plain": [
       "[1,5,7,13,29,35,65,91,145,203,377,455,1015,1885,2639,13195]"
      ]
     },
     "metadata": {},
     "output_type": "display_data"
    }
   ],
   "source": [
    "isPrime 1001\n",
    "factors 1001"
   ]
  },
  {
   "cell_type": "markdown",
   "id": "74be6896",
   "metadata": {},
   "source": [
    "## List functions\n",
    "\n",
    "Write functions `head'` and `tail'` that take a list and return the first and all the following elements respectively. \n",
    "\n",
    "For example:\n",
    "\n",
    "`head'([3,1,4,1,5,9]) == 3`  \n",
    "`tail'([3,1,4,1,5,9]) == [1,4,1,5,9]`"
   ]
  },
  {
   "cell_type": "code",
   "execution_count": null,
   "id": "2fb66253",
   "metadata": {},
   "outputs": [],
   "source": [
    "head' "
   ]
  },
  {
   "cell_type": "code",
   "execution_count": null,
   "id": "21081a0f",
   "metadata": {},
   "outputs": [],
   "source": [
    "head' [1..4]"
   ]
  },
  {
   "cell_type": "code",
   "execution_count": null,
   "id": "00b8d4ca",
   "metadata": {},
   "outputs": [],
   "source": [
    "tail' "
   ]
  },
  {
   "cell_type": "code",
   "execution_count": null,
   "id": "c7d3dd7e",
   "metadata": {},
   "outputs": [],
   "source": [
    "tail' [1..4]"
   ]
  },
  {
   "cell_type": "markdown",
   "id": "3b6718d4",
   "metadata": {},
   "source": [
    "## Some recursive functions\n",
    "\n",
    "Create a function `sum'` which accepts a list as input and returns the sum of the elements of the list.\n",
    "\n",
    "(Harder) Create functions `bin2dec` and `dec2bin` which convert between binary and decimal numbers. The binary numbers should be represented as strings. You need to know that `read` converts a numerical string to a number, that `show` converts a number to a string and that `++` concatenates strings.\n",
    "\n",
    "These should be recursive functions which call themselves; avoid using for or while loops, and do not use built in functions!\n",
    "\n",
    "Write a recursive function `len'` which returns the number of items in a list.\n",
    "\n",
    "Write a recursive function `reverse'` which takes a list and returns the list in reverse order.\n",
    "\n",
    "You could use the `head'` and `tail'` functions you have already written."
   ]
  },
  {
   "cell_type": "code",
   "execution_count": null,
   "id": "f9e70122",
   "metadata": {},
   "outputs": [],
   "source": [
    "sum' "
   ]
  },
  {
   "cell_type": "code",
   "execution_count": null,
   "id": "3fac4b86",
   "metadata": {},
   "outputs": [],
   "source": [
    "sum' [1..5]"
   ]
  },
  {
   "cell_type": "code",
   "execution_count": null,
   "id": "d6b636b3",
   "metadata": {},
   "outputs": [],
   "source": [
    "bin2dec"
   ]
  },
  {
   "cell_type": "code",
   "execution_count": null,
   "id": "7497cfc9",
   "metadata": {},
   "outputs": [],
   "source": [
    "bin2dec \"1010\""
   ]
  },
  {
   "cell_type": "code",
   "execution_count": null,
   "id": "419599a2",
   "metadata": {},
   "outputs": [],
   "source": [
    "dec2bin "
   ]
  },
  {
   "cell_type": "code",
   "execution_count": null,
   "id": "f9c2d9df",
   "metadata": {},
   "outputs": [],
   "source": [
    "dec2bin 42"
   ]
  },
  {
   "cell_type": "code",
   "execution_count": null,
   "id": "0ce753a0",
   "metadata": {},
   "outputs": [],
   "source": [
    "len' "
   ]
  },
  {
   "cell_type": "code",
   "execution_count": null,
   "id": "e4b14898",
   "metadata": {},
   "outputs": [],
   "source": [
    "len' \"hello world\""
   ]
  },
  {
   "cell_type": "code",
   "execution_count": null,
   "id": "68c7a76c",
   "metadata": {},
   "outputs": [],
   "source": [
    "reverse' "
   ]
  },
  {
   "cell_type": "code",
   "execution_count": null,
   "id": "06ae99eb",
   "metadata": {},
   "outputs": [],
   "source": [
    "reverse' \"miles\""
   ]
  },
  {
   "cell_type": "markdown",
   "id": "47748387",
   "metadata": {},
   "source": [
    "### An important algorithm\n",
    "\n",
    "What does this do?"
   ]
  },
  {
   "cell_type": "code",
   "execution_count": null,
   "id": "b65f0220",
   "metadata": {},
   "outputs": [],
   "source": [
    "gcf (a, 0) = a\n",
    "gcf (a, b) = gcf (b, a `mod` b)"
   ]
  },
  {
   "cell_type": "code",
   "execution_count": null,
   "id": "77bd0467",
   "metadata": {},
   "outputs": [],
   "source": [
    "gcf (120, 24)"
   ]
  },
  {
   "cell_type": "markdown",
   "id": "3d952ea4",
   "metadata": {},
   "source": [
    "Use this to create a function `lcm`"
   ]
  },
  {
   "cell_type": "code",
   "execution_count": null,
   "id": "b54037ff",
   "metadata": {},
   "outputs": [],
   "source": [
    "lcm (a, b) "
   ]
  },
  {
   "cell_type": "code",
   "execution_count": null,
   "id": "ec61ebc8",
   "metadata": {},
   "outputs": [],
   "source": [
    "lcm (12, 15)"
   ]
  },
  {
   "cell_type": "markdown",
   "id": "70246609",
   "metadata": {},
   "source": [
    "## Higher order functions\n",
    "\n",
    "Create a function `map'` which takes a function and a list as input and returns a list of the results of applying the function to each element of the list.\n",
    "\n",
    "Create a function `filter'` which takes a Boolean function and a list as input and returns a list of the elements for which the function returns `True`.\n",
    "\n",
    "Create a function `reduce` which takes a function and a list as input and returns the result of applying the function to each element of the list in turn, starting with the first two elements of the list.\n",
    "\n",
    "It would be nice to do these as recursive functions. "
   ]
  },
  {
   "cell_type": "code",
   "execution_count": null,
   "id": "3c3b8b56",
   "metadata": {},
   "outputs": [],
   "source": [
    "map' f "
   ]
  },
  {
   "cell_type": "code",
   "execution_count": null,
   "id": "0f03ac1f",
   "metadata": {},
   "outputs": [],
   "source": [
    "map' halve [2,6..14]"
   ]
  },
  {
   "cell_type": "code",
   "execution_count": null,
   "id": "fb6a3eec",
   "metadata": {},
   "outputs": [],
   "source": [
    "filter' f "
   ]
  },
  {
   "cell_type": "code",
   "execution_count": null,
   "id": "6a4de342",
   "metadata": {},
   "outputs": [],
   "source": [
    "filter' even [1..10]"
   ]
  },
  {
   "cell_type": "code",
   "execution_count": null,
   "id": "2c2f99b4",
   "metadata": {},
   "outputs": [],
   "source": [
    "reduce f "
   ]
  },
  {
   "cell_type": "code",
   "execution_count": null,
   "id": "9fa15b60",
   "metadata": {},
   "outputs": [],
   "source": [
    "reduce (*) [1..4]"
   ]
  },
  {
   "cell_type": "markdown",
   "id": "9afcd1a2",
   "metadata": {},
   "source": [
    "## Combining functions\n",
    "\n",
    "Use `map'` and `square` to list the squares of the first 10 positive integers.\n",
    "\n",
    "Use `filter'` and `isEven` to list the even numbers in the list [1,2,3,4,5,6,7,8,9,10].\n",
    "\n",
    "Use `reduce` and `add` to sum the first 10 positive integers.\n",
    "\n",
    "Use `filter'` and `map'` to find even numbers in the squares of the first 10 positive integers.\n",
    "\n",
    "use `map'` and `reduce` to find the sum of the squares of the first 10 positive integers.\n",
    "\n",
    "use `filter'` and `isPrime` to find the prime numbers below 100.\n",
    "\n",
    "use `factors` and `filter'` to create a function which finds the prime factors of a number."
   ]
  },
  {
   "cell_type": "code",
   "execution_count": null,
   "id": "acb154ec",
   "metadata": {},
   "outputs": [],
   "source": []
  },
  {
   "cell_type": "code",
   "execution_count": null,
   "id": "8a82fed8",
   "metadata": {},
   "outputs": [],
   "source": []
  },
  {
   "cell_type": "code",
   "execution_count": null,
   "id": "807b4a35",
   "metadata": {},
   "outputs": [],
   "source": []
  },
  {
   "cell_type": "markdown",
   "id": "64195aba",
   "metadata": {},
   "source": [
    "## Quicksort\n",
    "\n",
    "The quicksort algorithm partitions a list into those numbers below a pivot, the pivot (typically the first item on the original list), and those numbers above the pivot. It then recursively sorts the two sublists.\n",
    "\n",
    "Use `filter` and list concatenation (`++`) to create a function quicksort which sorts a list of numbers."
   ]
  },
  {
   "cell_type": "code",
   "execution_count": null,
   "id": "ce445e27",
   "metadata": {},
   "outputs": [],
   "source": [
    "quicksort "
   ]
  },
  {
   "cell_type": "code",
   "execution_count": null,
   "id": "cf6b5f6f",
   "metadata": {},
   "outputs": [],
   "source": [
    "quicksort [3,1,4,1,5,9,2,7]"
   ]
  },
  {
   "cell_type": "markdown",
   "id": "47ec7c51",
   "metadata": {},
   "source": [
    "## Project Euler questions\n",
    "\n",
    "If we list all the natural numbers below 10 that are multiples of 3 or 5, we get 3, 5, 6 and 9. The sum of these multiples is 23.\n",
    "\n",
    "Find the sum of all the multiples of 3 or 5 below 1000.\n",
    "\n",
    "What is the largest prime factor of 13195?"
   ]
  },
  {
   "cell_type": "code",
   "execution_count": null,
   "id": "3a22b1df",
   "metadata": {},
   "outputs": [],
   "source": []
  }
 ],
 "metadata": {
  "kernelspec": {
   "display_name": "Haskell",
   "language": "haskell",
   "name": "haskell"
  },
  "language_info": {
   "codemirror_mode": "ihaskell",
   "file_extension": ".hs",
   "mimetype": "text/x-haskell",
   "name": "haskell",
   "pygments_lexer": "Haskell",
   "version": "9.6.4"
  }
 },
 "nbformat": 4,
 "nbformat_minor": 5
}
