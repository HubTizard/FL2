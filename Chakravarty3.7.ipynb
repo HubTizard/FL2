{
 "cells": [
  {
   "cell_type": "markdown",
   "id": "9c54b195",
   "metadata": {},
   "source": [
    "1. Write a function ```sort2::Int -> Int -> (Int, Int)``` which accepts two ```Int``` values as arguments and returns them as sorted pair, so that ```sort2 5 3``` is equal to ```(3,5)```. How can you define the function using a conditional? how can you solve it using guards?"
   ]
  },
  {
   "cell_type": "markdown",
   "id": "c6afa72f",
   "metadata": {},
   "source": [
    "2. Consider a function ```almostEqual:: (Int, Int) -> (Int, Int) -> Bool ``` which compares the values of two pairs of ```Int```. It returns ```True``` if both pairs contain the same values, regardless of the order. For example, ```almostEqual (3,4) (4,3)``` is ```True```, but ```almostEqual (3,4) (3,5)``` is ```False```. Which of the following definitions return the correct value? Which of the definitions would you consider good style? Why? Add comments to the correct definitions to make it easier to improve readability. ```((&&):: Bool -> Bool -> Bool``` is logical ”and”, ```(||)::Bool -> Bool -> Bool ``` is logical ’or’, and ```(==)``` tests if two values are equal).\n",
    "\n",
    "~~~ haskell\n",
    "almostEqual (x1, y1) (x2, y2)\n",
    "    | (x1 == x2) && (y1 == y2) = True \n",
    "    | (x1 == y2) && (y1 == x2) = True\n",
    "    | otherwise\n",
    "\n",
    "almostEqual (x1, y1) (x2, y2) \n",
    "    | (x1 == x2) = (y1 == y2)\n",
    "    | (x1 == y2) = (y1 == x2)\n",
    "    | otherwise = False\n",
    "\n",
    "almostEqual pair1 pair2 =\n",
    "    (pair1 == pair2) || (swap pair1 == pair2) \n",
    "    where swap (x,y) = (y,x)\n",
    "\n",
    "almostEqual pair1 pair2 =\n",
    "    (pair1 == pair2) || (swap pair1 == swap pair2) \n",
    "    where swap (x,y) = (y,x)\n",
    "\n",
    "almostEqual (x1, y1) (x2, y2) = \n",
    "    if (x1 == x2) then\n",
    "        then if (y1 == y2) then True\n",
    "        else False\n",
    "    else if (x1 == y2)\n",
    "        then if (x2 == y1)\n",
    "            then True\n",
    "            else False\n",
    "        else False\n",
    "~~~"
   ]
  },
  {
   "cell_type": "code",
   "execution_count": null,
   "id": "e09c7cb3",
   "metadata": {},
   "outputs": [],
   "source": []
  }
 ],
 "metadata": {
  "kernelspec": {
   "display_name": "Haskell",
   "language": "haskell",
   "name": "haskell"
  },
  "language_info": {
   "codemirror_mode": "ihaskell",
   "file_extension": ".hs",
   "mimetype": "text/x-haskell",
   "name": "haskell",
   "pygments_lexer": "Haskell",
   "version": "9.6.4"
  }
 },
 "nbformat": 4,
 "nbformat_minor": 5
}
