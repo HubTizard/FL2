{
 "cells": [
  {
   "cell_type": "markdown",
   "id": "97e70022",
   "metadata": {},
   "source": [
    "1. Write a function ```sort2::Int -> Int -> (Int, Int)``` which accepts two ```Int``` values as arguments and returns them as sorted pair, so that ```sort2 5 3``` is equal to ```(3,5)```. How can you define the function using a conditional? how can you solve it using guards?"
   ]
  },
  {
   "cell_type": "code",
   "execution_count": null,
   "id": "e0564732",
   "metadata": {},
   "outputs": [],
   "source": [
    "2. "
   ]
  }
 ],
 "metadata": {
  "kernelspec": {
   "display_name": "Haskell",
   "language": "haskell",
   "name": "haskell"
  },
  "language_info": {
   "codemirror_mode": "ihaskell",
   "file_extension": ".hs",
   "mimetype": "text/x-haskell",
   "name": "haskell",
   "pygments_lexer": "Haskell",
   "version": "9.6.4"
  }
 },
 "nbformat": 4,
 "nbformat_minor": 5
}
