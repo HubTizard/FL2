{
 "cells": [
  {
   "cell_type": "markdown",
   "id": "d78b96ce-ddac-457f-bc68-1348e6e3f913",
   "metadata": {},
   "source": [
    "# Prime Number Test\n",
    "\n",
    "## 1.1 Using Haskell\n",
    "\n",
    "### Exercise 1.1\n",
    "\n",
    "Try out a few calculations using `*` for multiplication, `+` for addition, `-` for subtraction, `^` for exponentiation, `/` for division. By playing with the system, find out what the precedence order is among these operators.\n",
    "\n",
    "Parentheses can be used to override the built-in operator precedences:"
   ]
  },
  {
   "cell_type": "code",
   "execution_count": 7,
   "id": "180d4a80-b686-4962-b7e2-c0879856361b",
   "metadata": {},
   "outputs": [
    {
     "data": {
      "text/plain": [
       "625"
      ]
     },
     "metadata": {},
     "output_type": "display_data"
    }
   ],
   "source": [
    "(2 + 3) ^4"
   ]
  },
  {
   "cell_type": "markdown",
   "id": "ba0967fb-2a3b-44a6-99a6-c898284cfe27",
   "metadata": {},
   "source": [
    "## 1.2 Implementing a Prime Number Test\n",
    "\n",
    "Suppose we want to implement a definition of prime number in a procedure that\n",
    "recognizes prime numbers. A prime number is a natural number greater than\n",
    "$1$ that has no proper divisors other than $1$ and itself. The natural numbers are\n",
    "$0, 1, 2, 3, 4, \\ldots$ The list of prime numbers starts with $2, 3, 5, 7, 11, 13, \\ldots$ Except\n",
    "for $2$, all of these are odd, of course.\n",
    "\n",
    "Let $n > 1$ be a natural number. Then we use $\\texttt{LD}(n)$ for the least natural number\n",
    "greater than $1$ that divides $n$. A number $d$ divides $n$ if there is a natural number $a$ with $a \\cdot d = n$. In other words, $d$ divides $n$ if there is a natural number $a$ with $\\frac n d = a$, i.e., division of $n$ by $d$ leaves no remainder. Note that $\\texttt{LD}(n)$ exists for every natural number $n > 1$, for the natural number $d = n$ is greater than $1$ and divides $n$. Therefore, the set of divisors of $n$ that are greater than $1$ is non-empty. Thus, the set will have a least element.\n",
    "\n",
    "The following proposition gives us all we need for implementing our prime number\n",
    "test:\n",
    "\n",
    "### Proposition 1.2\n",
    "\n",
    "1. If $n > 1$ then $\\texttt{LD}(n)$ is a prime number.\n",
    "2. If $n > 1$ and $n$ is not a prime number, then $\\left(\\texttt{LD}\\left(n\\right)\\right)^2 \\leq n$.\n",
    "\n",
    "In the course of this book you will learn how to prove propositions like this.\n",
    "\n",
    "Here is the proof of the first item. This is a proof by contradiction (see Chapter 3).\n",
    "Suppose, for a contradiction that $c = \\texttt{LD}(n)$ is not a prime. Then there are natural\n",
    "numbers $a$ and $b$ with $c = a \\cdot b$, and also $1 < a$ and $a < c$. But then $a$ divides $n$,\n",
    "and contradiction with the fact that $c$ is the smallest natural number greater than $1$\n",
    "that divides $n$. Thus, $\\texttt{LD}(n)$ must be a prime number.\n",
    "\n",
    "For a proof of the second item, suppose that $n > 1$, $n$ is not a prime and that\n",
    "$p = \\texttt{LD}(n)$. Then there is a natural number $a > 1$ with $n = p \\cdot a$. Thus, $a$\n",
    "divides $n$. Since $p$ is the smallest divisor of $n$ with $p > 1$, we have that $p \\leq a$, and\n",
    "therefore $p^2 \\leq p \\cdot a = n$, i.e., $\\left(\\texttt{LD}(n)\\right)^2 \\leq n$.\n",
    "\n",
    "The operator $\\cdot$ in $a \\cdot b$ is a so-called *infix* operator. The operator is written *between* its arguments. If an operator is written *before* its arguments we call this *prefix* notation. The product of a and b in prefix notation would look like this: $\\cdot a b$.\n",
    "\n",
    "In writing functional programs, the standard is prefix notation. In an expression `op a b`, `op` is the function, and `a` and `b` are the arguments. The convention is that function application associates to the left, so the expression `op a b` is interpreted as `(op a) b`.\n",
    "\n",
    "Using prefix notation, we define the operation `divides` that takes two integer\n",
    "expressions and produces a *truth value*. The truth values *true* and *false* are rendered in Haskell as `True` and `False`, respectively.\n",
    "\n",
    "The integer expressions that the procedure needs to work with are called the *arguments* of the procedure. The truth value that it produces is called the *value* of the procedure.\n",
    "\n",
    "Obviously, $m$ divides $n$ if and only if the remainder of the process of dividing n\n",
    "by $m$ equals $0$. The definition of `divides` can therefore be phrased in terms of a predefined procedure `rem` for finding the remainder of a division process:\n"
   ]
  },
  {
   "cell_type": "code",
   "execution_count": 8,
   "id": "8de8f7ab-c664-4df2-bc11-b03844a13f33",
   "metadata": {},
   "outputs": [],
   "source": [
    "divides d n = rem n d == 0"
   ]
  },
  {
   "cell_type": "markdown",
   "id": "23454252-f925-4d9b-a834-d534f2337dc2",
   "metadata": {},
   "source": [
    "The definition illustrates that Haskell uses `=` for 'is defined as' and `==` for identity. (The Haskell symbol for non-identity is `/=`.)\n",
    "\n",
    "A line of Haskell code of the form `foo t = ...` (or `foo t1 t2 = ...`, or\n",
    "`foo t1 t2 t3 = ...`, and so on) is called a Haskell equation. In such an equation, `foo` is called the function, and `t` its *argument*.\n",
    "\n",
    "Thus, in the Haskell equation `divides d n = rem n d == 0`, `divides` is the\n",
    "function, `d` is its first argument, and `n` is its second argument.\n",
    "\n",
    "### Exercise 1.3\n",
    "\n",
    "Use the definition of `divides` in Haskell"
   ]
  },
  {
   "cell_type": "code",
   "execution_count": 9,
   "id": "e6bb55e0-6b4b-45ee-a86b-615a709e02b3",
   "metadata": {},
   "outputs": [
    {
     "data": {
      "text/plain": [
       "False"
      ]
     },
     "metadata": {},
     "output_type": "display_data"
    }
   ],
   "source": [
    "divides 5 7"
   ]
  },
  {
   "cell_type": "code",
   "execution_count": 10,
   "id": "b5e29a5f-c4f3-4a91-bf9a-80f1452db979",
   "metadata": {},
   "outputs": [
    {
     "data": {
      "text/plain": [
       "True"
      ]
     },
     "metadata": {},
     "output_type": "display_data"
    }
   ],
   "source": [
    "divides 5 30"
   ]
  },
  {
   "cell_type": "markdown",
   "id": "0f3c6db0-643c-4969-8f97-89e474b833ce",
   "metadata": {},
   "source": [
    "It is clear from the proposition above that all we have to do to implement a primality test is to give an implementation of the function $\\texttt{LD}$. It is convenient to define $\\texttt{LD}$ in terms of a second function $\\texttt{LDF}$, for the least divisor starting from a given\n",
    "threshold $k$, with $k \\leq n$. Thus, $\\texttt{LDF}(k)(n)$ is the least divisor of $n$ $\\textit{provided that $n$ has no divisors $\\lt k$.}$\n",
    "Clearly, $\\texttt{LD}(n) = \\texttt{LDF}(2)(n)$. Now we can implement $\\texttt{LD}$ as follows:"
   ]
  },
  {
   "cell_type": "code",
   "execution_count": 11,
   "id": "ff062f14-5a07-4ee7-91f9-cf01d94a3f88",
   "metadata": {},
   "outputs": [],
   "source": [
    "{- HLINT ignore \"Eta reduce\" -}\n",
    "ld n = ldf 2 n\n",
    "\n",
    "ldf k n | divides k n = k\n",
    "        | k^2 > n = n\n",
    "        | otherwise = ldf (k+1) n"
   ]
  },
  {
   "cell_type": "markdown",
   "id": "c0831d7a-541b-4999-a511-2df0fe1d0600",
   "metadata": {},
   "source": [
    "The definition employs the Haskell operation `^` for exponentiation, `>` for 'greater\n",
    "than', and `+` for addition.\n",
    "\n",
    "The definition of `ldf` makes use of *equation guarding*. The first line of the `ldf` definition handles the case where the first argument divides the second argument.\n",
    "Every next line assumes that the previous lines do not apply. The second line handles the case where the first argument does not divide the second argument, and the square of the first argument is greater than the second argument. The third line assumes that the first and second cases do not apply and handles all other cases, i.e., the cases where $k$ does not divide $n$ and $k^2 < n$.\n",
    "\n",
    "The definition employs the Haskell condition operator `|` . A Haskell equation of the form\n",
    "\n",
    "```haskell\n",
    "foo t | condition = ...\n",
    "```\n",
    "\n",
    "is called a *guarded equation*. We might have written the definition of `ldf` as a list of guarded equations, as follows:\n",
    "\n",
    "```haskell\n",
    "ldf k n | divides k n = k\n",
    "ldf k n | k^2 > n     = n\n",
    "ldf k n               = ldf (k+1) n\n",
    "```\n",
    "\n",
    "The expression condition, of type `Bool` (i.e., Boolean or truth value), is called\n",
    "the *guard* of the equation.\n",
    "\n",
    "A list of guarded equations such as\n",
    "\n",
    "```haskell\n",
    "foo t | condition_1 = body_1\n",
    "foo t | condition_2 = body_2\n",
    "foo t | condition_3 = body_3\n",
    "foo t               = body_4\n",
    "```\n",
    "\n",
    "can be abbreviated as\n",
    "\n",
    "```haskell\n",
    "foo t | condition_1 = body_1\n",
    "      | condition_2 = body_2\n",
    "      | condition_3 = body_3\n",
    "      | otherwise   = body_4\n",
    "```\n",
    "\n",
    "Such a Haskell definition is read as follows:\n",
    "\n",
    "* in case `condition_1` holds, `foo t` is by definition equal to `body_1`,\n",
    "* in case `condition_1` does not hold but `condition_2` holds, `foo t` is by\n",
    "definition equal to `body_2`,\n",
    "* in case `condition_1` and `condition_2` do not hold but `condition_3` holds, `foo t` is by definition equal to `body_3`,\n",
    "* and in case none of `condition_1`, `condition_2` and `condition_3` hold,\n",
    "`foo t` is by definition equal to `body_4`.\n",
    "\n",
    "When we are at the end of the list we know that none of the cases above in the list\n",
    "apply. This is indicated by means of the Haskell $\\textit{Boolean constant `otherwise` defined in Prelude as `True`. The use of otherwise makes the guards more readable.}$\n",
    "\n",
    "Note that the procedure `ldf` is called again from the body of its own definition. We will encounter such **recursive** procedure definitions again and again in the course of this book (see in particular Chapter 7).\n",
    "\n",
    "### Exercise 1.4 \n",
    "\n",
    "Suppose in the definition of `ldf` we replace the condition `k^2 > n` by `k^2 >= n`, where `>=` expresses 'greater than or equal'. Would that make any difference to the meaning of the program? Why (not)?\n",
    "\n",
    "Now we are ready for a definition of `prime0`, our first implementation of the test for being a prime number.\n"
   ]
  },
  {
   "cell_type": "code",
   "execution_count": 12,
   "id": "2be826d4-0745-4f15-b595-9f7589914beb",
   "metadata": {},
   "outputs": [],
   "source": [
    "prime0 n | n < 1 = error \"not a positive integer\"\n",
    "         | n == 1 = False\n",
    "         | otherwise = ld n == n"
   ]
  },
  {
   "cell_type": "markdown",
   "id": "4c72cd1a-d342-40fe-a795-e43914c101d4",
   "metadata": {},
   "source": [
    "Haskell allows a call to the `error` operation in any definition. This is used to break off operation and issue an appropriate message when the primality test is used for numbers below $1$. Note that error has a parameter of type `String` (indicated by the double quotes).\n",
    "\n",
    "The definition employs the Haskell operation `<` for 'less than'.\n",
    "\n",
    "Intuitively, what the definition `prime0` says is this:\n",
    "\n",
    "1. the primality test should not be applied to numbers below $1$,\n",
    "2. if the test is applied to the number 1 it yields ‘false’,\n",
    "3. if it is applied to an integer n greater than 1 it boils down to checking that $\\texttt{LD}(n) = n$. In view of the proposition we proved above, this is indeed a correct primality test.\n",
    "\n",
    "\n",
    "### Exercise 1.5\n",
    "\n",
    "Try out the definitions in Exercise 1.3 and 1.4 by creating a file `primes.hs`.\n",
    "\n",
    "**Remark**\n",
    "\n",
    "The use of variables in functional programming has much in common\n",
    "with the use of variables in logic. The definition `divides d n = rem n d == 0`\n",
    "is equivalent to `divides x y = rem y x == 0`. This is because the variables\n",
    "denote *arbitrary* elements of the type over which they range. They behave like\n",
    "universally quantified variables, and just as in logic the definition does not depend\n",
    "on the variable names."
   ]
  },
  {
   "cell_type": "markdown",
   "id": "e536a799",
   "metadata": {},
   "source": [
    "Copyright (2004) Kees Doets and Jan van Eijk, The Haskell Road to Logic, Maths and Programming."
   ]
  }
 ],
 "metadata": {
  "kernelspec": {
   "display_name": "Haskell",
   "language": "haskell",
   "name": "haskell"
  },
  "language_info": {
   "codemirror_mode": "ihaskell",
   "file_extension": ".hs",
   "mimetype": "text/x-haskell",
   "name": "haskell",
   "pygments_lexer": "Haskell",
   "version": "9.6.4"
  }
 },
 "nbformat": 4,
 "nbformat_minor": 5
}
