{
 "cells": [
  {
   "cell_type": "markdown",
   "id": "89c5f45f",
   "metadata": {},
   "source": [
    "# KS1 Reasoning national curriculum test 2018"
   ]
  },
  {
   "cell_type": "markdown",
   "id": "d10eb8d7",
   "metadata": {},
   "source": [
    "# Warm-up \n",
    "\"Now I am going to read aloud some questions for you to answer. I am going to read each question twice with a short gap in between. You will need to listen very carefully when I read a question to you. Look at the four keys. Tick the key that is the longest\""
   ]
  },
  {
   "cell_type": "markdown",
   "id": "c878659d",
   "metadata": {},
   "source": [
    "![](images/keys1.png)"
   ]
  },
  {
   "cell_type": "markdown",
   "id": "23dc7159",
   "metadata": {},
   "source": [
    "\"Now I am going to read aloud questions 1 to 5. You should try to answer all the questions. You should write your answers in the correct place for each question.\"\n",
    "# Q1\n",
    "What is twenty add two add two\" Write your answer in the box.\n",
    "![](images/P22.png)"
   ]
  },
  {
   "cell_type": "code",
   "execution_count": 3,
   "id": "b0b2b3a1",
   "metadata": {},
   "outputs": [
    {
     "data": {
      "text/plain": [
       "24"
      ]
     },
     "metadata": {},
     "output_type": "display_data"
    }
   ],
   "source": [
    "twenty = 20\n",
    "two = 2\n",
    "twenty + two + 2"
   ]
  },
  {
   "cell_type": "markdown",
   "id": "a3d19928",
   "metadata": {},
   "source": [
    "# Q2 \n",
    "I am thinking of a number. It has __four__ tens and __two__ ones. Write my number in the box ![](images/p22.png)"
   ]
  },
  {
   "cell_type": "code",
   "execution_count": 4,
   "id": "9c76aec0",
   "metadata": {},
   "outputs": [
    {
     "data": {
      "text/plain": [
       "42"
      ]
     },
     "metadata": {},
     "output_type": "display_data"
    }
   ],
   "source": [
    "four = 4\n",
    "ten = 10\n",
    "one = 1\n",
    "four * ten + two * one"
   ]
  },
  {
   "cell_type": "markdown",
   "id": "3072a576",
   "metadata": {},
   "source": [
    "# Q3 \n",
    "Look at the circle.\n",
    "Part of the circle is shaded\n",
    "Tick the fraction below that shows the shaded part of the circle.\n",
    "\n",
    "![](images/p22.png)"
   ]
  },
  {
   "cell_type": "markdown",
   "id": "d5ff217b",
   "metadata": {},
   "source": [
    "Computational model\n",
    "![](images/s230902IaBe071818AnimatedProgression11.png)"
   ]
  },
  {
   "cell_type": "markdown",
   "id": "f7341b01",
   "metadata": {},
   "source": [
    "![](images/s230902IaBe071818AnimatedProgression12.png)"
   ]
  },
  {
   "cell_type": "markdown",
   "id": "756eb2c5",
   "metadata": {},
   "source": [
    "# Q4\n",
    "There are 13 marbles in a jar. The jar can hold 20 marbles. How many more marbles can fit in the jar?\n",
    "![](images/P24.png)"
   ]
  },
  {
   "cell_type": "code",
   "execution_count": 14,
   "id": "21d0290c",
   "metadata": {},
   "outputs": [
    {
     "data": {
      "text/html": [
       "<style>/* Styles used for the Hoogle display in the pager */\n",
       ".hoogle-doc {\n",
       "display: block;\n",
       "padding-bottom: 1.3em;\n",
       "padding-left: 0.4em;\n",
       "}\n",
       ".hoogle-code {\n",
       "display: block;\n",
       "font-family: monospace;\n",
       "white-space: pre;\n",
       "}\n",
       ".hoogle-text {\n",
       "display: block;\n",
       "}\n",
       ".hoogle-name {\n",
       "color: green;\n",
       "font-weight: bold;\n",
       "}\n",
       ".hoogle-head {\n",
       "font-weight: bold;\n",
       "}\n",
       ".hoogle-sub {\n",
       "display: block;\n",
       "margin-left: 0.4em;\n",
       "}\n",
       ".hoogle-package {\n",
       "font-weight: bold;\n",
       "font-style: italic;\n",
       "}\n",
       ".hoogle-module {\n",
       "font-weight: bold;\n",
       "}\n",
       ".hoogle-class {\n",
       "font-weight: bold;\n",
       "}\n",
       "\n",
       ".get-type {\n",
       "color: green;\n",
       "font-weight: bold;\n",
       "font-family: monospace;\n",
       "display: block;\n",
       "white-space: pre-wrap;\n",
       "}\n",
       ".show-type {\n",
       "color: green;\n",
       "font-weight: bold;\n",
       "font-family: monospace;\n",
       "margin-left: 1em;\n",
       "}\n",
       ".mono {\n",
       "font-family: monospace;\n",
       "display: block;\n",
       "}\n",
       ".err-msg {\n",
       "color: red;\n",
       "font-style: italic;\n",
       "font-family: monospace;\n",
       "white-space: pre;\n",
       "display: block;\n",
       "}\n",
       "#unshowable {\n",
       "color: red;\n",
       "font-weight: bold;\n",
       "}\n",
       ".err-msg.in.collapse {\n",
       "padding-top: 0.7em;\n",
       "}\n",
       "\n",
       ".highlight-code {\n",
       "white-space: pre;\n",
       "font-family: monospace;\n",
       "}\n",
       "\n",
       ".suggestion-warning { \n",
       "font-weight: bold;\n",
       "color: rgb(200, 130, 0);\n",
       "}\n",
       ".suggestion-error { \n",
       "font-weight: bold;\n",
       "color: red;\n",
       "}\n",
       ".suggestion-name {\n",
       "font-weight: bold;\n",
       "}\n",
       "\n",
       "</style><span class='get-type'>more :: Marbles</span>"
      ],
      "text/plain": [
       "more :: Marbles"
      ]
     },
     "metadata": {},
     "output_type": "display_data"
    },
    {
     "data": {
      "text/plain": [
       "7"
      ]
     },
     "metadata": {},
     "output_type": "display_data"
    }
   ],
   "source": [
    "type Marbles = Int\n",
    "outside = 13 :: Marbles\n",
    "jar = 20 :: Marbles\n",
    "more = jar - outside\n",
    ":type more\n",
    "more"
   ]
  },
  {
   "cell_type": "markdown",
   "id": "4cdbad6c",
   "metadata": {},
   "source": [
    "# Q5\n",
    "Write the same __number__ in both boxes to make the multiplication correct\n",
    "![](images/P25.png)\n"
   ]
  },
  {
   "cell_type": "markdown",
   "id": "daa7c92c",
   "metadata": {},
   "source": [
    "## Option 1, lookup product table\n",
    "![](images/s230902IaBe071818AnimatedProgression13.png)"
   ]
  },
  {
   "cell_type": "markdown",
   "id": "f612a0ae",
   "metadata": {},
   "source": [
    "## Option 2, keep squaring integers > 1 until you reach 25"
   ]
  },
  {
   "cell_type": "code",
   "execution_count": 1,
   "id": "6ebe8156",
   "metadata": {},
   "outputs": [
    {
     "data": {
      "text/plain": [
       "[1,2,3,4]"
      ]
     },
     "metadata": {},
     "output_type": "display_data"
    },
    {
     "data": {
      "text/plain": [
       "5"
      ]
     },
     "metadata": {},
     "output_type": "display_data"
    }
   ],
   "source": [
    "takeWhile (\\x -> x * x /= 25) [1..]\n",
    "length (takeWhile (\\x -> x * x /= 25) [1..]) + 1"
   ]
  },
  {
   "cell_type": "markdown",
   "id": "71570938",
   "metadata": {},
   "source": [
    "## Q6"
   ]
  },
  {
   "cell_type": "markdown",
   "id": "2b475d3c",
   "metadata": {},
   "source": [
    "![](images/P26.png)"
   ]
  },
  {
   "cell_type": "markdown",
   "id": "e2f52c66",
   "metadata": {},
   "source": [
    "That is (in pseudo-code)\n",
    "`sortDecreasing [ TowerA, TowerB, TowerC, TowerD] == [ _, D, _, _]`"
   ]
  },
  {
   "cell_type": "markdown",
   "id": "a8a1dc07",
   "metadata": {},
   "source": [
    "![](images/s230902IaBe071818AnimatedProgression14.png)"
   ]
  },
  {
   "cell_type": "code",
   "execution_count": 5,
   "id": "f2e22fd5",
   "metadata": {},
   "outputs": [],
   "source": [
    "-- we can generalise this to mixed units such as sortDist [Km 3, Cm 2000, Metres 1]\n",
    "import Data.List  -- we need this to use the libary function \"sort\"\n",
    "\n",
    " -- we need to derive Eq and Ord so we that \"sort\" will work\n",
    "data Distance = Km Int | Metres Int | Cm Int | Mm Int deriving (Eq, Ord)\n",
    "\n",
    "-- Implementation equations are tested in turn top down to match on the argument(s)\n",
    "convertDist :: Distance -> Int\n",
    "convertDist (Km n) =  n * 1000 \n",
    "convertDist (Metres n) =  n\n",
    "convertDist (Cm n) =  n `div` 100\n",
    "convertDist (Mm n) =  n `div` 1000\n",
    "\n",
    "-- Implementation equations can also be specified \"point free\" with implied arguments\n",
    "normalise :: [Distance] -> [Int]\n",
    "normalise = map convertDist\n",
    "\n",
    "sortDist :: [Distance] -> [Int]\n",
    "sortDist = sort . normalise"
   ]
  },
  {
   "cell_type": "code",
   "execution_count": 3,
   "id": "3d9f3e5d",
   "metadata": {},
   "outputs": [
    {
     "data": {
      "text/plain": [
       "[1,2,3]"
      ]
     },
     "metadata": {},
     "output_type": "display_data"
    }
   ],
   "source": [
    "sortDist [Metres 3, Metres 2, Metres 1]"
   ]
  },
  {
   "cell_type": "code",
   "execution_count": 4,
   "id": "69de1ea6",
   "metadata": {},
   "outputs": [
    {
     "data": {
      "text/plain": [
       "[1,20,3000]"
      ]
     },
     "metadata": {},
     "output_type": "display_data"
    }
   ],
   "source": [
    "sortDist [Km 3, Cm 2000, Metres 1]"
   ]
  },
  {
   "cell_type": "markdown",
   "id": "534d4745",
   "metadata": {},
   "source": [
    "## Q7\n",
    "\n",
    "![](images/s230902IaBe071818AnimatedProgression15.png)"
   ]
  },
  {
   "cell_type": "markdown",
   "id": "4f38841e",
   "metadata": {},
   "source": [
    "## Q8\n",
    "\n",
    "![](images/s230902IaBe071818AnimatedProgression16.png)"
   ]
  },
  {
   "cell_type": "markdown",
   "id": "c5e56b41",
   "metadata": {},
   "source": [
    "## Q9\n",
    "For this question we will need some pseudo-code similar to Haskell's elemIndex function\n",
    "![](images/elemIndex.png)"
   ]
  },
  {
   "cell_type": "markdown",
   "id": "6509b8a8",
   "metadata": {},
   "source": [
    "![](images/s230902IaBe071818AnimatedProgression17.png)"
   ]
  },
  {
   "cell_type": "markdown",
   "id": "5eb3efc5",
   "metadata": {},
   "source": [
    "Images and questions Crown Copyright taken from STA187965e_2018_ks1_mathematics_Paper2_reasoning.pdf. Copyright (2024) Sociality Mathematics CIC, licence CC BY-NC-ND Attribution-NonCommercial-NoDerivs https://creativecommons.org/licenses/"
   ]
  }
 ],
 "metadata": {
  "kernelspec": {
   "display_name": "Haskell",
   "language": "haskell",
   "name": "haskell"
  },
  "language_info": {
   "codemirror_mode": "ihaskell",
   "file_extension": ".hs",
   "mimetype": "text/x-haskell",
   "name": "haskell",
   "pygments_lexer": "Haskell",
   "version": "9.6.4"
  }
 },
 "nbformat": 4,
 "nbformat_minor": 5
}
