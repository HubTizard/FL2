{
 "cells": [
  {
   "cell_type": "markdown",
   "id": "db1d57ab",
   "metadata": {},
   "source": [
    "# Exercise 3.3: The Essentials: Functions and Lists\n",
    "This tutorial will guide you through two essential concepts of the Haskell language: functions and lists. You will learn the syntax, how to create and use functions and lists.\n",
    "This tutorial has three sections:\n",
    "1. Defining a Function\n",
    "2. Functions without a name: lambda functions\n",
    "3. A key datastructure: the list"
   ]
  },
  {
   "cell_type": "markdown",
   "id": "c03ba988",
   "metadata": {},
   "source": [
    "### 1 Defining a function\n",
    "In Haskell, many functions are pre-defined in a standard library called the Prelude. We have already encountered some of them in a previous exercise,i.e. `abs`, `max` and `min`.\n",
    "But the essence of functional programming is defining your own functions to solve your problems!\n",
    "A function is defined by an equation. There are two ways to define a function.\n",
    "You can either __define__ a named function, e.g. `f x = x+1`\n",
    "The left hand side (Ihs) of the equation looks like a variable - and that's what it is! The right hand side (rhs) is an expression that uses the local variable and defines the result of the expression."
   ]
  },
  {
   "cell_type": "markdown",
   "id": "a8d2ab3d",
   "metadata": {},
   "source": [
    "To use the function, you apply it to an argument,e.g. `f 3`. Add the definition and test it in the cell below."
   ]
  },
  {
   "cell_type": "code",
   "execution_count": 1,
   "id": "de87074b",
   "metadata": {},
   "outputs": [
    {
     "data": {
      "text/plain": [
       "4"
      ]
     },
     "metadata": {},
     "output_type": "display_data"
    }
   ],
   "source": [
    "f x = x + 1\n",
    "f 3"
   ]
  },
  {
   "cell_type": "markdown",
   "id": "c9cc41d4",
   "metadata": {},
   "source": [
    "You can of also define functions with multiple arguments, e.g. `add3nums x y z = x + y + z`"
   ]
  },
  {
   "cell_type": "code",
   "execution_count": 2,
   "id": "ee5164f9",
   "metadata": {},
   "outputs": [],
   "source": [
    "add3nums x y z = x + y + z"
   ]
  },
  {
   "cell_type": "markdown",
   "id": "5606f1db",
   "metadata": {},
   "source": [
    "To use it e.g. `10 + 4 * add3nums 1 2 3`"
   ]
  },
  {
   "cell_type": "code",
   "execution_count": 3,
   "id": "fa60f315",
   "metadata": {},
   "outputs": [
    {
     "data": {
      "text/plain": [
       "34"
      ]
     },
     "metadata": {},
     "output_type": "display_data"
    }
   ],
   "source": [
    "10 + 4 * add3nums 1 2 3"
   ]
  },
  {
   "cell_type": "markdown",
   "id": "a28cffd9",
   "metadata": {},
   "source": [
    "### 2 Functions without a name: lambda functions\n",
    "You can also define a function without a name, known as a \"lambda function\" (or \"anonymous function\" in other languages), for example \\ x -> x+1.\n",
    "On the lhs of the arrow you list the arguments, on the rhs the expression.\n",
    "You can use this function straightaway, for example: (\\x -> x+1 ) 4"
   ]
  },
  {
   "cell_type": "code",
   "execution_count": null,
   "id": "4e0c3275",
   "metadata": {},
   "outputs": [],
   "source": []
  },
  {
   "cell_type": "markdown",
   "id": "5ddc5fce",
   "metadata": {},
   "source": [
    "Or you can use an equation to assign the lambda function to a variable: `f1 = \\x -> x+1`. Try this. "
   ]
  },
  {
   "cell_type": "code",
   "execution_count": 5,
   "id": "1205d37b",
   "metadata": {},
   "outputs": [
    {
     "data": {
      "text/html": [
       "<style>/* Styles used for the Hoogle display in the pager */\n",
       ".hoogle-doc {\n",
       "display: block;\n",
       "padding-bottom: 1.3em;\n",
       "padding-left: 0.4em;\n",
       "}\n",
       ".hoogle-code {\n",
       "display: block;\n",
       "font-family: monospace;\n",
       "white-space: pre;\n",
       "}\n",
       ".hoogle-text {\n",
       "display: block;\n",
       "}\n",
       ".hoogle-name {\n",
       "color: green;\n",
       "font-weight: bold;\n",
       "}\n",
       ".hoogle-head {\n",
       "font-weight: bold;\n",
       "}\n",
       ".hoogle-sub {\n",
       "display: block;\n",
       "margin-left: 0.4em;\n",
       "}\n",
       ".hoogle-package {\n",
       "font-weight: bold;\n",
       "font-style: italic;\n",
       "}\n",
       ".hoogle-module {\n",
       "font-weight: bold;\n",
       "}\n",
       ".hoogle-class {\n",
       "font-weight: bold;\n",
       "}\n",
       "\n",
       ".get-type {\n",
       "color: green;\n",
       "font-weight: bold;\n",
       "font-family: monospace;\n",
       "display: block;\n",
       "white-space: pre-wrap;\n",
       "}\n",
       ".show-type {\n",
       "color: green;\n",
       "font-weight: bold;\n",
       "font-family: monospace;\n",
       "margin-left: 1em;\n",
       "}\n",
       ".mono {\n",
       "font-family: monospace;\n",
       "display: block;\n",
       "}\n",
       ".err-msg {\n",
       "color: red;\n",
       "font-style: italic;\n",
       "font-family: monospace;\n",
       "white-space: pre;\n",
       "display: block;\n",
       "}\n",
       "#unshowable {\n",
       "color: red;\n",
       "font-weight: bold;\n",
       "}\n",
       ".err-msg.in.collapse {\n",
       "padding-top: 0.7em;\n",
       "}\n",
       "\n",
       ".highlight-code {\n",
       "white-space: pre;\n",
       "font-family: monospace;\n",
       "}\n",
       "\n",
       ".suggestion-warning { \n",
       "font-weight: bold;\n",
       "color: rgb(200, 130, 0);\n",
       "}\n",
       ".suggestion-error { \n",
       "font-weight: bold;\n",
       "color: red;\n",
       "}\n",
       ".suggestion-name {\n",
       "font-weight: bold;\n",
       "}\n",
       "\n",
       "</style><div class=\"suggestion-name\" style=\"clear:both;\">Redundant lambda</div><div class=\"suggestion-row\" style=\"float: left;\"><div class=\"suggestion-warning\">Found:</div><div class=\"highlight-code\" id=\"haskell\">f1 = \\ x -> x + 1</div></div><div class=\"suggestion-row\" style=\"float: left;\"><div class=\"suggestion-warning\">Why Not:</div><div class=\"highlight-code\" id=\"haskell\">f1 x = x + 1</div></div><div class=\"suggestion-name\" style=\"clear:both;\">Avoid lambda using `infix`</div><div class=\"suggestion-row\" style=\"float: left;\"><div class=\"suggestion-warning\">Found:</div><div class=\"highlight-code\" id=\"haskell\">\\ x -> x + 1</div></div><div class=\"suggestion-row\" style=\"float: left;\"><div class=\"suggestion-warning\">Why Not:</div><div class=\"highlight-code\" id=\"haskell\">(+ 1)</div></div>"
      ],
      "text/plain": [
       "Line 1: Redundant lambda\n",
       "Found:\n",
       "f1 = \\ x -> x + 1\n",
       "Why not:\n",
       "f1 x = x + 1Line 1: Avoid lambda using `infix`\n",
       "Found:\n",
       "\\ x -> x + 1\n",
       "Why not:\n",
       "(+ 1)"
      ]
     },
     "metadata": {},
     "output_type": "display_data"
    }
   ],
   "source": [
    "f1 = \\x -> x+1"
   ]
  },
  {
   "cell_type": "markdown",
   "id": "8474f07f",
   "metadata": {},
   "source": [
    "iHaskell infers that the lamda is redundant and the definition can be shortened to the point free form `f1 = (+1)` This omits the argument list and its use, and replaces the incrementing equation by the __infix__ operator `(+1)` defined by `(+1) x = x + 1`. Try this:"
   ]
  },
  {
   "cell_type": "code",
   "execution_count": null,
   "id": "3e1a430a",
   "metadata": {},
   "outputs": [],
   "source": []
  },
  {
   "cell_type": "markdown",
   "id": "b4a4cd3f",
   "metadata": {},
   "source": [
    "In that way you can use it later: `fl 4`."
   ]
  },
  {
   "cell_type": "code",
   "execution_count": null,
   "id": "8a042ac2",
   "metadata": {},
   "outputs": [],
   "source": []
  },
  {
   "cell_type": "markdown",
   "id": "f982d358",
   "metadata": {},
   "source": [
    "You can of course also define lambda functions with multiple arguments, e.g. `add3numsl = \\x y z -> x + y + z`\n",
    "You can use this function in exactly the same way as a named function, e.g `10 + 4 * add3numsl 1 2 3`"
   ]
  },
  {
   "cell_type": "code",
   "execution_count": null,
   "id": "f26245d6",
   "metadata": {},
   "outputs": [],
   "source": []
  },
  {
   "cell_type": "markdown",
   "id": "259808a2",
   "metadata": {},
   "source": [
    "### 3 A key data structure: the list\n",
    "A list is a single value that contains several other values. The elements are written in square parentheses, separated by commas, e.g. `[2.718, 50.0, -1.0]` or `[1,2,4,8]` or `[\"A\", \"list\", \"of\", \"strings\"]`. To get the length of a list you can use the `length` function: `length [\"A\", \"list\",\"of\", \"strings\"]`. Define some lists and check their length."
   ]
  },
  {
   "cell_type": "code",
   "execution_count": null,
   "id": "0a623226",
   "metadata": {},
   "outputs": [],
   "source": []
  },
  {
   "cell_type": "markdown",
   "id": "f07e4384",
   "metadata": {},
   "source": [
    "### List construction\n",
    "\n",
    "In Haskell the symbol `[]` is both the empty list and the list type constructor. There are two list type constructors: `[]` (which creates an empty list), and `(:)` (__cons__ an infix operator that takes two arguments: an element and a list and prepends the element to the list). [] can be used as a prefix type constructor (`[] Int` means `[Int]`)\n",
    "\n",
    "`-- List constructors in action:`\n",
    "\n",
    "`[]                    -- empty list`\n",
    "\n",
    "`1 : []                -- [1]`\n",
    "\n",
    "`1 : 2 : []            -- [1,2]`\n",
    "\n",
    "`1 : 2 : 3 : []        -- [1,2,3]`\n",
    "\n",
    "Lists are defined as an __algebraic data type__ where `a` is a type variable (or type parameter) such as `Char`, `Bool` etc. Its data type definition is `data [a] = [] | a : [a]`. This uses the `|` symbol or __pipe__ to separate alternate __constructors__. The definition is read \" `[a]` is a list of elements type `a`. It is either empty `[]` or an element `a` consed onto another list `[a]`\". \n",
    "\n",
    "(ASIDE __Cons__, short for Construct, was the operation that combined the contents of the address part of an IBM 704 register (CAR) and the contents of the decrement part of the register (CDR). John McCarthy's Lisp repurposed these fields: the address part held the pointer to the first list element (CAR), and the decrement part held the pointer to the rest of the list (CDR). Haskell uses `head` and `tail` for Lisp's `car` and `cdr`.)\n",
    "\n",
    "For example `String` is defined as `[Char]` so these are all the same\n",
    "\n",
    "`\"hello\"` \n",
    "`['h','e','l','l','o']`\n",
    "`'h' : 'e' : 'l' : 'l' : 'o' : []`"
   ]
  },
  {
   "cell_type": "markdown",
   "id": "9d5bd1cd",
   "metadata": {},
   "source": [
    "#### Functions returning lists\n",
    "Actually, a function can return only one result.\n",
    "However, lists allow you to package up several values into one object, which can be returned by a function. Here is a function sumprod that returns both the sum and the product of two numbers:\n",
    "`sumprod = \\x y -> [x+y, x*y]`\n",
    "So, for example `sumprod 3 8` and `sumprod 8 3` both return the list `[11,24]`"
   ]
  },
  {
   "cell_type": "code",
   "execution_count": null,
   "id": "3efa781a",
   "metadata": {},
   "outputs": [],
   "source": []
  },
  {
   "cell_type": "markdown",
   "id": "9c88d209",
   "metadata": {},
   "source": [
    "#### Naming lists\n",
    "A constant list such as `[2,4,6,8]` is a valid expression so you can assign it to\n",
    "a variable, e.g. `mylist = [2,4,6,8]`\n",
    "Now you can refer to this list by its name anywhere in the program"
   ]
  },
  {
   "cell_type": "code",
   "execution_count": null,
   "id": "b42f8729",
   "metadata": {},
   "outputs": [],
   "source": []
  },
  {
   "cell_type": "markdown",
   "id": "ac47bf22",
   "metadata": {},
   "source": [
    "The elements of a list can also be expressions, which are evaluated when they are accessed. Suppose you define:\n",
    "`answer = 42`\n",
    "`yourlist = [7, answer+1, 7*8]`. Try it."
   ]
  },
  {
   "cell_type": "markdown",
   "id": "fa4faf57",
   "metadata": {},
   "source": [
    "And that's the end of Exercise 3.3! Well done, you finished your second Haskell tutorial!. Let's recap what we've learned:\n",
    "- Defining a Function\n",
    "- Functions without a name: lambda functions\n",
    "- A key datastructure: the list and list constructors"
   ]
  },
  {
   "cell_type": "markdown",
   "id": "b725937d",
   "metadata": {},
   "source": [
    "Copyright Christopher Done (2008-25) and Sociality Mathematics CIC (2025), licence CC BY-NC-ND Attribution-NonCommercial-NoDerivs https://creativecommons.org/licenses/"
   ]
  }
 ],
 "metadata": {
  "kernelspec": {
   "display_name": "Haskell",
   "language": "haskell",
   "name": "haskell"
  },
  "language_info": {
   "codemirror_mode": "ihaskell",
   "file_extension": ".hs",
   "mimetype": "text/x-haskell",
   "name": "haskell",
   "pygments_lexer": "Haskell",
   "version": "9.6.4"
  }
 },
 "nbformat": 4,
 "nbformat_minor": 5
}
