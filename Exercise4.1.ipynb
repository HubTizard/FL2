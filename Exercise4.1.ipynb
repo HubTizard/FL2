{
 "cells": [
  {
   "cell_type": "markdown",
   "id": "675cc443",
   "metadata": {},
   "source": [
    "# Exercise 4.1 Boolean Values and Expressions\n",
    "Let's get some some experience with Boolean values and expressions."
   ]
  },
  {
   "cell_type": "markdown",
   "id": "b9e4b7a8",
   "metadata": {},
   "source": [
    "### Boolean Equality\n",
    "\n",
    "Like many other languages, the double-equals operator `==` is used for testing value equality.\n",
    "Enter an integer equality test below, e.g. `42==42`, and observe that it evaluates to `True`"
   ]
  },
  {
   "cell_type": "code",
   "execution_count": null,
   "id": "dead4170",
   "metadata": {},
   "outputs": [],
   "source": []
  },
  {
   "cell_type": "markdown",
   "id": "72b7e507",
   "metadata": {},
   "source": [
    "OK, no surprises so far, you got back the truth value `True` as expected.\n",
    "Now compare two different integer values for equality, e.g. `1 == 2`, and\n",
    "observe that the result is `False`"
   ]
  },
  {
   "cell_type": "code",
   "execution_count": null,
   "id": "9df0bc08",
   "metadata": {},
   "outputs": [],
   "source": []
  },
  {
   "cell_type": "markdown",
   "id": "7fd11364",
   "metadata": {},
   "source": [
    "OK, no surprises so far, you got back the truth value `False` as expected.\n",
    "The not-equals operator\n",
    "Use the `/=` operator (it's supposed to look like an equals sign with a line through it), to test for inequality, e.g. `1 /= 2`"
   ]
  },
  {
   "cell_type": "code",
   "execution_count": null,
   "id": "2182f3cb",
   "metadata": {},
   "outputs": [],
   "source": []
  },
  {
   "cell_type": "markdown",
   "id": "bd405235",
   "metadata": {},
   "source": [
    "You can apply these operations to other data types. Try comparing two `Strings` for equality, e.g. `\"hello\" == \"hola\"`"
   ]
  },
  {
   "cell_type": "code",
   "execution_count": null,
   "id": "2ce432ed",
   "metadata": {},
   "outputs": [],
   "source": []
  },
  {
   "cell_type": "markdown",
   "id": "a8ba1170",
   "metadata": {},
   "source": [
    "Now try String inequality `\"foo\" /= \"bar\"`"
   ]
  },
  {
   "cell_type": "code",
   "execution_count": null,
   "id": "188b5fff",
   "metadata": {},
   "outputs": [],
   "source": []
  },
  {
   "cell_type": "markdown",
   "id": "d60e1136",
   "metadata": {},
   "source": [
    "You can apply these operations to other data types. You might also try comparing two `Bools` directly, e.g. `True /= False`"
   ]
  },
  {
   "cell_type": "code",
   "execution_count": null,
   "id": "d9415f65",
   "metadata": {},
   "outputs": [],
   "source": []
  },
  {
   "cell_type": "markdown",
   "id": "585114b0",
   "metadata": {},
   "source": [
    "So this expression returned `True`, illustrating the use of the equality test operator.\n",
    "Now, what happens if you try to compare two values with different types?\n",
    "e.g. `True == 1`"
   ]
  },
  {
   "cell_type": "code",
   "execution_count": null,
   "id": "81f9ad98",
   "metadata": {},
   "outputs": [],
   "source": []
  },
  {
   "cell_type": "markdown",
   "id": "d8b376f8",
   "metadata": {},
   "source": [
    "As you can see, this equality test fails: Haskell cannot compare two values that have different types. The full story is more complex, but for now, we can see that types limit the operations we can apply to particular values.\n",
    "\n",
    "Haskell supports the standard comparison/relational operators, `<, <=, >, >=`.\n",
    "Try a simple comparison, e.g. `10 > 9`"
   ]
  },
  {
   "cell_type": "code",
   "execution_count": null,
   "id": "6d4e4205",
   "metadata": {},
   "outputs": [],
   "source": []
  },
  {
   "cell_type": "markdown",
   "id": "baf4cfc8",
   "metadata": {},
   "source": [
    "Note that relational operators also work on lists, in a dictionary-order manner (lexicographic). e.g. Try `[1,2,3] < [1,2,3,4]`"
   ]
  },
  {
   "cell_type": "code",
   "execution_count": null,
   "id": "dcebcf62",
   "metadata": {},
   "outputs": [],
   "source": []
  },
  {
   "cell_type": "markdown",
   "id": "6be920b6",
   "metadata": {},
   "source": [
    "Since strings are lists of characters in Haskell, we can do the same kinds of comparison operations on strings. Check whether Aardvark comes before Aaronic in the dictionary with this code: `\"Aardvark\" < \"Aaronic\"`"
   ]
  },
  {
   "cell_type": "code",
   "execution_count": null,
   "id": "8a173de1",
   "metadata": {},
   "outputs": [],
   "source": []
  },
  {
   "cell_type": "markdown",
   "id": "0807781b",
   "metadata": {},
   "source": [
    "Now let's think about list membership. We want a boolean function that returns `True` if a value is part of a list, and `False` otherwise. This is the `elem` function. Try `elem 1 [1,2,3]`"
   ]
  },
  {
   "cell_type": "code",
   "execution_count": null,
   "id": "e27df006",
   "metadata": {},
   "outputs": [],
   "source": []
  },
  {
   "cell_type": "markdown",
   "id": "74de7393",
   "metadata": {},
   "source": [
    "You see that element 1 is part of the list.\n",
    "The elem function can be written infix, like an arithmetic operator, by enclosing its name in backquotes. Try this:"
   ]
  },
  {
   "cell_type": "code",
   "execution_count": 2,
   "id": "3c8213db",
   "metadata": {},
   "outputs": [
    {
     "data": {
      "text/plain": [
       "True"
      ]
     },
     "metadata": {},
     "output_type": "display_data"
    }
   ],
   "source": [
    "3 `elem` [1, 2, 3, 4, 5]"
   ]
  },
  {
   "cell_type": "markdown",
   "id": "74660933",
   "metadata": {},
   "source": [
    "In fact, Haskell permits any two-argument function to be written as an infix operator using backquote characters. For a further example, try the max function as an infix operator:"
   ]
  },
  {
   "cell_type": "code",
   "execution_count": 3,
   "id": "0c3e6a8f",
   "metadata": {},
   "outputs": [
    {
     "data": {
      "text/plain": [
       "42"
      ]
     },
     "metadata": {},
     "output_type": "display_data"
    }
   ],
   "source": [
    " 42 `max` 13"
   ]
  },
  {
   "cell_type": "markdown",
   "id": "a0c049b8",
   "metadata": {},
   "source": [
    "Similarly any Haskell infix operator, e.g. +, can be written as a prefix operator by enclosing it in parentheses, like `(+) 1`. Try `(+) 1 1`"
   ]
  },
  {
   "cell_type": "code",
   "execution_count": null,
   "id": "b0d3b1af",
   "metadata": {},
   "outputs": [],
   "source": []
  },
  {
   "cell_type": "markdown",
   "id": "d1eaa848",
   "metadata": {},
   "source": [
    "Well done, you finished another Haskell tutorial!.\n",
    "Let's recap what we've just discovered:\n",
    "- Equality and Comparison Operators\n",
    "- Testing List membership with the elem function\n",
    "- Using infix and prefix"
   ]
  },
  {
   "cell_type": "markdown",
   "id": "e8ae53a2",
   "metadata": {},
   "source": [
    "Copyright Christopher Done (2008-25) and Sociality Mathematics CIC (2025), licence CC BY-NC-ND Attribution-NonCommercial-NoDerivs https://creativecommons.org/licenses/"
   ]
  }
 ],
 "metadata": {
  "kernelspec": {
   "display_name": "Haskell",
   "language": "haskell",
   "name": "haskell"
  },
  "language_info": {
   "codemirror_mode": "ihaskell",
   "file_extension": ".hs",
   "mimetype": "text/x-haskell",
   "name": "haskell",
   "pygments_lexer": "Haskell",
   "version": "9.6.4"
  }
 },
 "nbformat": 4,
 "nbformat_minor": 5
}
