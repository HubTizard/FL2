{
 "cells": [
  {
   "cell_type": "markdown",
   "metadata": {},
   "source": [
    "## Computational Investigation"
   ]
  },
  {
   "cell_type": "markdown",
   "metadata": {},
   "source": [
    "\n",
    "We can use a computer to look for reasons why it is impossible for the discriminant to be a square\n",
    "number if `a`, `b` and `c` are all odd.\n",
    "\n",
    "Let us begin by introducing some basic coding. We can create a user defined function that squares\n",
    "numbers using the following code."
   ]
  },
  {
   "cell_type": "code",
   "execution_count": 1,
   "metadata": {},
   "outputs": [],
   "source": [
    "f x = x^2"
   ]
  },
  {
   "cell_type": "markdown",
   "metadata": {},
   "source": [
    "We can then use list comprehensions to create a list of square numbers."
   ]
  },
  {
   "cell_type": "code",
   "execution_count": 2,
   "metadata": {},
   "outputs": [
    {
     "data": {
      "text/plain": [
       "[1,4,9,16,25,36,49,64,81,100,121,144,169,196,225,256,289,324,361,400]"
      ]
     },
     "metadata": {},
     "output_type": "display_data"
    }
   ],
   "source": [
    "[f x | x <- [1..20] ]"
   ]
  },
  {
   "cell_type": "markdown",
   "metadata": {},
   "source": [
    "### The Discriminant\n",
    "\n",
    "Introducing the discriminant is more complicated as we need a function with three inputs."
   ]
  },
  {
   "cell_type": "code",
   "execution_count": 3,
   "metadata": {},
   "outputs": [],
   "source": [
    "dis :: Num a => a -> a -> a -> a\n",
    "dis a b c = b^2 - 4 * a * c"
   ]
  },
  {
   "cell_type": "markdown",
   "metadata": {},
   "source": [
    "When we create a table of values we need to restrict to the odd numbers, and we also want to include\n",
    "negative values for the coefficient, so we have"
   ]
  },
  {
   "cell_type": "code",
   "execution_count": 4,
   "metadata": {},
   "outputs": [
    {
     "data": {
      "text/plain": [
       "[-27,-3,21,45,-35,-11,13,37,-35,-11,13,37,-27,-3,21,45,-3,5,13,21,-11,-3,5,13,-11,-3,5,13,-3,5,13,21,21,13,5,-3,13,5,-3,-11,13,5,-3,-11,21,13,5,-3,45,21,-3,-27,37,13,-11,-35,37,13,-11,-35,45,21,-3,-27]"
      ]
     },
     "metadata": {},
     "output_type": "display_data"
    }
   ],
   "source": [
    "let r = [-3, -1 .. 3] in [dis a b c | a <- r, b <- r, c <- r]"
   ]
  },
  {
   "cell_type": "markdown",
   "metadata": {},
   "source": [
    "It would also be clearer if we sort the list (using `sort`) and remove repeats (using `nub`)"
   ]
  },
  {
   "cell_type": "code",
   "execution_count": 5,
   "metadata": {},
   "outputs": [
    {
     "data": {
      "text/plain": [
       "[-35,-27,-11,-3,5,13,21,37,45]"
      ]
     },
     "metadata": {},
     "output_type": "display_data"
    }
   ],
   "source": [
    "import Data.List (nub, sort)\n",
    "\n",
    "nub . sort $ let r = [-3, -1 .. 3] in [dis a b c | a <- r, b <- r, c <- r]"
   ]
  },
  {
   "cell_type": "markdown",
   "metadata": {},
   "source": [
    "Finally, we only want positive discriminants, so can just select those greater than zero."
   ]
  },
  {
   "cell_type": "code",
   "execution_count": 6,
   "metadata": {},
   "outputs": [
    {
     "data": {
      "text/plain": [
       "[5,13,21,29,37,45,53,61,69,77,85,93,101,109,125,133,141,149,165,189,197,205,221,245]"
      ]
     },
     "metadata": {},
     "output_type": "display_data"
    }
   ],
   "source": [
    "discriminants = nub . sort $ let r = [-7, -5 .. 7] \n",
    "                              in [d | a <- r\n",
    "                                    , b <- r\n",
    "                                    , c <- r\n",
    "                                    , let d = dis a b c\n",
    "                                    , d > 0\n",
    "                                    ]\n",
    "discriminants"
   ]
  },
  {
   "cell_type": "markdown",
   "metadata": {},
   "source": [
    "We now have now generated two lists. The list of square numbers, and the list of discriminant."
   ]
  },
  {
   "cell_type": "code",
   "execution_count": 7,
   "metadata": {},
   "outputs": [
    {
     "data": {
      "text/plain": [
       "[1,4,9,16,25,36,49,64,81,100,121,144,169,196,225]"
      ]
     },
     "metadata": {},
     "output_type": "display_data"
    }
   ],
   "source": [
    "squares = [f x | x <- [1..15] ]\n",
    "squares"
   ]
  },
  {
   "cell_type": "markdown",
   "metadata": {},
   "source": [
    "### Why are there no numbers in both lists?\n",
    "\n",
    "You probably notices that the values of the discriminants form a sequence that goes up in eights. We\n",
    "can illustrate this clearly by looking at the remainders obtained when dividing the discriminants by 8."
   ]
  },
  {
   "cell_type": "code",
   "execution_count": 8,
   "metadata": {},
   "outputs": [],
   "source": [
    "remainder x = x `mod` 8"
   ]
  },
  {
   "cell_type": "markdown",
   "metadata": {},
   "source": [
    "The useful function `map`` applies a function to each element in a list"
   ]
  },
  {
   "cell_type": "code",
   "execution_count": 9,
   "metadata": {},
   "outputs": [
    {
     "data": {
      "text/plain": [
       "[5,5,5,5,5,5,5,5,5,5,5,5,5,5,5,5,5,5,5,5,5,5,5,5]"
      ]
     },
     "metadata": {},
     "output_type": "display_data"
    }
   ],
   "source": [
    "map remainder discriminants"
   ]
  },
  {
   "cell_type": "code",
   "execution_count": 10,
   "metadata": {},
   "outputs": [
    {
     "data": {
      "text/plain": [
       "[1,4,1,0,1,4,1,0,1,4,1,0,1,4,1]"
      ]
     },
     "metadata": {},
     "output_type": "display_data"
    }
   ],
   "source": [
    "map remainder squares"
   ]
  }
 ],
 "metadata": {
  "kernelspec": {
   "display_name": "Haskell",
   "language": "haskell",
   "name": "haskell"
  },
  "language_info": {
   "codemirror_mode": "ihaskell",
   "file_extension": ".hs",
   "mimetype": "text/x-haskell",
   "name": "haskell",
   "pygments_lexer": "Haskell",
   "version": "8.10.7"
  }
 },
 "nbformat": 4,
 "nbformat_minor": 2
}
