{
 "cells": [
  {
   "cell_type": "markdown",
   "id": "3fd62e71",
   "metadata": {},
   "source": [
    "## 1.3 Haskell Type Declarations\n",
    "\n",
    "Haskell has a concise way to indicate that `divides` consumes an integer, then\n",
    "another integer, and produces a truth value (called `Bool` in Haskell). Integers and truth values are examples of *types*. See Section 2.1 for more on the type `Bool`.\n",
    "Section 1.6 gives more information about types in general. Arbitrary precision\n",
    "integers in Haskell have type `Integer`. The following line gives a so-called type\n",
    "declaration for the `divides` function.\n",
    "\n",
    "```haskell\n",
    "divides :: Integer -> Integer -> Bool\n",
    "```\n",
    "\n",
    "`Integer -> Integer -> Bool` is short for `Integer -> Integer -> Bool)`. A type of the form `a -> b` classifies a procedure that takes an argument of type `a`\n",
    "to produce a result of type `b`. Thus, `divides` takes an argument of type `Integer` and produces a result of type `Integer -> Bool`, i.e., a procedure that takes an argument of type `Integer`, and produces a result of type `Bool`.\n",
    "\n",
    "The full code for `divides`, including the type declaration, looks like this:\n"
   ]
  },
  {
   "cell_type": "code",
   "execution_count": 13,
   "id": "9a1929c0-40cd-4ad8-93b0-a46e083bbab9",
   "metadata": {},
   "outputs": [],
   "source": [
    "divides :: Integer -> Integer -> Bool\n",
    "divides d n = rem n d == 0"
   ]
  },
  {
   "cell_type": "markdown",
   "id": "468739cc-c989-4321-86d8-95be7e4f3578",
   "metadata": {},
   "source": [
    "If `d` is an expression of type `Integer`, then `divides d` is an expression of type\n",
    "`Integer -> Bool`. The shorthand that we will use for\n",
    "\n",
    "> `d` is an *expression of type* `Integer`\n",
    "\n",
    "is `d :: Integer`.\n",
    "\n",
    "### Exercise 1.6\n",
    "\n",
    "Can you gather from the definition of `divides` what the type declaration for `rem` would look like?\n",
    "\n",
    "### Exercise 1.7\n",
    "\n",
    "IHaskell and GHCI have a command for checking the types of expressions. Can you explain the following:"
   ]
  },
  {
   "cell_type": "code",
   "execution_count": 14,
   "id": "2df46663-999c-4068-87de-bbe1f1ee52dc",
   "metadata": {},
   "outputs": [
    {
     "data": {
      "text/html": [
       "<style>/* Styles used for the Hoogle display in the pager */\n",
       ".hoogle-doc {\n",
       "display: block;\n",
       "padding-bottom: 1.3em;\n",
       "padding-left: 0.4em;\n",
       "}\n",
       ".hoogle-code {\n",
       "display: block;\n",
       "font-family: monospace;\n",
       "white-space: pre;\n",
       "}\n",
       ".hoogle-text {\n",
       "display: block;\n",
       "}\n",
       ".hoogle-name {\n",
       "color: green;\n",
       "font-weight: bold;\n",
       "}\n",
       ".hoogle-head {\n",
       "font-weight: bold;\n",
       "}\n",
       ".hoogle-sub {\n",
       "display: block;\n",
       "margin-left: 0.4em;\n",
       "}\n",
       ".hoogle-package {\n",
       "font-weight: bold;\n",
       "font-style: italic;\n",
       "}\n",
       ".hoogle-module {\n",
       "font-weight: bold;\n",
       "}\n",
       ".hoogle-class {\n",
       "font-weight: bold;\n",
       "}\n",
       ".get-type {\n",
       "color: green;\n",
       "font-weight: bold;\n",
       "font-family: monospace;\n",
       "display: block;\n",
       "white-space: pre-wrap;\n",
       "}\n",
       ".show-type {\n",
       "color: green;\n",
       "font-weight: bold;\n",
       "font-family: monospace;\n",
       "margin-left: 1em;\n",
       "}\n",
       ".mono {\n",
       "font-family: monospace;\n",
       "display: block;\n",
       "}\n",
       ".err-msg {\n",
       "color: red;\n",
       "font-style: italic;\n",
       "font-family: monospace;\n",
       "white-space: pre;\n",
       "display: block;\n",
       "}\n",
       "#unshowable {\n",
       "color: red;\n",
       "font-weight: bold;\n",
       "}\n",
       ".err-msg.in.collapse {\n",
       "padding-top: 0.7em;\n",
       "}\n",
       ".highlight-code {\n",
       "white-space: pre;\n",
       "font-family: monospace;\n",
       "}\n",
       ".suggestion-warning { \n",
       "font-weight: bold;\n",
       "color: rgb(200, 130, 0);\n",
       "}\n",
       ".suggestion-error { \n",
       "font-weight: bold;\n",
       "color: red;\n",
       "}\n",
       ".suggestion-name {\n",
       "font-weight: bold;\n",
       "}\n",
       "</style><span class='get-type'>divides 5 :: Integer -> Bool</span>"
      ],
      "text/plain": [
       "divides 5 :: Integer -> Bool"
      ]
     },
     "metadata": {},
     "output_type": "display_data"
    }
   ],
   "source": [
    ":t divides 5"
   ]
  },
  {
   "cell_type": "code",
   "execution_count": 15,
   "id": "15e3909a-28ec-4601-836b-5c8703813bdf",
   "metadata": {},
   "outputs": [
    {
     "data": {
      "text/html": [
       "<style>/* Styles used for the Hoogle display in the pager */\n",
       ".hoogle-doc {\n",
       "display: block;\n",
       "padding-bottom: 1.3em;\n",
       "padding-left: 0.4em;\n",
       "}\n",
       ".hoogle-code {\n",
       "display: block;\n",
       "font-family: monospace;\n",
       "white-space: pre;\n",
       "}\n",
       ".hoogle-text {\n",
       "display: block;\n",
       "}\n",
       ".hoogle-name {\n",
       "color: green;\n",
       "font-weight: bold;\n",
       "}\n",
       ".hoogle-head {\n",
       "font-weight: bold;\n",
       "}\n",
       ".hoogle-sub {\n",
       "display: block;\n",
       "margin-left: 0.4em;\n",
       "}\n",
       ".hoogle-package {\n",
       "font-weight: bold;\n",
       "font-style: italic;\n",
       "}\n",
       ".hoogle-module {\n",
       "font-weight: bold;\n",
       "}\n",
       ".hoogle-class {\n",
       "font-weight: bold;\n",
       "}\n",
       ".get-type {\n",
       "color: green;\n",
       "font-weight: bold;\n",
       "font-family: monospace;\n",
       "display: block;\n",
       "white-space: pre-wrap;\n",
       "}\n",
       ".show-type {\n",
       "color: green;\n",
       "font-weight: bold;\n",
       "font-family: monospace;\n",
       "margin-left: 1em;\n",
       "}\n",
       ".mono {\n",
       "font-family: monospace;\n",
       "display: block;\n",
       "}\n",
       ".err-msg {\n",
       "color: red;\n",
       "font-style: italic;\n",
       "font-family: monospace;\n",
       "white-space: pre;\n",
       "display: block;\n",
       "}\n",
       "#unshowable {\n",
       "color: red;\n",
       "font-weight: bold;\n",
       "}\n",
       ".err-msg.in.collapse {\n",
       "padding-top: 0.7em;\n",
       "}\n",
       ".highlight-code {\n",
       "white-space: pre;\n",
       "font-family: monospace;\n",
       "}\n",
       ".suggestion-warning { \n",
       "font-weight: bold;\n",
       "color: rgb(200, 130, 0);\n",
       "}\n",
       ".suggestion-error { \n",
       "font-weight: bold;\n",
       "color: red;\n",
       "}\n",
       ".suggestion-name {\n",
       "font-weight: bold;\n",
       "}\n",
       "</style><span class='get-type'>divides 5 7 :: Bool</span>"
      ],
      "text/plain": [
       "divides 5 7 :: Bool"
      ]
     },
     "metadata": {},
     "output_type": "display_data"
    }
   ],
   "source": [
    ":t divides 5 7"
   ]
  },
  {
   "cell_type": "markdown",
   "id": "aadb2e79-f5b6-487b-bc0a-e4bc932b00ea",
   "metadata": {},
   "source": [
    "The expression `divides 5 :: Integer -> Bool` is called a *type judgment*. Type judgments in Haskell have the form `expression :: type`.\n",
    "\n",
    "In Haskell it is not strictly necessary to give explicit type declarations. For instance, the definition of divides works quite well without the type declaration, since the system can infer the type from the definition. However, it is good programming practice to give explicit type declarations even when this is not strictly necessary. These type declarations are an aid to understanding, and they greatly improve the digestibility of functional programs for human readers. A further advantage of the explicit type declarations is that they facilitate detection of programming mistakes on the basis of type errors generated by the interpreter. You will find that many programming errors already come to light when your program gets loaded. The fact that your program is well typed does not entail that it is correct, of course, but many incorrect programs do have typing mistakes.\n",
    "\n",
    "The fill code for `ld`, including the type declaration, looks like this:"
   ]
  },
  {
   "cell_type": "code",
   "execution_count": 16,
   "id": "49f80904-4b39-4ce0-a011-9a3f5e686ca2",
   "metadata": {},
   "outputs": [],
   "source": [
    "{- HLINT ignore \"Eta reduce\" -}\n",
    "ld :: Integer -> Integer\n",
    "ld n = ldf 2 n\n",
    "\n",
    "ldf :: Integer -> Integer -> Integer\n",
    "ldf k n | divides k n = k\n",
    "        | k^2 > n     = n\n",
    "        | otherwise   = ldf (k+1) n"
   ]
  },
  {
   "cell_type": "markdown",
   "id": "ba133b78-718f-4c31-ab58-0b438e7a9100",
   "metadata": {},
   "source": [
    "The first line of the code states that the operation `ldf` takes two integers and pro-\n",
    "duces an integer.\n",
    "\n",
    "The full code for `prime0`, including the type declaration, runs like this:"
   ]
  },
  {
   "cell_type": "code",
   "execution_count": 17,
   "id": "dac668c0-5921-4d9e-9e5b-67f37bcd1e97",
   "metadata": {},
   "outputs": [],
   "source": [
    "prime0 :: Integer -> Bool\n",
    "prime0 n | n < 1 = error \"not a positive integer\"\n",
    "         | n == 1 = False\n",
    "         | otherwise = ld n == n"
   ]
  },
  {
   "cell_type": "markdown",
   "id": "554f9356-13c9-43c0-9a38-1dac5fddd949",
   "metadata": {},
   "source": [
    "The first line of the code declares that the operation `prime0` takes an integer and\n",
    "produces (or *returns*, as programmers like to say) a Boolean (truth value).\n",
    "\n",
    "In programming generally, it is useful to keep close track of the nature of the objects that are being represented. This is because representations have to be stored in computer memory, and one has to know how much space to allocate for this storage. Still, there is no need to always specify the nature of each data-type explicitly. It turns out that much information about the nature of an object can be inferred from how the object is handled in a particular program, or in other words, from the operations that are performed on that object.\n",
    "\n",
    "Take again the definition of `divides`. It is clear from the definition that an operation is defined with two arguments, both of which are of a type for which `rem` is defined, and with a result of type `Bool` (for `rem n d == 0` is a statement that can turn out true or false). If we check the type of the built-in procedure rem we get:"
   ]
  },
  {
   "cell_type": "code",
   "execution_count": 18,
   "id": "6c7e5003-d03e-44c8-918a-9e39ce3a20a4",
   "metadata": {},
   "outputs": [
    {
     "data": {
      "text/html": [
       "<style>/* Styles used for the Hoogle display in the pager */\n",
       ".hoogle-doc {\n",
       "display: block;\n",
       "padding-bottom: 1.3em;\n",
       "padding-left: 0.4em;\n",
       "}\n",
       ".hoogle-code {\n",
       "display: block;\n",
       "font-family: monospace;\n",
       "white-space: pre;\n",
       "}\n",
       ".hoogle-text {\n",
       "display: block;\n",
       "}\n",
       ".hoogle-name {\n",
       "color: green;\n",
       "font-weight: bold;\n",
       "}\n",
       ".hoogle-head {\n",
       "font-weight: bold;\n",
       "}\n",
       ".hoogle-sub {\n",
       "display: block;\n",
       "margin-left: 0.4em;\n",
       "}\n",
       ".hoogle-package {\n",
       "font-weight: bold;\n",
       "font-style: italic;\n",
       "}\n",
       ".hoogle-module {\n",
       "font-weight: bold;\n",
       "}\n",
       ".hoogle-class {\n",
       "font-weight: bold;\n",
       "}\n",
       ".get-type {\n",
       "color: green;\n",
       "font-weight: bold;\n",
       "font-family: monospace;\n",
       "display: block;\n",
       "white-space: pre-wrap;\n",
       "}\n",
       ".show-type {\n",
       "color: green;\n",
       "font-weight: bold;\n",
       "font-family: monospace;\n",
       "margin-left: 1em;\n",
       "}\n",
       ".mono {\n",
       "font-family: monospace;\n",
       "display: block;\n",
       "}\n",
       ".err-msg {\n",
       "color: red;\n",
       "font-style: italic;\n",
       "font-family: monospace;\n",
       "white-space: pre;\n",
       "display: block;\n",
       "}\n",
       "#unshowable {\n",
       "color: red;\n",
       "font-weight: bold;\n",
       "}\n",
       ".err-msg.in.collapse {\n",
       "padding-top: 0.7em;\n",
       "}\n",
       ".highlight-code {\n",
       "white-space: pre;\n",
       "font-family: monospace;\n",
       "}\n",
       ".suggestion-warning { \n",
       "font-weight: bold;\n",
       "color: rgb(200, 130, 0);\n",
       "}\n",
       ".suggestion-error { \n",
       "font-weight: bold;\n",
       "color: red;\n",
       "}\n",
       ".suggestion-name {\n",
       "font-weight: bold;\n",
       "}\n",
       "</style><span class='get-type'>rem :: forall a. Integral a => a -> a -> a</span>"
      ],
      "text/plain": [
       "rem :: forall a. Integral a => a -> a -> a"
      ]
     },
     "metadata": {},
     "output_type": "display_data"
    }
   ],
   "source": [
    ":t rem"
   ]
  },
  {
   "cell_type": "markdown",
   "id": "7a011a40-00cb-414a-9130-681716bf1baf",
   "metadata": {},
   "source": [
    "In this particular case, the type judgment gives a *type scheme* rather than a type. It\n",
    "means: if a is a type of class `Integral`, then `rem` is of type `a -> a -> a`. Here\n",
    "`a` is used as a variable ranging over types.\n",
    "\n",
    "In Haskell, `Integral` is the class (see Section 4.2) consisting of the two types for\n",
    "integer numbers, `Int` and `Integer`. The difference between `Int` and `Integer`\n",
    "is that objects of type `Int` have fixed precision, objects of type `Integer` have\n",
    "arbitrary precision.\n",
    "\n",
    "The type of `divides` can now be inferred from the definition. This is what we get\n",
    "when we load the definition of divides without the type declaration:"
   ]
  },
  {
   "cell_type": "code",
   "execution_count": 19,
   "id": "e052a495-3331-41f4-adcb-91bedf7e5d8d",
   "metadata": {},
   "outputs": [
    {
     "data": {
      "text/html": [
       "<style>/* Styles used for the Hoogle display in the pager */\n",
       ".hoogle-doc {\n",
       "display: block;\n",
       "padding-bottom: 1.3em;\n",
       "padding-left: 0.4em;\n",
       "}\n",
       ".hoogle-code {\n",
       "display: block;\n",
       "font-family: monospace;\n",
       "white-space: pre;\n",
       "}\n",
       ".hoogle-text {\n",
       "display: block;\n",
       "}\n",
       ".hoogle-name {\n",
       "color: green;\n",
       "font-weight: bold;\n",
       "}\n",
       ".hoogle-head {\n",
       "font-weight: bold;\n",
       "}\n",
       ".hoogle-sub {\n",
       "display: block;\n",
       "margin-left: 0.4em;\n",
       "}\n",
       ".hoogle-package {\n",
       "font-weight: bold;\n",
       "font-style: italic;\n",
       "}\n",
       ".hoogle-module {\n",
       "font-weight: bold;\n",
       "}\n",
       ".hoogle-class {\n",
       "font-weight: bold;\n",
       "}\n",
       ".get-type {\n",
       "color: green;\n",
       "font-weight: bold;\n",
       "font-family: monospace;\n",
       "display: block;\n",
       "white-space: pre-wrap;\n",
       "}\n",
       ".show-type {\n",
       "color: green;\n",
       "font-weight: bold;\n",
       "font-family: monospace;\n",
       "margin-left: 1em;\n",
       "}\n",
       ".mono {\n",
       "font-family: monospace;\n",
       "display: block;\n",
       "}\n",
       ".err-msg {\n",
       "color: red;\n",
       "font-style: italic;\n",
       "font-family: monospace;\n",
       "white-space: pre;\n",
       "display: block;\n",
       "}\n",
       "#unshowable {\n",
       "color: red;\n",
       "font-weight: bold;\n",
       "}\n",
       ".err-msg.in.collapse {\n",
       "padding-top: 0.7em;\n",
       "}\n",
       ".highlight-code {\n",
       "white-space: pre;\n",
       "font-family: monospace;\n",
       "}\n",
       ".suggestion-warning { \n",
       "font-weight: bold;\n",
       "color: rgb(200, 130, 0);\n",
       "}\n",
       ".suggestion-error { \n",
       "font-weight: bold;\n",
       "color: red;\n",
       "}\n",
       ".suggestion-name {\n",
       "font-weight: bold;\n",
       "}\n",
       "</style><span class='get-type'>divides :: forall {a}. Integral a => a -> a -> Bool</span>"
      ],
      "text/plain": [
       "divides :: forall {a}. Integral a => a -> a -> Bool"
      ]
     },
     "metadata": {},
     "output_type": "display_data"
    }
   ],
   "source": [
    "divides d n = rem n d == 0\n",
    ":t divides"
   ]
  },
  {
   "cell_type": "markdown",
   "id": "b0221fa3-07d2-4c2b-8c11-3da850498338",
   "metadata": {},
   "source": [
    "## 1.4 Identifiers in Haskell\n",
    "\n",
    "In Haskell, there are two kinds of identifiers:\n",
    "\n",
    "* Variable identifiers are used to name functions. They have to start with a lower-case letter. E.g., `map`, `max`, `fct2list`, `fctToList`, `fct_to_list`.\n",
    "* Constructor identifiers are used to name types. They have to start with an upper-case letter. Examples are `True`, `False`.\n",
    "\n",
    "Functions are operations on data-structures, constructors are the building blocks of the data structures themselves (trees, lists, Booleans, and so on).\n",
    "\n",
    "Names of functions always start with lowe-case letters, and may contain both upper- and lower-case letters, but also digits, underscores and the prime symbol `'`. The following *reserved keywords* have special meanings and cannot be used to\n",
    "name functions.\n",
    "\n",
    "> `case` `class` `data` `default` `deriving` `do` `else` `if` `import` `in` `infix` `infixl` `infixr` `instance` `let` `module` `newtype` `of` `then` `type` `where` `forall` `error`\n",
    "\n",
    "The use of these keywords will be explained as we encounter them. `_` at the beginning of a word is treated as a lower-case character. The underscore character `_` all by itself is a reserved word for the wild card pattern that matches anything (**TODO** page 141).\n",
    "\n",
    "**TODO** Do we need to care about `forall` keyword if not using HUGS?\n",
    "\n",
    "## 1.5 Playing the Haskell Game\n",
    "\n",
    "This section consists of a number of further examples and exercises to get you acquainted with the programming language of this notebook.\n",
    "\n",
    "**TODO** Furhter clarity how to use these examples?\n",
    "\n",
    "In the next example, we use `Int` for the type of fixed precision integers, and `[Int]` for lists of fixed precision integers.\n",
    "\n",
    "### Example 1.8 \n",
    "\n",
    "Here is a function that gives the minimum of a list of integers e.g. [1,2,3,4]:\n"
   ]
  },
  {
   "cell_type": "code",
   "execution_count": 20,
   "id": "68a2f92e-651e-46a4-9c9a-afc8da00a94a",
   "metadata": {},
   "outputs": [],
   "source": [
    "mnmInt :: [Int] -> Int\n",
    "mnmInt [] = error \"empty list\"\n",
    "mnmInt [x] = x\n",
    "mnmInt (x:xs) = min x (mnmInt xs)"
   ]
  },
  {
   "cell_type": "markdown",
   "id": "2089d4db-6322-4e34-a8d6-cc0d5ca7f40e",
   "metadata": {},
   "source": [
    "This uses the predefined function `min` for the minimum of two integers. It also\n",
    "uses pattern matching for lists. The list pattern `[]` matches only the empty list,\n",
    "the list pattern `[x]` matches any singleton list, the list pattern `(x:xs)` matches any\n",
    "non-empty list. A further subtlety is that pattern matching in Haskell is sensitive\n",
    "to order. If the pattern `[x]` is found before `(x:xs)` then `(x:xs)` matches any\n",
    "non-empty list that is not a unit list. See Section 4.6 for more information on list\n",
    "pattern matching.\n",
    "\n",
    "It is common Haskell practice to refer to non-empty lists as `x:xs`, `y:ys`, and so\n",
    "on, as a useful reminder of the facts that `x` is an element of a list of `x`'s and that `xs` is a list.\n",
    "\n",
    "Here is a home-made version of `min`"
   ]
  },
  {
   "cell_type": "code",
   "execution_count": 21,
   "id": "5bd6a577-c366-4a31-8a44-1fdfe7ba29a7",
   "metadata": {},
   "outputs": [],
   "source": [
    "min' :: Int -> Int -> Int\n",
    "min' x y | x <= y    = x\n",
    "         | otherwise = y"
   ]
  },
  {
   "cell_type": "markdown",
   "id": "87693f83-09b2-4bb3-9ef9-e9db211ef3a7",
   "metadata": {},
   "source": [
    "You will have guessed that `<=` is Haskell code for $\\leq$.\n",
    "\n",
    "Objects of type `Int` are fixed precision integers. Their range can be found with:"
   ]
  },
  {
   "cell_type": "code",
   "execution_count": 22,
   "id": "d6818be6-631d-4a6c-b6d7-37005e0bd2af",
   "metadata": {},
   "outputs": [
    {
     "data": {
      "text/plain": [
       "-9223372036854775808"
      ]
     },
     "metadata": {},
     "output_type": "display_data"
    }
   ],
   "source": [
    "(minBound :: Int)"
   ]
  },
  {
   "cell_type": "code",
   "execution_count": 23,
   "id": "0b6e4d11-fa91-4c41-a8c0-c74a78311335",
   "metadata": {},
   "outputs": [
    {
     "data": {
      "text/plain": [
       "9223372036854775807"
      ]
     },
     "metadata": {},
     "output_type": "display_data"
    }
   ],
   "source": [
    "(maxBound :: Int)"
   ]
  },
  {
   "cell_type": "markdown",
   "id": "f6162aaf-4c8a-41e3-a7e4-f5b6cb05e837",
   "metadata": {},
   "source": [
    "Since $9223372036854775807 = 2^{63}-1$ we can conclude that the IHaskell implementation uses eight bytes (64 bits) to represent objects of this type. Integer is for arbitrary precision integers: the storage space that gets allocated for Integer objects depends on the size of the object.\n",
    "\n",
    "### Exercise 1.9 \n",
    "\n",
    "Define a function that gives the maximum of a list of integers. Use the predefined function `max`.\n",
    "\n",
    "### Conversion from Prefix to Infix in Haskell\n",
    "\n",
    "A function can be converted to an\n",
    "infix operator by putting its name in back quotes, like this:"
   ]
  },
  {
   "cell_type": "code",
   "execution_count": 24,
   "id": "29826641-645e-49af-8d9a-487c2e1424ca",
   "metadata": {},
   "outputs": [
    {
     "data": {
      "text/plain": [
       "5"
      ]
     },
     "metadata": {},
     "output_type": "display_data"
    }
   ],
   "source": [
    "max 4 5"
   ]
  },
  {
   "cell_type": "code",
   "execution_count": 25,
   "id": "f5448736-8ed3-442f-bf9e-1d38dd15c222",
   "metadata": {},
   "outputs": [
    {
     "data": {
      "text/plain": [
       "5"
      ]
     },
     "metadata": {},
     "output_type": "display_data"
    }
   ],
   "source": [
    "4 `max` 5"
   ]
  },
  {
   "cell_type": "markdown",
   "id": "6e2e4cbe-6818-454b-9bed-a4e5be55f266",
   "metadata": {},
   "source": [
    "Conversely, an infix operator is converted to prefix by putting the operator in round\n",
    "brackets (p. 21).\n",
    "\n",
    "### Exercise 1.10\n",
    "\n",
    "Define a function `removeFst` that removes the first occurrence of an integer $m$ from a list of integers. If $m$ does not occur in the list, the list remains unchanged.\n",
    "\n"
   ]
  },
  {
   "cell_type": "code",
   "execution_count": 26,
   "id": "beceba80-155b-4523-9284-6d9a31a72a99",
   "metadata": {},
   "outputs": [],
   "source": [
    "removeFst = undefined"
   ]
  },
  {
   "cell_type": "markdown",
   "id": "2efd2805-2eba-4721-800a-dc992244122c",
   "metadata": {},
   "source": [
    "### Exercise 1.11\n",
    "\n",
    "We define a function that sorts a list of integers in order of increasing size, by means of the following algorithm:\n",
    "\n",
    "* an empty list is already sorted.\n",
    "* if an list is non-empty, we put its minimum in front of the result of sorting the list that returns from removing its minimum.\n",
    "\n",
    "This is implemented as follows:"
   ]
  },
  {
   "cell_type": "code",
   "execution_count": 27,
   "id": "9776bcea-259b-42d2-a61c-f98bdd07359e",
   "metadata": {},
   "outputs": [],
   "source": [
    "{- HLINT ignore \"Redundant bracket\" -}\n",
    "srtInts :: [Int] -> [Int]\n",
    "srtInts [] = []\n",
    "srtInts xs = m : (srtInts (removeFst m xs)) where m = mnmInt xs"
   ]
  },
  {
   "cell_type": "markdown",
   "id": "097553dd-764f-4ee9-8698-157cf2192cd7",
   "metadata": {},
   "source": [
    "Here `removeFst` is the function you defined in Exercise 1.10. Note that the second\n",
    "clause is invoked when the first one does not apply, i.e., when the argument of\n",
    "`srtInts` is not empty. This ensures that `mnmInt xs` never gives rise to an error.\n",
    "Note the use of a `where` construction for the local definition of an auxiliary function.\n",
    "\n",
    "**Remark**\n",
    "\n",
    "Haskell has two ways to locally define auxiliary functions, `where` and\n",
    "`let` constructions. The where construction is illustrated in Example 1.11. This\n",
    "can also expressed with let, as follows:"
   ]
  },
  {
   "cell_type": "code",
   "execution_count": 28,
   "id": "5005e853-dc01-47ff-9aa4-1a897eae813f",
   "metadata": {},
   "outputs": [],
   "source": [
    "{- HLINT ignore \"Redundant bracket\" -}\n",
    "srtInts' :: [Int] -> [Int]\n",
    "srtInts' [] = []\n",
    "srtInts' xs = let m = mnmInt xs \n",
    "              in  m : (srtInts' (removeFst m xs))"
   ]
  },
  {
   "cell_type": "markdown",
   "id": "e61aa3ba-95fe-42c8-a1ca-bb0da6fdea0f",
   "metadata": {},
   "source": [
    "The `let` construction uses the reserved keywords `let` and `in`."
   ]
  },
  {
   "cell_type": "markdown",
   "id": "519a4648-14f0-4e1d-a9c9-d1c0599ed2e0",
   "metadata": {},
   "source": [
    "### Example 1.12\n",
    "\n",
    "Here is a function that calculates the average of a list of integers. The average of $m$ and $n$ is given by $\\frac{m+n} 2$, the average of a list of $k$ integers $n_1, \\ldots , n_k$ is given by $\\frac {n_1 + \\ldots + n_k} k$. In general, averages are fractions, so the result type of average should not be `Int` but the Haskell data-type for floating point numbers, which is `Float`. There are predefined functions sum for the sum of a list of integers, and `length` for the length of a list. The Haskell operation for division `/` expects arguments of type `Float` (or more precisely, of `Fractional` type, and `Float` is such a type), so we need a conversion function for converting `Ints` into `Floats`. This is done by `fromIntegral `. The function average can now be written as"
   ]
  },
  {
   "cell_type": "code",
   "execution_count": 29,
   "id": "3ea5d8e4-e3d4-4322-8158-d0cab4fbea91",
   "metadata": {},
   "outputs": [],
   "source": [
    "average :: [Int] -> Float\n",
    "average [] = error \"empty list\"\n",
    "average xs = fromIntegral  (sum xs) / fromIntegral  (length xs)"
   ]
  },
  {
   "cell_type": "markdown",
   "id": "767a7367-769c-428d-a0a8-eda28bfc1695",
   "metadata": {},
   "source": [
    "Again, it is instructive to write our own homemade versions of sum and length.\n",
    "\n",
    "Here they are:"
   ]
  },
  {
   "cell_type": "code",
   "execution_count": 30,
   "id": "d6041df0-d702-4613-a9cb-02d6d96a2b65",
   "metadata": {},
   "outputs": [],
   "source": [
    "{- HLINT ignore \"Use foldr\" -}\n",
    "sum' :: [Int] -> Int\n",
    "sum' [] = 0\n",
    "sum' (x:xs) = x + sum' xs"
   ]
  },
  {
   "cell_type": "code",
   "execution_count": 31,
   "id": "d6a8bf97-68ea-4f66-af26-969e40dc2c68",
   "metadata": {},
   "outputs": [],
   "source": [
    "{- HLINT ignore \"Use foldr\" -}\n",
    "length' :: [a] -> Int\n",
    "length' [] = 0\n",
    "length' (x:xs) = 1 + length' xs"
   ]
  },
  {
   "cell_type": "markdown",
   "id": "bc05a25f-0c11-48fc-b4e7-c7a6b1b35d3d",
   "metadata": {},
   "source": [
    "Note that the type declaration for `length’` contains a variable `a`. This variable\n",
    "ranges over all types, so `[a]` is the type of a list of objects of an arbitrary type `a`.\n",
    "We say that `[a]` is a *type scheme* rather than a type. This way, we can use the same\n",
    "function `length'` for computing the length of a list of integers, the length of a list\n",
    "of characters, the length of a list of strings (lists of characters), and so on.\n",
    "\n",
    "The type `[Char]` is abbreviated as `String`. Examples of characters are `'a'`, `'b'`\n",
    "(note the single quotes) examples of strings are `\"Russell\"` and `\"Cantor\"` (note\n",
    "the double quotes). In fact, `\"Russell\"` can be seen as an abbreviation of the list:"
   ]
  },
  {
   "cell_type": "code",
   "execution_count": 32,
   "id": "3c4622c7-6a3e-40e9-8eed-18918dca26d2",
   "metadata": {},
   "outputs": [
    {
     "data": {
      "text/plain": [
       "\"Russell\""
      ]
     },
     "metadata": {},
     "output_type": "display_data"
    }
   ],
   "source": [
    "[ 'R', 'u', 's', 's', 'e', 'l', 'l' ]"
   ]
  },
  {
   "cell_type": "markdown",
   "id": "67dd83fd-e2e0-4126-a7e9-adba9fb03d88",
   "metadata": {},
   "source": [
    "### Exercise 1.13\n",
    "\n",
    "Write a function count for counting the number of occurrences of\n",
    "a character in a string. In Haskell, a character is an object of type `Char`, and a string an object of type `String`, so the type declaration should run: `count :: Char -> String -> Int`.\n",
    "\n",
    "### Exercise 1.14 \n",
    "\n",
    "A function for transforming strings into strings is of type `String -> String`. Write a function blowup that converts a string\n",
    "\n",
    "$$ a_1 a_2 a_3 \\ldots $$\n",
    "\n",
    "to\n",
    "\n",
    "$$ a_1 a_2 a_2 a_3 a_3 a_3 \\ldots $$\n",
    "\n",
    "`blowup \"bang!\"` should yield `\"baannngggg!!!!!\"`. (Hint: use `++` for string concatenation.)\n",
    "\n",
    "### Exercise 1.15\n",
    "\n",
    "Write a function `srtString :: [String] -> [String]` that sorts a list of strings in alphabetical order.\n",
    "\n",
    "### Exercise 1.16\n",
    "\n",
    "Suppose we want to check whether a string `str1` is a prefix of a string `str2`. Then the answer to the question `prefix str1 str2` should be either yes (true) or no (false), i.e., the type declaration for prefix should run: `prefix :: String -> String -> Bool`.\n",
    "\n",
    "Prefixes of a string `ys` are defined as follows:\n",
    "\n",
    "1. `[]` is a prefix of `ys`,\n",
    "1. if `xs` is a prefix of `ys` then `x:xs` is a prefix of `x:ys`,\n",
    "1. nothing else is a prefix of `ys`.\n",
    "\n",
    "Here is the code for `prefix` that implements this definition:"
   ]
  },
  {
   "cell_type": "code",
   "execution_count": 33,
   "id": "1490e6e2-b87d-47c2-b8a8-0521ca5dd54c",
   "metadata": {},
   "outputs": [],
   "source": [
    "prefix :: String -> String -> Bool\n",
    "prefix [] ys = True\n",
    "prefix (x:xs) [] = False\n",
    "prefix (x:xs) (y:ys) = (x==y) && prefix xs ys"
   ]
  },
  {
   "cell_type": "markdown",
   "id": "82a38e40-b835-4c72-a8da-f8fc8bd9e41c",
   "metadata": {},
   "source": [
    "The definition of `prefix` uses the Haskell operator `&&` for conjunction.\n",
    "\n",
    "### Exercise 1.17\n",
    "\n",
    "Write a function `substring :: String -> String -> Bool` that checks whether `str1` is a substring of `str2`. The substrings of an arbitrary string `ys` are given by:\n",
    "\n",
    "1. if `xs` is a prefix of `ys`, `xs` is a substring of `ys`,\n",
    "1. if `ys` equals `y:ys'` and `xs` is a substring of `ys'`, `xs` is a substring of `ys`,\n",
    "1. nothing else is a substring of `ys`."
   ]
  },
  {
   "cell_type": "markdown",
   "id": "984f7aa0-05bc-4823-9059-381d7ebba672",
   "metadata": {},
   "source": [
    "## 1.6 Haskell Types\n",
    "\n",
    "The basic Haskell types are:\n",
    "\n",
    "* `Int` and `Integer`, to represent integers. Elements of `Integer` are unbounded. That's why we used this type in the implementation of the prime number test.\n",
    "* `Float` and `Double` represent floating point numbers. The elements of `Double` have higher precision.\n",
    "* `Bool` is the type of Booleans.\n",
    "* `Char` is the type of characters.\n",
    "\n",
    "Note that the name of a type always starts with a capital letter.\n",
    "\n",
    "To denote arbitrary types, Haskell allows the use of type *variables*. For these, `a`, `b`,\n",
    "..., are used.\n",
    "\n",
    "New types can be formed in several ways:\n",
    "\n",
    "* By list-formation: if `a` is a type, `[a]` is the type of lists over `a`. Examples:\n",
    "`[Int]` is the type of lists of integers; `[Char]` is the type of lists of characters,\n",
    "or strings.\n",
    "• By pair- or tuple-formation: if `a` and `b` are types, then `(a,b)` is the type of pairs with an object of type a as their first component, and an object of type `b` as their second component. Similarly, triples, quadruples, ..., can be formed. If `a`, `b` and `c` are types, then `(a,b,c)` is the type of triples with an object of type `a` as their first component, an object of type `b` as their second component, and an object of type `c` as their third component. And so on\n",
    "(p. 139).\n",
    "* By function definition: `a -> b` is the type of a function that takes arguments\n",
    "of type `a` and returns values of type `b`.\n",
    "* By defining your own data-type from scratch, with a data type declaration. More about this in due course.\n",
    "\n",
    "Pairs will be further discussed in Section 4.5, lists and list operations in Section\n",
    "4.6.\n",
    "\n",
    "Operations are procedures for constructing objects of a certain types `b` from ingredients of a type `a`. Now such a procedure can itself be given a type: the type of a transformer from `a` type objects to `b` type objects. The type of such a procedure can be declared in Haskell as `a -> b`.\n",
    "\n",
    "If a function takes two string arguments and returns a string then this can be\n",
    "viewed as a two-stage process: the function takes a first string and returns a transformer from strings to strings. It then follows that the type is `String ->\n",
    "(String -> String)`, which can be written as `String -> String -> String`, because of the Haskell convention that `->` associates to the right.\n",
    "\n",
    "### Exercise 1.18\n",
    "\n",
    "Find expressions with the following types:\n",
    "\n",
    "1. `[String]`\n",
    "1. `(Bool,String)`\n",
    "1. `[(Bool,String)]`\n",
    "1. `([Bool], String)`\n",
    "1. `Bool -> Bool`\n",
    "\n",
    "Test your answers by means of using the command `:t`.\n",
    "\n",
    "### Exercise 1.19\n",
    "\n",
    "Use the command `:t` to find the tpyes of the following predefined functions:\n",
    "\n",
    "1. `head`\n",
    "1. `last`\n",
    "1. `init`\n",
    "1. `fst`\n",
    "1. `(++)`\n",
    "1. `flip`\n",
    "1. `flip (++)`\n",
    "\n",
    "Next, supply these functions with arguments of the expected types, and try to guess\n",
    "what these functions do."
   ]
  },
  {
   "cell_type": "markdown",
   "id": "531eef0c",
   "metadata": {},
   "source": [
    "Copyright (2004) Kees Doets and Jan van Eijk, The Haskell Road to Logic, Maths and Programming."
   ]
  },
  {
   "cell_type": "code",
   "execution_count": null,
   "id": "7c34cbd0",
   "metadata": {},
   "outputs": [],
   "source": []
  }
 ],
 "metadata": {
  "kernelspec": {
   "display_name": "Haskell",
   "language": "haskell",
   "name": "haskell"
  },
  "language_info": {
   "codemirror_mode": "ihaskell",
   "file_extension": ".hs",
   "mimetype": "text/x-haskell",
   "name": "haskell",
   "pygments_lexer": "Haskell",
   "version": "9.6.4"
  }
 },
 "nbformat": 4,
 "nbformat_minor": 5
}
