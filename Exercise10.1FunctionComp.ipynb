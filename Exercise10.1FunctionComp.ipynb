{
 "cells": [
  {
   "cell_type": "markdown",
   "id": "a316f86a",
   "metadata": {},
   "source": [
    "# Exercise 10.1 Function Composition and fold\n"
   ]
  },
  {
   "cell_type": "markdown",
   "id": "0e1cd499",
   "metadata": {},
   "source": [
    "### Computations over lists\n",
    "Many computatations that would be for/while loops in an imperative language are naturally expressed as list computations in a functional language.\n",
    "There are some common cases:\n",
    "- Perform a computation on each element of a list : `map`\n",
    "- Iterate over a list, from left to right : `foldl`\n",
    "- Iterate over a list from right to left : `foldr`\n",
    "It's good practice to use functions like filter and these three functions when applicable.Let's look at maps and folds in some more detail."
   ]
  },
  {
   "cell_type": "markdown",
   "id": "9e582c74",
   "metadata": {},
   "source": [
    "### Function composition\n",
    "As explained in the notes, we can express a large compution by \"chaining together\" a sequence of functions that perform smaller computations using the `(.)` operator, e.g. `f. g`. \n",
    "\n",
    "This operation is particularly useful in the composition of `map` operations. A common style is to define a set of simple computations using `map`, and to compose them.\n",
    "\n",
    "The following relationship is very useful to refactor your code:\n",
    "`map f (map g xs) = map (f . g) xs`\n",
    "\n",
    "This theorem is frequently used, in both directions. For example, if we want to take a list of numbers and perform two operations on each number, we could write:\n",
    "`map (+5) (map (*3) [1..10])`\n",
    "\n",
    "But we could equally write:\n",
    "`map ((+5) . (*3)) [1..10]`\n",
    "\n",
    "Now write your own example of the use of map"
   ]
  },
  {
   "cell_type": "code",
   "execution_count": 18,
   "id": "68d0be3b",
   "metadata": {},
   "outputs": [
    {
     "data": {
      "text/plain": [
       "[8,11,14,17,20,23,26,29,32,35]"
      ]
     },
     "metadata": {},
     "output_type": "display_data"
    }
   ],
   "source": [
    "map ((+5) . (*3)) [1..10]"
   ]
  },
  {
   "cell_type": "markdown",
   "id": "514ba7ba",
   "metadata": {},
   "source": [
    "### Folding a list (reduction)\n",
    "An iteration over a list to produce a singleton value is called a `fold`. There are several variations: folding from the left, folding from the right, several variations having to do with \"initialisation\", and some more advanced variations.\n",
    "\n",
    "Folds may look tricky at first, but they are extremely powerful, and they are used a lot! And they aren't actually very complicated.\n",
    "\n",
    "The left fold (`foldl`) processes the list from the left. Think of it as an iteration across a list, going left to right. A typical example is e.g. `foldl (\\acc elt -> elt:acc) \"\" \"Reversing a string\"` which unsurprisingly reverts a string.\n",
    "\n",
    "Now go ahead and define your own example using foldl."
   ]
  },
  {
   "cell_type": "code",
   "execution_count": 16,
   "id": "7e574e75",
   "metadata": {},
   "outputs": [
    {
     "data": {
      "text/html": [
       "<style>/* Styles used for the Hoogle display in the pager */\n",
       ".hoogle-doc {\n",
       "display: block;\n",
       "padding-bottom: 1.3em;\n",
       "padding-left: 0.4em;\n",
       "}\n",
       ".hoogle-code {\n",
       "display: block;\n",
       "font-family: monospace;\n",
       "white-space: pre;\n",
       "}\n",
       ".hoogle-text {\n",
       "display: block;\n",
       "}\n",
       ".hoogle-name {\n",
       "color: green;\n",
       "font-weight: bold;\n",
       "}\n",
       ".hoogle-head {\n",
       "font-weight: bold;\n",
       "}\n",
       ".hoogle-sub {\n",
       "display: block;\n",
       "margin-left: 0.4em;\n",
       "}\n",
       ".hoogle-package {\n",
       "font-weight: bold;\n",
       "font-style: italic;\n",
       "}\n",
       ".hoogle-module {\n",
       "font-weight: bold;\n",
       "}\n",
       ".hoogle-class {\n",
       "font-weight: bold;\n",
       "}\n",
       "\n",
       ".get-type {\n",
       "color: green;\n",
       "font-weight: bold;\n",
       "font-family: monospace;\n",
       "display: block;\n",
       "white-space: pre-wrap;\n",
       "}\n",
       ".show-type {\n",
       "color: green;\n",
       "font-weight: bold;\n",
       "font-family: monospace;\n",
       "margin-left: 1em;\n",
       "}\n",
       ".mono {\n",
       "font-family: monospace;\n",
       "display: block;\n",
       "}\n",
       ".err-msg {\n",
       "color: red;\n",
       "font-style: italic;\n",
       "font-family: monospace;\n",
       "white-space: pre;\n",
       "display: block;\n",
       "}\n",
       "#unshowable {\n",
       "color: red;\n",
       "font-weight: bold;\n",
       "}\n",
       ".err-msg.in.collapse {\n",
       "padding-top: 0.7em;\n",
       "}\n",
       "\n",
       ".highlight-code {\n",
       "white-space: pre;\n",
       "font-family: monospace;\n",
       "}\n",
       "\n",
       ".suggestion-warning { \n",
       "font-weight: bold;\n",
       "color: rgb(200, 130, 0);\n",
       "}\n",
       ".suggestion-error { \n",
       "font-weight: bold;\n",
       "color: red;\n",
       "}\n",
       ".suggestion-name {\n",
       "font-weight: bold;\n",
       "}\n",
       "\n",
       "</style><div class=\"suggestion-name\" style=\"clear:both;\">Avoid lambda</div><div class=\"suggestion-row\" style=\"float: left;\"><div class=\"suggestion-warning\">Found:</div><div class=\"highlight-code\" id=\"haskell\">\\ acc elt -> elt : acc</div></div><div class=\"suggestion-row\" style=\"float: left;\"><div class=\"suggestion-warning\">Why Not:</div><div class=\"highlight-code\" id=\"haskell\">flip (:)</div></div>"
      ],
      "text/plain": [
       "Line 1: Avoid lambda\n",
       "Found:\n",
       "\\ acc elt -> elt : acc\n",
       "Why not:\n",
       "flip (:)"
      ]
     },
     "metadata": {},
     "output_type": "display_data"
    },
    {
     "data": {
      "text/plain": [
       "\"gnirts a gnisreveR\""
      ]
     },
     "metadata": {},
     "output_type": "display_data"
    }
   ],
   "source": [
    "foldl (\\acc elt -> elt:acc) \"\" \"Reversing a string\""
   ]
  },
  {
   "cell_type": "code",
   "execution_count": null,
   "id": "d78a3116",
   "metadata": {},
   "outputs": [],
   "source": []
  },
  {
   "cell_type": "markdown",
   "id": "2adffce0",
   "metadata": {},
   "source": [
    "The right fold (`foldr`) is similar to `foldl`, but it works from right to left. Some typical examples are:\n",
    "`sum xs = foldr (+) 0 xs` and\n",
    "\n",
    "`product xs = foldr (*) 1 xs`\n",
    "\n",
    "What happens if you replace `foldl` with `foldr` in the string reversal\n",
    "\n",
    "`foldl (\\acc elt -> elt:acc) \"\" \"Reversing a string\"`"
   ]
  },
  {
   "cell_type": "code",
   "execution_count": null,
   "id": "fbebeec3",
   "metadata": {},
   "outputs": [],
   "source": []
  },
  {
   "cell_type": "markdown",
   "id": "9bf88ab1",
   "metadata": {},
   "source": [
    "And that's the end of this exercise.\n",
    "Well done, another Haskell tutorial finished!.\n",
    "Let's recap what we've learned:\n",
    "-  Function composition\n",
    "-  Computations over lists using map, foldl and foldr"
   ]
  },
  {
   "cell_type": "markdown",
   "id": "9476f875",
   "metadata": {},
   "source": [
    "Copyright Christopher Done (2008-25) and Sociality Mathematics CIC (2025), licence CC BY-NC-ND Attribution-NonCommercial-NoDerivs https://creativecommons.org/licenses/"
   ]
  }
 ],
 "metadata": {
  "kernelspec": {
   "display_name": "Haskell",
   "language": "haskell",
   "name": "haskell"
  },
  "language_info": {
   "codemirror_mode": "ihaskell",
   "file_extension": ".hs",
   "mimetype": "text/x-haskell",
   "name": "haskell",
   "pygments_lexer": "Haskell",
   "version": "9.6.4"
  }
 },
 "nbformat": 4,
 "nbformat_minor": 5
}
