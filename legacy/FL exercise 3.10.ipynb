{
 "cells": [
  {
   "cell_type": "markdown",
   "id": "4661012a",
   "metadata": {},
   "source": [
    "## Grow a tree ##\n",
    "\n",
    "The binary tree data type is often used for storing data in a sorted order, to allow efficient searching — for example, a telephone directory.\n",
    "\n",
    "We are going to define a Haskell data type for trees, storing integer values."
   ]
  },
  {
   "cell_type": "code",
   "execution_count": 1,
   "id": "190abf4e",
   "metadata": {},
   "outputs": [],
   "source": [
    "data Tree = Leaf | Node Int Tree Tree deriving Show"
   ]
  },
  {
   "cell_type": "markdown",
   "id": "cfa8d273",
   "metadata": {},
   "source": [
    "A Tree value might be either a Leaf or a Node. Note that this is a recursive data type, since a Node stores an Int payload and has branches to two subtrees (sometimes called children).\n",
    "\n",
    "Here is the simplest tree — it’s just a single leaf."
   ]
  },
  {
   "cell_type": "code",
   "execution_count": 2,
   "id": "19892b2c",
   "metadata": {},
   "outputs": [
    {
     "data": {
      "text/plain": [
       "Leaf"
      ]
     },
     "metadata": {},
     "output_type": "display_data"
    }
   ],
   "source": [
    "Leaf"
   ]
  },
  {
   "cell_type": "markdown",
   "id": "f1e95cba",
   "metadata": {},
   "source": [
    "Here is a tree with one Node containing value 3, and two leaves."
   ]
  },
  {
   "cell_type": "code",
   "execution_count": 3,
   "id": "1d643060",
   "metadata": {},
   "outputs": [],
   "source": [
    "let l = Node 3 Leaf Leaf"
   ]
  },
  {
   "cell_type": "code",
   "execution_count": 4,
   "id": "90f50065",
   "metadata": {},
   "outputs": [
    {
     "data": {
      "text/plain": [
       "Node 3 Leaf Leaf"
      ]
     },
     "metadata": {},
     "output_type": "display_data"
    }
   ],
   "source": [
    "l"
   ]
  },
  {
   "cell_type": "code",
   "execution_count": 5,
   "id": "8f9eb42f",
   "metadata": {},
   "outputs": [
    {
     "data": {
      "text/html": [
       "<style>/* Styles used for the Hoogle display in the pager */\n",
       ".hoogle-doc {\n",
       "display: block;\n",
       "padding-bottom: 1.3em;\n",
       "padding-left: 0.4em;\n",
       "}\n",
       ".hoogle-code {\n",
       "display: block;\n",
       "font-family: monospace;\n",
       "white-space: pre;\n",
       "}\n",
       ".hoogle-text {\n",
       "display: block;\n",
       "}\n",
       ".hoogle-name {\n",
       "color: green;\n",
       "font-weight: bold;\n",
       "}\n",
       ".hoogle-head {\n",
       "font-weight: bold;\n",
       "}\n",
       ".hoogle-sub {\n",
       "display: block;\n",
       "margin-left: 0.4em;\n",
       "}\n",
       ".hoogle-package {\n",
       "font-weight: bold;\n",
       "font-style: italic;\n",
       "}\n",
       ".hoogle-module {\n",
       "font-weight: bold;\n",
       "}\n",
       ".hoogle-class {\n",
       "font-weight: bold;\n",
       "}\n",
       "\n",
       ".get-type {\n",
       "color: green;\n",
       "font-weight: bold;\n",
       "font-family: monospace;\n",
       "display: block;\n",
       "white-space: pre-wrap;\n",
       "}\n",
       ".show-type {\n",
       "color: green;\n",
       "font-weight: bold;\n",
       "font-family: monospace;\n",
       "margin-left: 1em;\n",
       "}\n",
       ".mono {\n",
       "font-family: monospace;\n",
       "display: block;\n",
       "}\n",
       ".err-msg {\n",
       "color: red;\n",
       "font-style: italic;\n",
       "font-family: monospace;\n",
       "white-space: pre;\n",
       "display: block;\n",
       "}\n",
       "#unshowable {\n",
       "color: red;\n",
       "font-weight: bold;\n",
       "}\n",
       ".err-msg.in.collapse {\n",
       "padding-top: 0.7em;\n",
       "}\n",
       "\n",
       ".highlight-code {\n",
       "white-space: pre;\n",
       "font-family: monospace;\n",
       "}\n",
       "\n",
       ".suggestion-warning { \n",
       "font-weight: bold;\n",
       "color: rgb(200, 130, 0);\n",
       "}\n",
       ".suggestion-error { \n",
       "font-weight: bold;\n",
       "color: red;\n",
       "}\n",
       ".suggestion-name {\n",
       "font-weight: bold;\n",
       "}\n",
       "\n",
       "</style><span class='get-type'>l :: Tree</span>"
      ],
      "text/plain": [
       "l :: Tree"
      ]
     },
     "metadata": {},
     "output_type": "display_data"
    }
   ],
   "source": [
    ":t l"
   ]
  },
  {
   "cell_type": "code",
   "execution_count": 6,
   "id": "34a75c51",
   "metadata": {},
   "outputs": [
    {
     "data": {
      "text/html": [
       "<style>/* Styles used for the Hoogle display in the pager */\n",
       ".hoogle-doc {\n",
       "display: block;\n",
       "padding-bottom: 1.3em;\n",
       "padding-left: 0.4em;\n",
       "}\n",
       ".hoogle-code {\n",
       "display: block;\n",
       "font-family: monospace;\n",
       "white-space: pre;\n",
       "}\n",
       ".hoogle-text {\n",
       "display: block;\n",
       "}\n",
       ".hoogle-name {\n",
       "color: green;\n",
       "font-weight: bold;\n",
       "}\n",
       ".hoogle-head {\n",
       "font-weight: bold;\n",
       "}\n",
       ".hoogle-sub {\n",
       "display: block;\n",
       "margin-left: 0.4em;\n",
       "}\n",
       ".hoogle-package {\n",
       "font-weight: bold;\n",
       "font-style: italic;\n",
       "}\n",
       ".hoogle-module {\n",
       "font-weight: bold;\n",
       "}\n",
       ".hoogle-class {\n",
       "font-weight: bold;\n",
       "}\n",
       "\n",
       ".get-type {\n",
       "color: green;\n",
       "font-weight: bold;\n",
       "font-family: monospace;\n",
       "display: block;\n",
       "white-space: pre-wrap;\n",
       "}\n",
       ".show-type {\n",
       "color: green;\n",
       "font-weight: bold;\n",
       "font-family: monospace;\n",
       "margin-left: 1em;\n",
       "}\n",
       ".mono {\n",
       "font-family: monospace;\n",
       "display: block;\n",
       "}\n",
       ".err-msg {\n",
       "color: red;\n",
       "font-style: italic;\n",
       "font-family: monospace;\n",
       "white-space: pre;\n",
       "display: block;\n",
       "}\n",
       "#unshowable {\n",
       "color: red;\n",
       "font-weight: bold;\n",
       "}\n",
       ".err-msg.in.collapse {\n",
       "padding-top: 0.7em;\n",
       "}\n",
       "\n",
       ".highlight-code {\n",
       "white-space: pre;\n",
       "font-family: monospace;\n",
       "}\n",
       "\n",
       ".suggestion-warning { \n",
       "font-weight: bold;\n",
       "color: rgb(200, 130, 0);\n",
       "}\n",
       ".suggestion-error { \n",
       "font-weight: bold;\n",
       "color: red;\n",
       "}\n",
       ".suggestion-name {\n",
       "font-weight: bold;\n",
       "}\n",
       "\n",
       "</style><span class='get-type'>Node :: Int -> Tree -> Tree -> Tree</span>"
      ],
      "text/plain": [
       "Node :: Int -> Tree -> Tree -> Tree"
      ]
     },
     "metadata": {},
     "output_type": "display_data"
    }
   ],
   "source": [
    ":t Node"
   ]
  },
  {
   "cell_type": "markdown",
   "id": "9dab0b5e",
   "metadata": {},
   "source": [
    "This is a function: the constructor Node takes three arguments and returns a Tree result."
   ]
  },
  {
   "cell_type": "markdown",
   "id": "a2da971f",
   "metadata": {},
   "source": [
    "Now let’s write a function to compute the depth of a Tree — this is the maximum number of branches from the root to any leaf. To write this function, we will do pattern matching on the different kinds of Tree, i.e. Leaf and Node values. Each Leaf is a base case, but for each Node, we need to recursively process the two child trees."
   ]
  },
  {
   "cell_type": "code",
   "execution_count": 7,
   "id": "b8cff8d2",
   "metadata": {},
   "outputs": [],
   "source": [
    "treeDepth :: Tree -> Int\n",
    "treeDepth Leaf = 0\n",
    "treeDepth (Node _ leftSubtree rightSubtree) = \n",
    "  1 + max (treeDepth leftSubtree) (treeDepth rightSubtree)"
   ]
  },
  {
   "cell_type": "markdown",
   "id": "a045c160",
   "metadata": {},
   "source": [
    "Notice the _ in line 3, which is a ‘don’t care’ value, since we discard the Int payload in each Node.\n",
    "\n",
    "You can imagine how to write a very similar function that traverses a tree and adds up all the values in its nodes. Have a go at writing this, maybe call it treeSum.\n",
    "\n",
    "Here is its type:"
   ]
  },
  {
   "cell_type": "code",
   "execution_count": 8,
   "id": "1f6d3914",
   "metadata": {},
   "outputs": [
    {
     "ename": "",
     "evalue": "",
     "output_type": "error",
     "traceback": [
      "<interactive>:1:1: error: The type signature for ‘treeSum’ lacks an accompanying binding"
     ]
    }
   ],
   "source": [
    "treeSum :: Tree -> Int"
   ]
  },
  {
   "cell_type": "markdown",
   "id": "8d4e2588",
   "metadata": {},
   "source": [
    "How about a function to check whether a tree is sorted properly? The data structure invariant we want is that, for any Node storing value x, all values in its left subtree are < x, and all values in its right subtree are >= x.\n",
    "\n",
    "So this function will take in a Tree, a minimum value, a maximum value and it will return a Bool. isSortedTree :: Tree -> Int -> Int -> Bool\n",
    "\n",
    "A Leaf is automatically sorted, since it does not contain a value. For each Node, we have to check the value in it is between the min and max values, which start off as far apart as possible, then get split into smaller ranges based on the value at the Node. "
   ]
  },
  {
   "cell_type": "code",
   "execution_count": 9,
   "id": "558642ff",
   "metadata": {},
   "outputs": [],
   "source": [
    "isSortedTree :: Tree -> Int -> Int -> Bool\n",
    "isSortedTree Leaf _ _ = True\n",
    "isSortedTree (Node x leftSubtree rightSubtree) minVal maxVal =\n",
    "    let leftSorted   = isSortedTree leftSubtree minVal x\n",
    "        rightSorted = isSortedTree rightSubtree x maxVal\n",
    "    in x >= minVal && x< maxVal && leftSorted && rightSorted"
   ]
  },
  {
   "cell_type": "markdown",
   "id": "6e05d9ed",
   "metadata": {},
   "source": [
    "invoke the function from the where minBound is defined as the smallest possible Int value, and maxBound is the largest."
   ]
  },
  {
   "cell_type": "code",
   "execution_count": 10,
   "id": "af3de0ca",
   "metadata": {},
   "outputs": [
    {
     "data": {
      "text/plain": [
       "True"
      ]
     },
     "metadata": {},
     "output_type": "display_data"
    }
   ],
   "source": [
    "isSortedTree (Node 2 (Node 1 Leaf Leaf) (Node 3 Leaf Leaf)) minBound maxBound"
   ]
  },
  {
   "cell_type": "markdown",
   "id": "f0872329",
   "metadata": {},
   "source": [
    "Let’s look at one more function for now. So far, we have studied tree traversal functions, where we go through the tree data structure and do some incremental computation at each node. Now we want to make a tree modification function. This generates a new Tree that is a modified version of the input Tree.\n",
    "\n",
    "The particular function we are going to define inserts a new maximum value. We go through the input Tree until we find the rightmost node with a Leaf on the right, then we then replace this rightmost Leaf with a new Node containing a new max value (one larger than previous max value).\n",
    "\n"
   ]
  },
  {
   "cell_type": "code",
   "execution_count": 11,
   "id": "d8792c15",
   "metadata": {},
   "outputs": [],
   "source": [
    "addNewMax :: Tree -> Tree\n",
    "-- add a new max element to tree\n",
    "addNewMax Leaf = Node 0 Leaf Leaf  -- input tree with no nodes\n",
    "addNewMax (Node x t1 Leaf) = Node x t1 (Node (x+1) Leaf Leaf)  -- this is the rightmost Node\n",
    "addNewMax (Node x t1 t2) = Node x t1 (addNewMax t2) -- intermediate node, go down right subtree"
   ]
  },
  {
   "cell_type": "markdown",
   "id": "d591f197",
   "metadata": {},
   "source": [
    "This addNewMax function takes a Tree input value and returns a Tree output value.  Note the function does not do a destructive update — the old input Tree remains unchanged. We have created a new data structure, which has some nodes shared with the original Tree. Search online for purely functional data structures to find out more information about this concept."
   ]
  },
  {
   "cell_type": "code",
   "execution_count": 12,
   "id": "269e921f",
   "metadata": {},
   "outputs": [
    {
     "data": {
      "text/plain": [
       "0"
      ]
     },
     "metadata": {},
     "output_type": "display_data"
    }
   ],
   "source": [
    "-- test data\n",
    "treeDepth Leaf"
   ]
  },
  {
   "cell_type": "code",
   "execution_count": 13,
   "id": "c9d2d28a",
   "metadata": {},
   "outputs": [
    {
     "data": {
      "text/plain": [
       "1"
      ]
     },
     "metadata": {},
     "output_type": "display_data"
    }
   ],
   "source": [
    "treeDepth (Node 0 Leaf Leaf)"
   ]
  },
  {
   "cell_type": "code",
   "execution_count": 14,
   "id": "293e0075",
   "metadata": {},
   "outputs": [
    {
     "data": {
      "text/plain": [
       "Node 0 Leaf Leaf"
      ]
     },
     "metadata": {},
     "output_type": "display_data"
    }
   ],
   "source": [
    "addNewMax Leaf"
   ]
  },
  {
   "cell_type": "code",
   "execution_count": 15,
   "id": "1cb519bb",
   "metadata": {},
   "outputs": [
    {
     "data": {
      "text/plain": [
       "Node 0 Leaf (Node 1 Leaf Leaf)"
      ]
     },
     "metadata": {},
     "output_type": "display_data"
    }
   ],
   "source": [
    "addNewMax it"
   ]
  },
  {
   "cell_type": "code",
   "execution_count": 16,
   "id": "325611eb",
   "metadata": {},
   "outputs": [
    {
     "data": {
      "text/plain": [
       "2"
      ]
     },
     "metadata": {},
     "output_type": "display_data"
    }
   ],
   "source": [
    "treeDepth it"
   ]
  },
  {
   "cell_type": "code",
   "execution_count": null,
   "id": "ad09cab0",
   "metadata": {},
   "outputs": [],
   "source": []
  }
 ],
 "metadata": {
  "kernelspec": {
   "display_name": "Haskell",
   "language": "haskell",
   "name": "haskell"
  },
  "language_info": {
   "codemirror_mode": "ihaskell",
   "file_extension": ".hs",
   "mimetype": "text/x-haskell",
   "name": "haskell",
   "pygments_lexer": "Haskell",
   "version": "9.6.4"
  }
 },
 "nbformat": 4,
 "nbformat_minor": 5
}
