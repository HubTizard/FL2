{
 "cells": [
  {
   "cell_type": "code",
   "execution_count": 1,
   "id": "b36719a2",
   "metadata": {},
   "outputs": [],
   "source": [
    "data Move = Rock | Paper | Scissors deriving (Eq, Read, Show, Enum, Bounded)"
   ]
  },
  {
   "cell_type": "code",
   "execution_count": 2,
   "id": "63ed5f58",
   "metadata": {},
   "outputs": [
    {
     "data": {
      "text/plain": [
       "\"[Rock,Paper,Scissors]\""
      ]
     },
     "metadata": {},
     "output_type": "display_data"
    }
   ],
   "source": [
    "show ([minBound..] :: [Move])"
   ]
  },
  {
   "cell_type": "code",
   "execution_count": 3,
   "id": "3c90c88f",
   "metadata": {},
   "outputs": [
    {
     "data": {
      "text/html": [
       "<style>/* Styles used for the Hoogle display in the pager */\n",
       ".hoogle-doc {\n",
       "display: block;\n",
       "padding-bottom: 1.3em;\n",
       "padding-left: 0.4em;\n",
       "}\n",
       ".hoogle-code {\n",
       "display: block;\n",
       "font-family: monospace;\n",
       "white-space: pre;\n",
       "}\n",
       ".hoogle-text {\n",
       "display: block;\n",
       "}\n",
       ".hoogle-name {\n",
       "color: green;\n",
       "font-weight: bold;\n",
       "}\n",
       ".hoogle-head {\n",
       "font-weight: bold;\n",
       "}\n",
       ".hoogle-sub {\n",
       "display: block;\n",
       "margin-left: 0.4em;\n",
       "}\n",
       ".hoogle-package {\n",
       "font-weight: bold;\n",
       "font-style: italic;\n",
       "}\n",
       ".hoogle-module {\n",
       "font-weight: bold;\n",
       "}\n",
       ".hoogle-class {\n",
       "font-weight: bold;\n",
       "}\n",
       "\n",
       ".get-type {\n",
       "color: green;\n",
       "font-weight: bold;\n",
       "font-family: monospace;\n",
       "display: block;\n",
       "white-space: pre-wrap;\n",
       "}\n",
       ".show-type {\n",
       "color: green;\n",
       "font-weight: bold;\n",
       "font-family: monospace;\n",
       "margin-left: 1em;\n",
       "}\n",
       ".mono {\n",
       "font-family: monospace;\n",
       "display: block;\n",
       "}\n",
       ".err-msg {\n",
       "color: red;\n",
       "font-style: italic;\n",
       "font-family: monospace;\n",
       "white-space: pre;\n",
       "display: block;\n",
       "}\n",
       "#unshowable {\n",
       "color: red;\n",
       "font-weight: bold;\n",
       "}\n",
       ".err-msg.in.collapse {\n",
       "padding-top: 0.7em;\n",
       "}\n",
       "\n",
       ".highlight-code {\n",
       "white-space: pre;\n",
       "font-family: monospace;\n",
       "}\n",
       "\n",
       ".suggestion-warning { \n",
       "font-weight: bold;\n",
       "color: rgb(200, 130, 0);\n",
       "}\n",
       ".suggestion-error { \n",
       "font-weight: bold;\n",
       "color: red;\n",
       "}\n",
       ".suggestion-name {\n",
       "font-weight: bold;\n",
       "}\n",
       "\n",
       "</style><div class=\"suggestion-name\" style=\"clear:both;\">Redundant bracket</div><div class=\"suggestion-row\" style=\"float: left;\"><div class=\"suggestion-warning\">Found:</div><div class=\"highlight-code\" id=\"haskell\">(x)</div></div><div class=\"suggestion-row\" style=\"float: left;\"><div class=\"suggestion-warning\">Why Not:</div><div class=\"highlight-code\" id=\"haskell\">x</div></div>"
      ],
      "text/plain": [
       "Line 1: Redundant bracket\n",
       "Found:\n",
       "(x)\n",
       "Why not:\n",
       "x"
      ]
     },
     "metadata": {},
     "output_type": "display_data"
    },
    {
     "ename": "",
     "evalue": "",
     "output_type": "error",
     "traceback": [
      "<interactive>:1:20: error:\n    • No instance for (Foldable IO) arising from a use of ‘length’\n    • In the expression: length (x)\n      In the expression: let x = getLine in length (x)\n      In an equation for ‘it’: it = let x = getLine in length (x)"
     ]
    }
   ],
   "source": [
    "let x = getLine in length(x)"
   ]
  },
  {
   "cell_type": "code",
   "execution_count": 4,
   "id": "a32a77a1",
   "metadata": {},
   "outputs": [
    {
     "ename": "",
     "evalue": "",
     "output_type": "error",
     "traceback": [
      "<interactive>:1:20: error:\n    • No instance for (Foldable IO) arising from a use of ‘length’\n    • In the expression: length x\n      In the expression: let x = getLine in length x\n      In an equation for ‘it’: it = let x = getLine in length x"
     ]
    }
   ],
   "source": [
    "let x = getLine in length x"
   ]
  },
  {
   "cell_type": "code",
   "execution_count": 5,
   "id": "a9ed1122",
   "metadata": {},
   "outputs": [],
   "source": [
    "x = getLine"
   ]
  },
  {
   "cell_type": "code",
   "execution_count": 6,
   "id": "b076f978",
   "metadata": {},
   "outputs": [
    {
     "data": {
      "text/plain": [
       "\"test\""
      ]
     },
     "metadata": {},
     "output_type": "display_data"
    }
   ],
   "source": [
    "x"
   ]
  },
  {
   "cell_type": "code",
   "execution_count": 7,
   "id": "da80d6b4",
   "metadata": {},
   "outputs": [],
   "source": [
    "f name = putStrLn (\"hello \" ++ name)"
   ]
  },
  {
   "cell_type": "code",
   "execution_count": 8,
   "id": "526606b2",
   "metadata": {},
   "outputs": [
    {
     "data": {
      "text/html": [
       "<style>/* Styles used for the Hoogle display in the pager */\n",
       ".hoogle-doc {\n",
       "display: block;\n",
       "padding-bottom: 1.3em;\n",
       "padding-left: 0.4em;\n",
       "}\n",
       ".hoogle-code {\n",
       "display: block;\n",
       "font-family: monospace;\n",
       "white-space: pre;\n",
       "}\n",
       ".hoogle-text {\n",
       "display: block;\n",
       "}\n",
       ".hoogle-name {\n",
       "color: green;\n",
       "font-weight: bold;\n",
       "}\n",
       ".hoogle-head {\n",
       "font-weight: bold;\n",
       "}\n",
       ".hoogle-sub {\n",
       "display: block;\n",
       "margin-left: 0.4em;\n",
       "}\n",
       ".hoogle-package {\n",
       "font-weight: bold;\n",
       "font-style: italic;\n",
       "}\n",
       ".hoogle-module {\n",
       "font-weight: bold;\n",
       "}\n",
       ".hoogle-class {\n",
       "font-weight: bold;\n",
       "}\n",
       "\n",
       ".get-type {\n",
       "color: green;\n",
       "font-weight: bold;\n",
       "font-family: monospace;\n",
       "display: block;\n",
       "white-space: pre-wrap;\n",
       "}\n",
       ".show-type {\n",
       "color: green;\n",
       "font-weight: bold;\n",
       "font-family: monospace;\n",
       "margin-left: 1em;\n",
       "}\n",
       ".mono {\n",
       "font-family: monospace;\n",
       "display: block;\n",
       "}\n",
       ".err-msg {\n",
       "color: red;\n",
       "font-style: italic;\n",
       "font-family: monospace;\n",
       "white-space: pre;\n",
       "display: block;\n",
       "}\n",
       "#unshowable {\n",
       "color: red;\n",
       "font-weight: bold;\n",
       "}\n",
       ".err-msg.in.collapse {\n",
       "padding-top: 0.7em;\n",
       "}\n",
       "\n",
       ".highlight-code {\n",
       "white-space: pre;\n",
       "font-family: monospace;\n",
       "}\n",
       "\n",
       ".suggestion-warning { \n",
       "font-weight: bold;\n",
       "color: rgb(200, 130, 0);\n",
       "}\n",
       ".suggestion-error { \n",
       "font-weight: bold;\n",
       "color: red;\n",
       "}\n",
       ".suggestion-name {\n",
       "font-weight: bold;\n",
       "}\n",
       "\n",
       "</style><span class='get-type'>f :: [Char] -> IO ()</span>"
      ],
      "text/plain": [
       "f :: [Char] -> IO ()"
      ]
     },
     "metadata": {},
     "output_type": "display_data"
    }
   ],
   "source": [
    ":t f"
   ]
  },
  {
   "cell_type": "code",
   "execution_count": 9,
   "id": "fa9bd193",
   "metadata": {},
   "outputs": [
    {
     "data": {
      "text/html": [
       "<style>/* Styles used for the Hoogle display in the pager */\n",
       ".hoogle-doc {\n",
       "display: block;\n",
       "padding-bottom: 1.3em;\n",
       "padding-left: 0.4em;\n",
       "}\n",
       ".hoogle-code {\n",
       "display: block;\n",
       "font-family: monospace;\n",
       "white-space: pre;\n",
       "}\n",
       ".hoogle-text {\n",
       "display: block;\n",
       "}\n",
       ".hoogle-name {\n",
       "color: green;\n",
       "font-weight: bold;\n",
       "}\n",
       ".hoogle-head {\n",
       "font-weight: bold;\n",
       "}\n",
       ".hoogle-sub {\n",
       "display: block;\n",
       "margin-left: 0.4em;\n",
       "}\n",
       ".hoogle-package {\n",
       "font-weight: bold;\n",
       "font-style: italic;\n",
       "}\n",
       ".hoogle-module {\n",
       "font-weight: bold;\n",
       "}\n",
       ".hoogle-class {\n",
       "font-weight: bold;\n",
       "}\n",
       "\n",
       ".get-type {\n",
       "color: green;\n",
       "font-weight: bold;\n",
       "font-family: monospace;\n",
       "display: block;\n",
       "white-space: pre-wrap;\n",
       "}\n",
       ".show-type {\n",
       "color: green;\n",
       "font-weight: bold;\n",
       "font-family: monospace;\n",
       "margin-left: 1em;\n",
       "}\n",
       ".mono {\n",
       "font-family: monospace;\n",
       "display: block;\n",
       "}\n",
       ".err-msg {\n",
       "color: red;\n",
       "font-style: italic;\n",
       "font-family: monospace;\n",
       "white-space: pre;\n",
       "display: block;\n",
       "}\n",
       "#unshowable {\n",
       "color: red;\n",
       "font-weight: bold;\n",
       "}\n",
       ".err-msg.in.collapse {\n",
       "padding-top: 0.7em;\n",
       "}\n",
       "\n",
       ".highlight-code {\n",
       "white-space: pre;\n",
       "font-family: monospace;\n",
       "}\n",
       "\n",
       ".suggestion-warning { \n",
       "font-weight: bold;\n",
       "color: rgb(200, 130, 0);\n",
       "}\n",
       ".suggestion-error { \n",
       "font-weight: bold;\n",
       "color: red;\n",
       "}\n",
       ".suggestion-name {\n",
       "font-weight: bold;\n",
       "}\n",
       "\n",
       "</style><div class=\"suggestion-name\" style=\"clear:both;\">Redundant bracket</div><div class=\"suggestion-row\" style=\"float: left;\"><div class=\"suggestion-warning\">Found:</div><div class=\"highlight-code\" id=\"haskell\">(\"hello \")</div></div><div class=\"suggestion-row\" style=\"float: left;\"><div class=\"suggestion-warning\">Why Not:</div><div class=\"highlight-code\" id=\"haskell\">\"hello \"</div></div>"
      ],
      "text/plain": [
       "Line 1: Redundant bracket\n",
       "Found:\n",
       "(\"hello \")\n",
       "Why not:\n",
       "\"hello \""
      ]
     },
     "metadata": {},
     "output_type": "display_data"
    },
    {
     "data": {
      "text/plain": [
       "hello"
      ]
     },
     "metadata": {},
     "output_type": "display_data"
    }
   ],
   "source": [
    "putStrLn (\"hello \")"
   ]
  },
  {
   "cell_type": "code",
   "execution_count": 10,
   "id": "b140a4e9",
   "metadata": {},
   "outputs": [
    {
     "data": {
      "text/html": [
       "<style>/* Styles used for the Hoogle display in the pager */\n",
       ".hoogle-doc {\n",
       "display: block;\n",
       "padding-bottom: 1.3em;\n",
       "padding-left: 0.4em;\n",
       "}\n",
       ".hoogle-code {\n",
       "display: block;\n",
       "font-family: monospace;\n",
       "white-space: pre;\n",
       "}\n",
       ".hoogle-text {\n",
       "display: block;\n",
       "}\n",
       ".hoogle-name {\n",
       "color: green;\n",
       "font-weight: bold;\n",
       "}\n",
       ".hoogle-head {\n",
       "font-weight: bold;\n",
       "}\n",
       ".hoogle-sub {\n",
       "display: block;\n",
       "margin-left: 0.4em;\n",
       "}\n",
       ".hoogle-package {\n",
       "font-weight: bold;\n",
       "font-style: italic;\n",
       "}\n",
       ".hoogle-module {\n",
       "font-weight: bold;\n",
       "}\n",
       ".hoogle-class {\n",
       "font-weight: bold;\n",
       "}\n",
       "\n",
       ".get-type {\n",
       "color: green;\n",
       "font-weight: bold;\n",
       "font-family: monospace;\n",
       "display: block;\n",
       "white-space: pre-wrap;\n",
       "}\n",
       ".show-type {\n",
       "color: green;\n",
       "font-weight: bold;\n",
       "font-family: monospace;\n",
       "margin-left: 1em;\n",
       "}\n",
       ".mono {\n",
       "font-family: monospace;\n",
       "display: block;\n",
       "}\n",
       ".err-msg {\n",
       "color: red;\n",
       "font-style: italic;\n",
       "font-family: monospace;\n",
       "white-space: pre;\n",
       "display: block;\n",
       "}\n",
       "#unshowable {\n",
       "color: red;\n",
       "font-weight: bold;\n",
       "}\n",
       ".err-msg.in.collapse {\n",
       "padding-top: 0.7em;\n",
       "}\n",
       "\n",
       ".highlight-code {\n",
       "white-space: pre;\n",
       "font-family: monospace;\n",
       "}\n",
       "\n",
       ".suggestion-warning { \n",
       "font-weight: bold;\n",
       "color: rgb(200, 130, 0);\n",
       "}\n",
       ".suggestion-error { \n",
       "font-weight: bold;\n",
       "color: red;\n",
       "}\n",
       ".suggestion-name {\n",
       "font-weight: bold;\n",
       "}\n",
       "\n",
       "</style><span class='get-type'>putStrLn (\"hello \") :: IO ()</span>"
      ],
      "text/plain": [
       "putStrLn (\"hello \") :: IO ()"
      ]
     },
     "metadata": {},
     "output_type": "display_data"
    }
   ],
   "source": [
    ":t putStrLn (\"hello \")"
   ]
  },
  {
   "cell_type": "code",
   "execution_count": 11,
   "id": "3579786a",
   "metadata": {},
   "outputs": [
    {
     "ename": "",
     "evalue": "",
     "output_type": "error",
     "traceback": [
      "<interactive>:1:2: error: parse error on input ‘<-’"
     ]
    }
   ],
   "source": [
    ":i (<-)"
   ]
  },
  {
   "cell_type": "code",
   "execution_count": 12,
   "id": "f6d67242",
   "metadata": {},
   "outputs": [
    {
     "ename": "",
     "evalue": "",
     "output_type": "error",
     "traceback": [
      "<interactive>:1:8: error: parse error (possibly incorrect indentation or mismatched brackets)"
     ]
    }
   ],
   "source": [
    ":t name <-"
   ]
  },
  {
   "cell_type": "code",
   "execution_count": 15,
   "id": "0169e680",
   "metadata": {},
   "outputs": [
    {
     "data": {
      "text/html": [
       "<style>/* Styles used for the Hoogle display in the pager */\n",
       ".hoogle-doc {\n",
       "display: block;\n",
       "padding-bottom: 1.3em;\n",
       "padding-left: 0.4em;\n",
       "}\n",
       ".hoogle-code {\n",
       "display: block;\n",
       "font-family: monospace;\n",
       "white-space: pre;\n",
       "}\n",
       ".hoogle-text {\n",
       "display: block;\n",
       "}\n",
       ".hoogle-name {\n",
       "color: green;\n",
       "font-weight: bold;\n",
       "}\n",
       ".hoogle-head {\n",
       "font-weight: bold;\n",
       "}\n",
       ".hoogle-sub {\n",
       "display: block;\n",
       "margin-left: 0.4em;\n",
       "}\n",
       ".hoogle-package {\n",
       "font-weight: bold;\n",
       "font-style: italic;\n",
       "}\n",
       ".hoogle-module {\n",
       "font-weight: bold;\n",
       "}\n",
       ".hoogle-class {\n",
       "font-weight: bold;\n",
       "}\n",
       "\n",
       ".get-type {\n",
       "color: green;\n",
       "font-weight: bold;\n",
       "font-family: monospace;\n",
       "display: block;\n",
       "white-space: pre-wrap;\n",
       "}\n",
       ".show-type {\n",
       "color: green;\n",
       "font-weight: bold;\n",
       "font-family: monospace;\n",
       "margin-left: 1em;\n",
       "}\n",
       ".mono {\n",
       "font-family: monospace;\n",
       "display: block;\n",
       "}\n",
       ".err-msg {\n",
       "color: red;\n",
       "font-style: italic;\n",
       "font-family: monospace;\n",
       "white-space: pre;\n",
       "display: block;\n",
       "}\n",
       "#unshowable {\n",
       "color: red;\n",
       "font-weight: bold;\n",
       "}\n",
       ".err-msg.in.collapse {\n",
       "padding-top: 0.7em;\n",
       "}\n",
       "\n",
       ".highlight-code {\n",
       "white-space: pre;\n",
       "font-family: monospace;\n",
       "}\n",
       "\n",
       ".suggestion-warning { \n",
       "font-weight: bold;\n",
       "color: rgb(200, 130, 0);\n",
       "}\n",
       ".suggestion-error { \n",
       "font-weight: bold;\n",
       "color: red;\n",
       "}\n",
       ".suggestion-name {\n",
       "font-weight: bold;\n",
       "}\n",
       "\n",
       "</style><span class='get-type'>hGetLine :: Handle -> IO String</span>"
      ],
      "text/plain": [
       "hGetLine :: Handle -> IO String"
      ]
     },
     "metadata": {},
     "output_type": "display_data"
    }
   ],
   "source": [
    ":t hGetLine"
   ]
  },
  {
   "cell_type": "code",
   "execution_count": 14,
   "id": "ea734780",
   "metadata": {},
   "outputs": [],
   "source": [
    "import System.IO"
   ]
  },
  {
   "cell_type": "code",
   "execution_count": 16,
   "id": "1de23e8c",
   "metadata": {},
   "outputs": [
    {
     "data": {
      "text/plain": [
       "\"A string\""
      ]
     },
     "metadata": {},
     "output_type": "display_data"
    }
   ],
   "source": [
    "foldl (\\acc elt -> acc++[elt]) \"\" \"A string\""
   ]
  },
  {
   "cell_type": "code",
   "execution_count": 17,
   "id": "24fe42ec",
   "metadata": {},
   "outputs": [
    {
     "data": {
      "text/plain": [
       "43"
      ]
     },
     "metadata": {},
     "output_type": "display_data"
    }
   ],
   "source": [
    " foldl (\\x y -> 2*x + y) 4 [1,2,3]"
   ]
  },
  {
   "cell_type": "code",
   "execution_count": 19,
   "id": "2b00f154",
   "metadata": {},
   "outputs": [
    {
     "data": {
      "text/plain": [
       "4.0"
      ]
     },
     "metadata": {},
     "output_type": "display_data"
    }
   ],
   "source": [
    "foldr (/) 1 [2,4,8]"
   ]
  },
  {
   "cell_type": "code",
   "execution_count": 20,
   "id": "1c5bd50c",
   "metadata": {},
   "outputs": [
    {
     "data": {
      "text/plain": [
       "0.25"
      ]
     },
     "metadata": {},
     "output_type": "display_data"
    }
   ],
   "source": [
    "foldl (/) 16 [8,4,2,1]"
   ]
  },
  {
   "cell_type": "code",
   "execution_count": 21,
   "id": "8adf110a",
   "metadata": {},
   "outputs": [
    {
     "ename": "",
     "evalue": "",
     "output_type": "error",
     "traceback": [
      "Parse error (line 1, column 38): parse error on input `where'"
     ]
    }
   ],
   "source": [
    "let x = numeral ++ \" minister\"  in x where numeral = \"prime\""
   ]
  },
  {
   "cell_type": "code",
   "execution_count": 22,
   "id": "099af4ea",
   "metadata": {},
   "outputs": [
    {
     "data": {
      "text/plain": [
       "\"prime minister\""
      ]
     },
     "metadata": {},
     "output_type": "display_data"
    }
   ],
   "source": [
    "let x = numeral ++ \" minister\"  where numeral = \"prime\" in x"
   ]
  },
  {
   "cell_type": "code",
   "execution_count": 23,
   "id": "99e6c90d",
   "metadata": {},
   "outputs": [
    {
     "data": {
      "text/html": [
       "<style>/* Styles used for the Hoogle display in the pager */\n",
       ".hoogle-doc {\n",
       "display: block;\n",
       "padding-bottom: 1.3em;\n",
       "padding-left: 0.4em;\n",
       "}\n",
       ".hoogle-code {\n",
       "display: block;\n",
       "font-family: monospace;\n",
       "white-space: pre;\n",
       "}\n",
       ".hoogle-text {\n",
       "display: block;\n",
       "}\n",
       ".hoogle-name {\n",
       "color: green;\n",
       "font-weight: bold;\n",
       "}\n",
       ".hoogle-head {\n",
       "font-weight: bold;\n",
       "}\n",
       ".hoogle-sub {\n",
       "display: block;\n",
       "margin-left: 0.4em;\n",
       "}\n",
       ".hoogle-package {\n",
       "font-weight: bold;\n",
       "font-style: italic;\n",
       "}\n",
       ".hoogle-module {\n",
       "font-weight: bold;\n",
       "}\n",
       ".hoogle-class {\n",
       "font-weight: bold;\n",
       "}\n",
       "\n",
       ".get-type {\n",
       "color: green;\n",
       "font-weight: bold;\n",
       "font-family: monospace;\n",
       "display: block;\n",
       "white-space: pre-wrap;\n",
       "}\n",
       ".show-type {\n",
       "color: green;\n",
       "font-weight: bold;\n",
       "font-family: monospace;\n",
       "margin-left: 1em;\n",
       "}\n",
       ".mono {\n",
       "font-family: monospace;\n",
       "display: block;\n",
       "}\n",
       ".err-msg {\n",
       "color: red;\n",
       "font-style: italic;\n",
       "font-family: monospace;\n",
       "white-space: pre;\n",
       "display: block;\n",
       "}\n",
       "#unshowable {\n",
       "color: red;\n",
       "font-weight: bold;\n",
       "}\n",
       ".err-msg.in.collapse {\n",
       "padding-top: 0.7em;\n",
       "}\n",
       "\n",
       ".highlight-code {\n",
       "white-space: pre;\n",
       "font-family: monospace;\n",
       "}\n",
       "\n",
       ".suggestion-warning { \n",
       "font-weight: bold;\n",
       "color: rgb(200, 130, 0);\n",
       "}\n",
       ".suggestion-error { \n",
       "font-weight: bold;\n",
       "color: red;\n",
       "}\n",
       ".suggestion-name {\n",
       "font-weight: bold;\n",
       "}\n",
       "\n",
       "</style><div class=\"suggestion-name\" style=\"clear:both;\">Redundant bracket</div><div class=\"suggestion-row\" style=\"float: left;\"><div class=\"suggestion-warning\">Found:</div><div class=\"highlight-code\" id=\"haskell\">let x = (Just Nothing)\n",
       "in\n",
       "  case x of\n",
       "    (Just _) -> \"something\"\n",
       "    Nothing -> \"nothing\"</div></div><div class=\"suggestion-row\" style=\"float: left;\"><div class=\"suggestion-warning\">Why Not:</div><div class=\"highlight-code\" id=\"haskell\">let x = Just Nothing\n",
       "in\n",
       "  case x of\n",
       "    (Just _) -> \"something\"\n",
       "    Nothing -> \"nothing\"</div></div>"
      ],
      "text/plain": [
       "Line 2: Redundant bracket\n",
       "Found:\n",
       "let x = (Just Nothing)\n",
       "in\n",
       "  case x of\n",
       "    (Just _) -> \"something\"\n",
       "    Nothing -> \"nothing\"\n",
       "Why not:\n",
       "let x = Just Nothing\n",
       "in\n",
       "  case x of\n",
       "    (Just _) -> \"something\"\n",
       "    Nothing -> \"nothing\""
      ]
     },
     "metadata": {},
     "output_type": "display_data"
    }
   ],
   "source": [
    "f :: () -> String \n",
    "f () = let x = (Just Nothing)\n",
    "       in\n",
    "        case x of\n",
    "         (Just _) -> \"something\"\n",
    "         Nothing -> \"nothing\""
   ]
  },
  {
   "cell_type": "code",
   "execution_count": 25,
   "id": "fa1aa5aa",
   "metadata": {},
   "outputs": [
    {
     "data": {
      "text/plain": [
       "\"something\""
      ]
     },
     "metadata": {},
     "output_type": "display_data"
    }
   ],
   "source": [
    "f ()"
   ]
  },
  {
   "cell_type": "code",
   "execution_count": 46,
   "id": "b86d9be6",
   "metadata": {},
   "outputs": [],
   "source": [
    "import Text.ParserCombinators.Parsec"
   ]
  },
  {
   "cell_type": "code",
   "execution_count": 27,
   "id": "a63024ab",
   "metadata": {},
   "outputs": [
    {
     "data": {
      "text/plain": [
       "parse error at (line 1, column 1):\n",
       "unexpected \"c\"\n",
       "expecting \"b\""
      ]
     },
     "metadata": {},
     "output_type": "display_data"
    }
   ],
   "source": [
    "parseTest (char 'b') \"cons\""
   ]
  },
  {
   "cell_type": "code",
   "execution_count": 28,
   "id": "3e90c34d",
   "metadata": {},
   "outputs": [
    {
     "data": {
      "text/plain": [
       "'c'"
      ]
     },
     "metadata": {},
     "output_type": "display_data"
    }
   ],
   "source": [
    " parseTest (char 'c') \"cons\""
   ]
  },
  {
   "cell_type": "code",
   "execution_count": 49,
   "id": "44b53c4d",
   "metadata": {},
   "outputs": [
    {
     "data": {
      "text/html": [
       "<style>/* Styles used for the Hoogle display in the pager */\n",
       ".hoogle-doc {\n",
       "display: block;\n",
       "padding-bottom: 1.3em;\n",
       "padding-left: 0.4em;\n",
       "}\n",
       ".hoogle-code {\n",
       "display: block;\n",
       "font-family: monospace;\n",
       "white-space: pre;\n",
       "}\n",
       ".hoogle-text {\n",
       "display: block;\n",
       "}\n",
       ".hoogle-name {\n",
       "color: green;\n",
       "font-weight: bold;\n",
       "}\n",
       ".hoogle-head {\n",
       "font-weight: bold;\n",
       "}\n",
       ".hoogle-sub {\n",
       "display: block;\n",
       "margin-left: 0.4em;\n",
       "}\n",
       ".hoogle-package {\n",
       "font-weight: bold;\n",
       "font-style: italic;\n",
       "}\n",
       ".hoogle-module {\n",
       "font-weight: bold;\n",
       "}\n",
       ".hoogle-class {\n",
       "font-weight: bold;\n",
       "}\n",
       "\n",
       ".get-type {\n",
       "color: green;\n",
       "font-weight: bold;\n",
       "font-family: monospace;\n",
       "display: block;\n",
       "white-space: pre-wrap;\n",
       "}\n",
       ".show-type {\n",
       "color: green;\n",
       "font-weight: bold;\n",
       "font-family: monospace;\n",
       "margin-left: 1em;\n",
       "}\n",
       ".mono {\n",
       "font-family: monospace;\n",
       "display: block;\n",
       "}\n",
       ".err-msg {\n",
       "color: red;\n",
       "font-style: italic;\n",
       "font-family: monospace;\n",
       "white-space: pre;\n",
       "display: block;\n",
       "}\n",
       "#unshowable {\n",
       "color: red;\n",
       "font-weight: bold;\n",
       "}\n",
       ".err-msg.in.collapse {\n",
       "padding-top: 0.7em;\n",
       "}\n",
       "\n",
       ".highlight-code {\n",
       "white-space: pre;\n",
       "font-family: monospace;\n",
       "}\n",
       "\n",
       ".suggestion-warning { \n",
       "font-weight: bold;\n",
       "color: rgb(200, 130, 0);\n",
       "}\n",
       ".suggestion-error { \n",
       "font-weight: bold;\n",
       "color: red;\n",
       "}\n",
       ".suggestion-name {\n",
       "font-weight: bold;\n",
       "}\n",
       "\n",
       "</style><div class=\"suggestion-name\" style=\"clear:both;\">Use camelCase</div><div class=\"suggestion-row\" style=\"float: left;\"><div class=\"suggestion-warning\">Found:</div><div class=\"highlight-code\" id=\"haskell\">xml_header = ...</div></div><div class=\"suggestion-row\" style=\"float: left;\"><div class=\"suggestion-warning\">Why Not:</div><div class=\"highlight-code\" id=\"haskell\">xmlHeader = ...</div></div><div class=\"suggestion-name\" style=\"clear:both;\">Redundant lambda</div><div class=\"suggestion-row\" style=\"float: left;\"><div class=\"suggestion-warning\">Found:</div><div class=\"highlight-code\" id=\"haskell\">parseShow = \\ str -> xml_header ++ (run_parser showParser str)</div></div><div class=\"suggestion-row\" style=\"float: left;\"><div class=\"suggestion-warning\">Why Not:</div><div class=\"highlight-code\" id=\"haskell\">parseShow str = xml_header ++ (run_parser showParser str)</div></div><div class=\"suggestion-name\" style=\"clear:both;\">Redundant bracket</div><div class=\"suggestion-row\" style=\"float: left;\"><div class=\"suggestion-warning\">Found:</div><div class=\"highlight-code\" id=\"haskell\">xml_header ++ (run_parser showParser str)</div></div><div class=\"suggestion-row\" style=\"float: left;\"><div class=\"suggestion-warning\">Why Not:</div><div class=\"highlight-code\" id=\"haskell\">xml_header ++ run_parser showParser str</div></div><div class=\"suggestion-name\" style=\"clear:both;\">Use camelCase</div><div class=\"suggestion-row\" style=\"float: left;\"><div class=\"suggestion-warning\">Found:</div><div class=\"highlight-code\" id=\"haskell\">run_parser :: Parser a -> String -> a</div></div><div class=\"suggestion-row\" style=\"float: left;\"><div class=\"suggestion-warning\">Why Not:</div><div class=\"highlight-code\" id=\"haskell\">runParser :: Parser a -> String -> a</div></div><div class=\"suggestion-name\" style=\"clear:both;\">Use camelCase</div><div class=\"suggestion-row\" style=\"float: left;\"><div class=\"suggestion-warning\">Found:</div><div class=\"highlight-code\" id=\"haskell\">run_parser p str = ...</div></div><div class=\"suggestion-row\" style=\"float: left;\"><div class=\"suggestion-warning\">Why Not:</div><div class=\"highlight-code\" id=\"haskell\">runParser p str = ...</div></div><div class=\"suggestion-name\" style=\"clear:both;\">Redundant bracket</div><div class=\"suggestion-row\" style=\"float: left;\"><div class=\"suggestion-warning\">Found:</div><div class=\"highlight-code\" id=\"haskell\">\"parse error at \" ++ (show err)</div></div><div class=\"suggestion-row\" style=\"float: left;\"><div class=\"suggestion-warning\">Why Not:</div><div class=\"highlight-code\" id=\"haskell\">\"parse error at \" ++ show err</div></div><div class=\"suggestion-name\" style=\"clear:both;\">Use :</div><div class=\"suggestion-row\" style=\"float: left;\"><div class=\"suggestion-warning\">Found:</div><div class=\"highlight-code\" id=\"haskell\">[t] ++ (map (\\ (k, v) -> concat [k, \"=\\\"\", v, \"\\\"\"]) attrs)</div></div><div class=\"suggestion-row\" style=\"float: left;\"><div class=\"suggestion-warning\">Why Not:</div><div class=\"highlight-code\" id=\"haskell\">t : (map (\\ (k, v) -> concat [k, \"=\\\"\", v, \"\\\"\"]) attrs)</div></div><div class=\"suggestion-name\" style=\"clear:both;\">Redundant bracket</div><div class=\"suggestion-row\" style=\"float: left;\"><div class=\"suggestion-warning\">Found:</div><div class=\"highlight-code\" id=\"haskell\">[t] ++ (map (\\ (k, v) -> concat [k, \"=\\\"\", v, \"\\\"\"]) attrs)</div></div><div class=\"suggestion-row\" style=\"float: left;\"><div class=\"suggestion-warning\">Why Not:</div><div class=\"highlight-code\" id=\"haskell\">[t] ++ map (\\ (k, v) -> concat [k, \"=\\\"\", v, \"\\\"\"]) attrs</div></div><div class=\"suggestion-name\" style=\"clear:both;\">Eta reduce</div><div class=\"suggestion-row\" style=\"float: left;\"><div class=\"suggestion-warning\">Found:</div><div class=\"highlight-code\" id=\"haskell\">joinNL ls = intercalate \"\\n\" ls</div></div><div class=\"suggestion-row\" style=\"float: left;\"><div class=\"suggestion-warning\">Why Not:</div><div class=\"highlight-code\" id=\"haskell\">joinNL = intercalate \"\\n\"</div></div><div class=\"suggestion-name\" style=\"clear:both;\">Use camelCase</div><div class=\"suggestion-row\" style=\"float: left;\"><div class=\"suggestion-warning\">Found:</div><div class=\"highlight-code\" id=\"haskell\">quoted_string = ...</div></div><div class=\"suggestion-row\" style=\"float: left;\"><div class=\"suggestion-warning\">Why Not:</div><div class=\"highlight-code\" id=\"haskell\">quotedString = ...</div></div><div class=\"suggestion-name\" style=\"clear:both;\">Use <$></div><div class=\"suggestion-row\" style=\"float: left;\"><div class=\"suggestion-warning\">Found:</div><div class=\"highlight-code\" id=\"haskell\">do n <- integer\n",
       "   return $ show n</div></div><div class=\"suggestion-row\" style=\"float: left;\"><div class=\"suggestion-warning\">Why Not:</div><div class=\"highlight-code\" id=\"haskell\">do show <$> integer</div></div><div class=\"suggestion-name\" style=\"clear:both;\">Use camelCase</div><div class=\"suggestion-row\" style=\"float: left;\"><div class=\"suggestion-warning\">Found:</div><div class=\"highlight-code\" id=\"haskell\">list_parser = ...</div></div><div class=\"suggestion-row\" style=\"float: left;\"><div class=\"suggestion-warning\">Why Not:</div><div class=\"highlight-code\" id=\"haskell\">listParser = ...</div></div><div class=\"suggestion-name\" style=\"clear:both;\">Use camelCase</div><div class=\"suggestion-row\" style=\"float: left;\"><div class=\"suggestion-warning\">Found:</div><div class=\"highlight-code\" id=\"haskell\">tuple_parser = ...</div></div><div class=\"suggestion-row\" style=\"float: left;\"><div class=\"suggestion-warning\">Why Not:</div><div class=\"highlight-code\" id=\"haskell\">tupleParser = ...</div></div><div class=\"suggestion-name\" style=\"clear:both;\">Use camelCase</div><div class=\"suggestion-row\" style=\"float: left;\"><div class=\"suggestion-warning\">Found:</div><div class=\"highlight-code\" id=\"haskell\">record_parser = ...</div></div><div class=\"suggestion-row\" style=\"float: left;\"><div class=\"suggestion-warning\">Why Not:</div><div class=\"highlight-code\" id=\"haskell\">recordParser = ...</div></div><div class=\"suggestion-name\" style=\"clear:both;\">Use camelCase</div><div class=\"suggestion-row\" style=\"float: left;\"><div class=\"suggestion-warning\">Found:</div><div class=\"highlight-code\" id=\"haskell\">adt_parser = ...</div></div><div class=\"suggestion-row\" style=\"float: left;\"><div class=\"suggestion-warning\">Why Not:</div><div class=\"highlight-code\" id=\"haskell\">adtParser = ...</div></div><div class=\"suggestion-name\" style=\"clear:both;\">Use <$></div><div class=\"suggestion-row\" style=\"float: left;\"><div class=\"suggestion-warning\">Found:</div><div class=\"highlight-code\" id=\"haskell\">do ti <- type_identifier\n",
       "   return $ tag \"adt\" ti</div></div><div class=\"suggestion-row\" style=\"float: left;\"><div class=\"suggestion-warning\">Why Not:</div><div class=\"highlight-code\" id=\"haskell\">do tag \"adt\" <$> type_identifier</div></div><div class=\"suggestion-name\" style=\"clear:both;\">Use <$></div><div class=\"suggestion-row\" style=\"float: left;\"><div class=\"suggestion-warning\">Found:</div><div class=\"highlight-code\" id=\"haskell\">do k <- identifier\n",
       "   symbol \"=\"\n",
       "   t <- showParser\n",
       "   return $ tagAttrs \"elt\" [(\"key\", k)] t</div></div><div class=\"suggestion-row\" style=\"float: left;\"><div class=\"suggestion-warning\">Why Not:</div><div class=\"highlight-code\" id=\"haskell\">do k <- identifier\n",
       "   symbol \"=\"\n",
       "   tagAttrs \"elt\" [(\"key\", k)] <$> showParser</div></div><div class=\"suggestion-name\" style=\"clear:both;\">Use camelCase</div><div class=\"suggestion-row\" style=\"float: left;\"><div class=\"suggestion-warning\">Found:</div><div class=\"highlight-code\" id=\"haskell\">type_identifier = ...</div></div><div class=\"suggestion-row\" style=\"float: left;\"><div class=\"suggestion-warning\">Why Not:</div><div class=\"highlight-code\" id=\"haskell\">typeIdentifier = ...</div></div>"
      ],
      "text/plain": [
       "Line 8: Use camelCase\n",
       "Found:\n",
       "xml_header = ...\n",
       "Why not:\n",
       "xmlHeader = ...Line 11: Redundant lambda\n",
       "Found:\n",
       "parseShow = \\ str -> xml_header ++ (run_parser showParser str)\n",
       "Why not:\n",
       "parseShow str = xml_header ++ (run_parser showParser str)Line 11: Redundant bracket\n",
       "Found:\n",
       "xml_header ++ (run_parser showParser str)\n",
       "Why not:\n",
       "xml_header ++ run_parser showParser strLine 13: Use camelCase\n",
       "Found:\n",
       "run_parser :: Parser a -> String -> a\n",
       "Why not:\n",
       "runParser :: Parser a -> String -> aLine 14: Use camelCase\n",
       "Found:\n",
       "run_parser p str = ...\n",
       "Why not:\n",
       "runParser p str = ...Line 15: Redundant bracket\n",
       "Found:\n",
       "\"parse error at \" ++ (show err)\n",
       "Why not:\n",
       "\"parse error at \" ++ show errLine 22: Use :\n",
       "Found:\n",
       "[t] ++ (map (\\ (k, v) -> concat [k, \"=\\\"\", v, \"\\\"\"]) attrs)\n",
       "Why not:\n",
       "t : (map (\\ (k, v) -> concat [k, \"=\\\"\", v, \"\\\"\"]) attrs)Line 22: Redundant bracket\n",
       "Found:\n",
       "[t] ++ (map (\\ (k, v) -> concat [k, \"=\\\"\", v, \"\\\"\"]) attrs)\n",
       "Why not:\n",
       "[t] ++ map (\\ (k, v) -> concat [k, \"=\\\"\", v, \"\\\"\"]) attrsLine 24: Eta reduce\n",
       "Found:\n",
       "joinNL ls = intercalate \"\\n\" ls\n",
       "Why not:\n",
       "joinNL = intercalate \"\\n\"Line 36: Use camelCase\n",
       "Found:\n",
       "quoted_string = ...\n",
       "Why not:\n",
       "quotedString = ...Line 40: Use <$>\n",
       "Found:\n",
       "do n <- integer\n",
       "   return $ show n\n",
       "Why not:\n",
       "do show <$> integerLine 44: Use camelCase\n",
       "Found:\n",
       "list_parser = ...\n",
       "Why not:\n",
       "listParser = ...Line 48: Use camelCase\n",
       "Found:\n",
       "tuple_parser = ...\n",
       "Why not:\n",
       "tupleParser = ...Line 52: Use camelCase\n",
       "Found:\n",
       "record_parser = ...\n",
       "Why not:\n",
       "recordParser = ...Line 57: Use camelCase\n",
       "Found:\n",
       "adt_parser = ...\n",
       "Why not:\n",
       "adtParser = ...Line 57: Use <$>\n",
       "Found:\n",
       "do ti <- type_identifier\n",
       "   return $ tag \"adt\" ti\n",
       "Why not:\n",
       "do tag \"adt\" <$> type_identifierLine 61: Use <$>\n",
       "Found:\n",
       "do k <- identifier\n",
       "   symbol \"=\"\n",
       "   t <- showParser\n",
       "   return $ tagAttrs \"elt\" [(\"key\", k)] t\n",
       "Why not:\n",
       "do k <- identifier\n",
       "   symbol \"=\"\n",
       "   tagAttrs \"elt\" [(\"key\", k)] <$> showParserLine 67: Use camelCase\n",
       "Found:\n",
       "type_identifier = ...\n",
       "Why not:\n",
       "typeIdentifier = ..."
      ]
     },
     "metadata": {},
     "output_type": "display_data"
    },
    {
     "ename": "",
     "evalue": "",
     "output_type": "error",
     "traceback": [
      "<interactive>:17:5: error:\n    Ambiguous occurrence ‘try’\n    It could refer to\n       either ‘Text.ParserCombinators.Parsec.try’, imported from ‘Text.ParserCombinators.Parsec’ (and originally defined in ‘Text.ParserCombinators.Parsec.Prim’)\n           or ‘Text.Parsec.Prim.try’, imported from ‘Text.Parsec.Prim’"
     ]
    }
   ],
   "source": [
    "-- module ShowParser ( parseShow )\n",
    "-- where\n",
    "import Text.ParserCombinators.Parsec\n",
    "import qualified Text.ParserCombinators.Parsec.Token as P\n",
    "import Text.ParserCombinators.Parsec.Language\n",
    "import Data.List ( intercalate )\n",
    "\n",
    "xml_header =  \"<?xml version=\\\"1.0\\\" encoding=\\\"UTF-8\\\"?>\\n\"\n",
    "\n",
    "parseShow :: String -> String\n",
    "parseShow = \\str -> xml_header++(run_parser showParser str)\n",
    "\n",
    "run_parser :: Parser a -> String -> a\n",
    "run_parser p str =  case parse p \"\" str of\n",
    "    Left err -> error $ \"parse error at \" ++ (show err)\n",
    "    Right val  -> val  \n",
    "\n",
    "otag t = \"<\"++t++\">\"\n",
    "ctag t = \"</\"++t++\">\"\n",
    "tag t v = concat [otag t,v,ctag t]\n",
    "\n",
    "tagAttrs t attrs v = concat [otag (unwords $ [t]++(map (\\(k,v) -> concat [k,\"=\\\"\",v,\"\\\"\"]) attrs)),v,ctag t]\n",
    "\n",
    "joinNL ls = intercalate \"\\n\" ls\n",
    "\n",
    "\n",
    "showParser :: Parser String \n",
    "showParser =\n",
    "    list_parser <|> -- [ ... ]\n",
    "    tuple_parser <|> -- ( ... )\n",
    "    try record_parser <|> -- MkRec { ... }\n",
    "    adt_parser <|> -- MkADT ...\n",
    "    number <|>    -- signed integer\n",
    "    quoted_string <?> \"Parse error\"\n",
    "\n",
    "quoted_string = do\n",
    "    s <- stringLiteral\n",
    "    return $ \"\\\"\"++s++\"\\\"\"\n",
    "\n",
    "number = do\n",
    "    n <- integer\n",
    "    return $ show n\n",
    "\n",
    "list_parser = do\n",
    "    ls <- brackets $ commaSep showParser \n",
    "    return $ tag \"list\" $ joinNL $ map (tag \"list-elt\") ls\n",
    "    \n",
    "tuple_parser = do\n",
    "    ls <- parens $ commaSep showParser \n",
    "    return $ tag \"tuple\" $ unwords $ map (tag \"tuple-elt\") ls\n",
    "\n",
    "record_parser = do\n",
    "    ti <- type_identifier\n",
    "    ls <- braces $ commaSep kvparser\n",
    "    return $ tagAttrs \"record\" [(\"name\",ti)] (joinNL ls)\n",
    "\n",
    "adt_parser = do\n",
    "    ti <- type_identifier \n",
    "    return $ tag \"adt\" ti\n",
    "\n",
    "kvparser = do\n",
    "    k <- identifier\n",
    "    symbol \"=\"\n",
    "    t <- showParser\n",
    "    return $ tagAttrs \"elt\" [(\"key\",k)] t\n",
    "\n",
    "type_identifier = do\n",
    "    fst <- oneOf ['A' .. 'Z']\n",
    "    rest <- many alphaNum\n",
    "    whiteSpace\n",
    "    return $ fst:rest\n",
    "\n",
    "\n",
    "\n",
    "lexer       = P.makeTokenParser emptyDef\n",
    "\n",
    "parens          = P.parens lexer    \n",
    "brackets        = P.brackets lexer    \n",
    "braces          = P.braces lexer    \n",
    "commaSep        = P.commaSep lexer\n",
    "whiteSpace      = P.whiteSpace lexer    \n",
    "symbol          = P.symbol lexer    \n",
    "identifier      = P.identifier lexer\n",
    "integer         = P.integer lexer    \n",
    "stringLiteral   = P.stringLiteral lexer "
   ]
  },
  {
   "cell_type": "code",
   "execution_count": 51,
   "id": "e588dfad",
   "metadata": {},
   "outputs": [
    {
     "data": {
      "text/html": [
       "<style>/* Styles used for the Hoogle display in the pager */\n",
       ".hoogle-doc {\n",
       "display: block;\n",
       "padding-bottom: 1.3em;\n",
       "padding-left: 0.4em;\n",
       "}\n",
       ".hoogle-code {\n",
       "display: block;\n",
       "font-family: monospace;\n",
       "white-space: pre;\n",
       "}\n",
       ".hoogle-text {\n",
       "display: block;\n",
       "}\n",
       ".hoogle-name {\n",
       "color: green;\n",
       "font-weight: bold;\n",
       "}\n",
       ".hoogle-head {\n",
       "font-weight: bold;\n",
       "}\n",
       ".hoogle-sub {\n",
       "display: block;\n",
       "margin-left: 0.4em;\n",
       "}\n",
       ".hoogle-package {\n",
       "font-weight: bold;\n",
       "font-style: italic;\n",
       "}\n",
       ".hoogle-module {\n",
       "font-weight: bold;\n",
       "}\n",
       ".hoogle-class {\n",
       "font-weight: bold;\n",
       "}\n",
       "\n",
       ".get-type {\n",
       "color: green;\n",
       "font-weight: bold;\n",
       "font-family: monospace;\n",
       "display: block;\n",
       "white-space: pre-wrap;\n",
       "}\n",
       ".show-type {\n",
       "color: green;\n",
       "font-weight: bold;\n",
       "font-family: monospace;\n",
       "margin-left: 1em;\n",
       "}\n",
       ".mono {\n",
       "font-family: monospace;\n",
       "display: block;\n",
       "}\n",
       ".err-msg {\n",
       "color: red;\n",
       "font-style: italic;\n",
       "font-family: monospace;\n",
       "white-space: pre;\n",
       "display: block;\n",
       "}\n",
       "#unshowable {\n",
       "color: red;\n",
       "font-weight: bold;\n",
       "}\n",
       ".err-msg.in.collapse {\n",
       "padding-top: 0.7em;\n",
       "}\n",
       "\n",
       ".highlight-code {\n",
       "white-space: pre;\n",
       "font-family: monospace;\n",
       "}\n",
       "\n",
       ".suggestion-warning { \n",
       "font-weight: bold;\n",
       "color: rgb(200, 130, 0);\n",
       "}\n",
       ".suggestion-error { \n",
       "font-weight: bold;\n",
       "color: red;\n",
       "}\n",
       ".suggestion-name {\n",
       "font-weight: bold;\n",
       "}\n",
       "\n",
       "</style><div class=\"suggestion-name\" style=\"clear:both;\">Use camelCase</div><div class=\"suggestion-row\" style=\"float: left;\"><div class=\"suggestion-warning\">Found:</div><div class=\"highlight-code\" id=\"haskell\">rec_str = ...</div></div><div class=\"suggestion-row\" style=\"float: left;\"><div class=\"suggestion-warning\">Why Not:</div><div class=\"highlight-code\" id=\"haskell\">recStr = ...</div></div>"
      ],
      "text/plain": [
       "Line 35: Use camelCase\n",
       "Found:\n",
       "rec_str = ...\n",
       "Why not:\n",
       "recStr = ..."
      ]
     },
     "metadata": {},
     "output_type": "display_data"
    }
   ],
   "source": [
    "--module Main where\n",
    "import ShowParser ( parseShow )\n",
    "\n",
    "data PersonRecord  = MkPersonRecord {\n",
    "    name :: String,\n",
    "    address :: Address,\n",
    "    id :: Integer,\n",
    "    labels :: [Label]    \n",
    "     } deriving (Show)\n",
    "\n",
    "data Address = MkAddress {\n",
    "    line1 :: String,\n",
    "    number :: Integer,\n",
    "    street :: String,\n",
    "    town :: String,\n",
    "    postcode :: String\n",
    "     } deriving (Show)\n",
    "\n",
    "data Label = Green | Red | Blue | Yellow deriving (Show)\n",
    "\n",
    "rec1 = MkPersonRecord \n",
    "    \"Wim Vanderbauwhede\" \n",
    "    (MkAddress \"School of Computing Science\" 17 \"Lilybank Gdns\" \"Glasgow\" \"G12 8QQ\")\n",
    "    557188\n",
    "    [Green, Red]\n",
    "\n",
    "rec2 = MkPersonRecord \n",
    "    \"Jeremy Singer\" \n",
    "    (MkAddress \"School of Computing Science\" 17 \"Lilybank Gdns\" \"Glasgow\" \"G12 8QQ\")\n",
    "    42\n",
    "    [Blue, Yellow]\n",
    "\n",
    "-- main = putStrLn $ show [rec1,rec2]    \n",
    "\n",
    "rec_str =  show [rec1,rec2]    \n",
    "main = putStrLn $ parseShow rec_str"
   ]
  },
  {
   "cell_type": "code",
   "execution_count": 52,
   "id": "7fc47f80",
   "metadata": {},
   "outputs": [
    {
     "data": {
      "text/plain": [
       "<?xml version=\"1.0\" encoding=\"UTF-8\"?>\n",
       "<list><list-elt><record name=\"MkPersonRecord\"><elt key=\"name\">\"Wim Vanderbauwhede\"</elt>\n",
       "<elt key=\"address\"><record name=\"MkAddress\"><elt key=\"line1\">\"School of Computing Science\"</elt>\n",
       "<elt key=\"number\">17</elt>\n",
       "<elt key=\"street\">\"Lilybank Gdns\"</elt>\n",
       "<elt key=\"town\">\"Glasgow\"</elt>\n",
       "<elt key=\"postcode\">\"G12 8QQ\"</elt></record></elt>\n",
       "<elt key=\"id\">557188</elt>\n",
       "<elt key=\"labels\"><list><list-elt><adt>Green</adt></list-elt>\n",
       "<list-elt><adt>Red</adt></list-elt></list></elt></record></list-elt>\n",
       "<list-elt><record name=\"MkPersonRecord\"><elt key=\"name\">\"Jeremy Singer\"</elt>\n",
       "<elt key=\"address\"><record name=\"MkAddress\"><elt key=\"line1\">\"School of Computing Science\"</elt>\n",
       "<elt key=\"number\">17</elt>\n",
       "<elt key=\"street\">\"Lilybank Gdns\"</elt>\n",
       "<elt key=\"town\">\"Glasgow\"</elt>\n",
       "<elt key=\"postcode\">\"G12 8QQ\"</elt></record></elt>\n",
       "<elt key=\"id\">42</elt>\n",
       "<elt key=\"labels\"><list><list-elt><adt>Blue</adt></list-elt>\n",
       "<list-elt><adt>Yellow</adt></list-elt></list></elt></record></list-elt></list>"
      ]
     },
     "metadata": {},
     "output_type": "display_data"
    }
   ],
   "source": [
    "main"
   ]
  },
  {
   "cell_type": "code",
   "execution_count": 29,
   "id": "73d7697b",
   "metadata": {},
   "outputs": [
    {
     "data": {
      "text/html": [
       "<style>/* Styles used for the Hoogle display in the pager */\n",
       ".hoogle-doc {\n",
       "display: block;\n",
       "padding-bottom: 1.3em;\n",
       "padding-left: 0.4em;\n",
       "}\n",
       ".hoogle-code {\n",
       "display: block;\n",
       "font-family: monospace;\n",
       "white-space: pre;\n",
       "}\n",
       ".hoogle-text {\n",
       "display: block;\n",
       "}\n",
       ".hoogle-name {\n",
       "color: green;\n",
       "font-weight: bold;\n",
       "}\n",
       ".hoogle-head {\n",
       "font-weight: bold;\n",
       "}\n",
       ".hoogle-sub {\n",
       "display: block;\n",
       "margin-left: 0.4em;\n",
       "}\n",
       ".hoogle-package {\n",
       "font-weight: bold;\n",
       "font-style: italic;\n",
       "}\n",
       ".hoogle-module {\n",
       "font-weight: bold;\n",
       "}\n",
       ".hoogle-class {\n",
       "font-weight: bold;\n",
       "}\n",
       "\n",
       ".get-type {\n",
       "color: green;\n",
       "font-weight: bold;\n",
       "font-family: monospace;\n",
       "display: block;\n",
       "white-space: pre-wrap;\n",
       "}\n",
       ".show-type {\n",
       "color: green;\n",
       "font-weight: bold;\n",
       "font-family: monospace;\n",
       "margin-left: 1em;\n",
       "}\n",
       ".mono {\n",
       "font-family: monospace;\n",
       "display: block;\n",
       "}\n",
       ".err-msg {\n",
       "color: red;\n",
       "font-style: italic;\n",
       "font-family: monospace;\n",
       "white-space: pre;\n",
       "display: block;\n",
       "}\n",
       "#unshowable {\n",
       "color: red;\n",
       "font-weight: bold;\n",
       "}\n",
       ".err-msg.in.collapse {\n",
       "padding-top: 0.7em;\n",
       "}\n",
       "\n",
       ".highlight-code {\n",
       "white-space: pre;\n",
       "font-family: monospace;\n",
       "}\n",
       "\n",
       ".suggestion-warning { \n",
       "font-weight: bold;\n",
       "color: rgb(200, 130, 0);\n",
       "}\n",
       ".suggestion-error { \n",
       "font-weight: bold;\n",
       "color: red;\n",
       "}\n",
       ".suggestion-name {\n",
       "font-weight: bold;\n",
       "}\n",
       "\n",
       "</style><div class=\"suggestion-name\" style=\"clear:both;\">Use newtype instead of data</div><div class=\"suggestion-row\" style=\"float: left;\"><div class=\"suggestion-warning\">Found:</div><div class=\"highlight-code\" id=\"haskell\">data Tag\n",
       "  = MkTag String\n",
       "  deriving Show</div></div><div class=\"suggestion-row\" style=\"float: left;\"><div class=\"suggestion-warning\">Why Not:</div><div class=\"highlight-code\" id=\"haskell\">newtype Tag\n",
       "  = MkTag String\n",
       "  deriving Show</div></div>"
      ],
      "text/plain": [
       "Line 1: Use newtype instead of data\n",
       "Found:\n",
       "data Tag\n",
       "  = MkTag String\n",
       "  deriving Show\n",
       "Why not:\n",
       "newtype Tag\n",
       "  = MkTag String\n",
       "  deriving Show"
      ]
     },
     "metadata": {},
     "output_type": "display_data"
    }
   ],
   "source": [
    "data Tag = MkTag String deriving Show \n",
    "\n",
    "parseDiv = do \n",
    "  string \"<div>\" \n",
    "  return (MkTag \"div\")"
   ]
  },
  {
   "cell_type": "code",
   "execution_count": 30,
   "id": "4f7becea",
   "metadata": {},
   "outputs": [
    {
     "data": {
      "text/plain": [
       "MkTag \"div\""
      ]
     },
     "metadata": {},
     "output_type": "display_data"
    }
   ],
   "source": [
    "parseTest parseDiv \"<div>\""
   ]
  },
  {
   "cell_type": "code",
   "execution_count": 31,
   "id": "46165dac",
   "metadata": {},
   "outputs": [
    {
     "data": {
      "text/plain": [
       "parse error at (line 1, column 1):\n",
       "unexpected \"d\"\n",
       "expecting \"<div>\""
      ]
     },
     "metadata": {},
     "output_type": "display_data"
    }
   ],
   "source": [
    "parseTest parseDiv \"div\""
   ]
  },
  {
   "cell_type": "code",
   "execution_count": 32,
   "id": "7df4078c",
   "metadata": {},
   "outputs": [
    {
     "data": {
      "text/html": [
       "<style>/* Styles used for the Hoogle display in the pager */\n",
       ".hoogle-doc {\n",
       "display: block;\n",
       "padding-bottom: 1.3em;\n",
       "padding-left: 0.4em;\n",
       "}\n",
       ".hoogle-code {\n",
       "display: block;\n",
       "font-family: monospace;\n",
       "white-space: pre;\n",
       "}\n",
       ".hoogle-text {\n",
       "display: block;\n",
       "}\n",
       ".hoogle-name {\n",
       "color: green;\n",
       "font-weight: bold;\n",
       "}\n",
       ".hoogle-head {\n",
       "font-weight: bold;\n",
       "}\n",
       ".hoogle-sub {\n",
       "display: block;\n",
       "margin-left: 0.4em;\n",
       "}\n",
       ".hoogle-package {\n",
       "font-weight: bold;\n",
       "font-style: italic;\n",
       "}\n",
       ".hoogle-module {\n",
       "font-weight: bold;\n",
       "}\n",
       ".hoogle-class {\n",
       "font-weight: bold;\n",
       "}\n",
       "\n",
       ".get-type {\n",
       "color: green;\n",
       "font-weight: bold;\n",
       "font-family: monospace;\n",
       "display: block;\n",
       "white-space: pre-wrap;\n",
       "}\n",
       ".show-type {\n",
       "color: green;\n",
       "font-weight: bold;\n",
       "font-family: monospace;\n",
       "margin-left: 1em;\n",
       "}\n",
       ".mono {\n",
       "font-family: monospace;\n",
       "display: block;\n",
       "}\n",
       ".err-msg {\n",
       "color: red;\n",
       "font-style: italic;\n",
       "font-family: monospace;\n",
       "white-space: pre;\n",
       "display: block;\n",
       "}\n",
       "#unshowable {\n",
       "color: red;\n",
       "font-weight: bold;\n",
       "}\n",
       ".err-msg.in.collapse {\n",
       "padding-top: 0.7em;\n",
       "}\n",
       "\n",
       ".highlight-code {\n",
       "white-space: pre;\n",
       "font-family: monospace;\n",
       "}\n",
       "\n",
       ".suggestion-warning { \n",
       "font-weight: bold;\n",
       "color: rgb(200, 130, 0);\n",
       "}\n",
       ".suggestion-error { \n",
       "font-weight: bold;\n",
       "color: red;\n",
       "}\n",
       ".suggestion-name {\n",
       "font-weight: bold;\n",
       "}\n",
       "\n",
       "</style><div class=\"suggestion-name\" style=\"clear:both;\">Use camelCase</div><div class=\"suggestion-row\" style=\"float: left;\"><div class=\"suggestion-warning\">Found:</div><div class=\"highlight-code\" id=\"haskell\">letter_digit :: Parser Char</div></div><div class=\"suggestion-row\" style=\"float: left;\"><div class=\"suggestion-warning\">Why Not:</div><div class=\"highlight-code\" id=\"haskell\">letterDigit :: Parser Char</div></div><div class=\"suggestion-name\" style=\"clear:both;\">Use camelCase</div><div class=\"suggestion-row\" style=\"float: left;\"><div class=\"suggestion-warning\">Found:</div><div class=\"highlight-code\" id=\"haskell\">letter_digit = ...</div></div><div class=\"suggestion-row\" style=\"float: left;\"><div class=\"suggestion-warning\">Why Not:</div><div class=\"highlight-code\" id=\"haskell\">letterDigit = ...</div></div><div class=\"suggestion-name\" style=\"clear:both;\">Redundant return</div><div class=\"suggestion-row\" style=\"float: left;\"><div class=\"suggestion-warning\">Found:</div><div class=\"highlight-code\" id=\"haskell\">do x <- letter <|> digit\n",
       "   return x</div></div><div class=\"suggestion-row\" style=\"float: left;\"><div class=\"suggestion-warning\">Why Not:</div><div class=\"highlight-code\" id=\"haskell\">do letter <|> digit</div></div>"
      ],
      "text/plain": [
       "Line 1: Use camelCase\n",
       "Found:\n",
       "letter_digit :: Parser Char\n",
       "Why not:\n",
       "letterDigit :: Parser CharLine 2: Use camelCase\n",
       "Found:\n",
       "letter_digit = ...\n",
       "Why not:\n",
       "letterDigit = ...Line 3: Redundant return\n",
       "Found:\n",
       "do x <- letter <|> digit\n",
       "   return x\n",
       "Why not:\n",
       "do letter <|> digit"
      ]
     },
     "metadata": {},
     "output_type": "display_data"
    }
   ],
   "source": [
    "letter_digit :: Parser Char\n",
    "letter_digit =\n",
    "  do  x <- letter <|> digit\n",
    "      return x"
   ]
  },
  {
   "cell_type": "code",
   "execution_count": 33,
   "id": "8e39ff0a",
   "metadata": {},
   "outputs": [
    {
     "data": {
      "text/html": [
       "<style>/* Styles used for the Hoogle display in the pager */\n",
       ".hoogle-doc {\n",
       "display: block;\n",
       "padding-bottom: 1.3em;\n",
       "padding-left: 0.4em;\n",
       "}\n",
       ".hoogle-code {\n",
       "display: block;\n",
       "font-family: monospace;\n",
       "white-space: pre;\n",
       "}\n",
       ".hoogle-text {\n",
       "display: block;\n",
       "}\n",
       ".hoogle-name {\n",
       "color: green;\n",
       "font-weight: bold;\n",
       "}\n",
       ".hoogle-head {\n",
       "font-weight: bold;\n",
       "}\n",
       ".hoogle-sub {\n",
       "display: block;\n",
       "margin-left: 0.4em;\n",
       "}\n",
       ".hoogle-package {\n",
       "font-weight: bold;\n",
       "font-style: italic;\n",
       "}\n",
       ".hoogle-module {\n",
       "font-weight: bold;\n",
       "}\n",
       ".hoogle-class {\n",
       "font-weight: bold;\n",
       "}\n",
       "\n",
       ".get-type {\n",
       "color: green;\n",
       "font-weight: bold;\n",
       "font-family: monospace;\n",
       "display: block;\n",
       "white-space: pre-wrap;\n",
       "}\n",
       ".show-type {\n",
       "color: green;\n",
       "font-weight: bold;\n",
       "font-family: monospace;\n",
       "margin-left: 1em;\n",
       "}\n",
       ".mono {\n",
       "font-family: monospace;\n",
       "display: block;\n",
       "}\n",
       ".err-msg {\n",
       "color: red;\n",
       "font-style: italic;\n",
       "font-family: monospace;\n",
       "white-space: pre;\n",
       "display: block;\n",
       "}\n",
       "#unshowable {\n",
       "color: red;\n",
       "font-weight: bold;\n",
       "}\n",
       ".err-msg.in.collapse {\n",
       "padding-top: 0.7em;\n",
       "}\n",
       "\n",
       ".highlight-code {\n",
       "white-space: pre;\n",
       "font-family: monospace;\n",
       "}\n",
       "\n",
       ".suggestion-warning { \n",
       "font-weight: bold;\n",
       "color: rgb(200, 130, 0);\n",
       "}\n",
       ".suggestion-error { \n",
       "font-weight: bold;\n",
       "color: red;\n",
       "}\n",
       ".suggestion-name {\n",
       "font-weight: bold;\n",
       "}\n",
       "\n",
       "</style><span class='get-type'>letter :: forall s (m :: * -> *) u. Stream s m Char => ParsecT s u m Char</span>"
      ],
      "text/plain": [
       "letter :: forall s (m :: * -> *) u. Stream s m Char => ParsecT s u m Char"
      ]
     },
     "metadata": {},
     "output_type": "display_data"
    }
   ],
   "source": [
    ":t letter"
   ]
  },
  {
   "cell_type": "code",
   "execution_count": 34,
   "id": "5671a57d",
   "metadata": {},
   "outputs": [
    {
     "data": {
      "text/html": [
       "<style>/* Styles used for the Hoogle display in the pager */\n",
       ".hoogle-doc {\n",
       "display: block;\n",
       "padding-bottom: 1.3em;\n",
       "padding-left: 0.4em;\n",
       "}\n",
       ".hoogle-code {\n",
       "display: block;\n",
       "font-family: monospace;\n",
       "white-space: pre;\n",
       "}\n",
       ".hoogle-text {\n",
       "display: block;\n",
       "}\n",
       ".hoogle-name {\n",
       "color: green;\n",
       "font-weight: bold;\n",
       "}\n",
       ".hoogle-head {\n",
       "font-weight: bold;\n",
       "}\n",
       ".hoogle-sub {\n",
       "display: block;\n",
       "margin-left: 0.4em;\n",
       "}\n",
       ".hoogle-package {\n",
       "font-weight: bold;\n",
       "font-style: italic;\n",
       "}\n",
       ".hoogle-module {\n",
       "font-weight: bold;\n",
       "}\n",
       ".hoogle-class {\n",
       "font-weight: bold;\n",
       "}\n",
       "\n",
       ".get-type {\n",
       "color: green;\n",
       "font-weight: bold;\n",
       "font-family: monospace;\n",
       "display: block;\n",
       "white-space: pre-wrap;\n",
       "}\n",
       ".show-type {\n",
       "color: green;\n",
       "font-weight: bold;\n",
       "font-family: monospace;\n",
       "margin-left: 1em;\n",
       "}\n",
       ".mono {\n",
       "font-family: monospace;\n",
       "display: block;\n",
       "}\n",
       ".err-msg {\n",
       "color: red;\n",
       "font-style: italic;\n",
       "font-family: monospace;\n",
       "white-space: pre;\n",
       "display: block;\n",
       "}\n",
       "#unshowable {\n",
       "color: red;\n",
       "font-weight: bold;\n",
       "}\n",
       ".err-msg.in.collapse {\n",
       "padding-top: 0.7em;\n",
       "}\n",
       "\n",
       ".highlight-code {\n",
       "white-space: pre;\n",
       "font-family: monospace;\n",
       "}\n",
       "\n",
       ".suggestion-warning { \n",
       "font-weight: bold;\n",
       "color: rgb(200, 130, 0);\n",
       "}\n",
       ".suggestion-error { \n",
       "font-weight: bold;\n",
       "color: red;\n",
       "}\n",
       ".suggestion-name {\n",
       "font-weight: bold;\n",
       "}\n",
       "\n",
       "</style><span class='get-type'>digit :: forall s (m :: * -> *) u. Stream s m Char => ParsecT s u m Char</span>"
      ],
      "text/plain": [
       "digit :: forall s (m :: * -> *) u. Stream s m Char => ParsecT s u m Char"
      ]
     },
     "metadata": {},
     "output_type": "display_data"
    }
   ],
   "source": [
    ":t digit"
   ]
  },
  {
   "cell_type": "code",
   "execution_count": 35,
   "id": "9fa36f0c",
   "metadata": {},
   "outputs": [
    {
     "data": {
      "text/plain": [
       "'b'"
      ]
     },
     "metadata": {},
     "output_type": "display_data"
    }
   ],
   "source": [
    "parseTest letter_digit \"b2\""
   ]
  },
  {
   "cell_type": "code",
   "execution_count": 36,
   "id": "875e0265",
   "metadata": {},
   "outputs": [
    {
     "data": {
      "text/plain": [
       "parse error at (line 1, column 1):\n",
       "unexpected \"*\"\n",
       "expecting letter or digit"
      ]
     },
     "metadata": {},
     "output_type": "display_data"
    }
   ],
   "source": [
    "parseTest letter_digit \"*2\""
   ]
  },
  {
   "cell_type": "code",
   "execution_count": 37,
   "id": "cf5793ac",
   "metadata": {},
   "outputs": [
    {
     "data": {
      "text/html": [
       "<style>/* Styles used for the Hoogle display in the pager */\n",
       ".hoogle-doc {\n",
       "display: block;\n",
       "padding-bottom: 1.3em;\n",
       "padding-left: 0.4em;\n",
       "}\n",
       ".hoogle-code {\n",
       "display: block;\n",
       "font-family: monospace;\n",
       "white-space: pre;\n",
       "}\n",
       ".hoogle-text {\n",
       "display: block;\n",
       "}\n",
       ".hoogle-name {\n",
       "color: green;\n",
       "font-weight: bold;\n",
       "}\n",
       ".hoogle-head {\n",
       "font-weight: bold;\n",
       "}\n",
       ".hoogle-sub {\n",
       "display: block;\n",
       "margin-left: 0.4em;\n",
       "}\n",
       ".hoogle-package {\n",
       "font-weight: bold;\n",
       "font-style: italic;\n",
       "}\n",
       ".hoogle-module {\n",
       "font-weight: bold;\n",
       "}\n",
       ".hoogle-class {\n",
       "font-weight: bold;\n",
       "}\n",
       "\n",
       ".get-type {\n",
       "color: green;\n",
       "font-weight: bold;\n",
       "font-family: monospace;\n",
       "display: block;\n",
       "white-space: pre-wrap;\n",
       "}\n",
       ".show-type {\n",
       "color: green;\n",
       "font-weight: bold;\n",
       "font-family: monospace;\n",
       "margin-left: 1em;\n",
       "}\n",
       ".mono {\n",
       "font-family: monospace;\n",
       "display: block;\n",
       "}\n",
       ".err-msg {\n",
       "color: red;\n",
       "font-style: italic;\n",
       "font-family: monospace;\n",
       "white-space: pre;\n",
       "display: block;\n",
       "}\n",
       "#unshowable {\n",
       "color: red;\n",
       "font-weight: bold;\n",
       "}\n",
       ".err-msg.in.collapse {\n",
       "padding-top: 0.7em;\n",
       "}\n",
       "\n",
       ".highlight-code {\n",
       "white-space: pre;\n",
       "font-family: monospace;\n",
       "}\n",
       "\n",
       ".suggestion-warning { \n",
       "font-weight: bold;\n",
       "color: rgb(200, 130, 0);\n",
       "}\n",
       ".suggestion-error { \n",
       "font-weight: bold;\n",
       "color: red;\n",
       "}\n",
       ".suggestion-name {\n",
       "font-weight: bold;\n",
       "}\n",
       "\n",
       "</style><div class=\"suggestion-name\" style=\"clear:both;\">Use camelCase</div><div class=\"suggestion-row\" style=\"float: left;\"><div class=\"suggestion-warning\">Found:</div><div class=\"highlight-code\" id=\"haskell\">bag_bog :: Parser String</div></div><div class=\"suggestion-row\" style=\"float: left;\"><div class=\"suggestion-warning\">Why Not:</div><div class=\"highlight-code\" id=\"haskell\">bagBog :: Parser String</div></div><div class=\"suggestion-name\" style=\"clear:both;\">Use camelCase</div><div class=\"suggestion-row\" style=\"float: left;\"><div class=\"suggestion-warning\">Found:</div><div class=\"highlight-code\" id=\"haskell\">bag_bog = ...</div></div><div class=\"suggestion-row\" style=\"float: left;\"><div class=\"suggestion-warning\">Why Not:</div><div class=\"highlight-code\" id=\"haskell\">bagBog = ...</div></div><div class=\"suggestion-name\" style=\"clear:both;\">Redundant return</div><div class=\"suggestion-row\" style=\"float: left;\"><div class=\"suggestion-warning\">Found:</div><div class=\"highlight-code\" id=\"haskell\">do xs <- string \"bag\" <|> string \"bog\"\n",
       "   return xs</div></div><div class=\"suggestion-row\" style=\"float: left;\"><div class=\"suggestion-warning\">Why Not:</div><div class=\"highlight-code\" id=\"haskell\">do string \"bag\" <|> string \"bog\"</div></div>"
      ],
      "text/plain": [
       "Line 1: Use camelCase\n",
       "Found:\n",
       "bag_bog :: Parser String\n",
       "Why not:\n",
       "bagBog :: Parser StringLine 2: Use camelCase\n",
       "Found:\n",
       "bag_bog = ...\n",
       "Why not:\n",
       "bagBog = ...Line 3: Redundant return\n",
       "Found:\n",
       "do xs <- string \"bag\" <|> string \"bog\"\n",
       "   return xs\n",
       "Why not:\n",
       "do string \"bag\" <|> string \"bog\""
      ]
     },
     "metadata": {},
     "output_type": "display_data"
    }
   ],
   "source": [
    "bag_bog :: Parser String\n",
    "bag_bog =\n",
    "  do  xs <- string \"bag\" <|> string \"bog\"\n",
    "      return xs"
   ]
  },
  {
   "cell_type": "code",
   "execution_count": 38,
   "id": "9ad4e44a",
   "metadata": {},
   "outputs": [
    {
     "data": {
      "text/plain": [
       "\"bag\""
      ]
     },
     "metadata": {},
     "output_type": "display_data"
    }
   ],
   "source": [
    "parseTest bag_bog \"bag\""
   ]
  },
  {
   "cell_type": "code",
   "execution_count": 39,
   "id": "f0fe6c7e",
   "metadata": {},
   "outputs": [
    {
     "data": {
      "text/plain": [
       "parse error at (line 1, column 1):\n",
       "unexpected \"o\"\n",
       "expecting \"bag\""
      ]
     },
     "metadata": {},
     "output_type": "display_data"
    }
   ],
   "source": [
    "parseTest bag_bog \"bog\""
   ]
  },
  {
   "cell_type": "code",
   "execution_count": 47,
   "id": "5ad8532b",
   "metadata": {},
   "outputs": [
    {
     "data": {
      "text/html": [
       "<style>/* Styles used for the Hoogle display in the pager */\n",
       ".hoogle-doc {\n",
       "display: block;\n",
       "padding-bottom: 1.3em;\n",
       "padding-left: 0.4em;\n",
       "}\n",
       ".hoogle-code {\n",
       "display: block;\n",
       "font-family: monospace;\n",
       "white-space: pre;\n",
       "}\n",
       ".hoogle-text {\n",
       "display: block;\n",
       "}\n",
       ".hoogle-name {\n",
       "color: green;\n",
       "font-weight: bold;\n",
       "}\n",
       ".hoogle-head {\n",
       "font-weight: bold;\n",
       "}\n",
       ".hoogle-sub {\n",
       "display: block;\n",
       "margin-left: 0.4em;\n",
       "}\n",
       ".hoogle-package {\n",
       "font-weight: bold;\n",
       "font-style: italic;\n",
       "}\n",
       ".hoogle-module {\n",
       "font-weight: bold;\n",
       "}\n",
       ".hoogle-class {\n",
       "font-weight: bold;\n",
       "}\n",
       "\n",
       ".get-type {\n",
       "color: green;\n",
       "font-weight: bold;\n",
       "font-family: monospace;\n",
       "display: block;\n",
       "white-space: pre-wrap;\n",
       "}\n",
       ".show-type {\n",
       "color: green;\n",
       "font-weight: bold;\n",
       "font-family: monospace;\n",
       "margin-left: 1em;\n",
       "}\n",
       ".mono {\n",
       "font-family: monospace;\n",
       "display: block;\n",
       "}\n",
       ".err-msg {\n",
       "color: red;\n",
       "font-style: italic;\n",
       "font-family: monospace;\n",
       "white-space: pre;\n",
       "display: block;\n",
       "}\n",
       "#unshowable {\n",
       "color: red;\n",
       "font-weight: bold;\n",
       "}\n",
       ".err-msg.in.collapse {\n",
       "padding-top: 0.7em;\n",
       "}\n",
       "\n",
       ".highlight-code {\n",
       "white-space: pre;\n",
       "font-family: monospace;\n",
       "}\n",
       "\n",
       ".suggestion-warning { \n",
       "font-weight: bold;\n",
       "color: rgb(200, 130, 0);\n",
       "}\n",
       ".suggestion-error { \n",
       "font-weight: bold;\n",
       "color: red;\n",
       "}\n",
       ".suggestion-name {\n",
       "font-weight: bold;\n",
       "}\n",
       "\n",
       "</style><div class=\"suggestion-name\" style=\"clear:both;\">Use camelCase</div><div class=\"suggestion-row\" style=\"float: left;\"><div class=\"suggestion-warning\">Found:</div><div class=\"highlight-code\" id=\"haskell\">json_parser = ...</div></div><div class=\"suggestion-row\" style=\"float: left;\"><div class=\"suggestion-warning\">Why Not:</div><div class=\"highlight-code\" id=\"haskell\">jsonParser = ...</div></div><div class=\"suggestion-name\" style=\"clear:both;\">Redundant return</div><div class=\"suggestion-row\" style=\"float: left;\"><div class=\"suggestion-warning\">Found:</div><div class=\"highlight-code\" id=\"haskell\">do whiteSpace\n",
       "   j_top <- (json_array_parser <|> json_obj_parser)\n",
       "   return j_top</div></div><div class=\"suggestion-row\" style=\"float: left;\"><div class=\"suggestion-warning\">Why Not:</div><div class=\"highlight-code\" id=\"haskell\">do whiteSpace\n",
       "   (json_array_parser <|> json_obj_parser)</div></div><div class=\"suggestion-name\" style=\"clear:both;\">Redundant bracket</div><div class=\"suggestion-row\" style=\"float: left;\"><div class=\"suggestion-warning\">Found:</div><div class=\"highlight-code\" id=\"haskell\">do whiteSpace\n",
       "   j_top <- (json_array_parser <|> json_obj_parser)\n",
       "   return j_top</div></div><div class=\"suggestion-row\" style=\"float: left;\"><div class=\"suggestion-warning\">Why Not:</div><div class=\"highlight-code\" id=\"haskell\">do whiteSpace\n",
       "   j_top <- json_array_parser <|> json_obj_parser\n",
       "   return j_top</div></div>"
      ],
      "text/plain": [
       "Line 3: Use camelCase\n",
       "Found:\n",
       "json_parser = ...\n",
       "Why not:\n",
       "jsonParser = ...Line 3: Redundant return\n",
       "Found:\n",
       "do whiteSpace\n",
       "   j_top <- (json_array_parser <|> json_obj_parser)\n",
       "   return j_top\n",
       "Why not:\n",
       "do whiteSpace\n",
       "   (json_array_parser <|> json_obj_parser)Line 5: Redundant bracket\n",
       "Found:\n",
       "do whiteSpace\n",
       "   j_top <- (json_array_parser <|> json_obj_parser)\n",
       "   return j_top\n",
       "Why not:\n",
       "do whiteSpace\n",
       "   j_top <- json_array_parser <|> json_obj_parser\n",
       "   return j_top"
      ]
     },
     "metadata": {},
     "output_type": "display_data"
    },
    {
     "ename": "",
     "evalue": "",
     "output_type": "error",
     "traceback": [
      "<interactive>:2:9: error: Variable not in scope: whiteSpace :: ParsecT s u m a0\n<interactive>:3:20: error: Variable not in scope: json_array_parser :: ParsecT s u m b\n<interactive>:3:42: error: Variable not in scope: json_obj_parser :: ParsecT s u m b"
     ]
    }
   ],
   "source": [
    "import Text.Parsec\n",
    "\n",
    "json_parser = do\n",
    "        whiteSpace\n",
    "        j_top <- ( json_array_parser <|> json_obj_parser)\n",
    "        return j_top"
   ]
  },
  {
   "cell_type": "code",
   "execution_count": 41,
   "id": "825fe9d4",
   "metadata": {},
   "outputs": [],
   "source": [
    "module JSONTypes (\n",
    "        JValue(..),\n",
    "        mkJPair,\n",
    "        mkJObj\n",
    "         )\n",
    "    where\n",
    "\n",
    "import Data.Map hiding ( map )\n",
    "\n",
    "type JMap = Data.Map.Map String JValue\n",
    "data JValue = JString String\n",
    "            | JNumber Integer\n",
    "            | JObject JMap\n",
    "            | JArray [JValue]\n",
    "            | JBool Bool\n",
    "            | JNull \n",
    "    deriving (Show)\n",
    "\n",
    "mkJPair k v = JObject (Data.Map.singleton k v)\n",
    "\n",
    "mkJObj :: [JValue] -> JValue\n",
    "mkJObj j_vals = \n",
    "    let\n",
    "        list_of_maps = map (\\(JObject pair) -> pair) j_vals\n",
    "        combined_map = Data.Map.unions list_of_maps\n",
    "    in\n",
    "        JObject combined_map"
   ]
  },
  {
   "cell_type": "code",
   "execution_count": null,
   "id": "33b57e2e",
   "metadata": {},
   "outputs": [],
   "source": []
  }
 ],
 "metadata": {
  "kernelspec": {
   "display_name": "Haskell",
   "language": "haskell",
   "name": "haskell"
  },
  "language_info": {
   "codemirror_mode": "ihaskell",
   "file_extension": ".hs",
   "mimetype": "text/x-haskell",
   "name": "haskell",
   "pygments_lexer": "Haskell",
   "version": "9.6.4"
  }
 },
 "nbformat": 4,
 "nbformat_minor": 5
}
