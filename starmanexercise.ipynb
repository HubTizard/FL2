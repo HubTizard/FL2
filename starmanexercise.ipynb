{
 "cells": [
  {
   "cell_type": "markdown",
   "id": "7b0c4a17",
   "metadata": {},
   "source": [
    "## Guessing Game ##\n",
    "\n",
    "The program is going to be a guessing game, called Starman. In this single-player, text-based game, there is a word which the player needs to guess. For each turn of the game, the player guesses a single letter. If that letter is correct, then the guessed letters are displayed in the correct places in the word. If that letter is incorrect, then the user loses a star. Once the user has no stars left, they have lost the game. However if the user guesses all the letters in the word, they have won the game.\n",
    "\n",
    "__Key Functions__ \n",
    "\n",
    "The heart of the game involves checking the player’s guess. We want to know whether the guess was right. This outcome is a Bool value, either True or False. We need to update the displayed word, if the guess was right, by replacing appropriate dashes in the displayed word with the correctly guessed character. Therefore the result type of the function is a pair (Bool, String). The first element of the pair is the guess outcome. The second element is the String to display to the user for the next round.\n",
    "\n",
    "Now, the checking function needs to know:\n",
    "\n",
    "- The secret word, a String\n",
    "= The current display, also a String\n",
    "- The character guessed by the player\n",
    "- These are the inputs to the checking function. So now we can state the type of the function:"
   ]
  },
  {
   "cell_type": "code",
   "execution_count": 1,
   "id": "3a633ba1",
   "metadata": {},
   "outputs": [
    {
     "ename": "",
     "evalue": "",
     "output_type": "error",
     "traceback": [
      "<interactive>:1:1: error: [GHC-44432] The type signature for ‘check’ lacks an accompanying binding"
     ]
    }
   ],
   "source": [
    "-- starman.hs\n",
    "-- Jeremy Singer\n",
    "-- based on a Functional Programming\n",
    "-- exercise from Glasgow,\n",
    "-- (inherited from John O'Donnell)\n",
    "\n",
    "check :: String -> String -> Char -> (Bool,String)\n",
    "-- check whether a single char is in the mystery word"
   ]
  },
  {
   "cell_type": "markdown",
   "id": "6e8e4efe",
   "metadata": {},
   "source": [
    "Here is a great programming tip. It’s always helpful to work out the type of a function first. This focuses your attention on what the function is supposed to compute, and what data it needs to do it. Good software engineers do specification before implementation."
   ]
  },
  {
   "cell_type": "markdown",
   "id": "a073a5dd",
   "metadata": {},
   "source": [
    "We will be using the zip function. Test it below to see what it does."
   ]
  },
  {
   "cell_type": "code",
   "execution_count": null,
   "id": "93267d03",
   "metadata": {},
   "outputs": [],
   "source": [
    "-- syntax is zip <list1> <list2>\n",
    "zip \"abc\" \"defg\""
   ]
  },
  {
   "cell_type": "markdown",
   "id": "ccae9257",
   "metadata": {},
   "source": [
    "We will also be using the <- generator in a list comprehension of the form $[ e | q_1,..q_n]$ where n>1 and generators $p_i$ are of the form p <-e where p is a pattern of type t and e is an expression of type [t] (page 38 Haskell98 report). List comprehension returns the list of elements produced by evaluating $e$ in the successive environments created by the nested, depth-first evaluation of the generators in the qualifier list."
   ]
  },
  {
   "cell_type": "code",
   "execution_count": 2,
   "id": "a3b55fab",
   "metadata": {},
   "outputs": [
    {
     "data": {
      "text/plain": [
       "()"
      ]
     },
     "metadata": {},
     "output_type": "display_data"
    }
   ],
   "source": [
    "it"
   ]
  },
  {
   "cell_type": "code",
   "execution_count": 3,
   "id": "7ad5fbcd",
   "metadata": {},
   "outputs": [
    {
     "data": {
      "text/html": [
       "<style>/* Styles used for the Hoogle display in the pager */\n",
       ".hoogle-doc {\n",
       "display: block;\n",
       "padding-bottom: 1.3em;\n",
       "padding-left: 0.4em;\n",
       "}\n",
       ".hoogle-code {\n",
       "display: block;\n",
       "font-family: monospace;\n",
       "white-space: pre;\n",
       "}\n",
       ".hoogle-text {\n",
       "display: block;\n",
       "}\n",
       ".hoogle-name {\n",
       "color: green;\n",
       "font-weight: bold;\n",
       "}\n",
       ".hoogle-head {\n",
       "font-weight: bold;\n",
       "}\n",
       ".hoogle-sub {\n",
       "display: block;\n",
       "margin-left: 0.4em;\n",
       "}\n",
       ".hoogle-package {\n",
       "font-weight: bold;\n",
       "font-style: italic;\n",
       "}\n",
       ".hoogle-module {\n",
       "font-weight: bold;\n",
       "}\n",
       ".hoogle-class {\n",
       "font-weight: bold;\n",
       "}\n",
       "\n",
       ".get-type {\n",
       "color: green;\n",
       "font-weight: bold;\n",
       "font-family: monospace;\n",
       "display: block;\n",
       "white-space: pre-wrap;\n",
       "}\n",
       ".show-type {\n",
       "color: green;\n",
       "font-weight: bold;\n",
       "font-family: monospace;\n",
       "margin-left: 1em;\n",
       "}\n",
       ".mono {\n",
       "font-family: monospace;\n",
       "display: block;\n",
       "}\n",
       ".err-msg {\n",
       "color: red;\n",
       "font-style: italic;\n",
       "font-family: monospace;\n",
       "white-space: pre;\n",
       "display: block;\n",
       "}\n",
       "#unshowable {\n",
       "color: red;\n",
       "font-weight: bold;\n",
       "}\n",
       ".err-msg.in.collapse {\n",
       "padding-top: 0.7em;\n",
       "}\n",
       "\n",
       ".highlight-code {\n",
       "white-space: pre;\n",
       "font-family: monospace;\n",
       "}\n",
       "\n",
       ".suggestion-warning { \n",
       "font-weight: bold;\n",
       "color: rgb(200, 130, 0);\n",
       "}\n",
       ".suggestion-error { \n",
       "font-weight: bold;\n",
       "color: red;\n",
       "}\n",
       ".suggestion-name {\n",
       "font-weight: bold;\n",
       "}\n",
       "\n",
       "</style><div class=\"suggestion-name\" style=\"clear:both;\">Redundant list comprehension</div><div class=\"suggestion-row\" style=\"float: left;\"><div class=\"suggestion-warning\">Found:</div><div class=\"highlight-code\" id=\"haskell\">[y | y <- it]</div></div><div class=\"suggestion-row\" style=\"float: left;\"><div class=\"suggestion-warning\">Why Not:</div><div class=\"highlight-code\" id=\"haskell\">it</div></div>"
      ],
      "text/plain": [
       "Line 1: Redundant list comprehension\n",
       "Found:\n",
       "[y | y <- it]\n",
       "Why not:\n",
       "it"
      ]
     },
     "metadata": {},
     "output_type": "display_data"
    },
    {
     "ename": "",
     "evalue": "",
     "output_type": "error",
     "traceback": [
      "<interactive>:1:11: error: [GHC-83865]\n    • Couldn't match expected type ‘[a]’ with actual type ‘()’\n    • In the expression: it\n      In a stmt of a list comprehension: y <- it\n      In the expression: [y | y <- it]\n    • Relevant bindings include it :: [a] (bound at <interactive>:1:1)"
     ]
    }
   ],
   "source": [
    "[y | y <- it]"
   ]
  },
  {
   "cell_type": "code",
   "execution_count": 4,
   "id": "a3be38fd",
   "metadata": {},
   "outputs": [
    {
     "data": {
      "text/plain": [
       "\"abc\""
      ]
     },
     "metadata": {},
     "output_type": "display_data"
    }
   ],
   "source": [
    "[ x | (x,y) <- zip \"abc\" \"defg\" ]"
   ]
  },
  {
   "cell_type": "code",
   "execution_count": 5,
   "id": "e32b5600",
   "metadata": {},
   "outputs": [
    {
     "data": {
      "text/plain": [
       "\"def\""
      ]
     },
     "metadata": {},
     "output_type": "display_data"
    }
   ],
   "source": [
    "[ y | (x,y) <- zip \"abc\" \"defg\" ]"
   ]
  },
  {
   "cell_type": "markdown",
   "id": "62f2efff",
   "metadata": {},
   "source": [
    "Create some test data for the check function by setting word :: String, display :: String and c:: Char to test values."
   ]
  },
  {
   "cell_type": "code",
   "execution_count": 6,
   "id": "9e169f66",
   "metadata": {},
   "outputs": [],
   "source": [
    "word = \"abc\"\n",
    "display = \"***\"\n",
    "c = 'b'"
   ]
  },
  {
   "cell_type": "code",
   "execution_count": 7,
   "id": "a0bae875",
   "metadata": {},
   "outputs": [],
   "source": [
    "check word display c\n",
    "  = (c `elem` word, [if x==c\n",
    "          then c\n",
    "          else y | (x,y) <- zip word display])"
   ]
  },
  {
   "cell_type": "markdown",
   "id": "fda7b56d",
   "metadata": {},
   "source": [
    "What is the type of mkguess? Can you work it out and add it before the function definition? We grab a line of user input, but only use the first character for the guess. This will fail if the user just hits ENTER without typing any characters, since q will be an empty string."
   ]
  },
  {
   "cell_type": "code",
   "execution_count": 8,
   "id": "2406bb64",
   "metadata": {},
   "outputs": [
    {
     "data": {
      "text/plain": [
       "(True,\"*b*\")"
      ]
     },
     "metadata": {},
     "output_type": "display_data"
    }
   ],
   "source": [
    "check word display c"
   ]
  },
  {
   "cell_type": "markdown",
   "id": "c9c75c2a",
   "metadata": {},
   "source": [
    "__turn__\n",
    "\n",
    "The next function we will define is the turn function. This is the function that will be called each time it is the player’s turn to enter a guess. First we need to check how many guesses the player has left:\n",
    "\n",
    "if n == 0\n",
    "\n",
    "If there are any guesses left, then we need to see whether the player is correct or not:\n",
    "\n",
    "if word == display\n",
    "\n",
    "So we will have two if checks, each followed by putStrLn status messages and the end of the function calling sequence (since it is the end of the game). However if neither of the if conditions is true, then the player can take a turn, so we call another function to get another character from the user input.\n",
    "\n",
    "What is the type of mkguess? Can you work it out and add it before the function definition? We grab a line of user input, but only use the first character for the guess. This will fail if the user just hits ENTER without typing any characters, since q will be an empty string."
   ]
  },
  {
   "cell_type": "code",
   "execution_count": 9,
   "id": "579319d3",
   "metadata": {},
   "outputs": [
    {
     "data": {
      "text/html": [
       "<style>/* Styles used for the Hoogle display in the pager */\n",
       ".hoogle-doc {\n",
       "display: block;\n",
       "padding-bottom: 1.3em;\n",
       "padding-left: 0.4em;\n",
       "}\n",
       ".hoogle-code {\n",
       "display: block;\n",
       "font-family: monospace;\n",
       "white-space: pre;\n",
       "}\n",
       ".hoogle-text {\n",
       "display: block;\n",
       "}\n",
       ".hoogle-name {\n",
       "color: green;\n",
       "font-weight: bold;\n",
       "}\n",
       ".hoogle-head {\n",
       "font-weight: bold;\n",
       "}\n",
       ".hoogle-sub {\n",
       "display: block;\n",
       "margin-left: 0.4em;\n",
       "}\n",
       ".hoogle-package {\n",
       "font-weight: bold;\n",
       "font-style: italic;\n",
       "}\n",
       ".hoogle-module {\n",
       "font-weight: bold;\n",
       "}\n",
       ".hoogle-class {\n",
       "font-weight: bold;\n",
       "}\n",
       "\n",
       ".get-type {\n",
       "color: green;\n",
       "font-weight: bold;\n",
       "font-family: monospace;\n",
       "display: block;\n",
       "white-space: pre-wrap;\n",
       "}\n",
       ".show-type {\n",
       "color: green;\n",
       "font-weight: bold;\n",
       "font-family: monospace;\n",
       "margin-left: 1em;\n",
       "}\n",
       ".mono {\n",
       "font-family: monospace;\n",
       "display: block;\n",
       "}\n",
       ".err-msg {\n",
       "color: red;\n",
       "font-style: italic;\n",
       "font-family: monospace;\n",
       "white-space: pre;\n",
       "display: block;\n",
       "}\n",
       "#unshowable {\n",
       "color: red;\n",
       "font-weight: bold;\n",
       "}\n",
       ".err-msg.in.collapse {\n",
       "padding-top: 0.7em;\n",
       "}\n",
       "\n",
       ".highlight-code {\n",
       "white-space: pre;\n",
       "font-family: monospace;\n",
       "}\n",
       "\n",
       ".suggestion-warning { \n",
       "font-weight: bold;\n",
       "color: rgb(200, 130, 0);\n",
       "}\n",
       ".suggestion-error { \n",
       "font-weight: bold;\n",
       "color: red;\n",
       "}\n",
       ".suggestion-name {\n",
       "font-weight: bold;\n",
       "}\n",
       "\n",
       "</style><div class=\"suggestion-name\" style=\"clear:both;\">Use replicate</div><div class=\"suggestion-row\" style=\"float: left;\"><div class=\"suggestion-warning\">Found:</div><div class=\"highlight-code\" id=\"haskell\">take n (repeat '*')</div></div><div class=\"suggestion-row\" style=\"float: left;\"><div class=\"suggestion-warning\">Why Not:</div><div class=\"highlight-code\" id=\"haskell\">replicate n '*'</div></div><div class=\"suggestion-name\" style=\"clear:both;\">Use head</div><div class=\"suggestion-row\" style=\"float: left;\"><div class=\"suggestion-warning\">Found:</div><div class=\"highlight-code\" id=\"haskell\">q !! 0</div></div><div class=\"suggestion-row\" style=\"float: left;\"><div class=\"suggestion-warning\">Why Not:</div><div class=\"highlight-code\" id=\"haskell\">head q</div></div>"
      ],
      "text/plain": [
       "Line 13: Use replicate\n",
       "Found:\n",
       "take n (repeat '*')\n",
       "Why not:\n",
       "replicate n '*'Line 16: Use head\n",
       "Found:\n",
       "q !! 0\n",
       "Why not:\n",
       "head q"
      ]
     },
     "metadata": {},
     "output_type": "display_data"
    }
   ],
   "source": [
    "turn :: String -> String -> Int -> IO ()\n",
    "-- single turn for user\n",
    "turn word display n =\n",
    "  do if n==0\n",
    "       then putStrLn \"You lose\"\n",
    "       else if word==display\n",
    "              then putStrLn \"You win!\"\n",
    "              else mkguess word display n\n",
    "              \n",
    "mkguess :: String -> String -> Int -> IO ()\n",
    "-- user inputs a single char (first on the line)\n",
    "mkguess word display n =\n",
    "  do putStrLn (display ++ \"  \" ++ take n (repeat '*'))\n",
    "     putStr \"  Enter your guess: \"\n",
    "     q <- getLine\n",
    "     let (correct, display') = check word display (q!!0)\n",
    "     let n' = if correct then n else n-1\n",
    "     turn word display' n'\n"
   ]
  },
  {
   "cell_type": "code",
   "execution_count": 10,
   "id": "eb78424e",
   "metadata": {},
   "outputs": [
    {
     "data": {
      "text/plain": [
       "***  **\n",
       "  Enter your guess: a**  **\n",
       "  Enter your guess: ab*  **\n",
       "  Enter your guess: You win!"
      ]
     },
     "metadata": {},
     "output_type": "display_data"
    }
   ],
   "source": [
    "turn word display 2"
   ]
  },
  {
   "cell_type": "markdown",
   "id": "e10aa42a",
   "metadata": {},
   "source": [
    "OK, so now we just need a top-level function. Let’s call this starman. This function takes two arguments, the first is the word to be guessed, and the second is the number of incorrect guesses the player is allowed.\n"
   ]
  },
  {
   "cell_type": "code",
   "execution_count": 11,
   "id": "1b8dc090",
   "metadata": {},
   "outputs": [
    {
     "data": {
      "text/html": [
       "<style>/* Styles used for the Hoogle display in the pager */\n",
       ".hoogle-doc {\n",
       "display: block;\n",
       "padding-bottom: 1.3em;\n",
       "padding-left: 0.4em;\n",
       "}\n",
       ".hoogle-code {\n",
       "display: block;\n",
       "font-family: monospace;\n",
       "white-space: pre;\n",
       "}\n",
       ".hoogle-text {\n",
       "display: block;\n",
       "}\n",
       ".hoogle-name {\n",
       "color: green;\n",
       "font-weight: bold;\n",
       "}\n",
       ".hoogle-head {\n",
       "font-weight: bold;\n",
       "}\n",
       ".hoogle-sub {\n",
       "display: block;\n",
       "margin-left: 0.4em;\n",
       "}\n",
       ".hoogle-package {\n",
       "font-weight: bold;\n",
       "font-style: italic;\n",
       "}\n",
       ".hoogle-module {\n",
       "font-weight: bold;\n",
       "}\n",
       ".hoogle-class {\n",
       "font-weight: bold;\n",
       "}\n",
       "\n",
       ".get-type {\n",
       "color: green;\n",
       "font-weight: bold;\n",
       "font-family: monospace;\n",
       "display: block;\n",
       "white-space: pre-wrap;\n",
       "}\n",
       ".show-type {\n",
       "color: green;\n",
       "font-weight: bold;\n",
       "font-family: monospace;\n",
       "margin-left: 1em;\n",
       "}\n",
       ".mono {\n",
       "font-family: monospace;\n",
       "display: block;\n",
       "}\n",
       ".err-msg {\n",
       "color: red;\n",
       "font-style: italic;\n",
       "font-family: monospace;\n",
       "white-space: pre;\n",
       "display: block;\n",
       "}\n",
       "#unshowable {\n",
       "color: red;\n",
       "font-weight: bold;\n",
       "}\n",
       ".err-msg.in.collapse {\n",
       "padding-top: 0.7em;\n",
       "}\n",
       "\n",
       ".highlight-code {\n",
       "white-space: pre;\n",
       "font-family: monospace;\n",
       "}\n",
       "\n",
       ".suggestion-warning { \n",
       "font-weight: bold;\n",
       "color: rgb(200, 130, 0);\n",
       "}\n",
       ".suggestion-error { \n",
       "font-weight: bold;\n",
       "color: red;\n",
       "}\n",
       ".suggestion-name {\n",
       "font-weight: bold;\n",
       "}\n",
       "\n",
       "</style><div class=\"suggestion-name\" style=\"clear:both;\">Eta reduce</div><div class=\"suggestion-row\" style=\"float: left;\"><div class=\"suggestion-warning\">Found:</div><div class=\"highlight-code\" id=\"haskell\">starman word n = turn word ['-' | x <- word] n</div></div><div class=\"suggestion-row\" style=\"float: left;\"><div class=\"suggestion-warning\">Why Not:</div><div class=\"highlight-code\" id=\"haskell\">starman word = turn word ['-' | x <- word]</div></div>"
      ],
      "text/plain": [
       "Line 8: Eta reduce\n",
       "Found:\n",
       "starman word n = turn word ['-' | x <- word] n\n",
       "Why not:\n",
       "starman word = turn word ['-' | x <- word]"
      ]
     },
     "metadata": {},
     "output_type": "display_data"
    }
   ],
   "source": [
    "-- notice how turn and mkguess have the same signatures,\n",
    "-- and are mutually recursive. Is this elegant?\n",
    "-- Note that mutually recursive definitions must be entered in the same cell. \n",
    "--- See what happens if you separate them\n",
    "\n",
    "starman :: String -> Int -> IO ()\n",
    "-- top-level function. Usage: starman \"WORD\" NUM_TURNS\n",
    "starman word n = turn word ['-' | x <- word] n\n"
   ]
  },
  {
   "cell_type": "code",
   "execution_count": 12,
   "id": "ca3f609e",
   "metadata": {},
   "outputs": [
    {
     "data": {
      "text/plain": [
       "---  **\n",
       "  Enter your guess: a--  **\n",
       "  Enter your guess: ab-  **\n",
       "  Enter your guess: You win!"
      ]
     },
     "metadata": {},
     "output_type": "display_data"
    }
   ],
   "source": [
    "starman word 2"
   ]
  },
  {
   "cell_type": "code",
   "execution_count": null,
   "id": "7a6fd5b7",
   "metadata": {},
   "outputs": [
    {
     "data": {
      "text/plain": [
       "------------  *****"
      ]
     },
     "metadata": {},
     "output_type": "display_data"
    }
   ],
   "source": [
    "starman \"functionally\" 5"
   ]
  },
  {
   "cell_type": "markdown",
   "id": "f97a3b34",
   "metadata": {},
   "source": [
    "Copyright (2024) Sociality Mathematics CIC, licence CC BY-NC-ND Attribution-NonCommercial-NoDerivs   https://creativecommons.org/licenses/ derived from material Copyright University of Glasgow."
   ]
  }
 ],
 "metadata": {
  "kernelspec": {
   "display_name": "Haskell",
   "language": "haskell",
   "name": "haskell"
  },
  "language_info": {
   "codemirror_mode": "ihaskell",
   "file_extension": ".hs",
   "mimetype": "text/x-haskell",
   "name": "haskell",
   "pygments_lexer": "Haskell",
   "version": "9.6.4"
  }
 },
 "nbformat": 4,
 "nbformat_minor": 5
}
