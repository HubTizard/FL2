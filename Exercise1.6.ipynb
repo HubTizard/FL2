{
 "cells": [
  {
   "cell_type": "markdown",
   "id": "9d1e5f1b",
   "metadata": {},
   "source": [
    "## Tutorial 1.6: The Basics: Expressions, Functions and Equations\n",
    "This tutorial will guide you through the basic concepts of the Haskell language: expressions, functions and equations. You will learn the syntax, how to create expressions, how to use functions in expressions and how to give your expressions names using equations.\n",
    "\n",
    "This tutorial has four sections:\n",
    "1. Integer Expressions \n",
    "2. Syntax of Expressions\n",
    "3. Functions \n",
    "4. Equations"
   ]
  },
  {
   "cell_type": "markdown",
   "id": "d97ac319",
   "metadata": {},
   "source": [
    "### 1 Integer Expressions\n",
    "\n",
    "We start with some simple integer arithmetic. The tutorial was ported by Sociality from the @HaskellMOOC variant of [TryHaskell](https://tryhaskell.org) developed by @christopherdone. The concept was inspired by Try Ruby, and the Haskell evaluator was powered by Gwern Branwen's Mueval, with a console by jquery. At the prompt in the tryhaskell tab you can type in Haskell expressions.\n",
    "\n",
    "Alternatively if you wish to follow this tutorial in the iHaskell jupyter kernel then download this notebook and upload it to your jupyter instance.\n",
    "\n",
    "In tryhaskell  type an integer number, e.g. 42 <Return>, and observe that it evaluates to itself.\n",
    "    \n",
    "In iHaskell enter 42 in the next cell and run it. \n",
    "    \n",
    "We will only give instructions for iHaskell from now on."
   ]
  },
  {
   "cell_type": "code",
   "execution_count": null,
   "id": "6fd4b795",
   "metadata": {},
   "outputs": [],
   "source": []
  },
  {
   "cell_type": "markdown",
   "id": "a0f5b503",
   "metadata": {},
   "source": [
    "To duplicate the response in tryhaskell we need to run the following cell in iHaskell"
   ]
  },
  {
   "cell_type": "code",
   "execution_count": null,
   "id": "eaf8f6ad",
   "metadata": {},
   "outputs": [],
   "source": [
    "42\n",
    ":type 42"
   ]
  },
  {
   "cell_type": "markdown",
   "id": "3e04cd31",
   "metadata": {},
   "source": [
    "### 2 Syntax of expressions\n",
    "\n",
    "OK, no surprises so far, you got back the number 42 as expected.\n",
    "Now type a simple integer arithmetic operation, e.g. 6*7, and observe that it evaluates to the expected result."
   ]
  },
  {
   "cell_type": "code",
   "execution_count": null,
   "id": "d56f0d1e",
   "metadata": {},
   "outputs": [],
   "source": [
    "6*7"
   ]
  },
  {
   "cell_type": "markdown",
   "id": "80ddfa9e",
   "metadata": {},
   "source": [
    "You can use parenthesis to group subexpressions, e.g. (3+4) * 6, but they are optional.\n",
    "The arithmetic operations have the same precedence as in maths.\n",
    "For example 3 + 4 * 6 means 3 + (4 * 6)"
   ]
  },
  {
   "cell_type": "code",
   "execution_count": null,
   "id": "5312bcc6",
   "metadata": {},
   "outputs": [],
   "source": []
  },
  {
   "cell_type": "markdown",
   "id": "03110e21",
   "metadata": {},
   "source": [
    "You can let Haskell prove this for you: try 3 + (4 * 6) == 3 + 4 * 6"
   ]
  },
  {
   "cell_type": "code",
   "execution_count": null,
   "id": "d686e040",
   "metadata": {},
   "outputs": [],
   "source": []
  },
  {
   "cell_type": "markdown",
   "id": "ecb17387",
   "metadata": {},
   "source": [
    "So this expression returned `True` and it illustrates the use of the equality test operator `==`.\n",
    "You can nest as many parentheses as you like (even if it looks silly):\n",
    "((6))*(((7)))"
   ]
  },
  {
   "cell_type": "code",
   "execution_count": null,
   "id": "42bbacd2",
   "metadata": {},
   "outputs": [],
   "source": []
  },
  {
   "cell_type": "markdown",
   "id": "f821a05f",
   "metadata": {},
   "source": [
    "__Special Cases__\n",
    "\n",
    "There are some special cases, in particular regarding the `'-'` sign. For example, try `4+-3`."
   ]
  },
  {
   "cell_type": "code",
   "execution_count": null,
   "id": "1bdfd212",
   "metadata": {},
   "outputs": [],
   "source": []
  },
  {
   "cell_type": "markdown",
   "id": "17683146",
   "metadata": {},
   "source": [
    "As you can see, this fails: Haskell thinks you wanted to use a special operation `'+-'`\n",
    "Now, try `4+ -3` (that's right, just an extra space)"
   ]
  },
  {
   "cell_type": "code",
   "execution_count": null,
   "id": "f43ae680",
   "metadata": {},
   "outputs": [],
   "source": []
  },
  {
   "cell_type": "markdown",
   "id": "78f85599",
   "metadata": {},
   "source": [
    "Again, that did not work as expected: Haskell does not allow you to combine\n",
    "'infix' operations (like `3+4`) with 'prefix' operations (like `'-4'`).\n",
    "So what should we do? \n",
    "Enclose the infix operation in parentheses: `4+(-3)`"
   ]
  },
  {
   "cell_type": "code",
   "execution_count": null,
   "id": "184d82e0",
   "metadata": {},
   "outputs": [],
   "source": []
  },
  {
   "cell_type": "markdown",
   "id": "f1088316",
   "metadata": {},
   "source": [
    "And yes, that one worked! So in general it is best to enclose negative numbers with parentheses in expressions. "
   ]
  },
  {
   "cell_type": "markdown",
   "id": "fc7a3fb9",
   "metadata": {},
   "source": [
    "### 3 Functions\n",
    "A function has a textual name (eg. `abs` or `sin`) rather than an operator.\n",
    "It takes arguments, performs some computation, and produces results.\n",
    "To use a function in Haskell, you apply it to an argument: write the function followed by the argument, separated by a space.\n",
    "For example try `abs 7`"
   ]
  },
  {
   "cell_type": "code",
   "execution_count": null,
   "id": "f15421e3",
   "metadata": {},
   "outputs": [],
   "source": []
  },
  {
   "cell_type": "markdown",
   "id": "b08d776b",
   "metadata": {},
   "source": [
    "As expected, applying `abs` to a positive number just returns its value\n",
    "Now let's try a negative number: `abs (-3)`"
   ]
  },
  {
   "cell_type": "code",
   "execution_count": null,
   "id": "505a3ce8",
   "metadata": {},
   "outputs": [],
   "source": [
    "abs (-3)"
   ]
  },
  {
   "cell_type": "markdown",
   "id": "1295cbe3",
   "metadata": {},
   "source": [
    "And indeed, applying `abs` to a negative number returns the absolute value\n",
    "Functions can take several arguments, e.g. `min` and `max` take two arguments\n",
    "The arguments are given after the function, separated by whitespace\n",
    "For example, `min 3 8` or `max 3 8`."
   ]
  },
  {
   "cell_type": "code",
   "execution_count": null,
   "id": "7e3e5885",
   "metadata": {},
   "outputs": [],
   "source": []
  },
  {
   "cell_type": "markdown",
   "id": "06c10394",
   "metadata": {},
   "source": [
    "See? No need for parentheses!\n",
    "To combine functions you need to know their precedence: Function application binds tighter than anything else. For example,`sqrt 9+7`"
   ]
  },
  {
   "cell_type": "code",
   "execution_count": null,
   "id": "02cff67c",
   "metadata": {},
   "outputs": [],
   "source": []
  },
  {
   "cell_type": "markdown",
   "id": "db13bffa",
   "metadata": {},
   "source": [
    "Surprised? Haskell interprets this as `(sqrt 9)+7`, not `sqrt (9+7)`. So now try `sqrt (9+7)`"
   ]
  },
  {
   "cell_type": "code",
   "execution_count": null,
   "id": "2847dbd4",
   "metadata": {},
   "outputs": [],
   "source": []
  },
  {
   "cell_type": "markdown",
   "id": "d5cdd3fb",
   "metadata": {},
   "source": [
    "That worked as expected!\n",
    "So if an argument to a function is an expression, you need to put it in parentheses.\n",
    "So what about combining two functions? Try for example to apply `min` to\n",
    "`max 3 4` and `5`"
   ]
  },
  {
   "cell_type": "code",
   "execution_count": null,
   "id": "440c46ea",
   "metadata": {},
   "outputs": [],
   "source": []
  },
  {
   "cell_type": "markdown",
   "id": "d49018d6",
   "metadata": {},
   "source": [
    "Well done, putting parentheses around the inner function call identifies it as a separate expression."
   ]
  },
  {
   "cell_type": "markdown",
   "id": "482a8113",
   "metadata": {},
   "source": [
    "### 4 Equations\n",
    "Equations are used to give names to values, e.g. `answer = 42` in iHaskell. In tryhaskell enter `let answer = 42 in answer`"
   ]
  },
  {
   "cell_type": "code",
   "execution_count": null,
   "id": "630dd6b3",
   "metadata": {},
   "outputs": [],
   "source": []
  },
  {
   "cell_type": "markdown",
   "id": "ea44e3d3",
   "metadata": {},
   "source": [
    "OK, you've defined an equation, now let's use it. Just type `answer`. What happens in tryhaskell and why?"
   ]
  },
  {
   "cell_type": "code",
   "execution_count": null,
   "id": "654eee41",
   "metadata": {},
   "outputs": [],
   "source": []
  },
  {
   "cell_type": "markdown",
   "id": "2762ca1a",
   "metadata": {},
   "source": [
    "Equations give names to values. So now `answer` is just another name for 42\n",
    "An equation in Haskell is a mathematical equation: it says that the left hand and the right hand side denote the same value\n",
    "The left hand side should be a name that you're giving a value to.\n",
    "So now you can say `double = answer * 2`"
   ]
  },
  {
   "cell_type": "code",
   "execution_count": null,
   "id": "ebcc20ee",
   "metadata": {},
   "outputs": [],
   "source": []
  },
  {
   "cell_type": "markdown",
   "id": "6268ae08",
   "metadata": {},
   "source": [
    "But you can't say `answer = answer * 2!`"
   ]
  },
  {
   "cell_type": "code",
   "execution_count": null,
   "id": "54096a97",
   "metadata": {},
   "outputs": [],
   "source": []
  },
  {
   "cell_type": "markdown",
   "id": "34e89060",
   "metadata": {},
   "source": [
    "In a pure functional language like Haskell, you can't define a name in terms of itself. And furthermore, you can only assign a name once! These rules don't apply in at the top level in iHaskell or ghci. Redefining a name is allowed, and the name takes its last assigned value. For example, now enter `answer = 43` in the cell below. This is a special feature of the interactive interpreters to make experimentation easier. It only works at the top level of the interpreter. In the imperative sense we create a new binding that shadows the old one. For example, in iHaskell and tryhaskell enter `let x = 5 in let x = 10 in x` What does this return?"
   ]
  },
  {
   "cell_type": "code",
   "execution_count": null,
   "id": "d424ae90",
   "metadata": {},
   "outputs": [],
   "source": []
  },
  {
   "cell_type": "code",
   "execution_count": null,
   "id": "bb638c1e",
   "metadata": {},
   "outputs": [],
   "source": [
    "-- In general reassignment is not allowed, variables are what is called 'immutable'.\n",
    "-- This is a very important property because it means that you can always anywhere in a program,\n",
    "-- replace a variable with its corresponding expression. \n",
    "-- In a .hs file, this is an error:\n",
    "x = 5\n",
    "x = 10  -- Error!`\n",
    "-- similarly you cannot rebind in a multi-line ghci block:\n",
    "-- ghci> :{\n",
    "-- ghci| x = 5\n",
    "-- ghci| x = 10  -- Error!\n",
    "-- ghci| :}"
   ]
  },
  {
   "cell_type": "markdown",
   "id": "afd19c0e",
   "metadata": {},
   "source": [
    "And that's the end of Tutorial 1.1!\n",
    "Well done, you finished your first Haskell tutorial!.\n",
    "Let's recap what we've learned:\n",
    "1. Expressions: evaluate mathematical expressions, operators, rules of precedence and role of parenthese, infix and prefix operations.\n",
    "2. Functions: calling existing functions, combining them and including them in expressions.\n",
    "3. Equations: naming expressions using assignments, immutable variables."
   ]
  }
 ],
 "metadata": {
  "kernelspec": {
   "display_name": "Haskell",
   "language": "haskell",
   "name": "haskell"
  },
  "language_info": {
   "codemirror_mode": "ihaskell",
   "file_extension": ".hs",
   "mimetype": "text/x-haskell",
   "name": "haskell",
   "pygments_lexer": "Haskell",
   "version": "9.6.4"
  }
 },
 "nbformat": 4,
 "nbformat_minor": 5
}
