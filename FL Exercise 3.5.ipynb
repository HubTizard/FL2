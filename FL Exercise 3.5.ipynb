{
 "cells": [
  {
   "cell_type": "markdown",
   "id": "6d189572",
   "metadata": {},
   "source": [
    "## Function composition ##\n",
    "\n",
    "As explained in the notes, we can express a large compution by “chaining together” a sequence of functions that perform smaller computations using the (.) operator, e.g. f . g. This operation is particularly useful in the composition of map operations. A common style is to define a set of simple computations using map, and to compose them.\n",
    "\n",
    "The following relationship is very useful to refactor your code:\n",
    "\n",
    "map f (map g xs) = map (f . g) xs\n",
    "\n",
    "This theorem is frequently used, in both directions. For example, if we want to take a list of numbers and perform two operations on each number, we could write:\n",
    "\n",
    "map (+5) (map (*3) [1..10])\n",
    "But we could equally write:\n",
    "\n",
    "map ((+5) . (*3)) [1..10]\n",
    "Now write your own example of the use of map"
   ]
  },
  {
   "cell_type": "code",
   "execution_count": 1,
   "id": "93f6f470",
   "metadata": {},
   "outputs": [
    {
     "data": {
      "text/plain": [
       "[8,11,14,17,20,23,26,29,32,35]"
      ]
     },
     "metadata": {},
     "output_type": "display_data"
    }
   ],
   "source": [
    "map ((+5) . (*3)) [1..10]"
   ]
  },
  {
   "cell_type": "markdown",
   "id": "e747b879",
   "metadata": {},
   "source": [
    "## Folding a list (reduction) ##\n",
    "\n",
    "An iteration over a list to produce a singleton value is called a fold. There are several variations: folding from the left, folding from the right, several variations having to do with “initialisation”, and some more advanced variations.\n",
    "\n",
    "Folds may look tricky at first, but they are extremely powerful, and they are used a lot! And they aren’t actually very complicated.\n",
    "\n",
    "The left fold (foldl) processes the list from the left. Think of it as an iteration across a list, going left to right. A typical example is e.g.\n",
    "- foldl (\\acc elt -> elt:acc) \"\" \"Reversing a string\"\n",
    "which unsurprisingly reverts a string.\n",
    "\n",
    "Now go ahead and define your own example using foldl."
   ]
  },
  {
   "cell_type": "code",
   "execution_count": 2,
   "id": "0ed7cfdf",
   "metadata": {},
   "outputs": [
    {
     "data": {
      "text/html": [
       "<style>/* Styles used for the Hoogle display in the pager */\n",
       ".hoogle-doc {\n",
       "display: block;\n",
       "padding-bottom: 1.3em;\n",
       "padding-left: 0.4em;\n",
       "}\n",
       ".hoogle-code {\n",
       "display: block;\n",
       "font-family: monospace;\n",
       "white-space: pre;\n",
       "}\n",
       ".hoogle-text {\n",
       "display: block;\n",
       "}\n",
       ".hoogle-name {\n",
       "color: green;\n",
       "font-weight: bold;\n",
       "}\n",
       ".hoogle-head {\n",
       "font-weight: bold;\n",
       "}\n",
       ".hoogle-sub {\n",
       "display: block;\n",
       "margin-left: 0.4em;\n",
       "}\n",
       ".hoogle-package {\n",
       "font-weight: bold;\n",
       "font-style: italic;\n",
       "}\n",
       ".hoogle-module {\n",
       "font-weight: bold;\n",
       "}\n",
       ".hoogle-class {\n",
       "font-weight: bold;\n",
       "}\n",
       "\n",
       ".get-type {\n",
       "color: green;\n",
       "font-weight: bold;\n",
       "font-family: monospace;\n",
       "display: block;\n",
       "white-space: pre-wrap;\n",
       "}\n",
       ".show-type {\n",
       "color: green;\n",
       "font-weight: bold;\n",
       "font-family: monospace;\n",
       "margin-left: 1em;\n",
       "}\n",
       ".mono {\n",
       "font-family: monospace;\n",
       "display: block;\n",
       "}\n",
       ".err-msg {\n",
       "color: red;\n",
       "font-style: italic;\n",
       "font-family: monospace;\n",
       "white-space: pre;\n",
       "display: block;\n",
       "}\n",
       "#unshowable {\n",
       "color: red;\n",
       "font-weight: bold;\n",
       "}\n",
       ".err-msg.in.collapse {\n",
       "padding-top: 0.7em;\n",
       "}\n",
       "\n",
       ".highlight-code {\n",
       "white-space: pre;\n",
       "font-family: monospace;\n",
       "}\n",
       "\n",
       ".suggestion-warning { \n",
       "font-weight: bold;\n",
       "color: rgb(200, 130, 0);\n",
       "}\n",
       ".suggestion-error { \n",
       "font-weight: bold;\n",
       "color: red;\n",
       "}\n",
       ".suggestion-name {\n",
       "font-weight: bold;\n",
       "}\n",
       "\n",
       "</style><div class=\"suggestion-name\" style=\"clear:both;\">Avoid lambda</div><div class=\"suggestion-row\" style=\"float: left;\"><div class=\"suggestion-warning\">Found:</div><div class=\"highlight-code\" id=\"haskell\">\\ acc elt -> elt : acc</div></div><div class=\"suggestion-row\" style=\"float: left;\"><div class=\"suggestion-warning\">Why Not:</div><div class=\"highlight-code\" id=\"haskell\">flip (:)</div></div>"
      ],
      "text/plain": [
       "Line 1: Avoid lambda\n",
       "Found:\n",
       "\\ acc elt -> elt : acc\n",
       "Why not:\n",
       "flip (:)"
      ]
     },
     "metadata": {},
     "output_type": "display_data"
    },
    {
     "data": {
      "text/plain": [
       "\"gnirts a gnisreveR\""
      ]
     },
     "metadata": {},
     "output_type": "display_data"
    }
   ],
   "source": [
    "foldl (\\acc elt -> elt:acc) \"\" \"Reversing a string\""
   ]
  },
  {
   "cell_type": "markdown",
   "id": "169d34a4",
   "metadata": {},
   "source": [
    "The right fold (foldr) is similar to foldl, but it works from right to left. Some typical examples are:\n",
    "\n",
    "- sum xs = foldr (+) 0 xs and\n",
    "- product xs = foldr (*) 1 xs\n",
    "What happens if you replace foldl with foldr in the string reversal example?\n",
    "\n",
    "- foldl (\\acc elt -> elt:acc) \"\" \"Reversing a string\""
   ]
  },
  {
   "cell_type": "code",
   "execution_count": 5,
   "id": "6770dd2c",
   "metadata": {},
   "outputs": [
    {
     "data": {
      "text/html": [
       "<style>/* Styles used for the Hoogle display in the pager */\n",
       ".hoogle-doc {\n",
       "display: block;\n",
       "padding-bottom: 1.3em;\n",
       "padding-left: 0.4em;\n",
       "}\n",
       ".hoogle-code {\n",
       "display: block;\n",
       "font-family: monospace;\n",
       "white-space: pre;\n",
       "}\n",
       ".hoogle-text {\n",
       "display: block;\n",
       "}\n",
       ".hoogle-name {\n",
       "color: green;\n",
       "font-weight: bold;\n",
       "}\n",
       ".hoogle-head {\n",
       "font-weight: bold;\n",
       "}\n",
       ".hoogle-sub {\n",
       "display: block;\n",
       "margin-left: 0.4em;\n",
       "}\n",
       ".hoogle-package {\n",
       "font-weight: bold;\n",
       "font-style: italic;\n",
       "}\n",
       ".hoogle-module {\n",
       "font-weight: bold;\n",
       "}\n",
       ".hoogle-class {\n",
       "font-weight: bold;\n",
       "}\n",
       "\n",
       ".get-type {\n",
       "color: green;\n",
       "font-weight: bold;\n",
       "font-family: monospace;\n",
       "display: block;\n",
       "white-space: pre-wrap;\n",
       "}\n",
       ".show-type {\n",
       "color: green;\n",
       "font-weight: bold;\n",
       "font-family: monospace;\n",
       "margin-left: 1em;\n",
       "}\n",
       ".mono {\n",
       "font-family: monospace;\n",
       "display: block;\n",
       "}\n",
       ".err-msg {\n",
       "color: red;\n",
       "font-style: italic;\n",
       "font-family: monospace;\n",
       "white-space: pre;\n",
       "display: block;\n",
       "}\n",
       "#unshowable {\n",
       "color: red;\n",
       "font-weight: bold;\n",
       "}\n",
       ".err-msg.in.collapse {\n",
       "padding-top: 0.7em;\n",
       "}\n",
       "\n",
       ".highlight-code {\n",
       "white-space: pre;\n",
       "font-family: monospace;\n",
       "}\n",
       "\n",
       ".suggestion-warning { \n",
       "font-weight: bold;\n",
       "color: rgb(200, 130, 0);\n",
       "}\n",
       ".suggestion-error { \n",
       "font-weight: bold;\n",
       "color: red;\n",
       "}\n",
       ".suggestion-name {\n",
       "font-weight: bold;\n",
       "}\n",
       "\n",
       "</style><div class=\"suggestion-name\" style=\"clear:both;\">Avoid lambda</div><div class=\"suggestion-row\" style=\"float: left;\"><div class=\"suggestion-warning\">Found:</div><div class=\"highlight-code\" id=\"haskell\">\\ acc elt -> elt : acc</div></div><div class=\"suggestion-row\" style=\"float: left;\"><div class=\"suggestion-warning\">Why Not:</div><div class=\"highlight-code\" id=\"haskell\">flip (:)</div></div>"
      ],
      "text/plain": [
       "Line 1: Avoid lambda\n",
       "Found:\n",
       "\\ acc elt -> elt : acc\n",
       "Why not:\n",
       "flip (:)"
      ]
     },
     "metadata": {},
     "output_type": "display_data"
    },
    {
     "ename": "",
     "evalue": "",
     "output_type": "error",
     "traceback": [
      "<interactive>:1:32: error:\n    • Couldn't match type ‘Char’ with ‘String’\n      Expected: [String]\n        Actual: String\n    • In the third argument of ‘foldr’, namely ‘\"Reversing a string\"’\n      In the expression: foldr (\\ acc elt -> elt : acc) \"\" \"Reversing a string\"\n      In an equation for ‘it’: it = foldr (\\ acc elt -> elt : acc) \"\" \"Reversing a string\"\n<interactive>:1:20: error:\n    • Couldn't match expected type ‘Char’ with actual type ‘String’\n    • In the first argument of ‘(:)’, namely ‘elt’\n      In the expression: elt : acc\n      In the first argument of ‘foldr’, namely ‘(\\ acc elt -> elt : acc)’"
     ]
    }
   ],
   "source": [
    "foldr (\\acc elt -> elt:acc) \"\" \"Reversing a string\""
   ]
  },
  {
   "cell_type": "markdown",
   "id": "319dd905",
   "metadata": {},
   "source": [
    "The result is an error, because foldr and foldl expect different types of functions:\n",
    "\n",
    "-foldl expects as its first argument a function that takes as its first argument the accumulator and as second argument the element of the list. The type signature is\n",
    "- foldl ::  (a -> b -> a) -> a -> [b] -> a\n",
    "\n",
    "foldr expects them in the opposite order, its type signature is\n",
    "- foldr ::  (a -> b -> b) -> b -> [a] -> b\n",
    "So go ahead, change the order and try again. What do you get?\n",
    "\n",
    "- foldl (\\acc elt -> elt:acc) \"\" \"Reversing a string\""
   ]
  },
  {
   "cell_type": "markdown",
   "id": "bde481af",
   "metadata": {},
   "source": [
    "Can you reverse a string with foldr? What does the run time structure look like?"
   ]
  },
  {
   "cell_type": "code",
   "execution_count": 18,
   "id": "142d763e",
   "metadata": {},
   "outputs": [
    {
     "data": {
      "text/plain": [
       "\"gnirts a gnisrever\""
      ]
     },
     "metadata": {},
     "output_type": "display_data"
    }
   ],
   "source": [
    "foldr (\\x acc -> acc ++ [x]) \"\" \"reversing a string\""
   ]
  },
  {
   "cell_type": "markdown",
   "id": "98f17b0b",
   "metadata": {},
   "source": [
    "Tuesday 14/11/2023\n",
    "We continued on week 3 of the Functional Programming in Haskell and although pupils understood what foldr and foldl do as functions, we didn’t quite understand how the arguments and the accumulator worked in the definition of foldr to be able to complete the exercise about reversing a string of characters. We got quite stuck on that exercise and a computing colleague sent us a document explaining this the day after.\n"
   ]
  },
  {
   "cell_type": "markdown",
   "id": "e0ba8372",
   "metadata": {},
   "source": [
    "Tuesday 27/11/2023\n",
    "We have continued to work on week 3 of FL and we went through 3.9 to 3.11 included. Pupils had never seen a Binary tree and I vaguely remembered but we gave it a good go and we programmed the small programs in 3.10 with success and testing our understanding. Pupils are happy to carry on and are very resilient but appreciate to see more programs to be able to play with them and understand the concepts more than seeing the definition of  functions one after the other assuming in the exercises that then they can write a program from scratch from the explanations.\n"
   ]
  },
  {
   "cell_type": "code",
   "execution_count": null,
   "id": "7d382aa7",
   "metadata": {},
   "outputs": [],
   "source": []
  }
 ],
 "metadata": {
  "kernelspec": {
   "display_name": "Haskell",
   "language": "haskell",
   "name": "haskell"
  },
  "language_info": {
   "codemirror_mode": "ihaskell",
   "file_extension": ".hs",
   "mimetype": "text/x-haskell",
   "name": "haskell",
   "pygments_lexer": "Haskell",
   "version": "9.6.4"
  }
 },
 "nbformat": 4,
 "nbformat_minor": 5
}
